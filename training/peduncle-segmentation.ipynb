{
 "cells": [
  {
   "cell_type": "code",
   "execution_count": 1,
   "id": "1b673370-733e-417f-8f07-aa340caa4209",
   "metadata": {},
   "outputs": [
    {
     "name": "stdout",
     "output_type": "stream",
     "text": [
      "/home/vader/VADER/perception/segmentation/yolo-segmentation\n"
     ]
    }
   ],
   "source": [
    "!pwd"
   ]
  },
  {
   "cell_type": "code",
   "execution_count": 2,
   "id": "b953d4e0-c715-4d00-80cc-014fab62033d",
   "metadata": {},
   "outputs": [
    {
     "name": "stdout",
     "output_type": "stream",
     "text": [
      "# conda environments:\n",
      "#\n",
      "base                     /home/vader/anaconda3\n",
      "learning3d               /home/vader/anaconda3/envs/learning3d\n",
      "lvio_fusion_env          /home/vader/anaconda3/envs/lvio_fusion_env\n",
      "perception            *  /home/vader/anaconda3/envs/perception\n",
      "\n"
     ]
    }
   ],
   "source": [
    "!conda env list\n",
    "\n",
    "# Only use the perception conda environment"
   ]
  },
  {
   "cell_type": "code",
   "execution_count": 1,
   "id": "5ba08683-f55e-4b41-bdd4-dbdb3b5ce9b4",
   "metadata": {},
   "outputs": [],
   "source": [
    "from ultralytics import YOLO"
   ]
  },
  {
   "cell_type": "code",
   "execution_count": 2,
   "id": "ab8c80e3-1e37-4a74-907c-a067ba9e1f99",
   "metadata": {},
   "outputs": [
    {
     "name": "stdout",
     "output_type": "stream",
     "text": [
      "New https://pypi.org/project/ultralytics/8.3.107 available 😃 Update with 'pip install -U ultralytics'\n",
      "Ultralytics 8.3.91 🚀 Python-3.8.20 torch-2.4.1+cu121 CUDA:0 (NVIDIA GeForce RTX 4080, 15949MiB)\n",
      "\u001b[34m\u001b[1mengine/trainer: \u001b[0mtask=segment, mode=train, model=pepper_peduncle.pt, data=peduncle-segmentation.yaml, epochs=400, time=None, patience=100, batch=16, imgsz=640, save=True, save_period=-1, cache=False, device=None, workers=8, project=None, name=train34, exist_ok=False, pretrained=True, optimizer=auto, verbose=True, seed=0, deterministic=True, single_cls=True, rect=False, cos_lr=False, close_mosaic=10, resume=False, amp=True, fraction=1.0, profile=False, freeze=None, multi_scale=False, overlap_mask=True, mask_ratio=4, dropout=0.0, val=True, split=val, save_json=False, save_hybrid=False, conf=None, iou=0.7, max_det=300, half=False, dnn=False, plots=True, source=None, vid_stride=1, stream_buffer=False, visualize=False, augment=False, agnostic_nms=False, classes=None, retina_masks=False, embed=None, show=False, save_frames=False, save_txt=False, save_conf=False, save_crop=False, show_labels=True, show_conf=True, show_boxes=True, line_width=None, format=torchscript, keras=False, optimize=False, int8=False, dynamic=False, simplify=True, opset=None, workspace=None, nms=False, lr0=0.01, lrf=0.01, momentum=0.937, weight_decay=0.0005, warmup_epochs=3.0, warmup_momentum=0.8, warmup_bias_lr=0.1, box=7.5, cls=0.5, dfl=1.5, pose=12.0, kobj=1.0, nbs=64, hsv_h=0.015, hsv_s=0.7, hsv_v=0.4, degrees=0.0, translate=0.1, scale=0.5, shear=0.0, perspective=0.0, flipud=0.0, fliplr=0.5, bgr=0.0, mosaic=1.0, mixup=0.0, copy_paste=0.0, copy_paste_mode=flip, auto_augment=randaugment, erasing=0.4, crop_fraction=1.0, cfg=None, tracker=botsort.yaml, save_dir=runs/segment/train34\n",
      "Overriding class names with single class.\n",
      "\n",
      "                   from  n    params  module                                       arguments                     \n",
      "  0                  -1  1      1856  ultralytics.nn.modules.conv.Conv             [3, 64, 3, 2]                 \n",
      "  1                  -1  1     73984  ultralytics.nn.modules.conv.Conv             [64, 128, 3, 2]               \n",
      "  2                  -1  3    279808  ultralytics.nn.modules.block.C2f             [128, 128, 3, True]           \n",
      "  3                  -1  1    295424  ultralytics.nn.modules.conv.Conv             [128, 256, 3, 2]              \n",
      "  4                  -1  6   2101248  ultralytics.nn.modules.block.C2f             [256, 256, 6, True]           \n",
      "  5                  -1  1   1180672  ultralytics.nn.modules.conv.Conv             [256, 512, 3, 2]              \n",
      "  6                  -1  6   8396800  ultralytics.nn.modules.block.C2f             [512, 512, 6, True]           \n",
      "  7                  -1  1   2360320  ultralytics.nn.modules.conv.Conv             [512, 512, 3, 2]              \n",
      "  8                  -1  3   4461568  ultralytics.nn.modules.block.C2f             [512, 512, 3, True]           \n",
      "  9                  -1  1    656896  ultralytics.nn.modules.block.SPPF            [512, 512, 5]                 \n",
      " 10                  -1  1         0  torch.nn.modules.upsampling.Upsample         [None, 2, 'nearest']          \n",
      " 11             [-1, 6]  1         0  ultralytics.nn.modules.conv.Concat           [1]                           \n",
      " 12                  -1  3   4723712  ultralytics.nn.modules.block.C2f             [1024, 512, 3]                \n",
      " 13                  -1  1         0  torch.nn.modules.upsampling.Upsample         [None, 2, 'nearest']          \n",
      " 14             [-1, 4]  1         0  ultralytics.nn.modules.conv.Concat           [1]                           \n",
      " 15                  -1  3   1247744  ultralytics.nn.modules.block.C2f             [768, 256, 3]                 \n",
      " 16                  -1  1    590336  ultralytics.nn.modules.conv.Conv             [256, 256, 3, 2]              \n",
      " 17            [-1, 12]  1         0  ultralytics.nn.modules.conv.Concat           [1]                           \n",
      " 18                  -1  3   4592640  ultralytics.nn.modules.block.C2f             [768, 512, 3]                 \n",
      " 19                  -1  1   2360320  ultralytics.nn.modules.conv.Conv             [512, 512, 3, 2]              \n",
      " 20             [-1, 9]  1         0  ultralytics.nn.modules.conv.Concat           [1]                           \n",
      " 21                  -1  3   4723712  ultralytics.nn.modules.block.C2f             [1024, 512, 3]                \n",
      " 22        [15, 18, 21]  1   7889779  ultralytics.nn.modules.head.Segment          [1, 32, 256, [256, 512, 512]] \n",
      "YOLOv8l-seg summary: 231 layers, 45,936,819 parameters, 45,936,803 gradients, 220.8 GFLOPs\n",
      "\n",
      "Transferred 657/657 items from pretrained weights\n",
      "\u001b[34m\u001b[1mTensorBoard: \u001b[0mStart with 'tensorboard --logdir runs/segment/train34', view at http://localhost:6006/\n",
      "Freezing layer 'model.22.dfl.conv.weight'\n",
      "\u001b[34m\u001b[1mAMP: \u001b[0mrunning Automatic Mixed Precision (AMP) checks...\n",
      "\u001b[34m\u001b[1mAMP: \u001b[0mchecks passed ✅\n"
     ]
    },
    {
     "name": "stderr",
     "output_type": "stream",
     "text": [
      "\u001b[34m\u001b[1mtrain: \u001b[0mScanning /home/vader/VADER/perception/segmentation/peduncle_60/train.cach\u001b[0m\n"
     ]
    },
    {
     "name": "stdout",
     "output_type": "stream",
     "text": [
      "\u001b[34m\u001b[1malbumentations: \u001b[0mBlur(p=0.01, blur_limit=(3, 7)), MedianBlur(p=0.01, blur_limit=(3, 7)), ToGray(p=0.01, num_output_channels=3, method='weighted_average'), CLAHE(p=0.01, clip_limit=(1.0, 4.0), tile_grid_size=(8, 8))\n"
     ]
    },
    {
     "name": "stderr",
     "output_type": "stream",
     "text": [
      "/home/vader/anaconda3/envs/perception/lib/python3.8/site-packages/albumentations/__init__.py:13: UserWarning: A new version of Albumentations is available: 2.0.5 (you have 1.4.18). Upgrade using: pip install -U albumentations. To disable automatic update checks, set the environment variable NO_ALBUMENTATIONS_UPDATE to 1.\n",
      "  check_for_updates()\n",
      "\u001b[34m\u001b[1mval: \u001b[0mScanning /home/vader/VADER/perception/segmentation/peduncle_60/valid.cache.\u001b[0m\n"
     ]
    },
    {
     "name": "stdout",
     "output_type": "stream",
     "text": [
      "Plotting labels to runs/segment/train34/labels.jpg... \n",
      "\u001b[34m\u001b[1moptimizer:\u001b[0m 'optimizer=auto' found, ignoring 'lr0=0.01' and 'momentum=0.937' and determining best 'optimizer', 'lr0' and 'momentum' automatically... \n",
      "\u001b[34m\u001b[1moptimizer:\u001b[0m SGD(lr=0.01, momentum=0.9) with parameter groups 106 weight(decay=0.0), 117 weight(decay=0.0005), 116 bias(decay=0.0)\n",
      "\u001b[34m\u001b[1mTensorBoard: \u001b[0mmodel graph visualization added ✅\n",
      "Image sizes 640 train, 640 val\n",
      "Using 8 dataloader workers\n",
      "Logging results to \u001b[1mruns/segment/train34\u001b[0m\n",
      "Starting training for 400 epochs...\n",
      "\n",
      "      Epoch    GPU_mem   box_loss   seg_loss   cls_loss   dfl_loss  Instances       Size\n"
     ]
    },
    {
     "name": "stderr",
     "output_type": "stream",
     "text": [
      "      1/400        11G      2.563       3.97      2.722      1.872          6   \n",
      "                 Class     Images  Instances      Box(P          R      mAP50  m"
     ]
    },
    {
     "name": "stdout",
     "output_type": "stream",
     "text": [
      "                   all        495        372      0.586      0.417       0.44      0.189      0.537      0.382      0.382      0.127\n"
     ]
    },
    {
     "name": "stderr",
     "output_type": "stream",
     "text": [
      "\n"
     ]
    },
    {
     "name": "stdout",
     "output_type": "stream",
     "text": [
      "\n",
      "      Epoch    GPU_mem   box_loss   seg_loss   cls_loss   dfl_loss  Instances       Size\n"
     ]
    },
    {
     "name": "stderr",
     "output_type": "stream",
     "text": [
      "      2/400      12.5G      1.987      2.994      1.805      1.416         14   \n",
      "                 Class     Images  Instances      Box(P          R      mAP50  m"
     ]
    },
    {
     "name": "stdout",
     "output_type": "stream",
     "text": [
      "                   all        495        372      0.536      0.454      0.478      0.207      0.502      0.403      0.418      0.142\n"
     ]
    },
    {
     "name": "stderr",
     "output_type": "stream",
     "text": [
      "\n"
     ]
    },
    {
     "name": "stdout",
     "output_type": "stream",
     "text": [
      "\n",
      "      Epoch    GPU_mem   box_loss   seg_loss   cls_loss   dfl_loss  Instances       Size\n"
     ]
    },
    {
     "name": "stderr",
     "output_type": "stream",
     "text": [
      "      3/400      12.5G      2.061      3.097      1.895      1.458          7   \n",
      "                 Class     Images  Instances      Box(P          R      mAP50  m"
     ]
    },
    {
     "name": "stdout",
     "output_type": "stream",
     "text": [
      "                   all        495        372      0.584       0.39        0.4      0.175      0.549      0.374      0.368       0.13\n"
     ]
    },
    {
     "name": "stderr",
     "output_type": "stream",
     "text": [
      "\n"
     ]
    },
    {
     "name": "stdout",
     "output_type": "stream",
     "text": [
      "\n",
      "      Epoch    GPU_mem   box_loss   seg_loss   cls_loss   dfl_loss  Instances       Size\n"
     ]
    },
    {
     "name": "stderr",
     "output_type": "stream",
     "text": [
      "      4/400      12.5G      2.134      3.281      1.992      1.531          7   \n",
      "                 Class     Images  Instances      Box(P          R      mAP50  m"
     ]
    },
    {
     "name": "stdout",
     "output_type": "stream",
     "text": [
      "                   all        495        372      0.501      0.363      0.331      0.141      0.499      0.344      0.312     0.0953\n"
     ]
    },
    {
     "name": "stderr",
     "output_type": "stream",
     "text": [
      "\n"
     ]
    },
    {
     "name": "stdout",
     "output_type": "stream",
     "text": [
      "\n",
      "      Epoch    GPU_mem   box_loss   seg_loss   cls_loss   dfl_loss  Instances       Size\n"
     ]
    },
    {
     "name": "stderr",
     "output_type": "stream",
     "text": [
      "      5/400      12.5G      2.129      3.236       1.94       1.55         12   \n",
      "                 Class     Images  Instances      Box(P          R      mAP50  m"
     ]
    },
    {
     "name": "stdout",
     "output_type": "stream",
     "text": [
      "                   all        495        372       0.54      0.398      0.411      0.171      0.557      0.355      0.379      0.128\n"
     ]
    },
    {
     "name": "stderr",
     "output_type": "stream",
     "text": [
      "\n"
     ]
    },
    {
     "name": "stdout",
     "output_type": "stream",
     "text": [
      "\n",
      "      Epoch    GPU_mem   box_loss   seg_loss   cls_loss   dfl_loss  Instances       Size\n"
     ]
    },
    {
     "name": "stderr",
     "output_type": "stream",
     "text": [
      "      6/400      12.5G       2.07       3.11      1.797      1.504          5   \n",
      "                 Class     Images  Instances      Box(P          R      mAP50  m"
     ]
    },
    {
     "name": "stdout",
     "output_type": "stream",
     "text": [
      "                   all        495        372        0.6      0.392      0.439      0.193      0.579      0.377      0.411      0.142\n"
     ]
    },
    {
     "name": "stderr",
     "output_type": "stream",
     "text": [
      "\n"
     ]
    },
    {
     "name": "stdout",
     "output_type": "stream",
     "text": [
      "\n",
      "      Epoch    GPU_mem   box_loss   seg_loss   cls_loss   dfl_loss  Instances       Size\n"
     ]
    },
    {
     "name": "stderr",
     "output_type": "stream",
     "text": [
      "      7/400      12.5G      2.018      3.018      1.777       1.49          1   \n",
      "                 Class     Images  Instances      Box(P          R      mAP50  m"
     ]
    },
    {
     "name": "stdout",
     "output_type": "stream",
     "text": [
      "                   all        495        372      0.619      0.409      0.451      0.186      0.666       0.36      0.415      0.149\n"
     ]
    },
    {
     "name": "stderr",
     "output_type": "stream",
     "text": [
      "\n"
     ]
    },
    {
     "name": "stdout",
     "output_type": "stream",
     "text": [
      "\n",
      "      Epoch    GPU_mem   box_loss   seg_loss   cls_loss   dfl_loss  Instances       Size\n"
     ]
    },
    {
     "name": "stderr",
     "output_type": "stream",
     "text": [
      "      8/400      12.5G      1.953      2.865      1.628      1.453          5   \n",
      "                 Class     Images  Instances      Box(P          R      mAP50  m"
     ]
    },
    {
     "name": "stdout",
     "output_type": "stream",
     "text": [
      "                   all        495        372      0.718      0.473      0.541      0.246      0.689      0.454      0.492      0.179\n"
     ]
    },
    {
     "name": "stderr",
     "output_type": "stream",
     "text": [
      "\n"
     ]
    },
    {
     "name": "stdout",
     "output_type": "stream",
     "text": [
      "\n",
      "      Epoch    GPU_mem   box_loss   seg_loss   cls_loss   dfl_loss  Instances       Size\n"
     ]
    },
    {
     "name": "stderr",
     "output_type": "stream",
     "text": [
      "      9/400      12.5G        1.9      2.785      1.539      1.434          8   \n",
      "                 Class     Images  Instances      Box(P          R      mAP50  m"
     ]
    },
    {
     "name": "stdout",
     "output_type": "stream",
     "text": [
      "                   all        495        372      0.737      0.492       0.58      0.263      0.724      0.489      0.562      0.203\n"
     ]
    },
    {
     "name": "stderr",
     "output_type": "stream",
     "text": [
      "\n"
     ]
    },
    {
     "name": "stdout",
     "output_type": "stream",
     "text": [
      "\n",
      "      Epoch    GPU_mem   box_loss   seg_loss   cls_loss   dfl_loss  Instances       Size\n"
     ]
    },
    {
     "name": "stderr",
     "output_type": "stream",
     "text": [
      "     10/400      12.5G      1.876      2.732      1.492      1.412          4   \n",
      "                 Class     Images  Instances      Box(P          R      mAP50  m"
     ]
    },
    {
     "name": "stdout",
     "output_type": "stream",
     "text": [
      "                   all        495        372      0.671      0.487       0.56      0.261      0.651       0.47      0.529      0.202\n"
     ]
    },
    {
     "name": "stderr",
     "output_type": "stream",
     "text": [
      "\n"
     ]
    },
    {
     "name": "stdout",
     "output_type": "stream",
     "text": [
      "\n",
      "      Epoch    GPU_mem   box_loss   seg_loss   cls_loss   dfl_loss  Instances       Size\n"
     ]
    },
    {
     "name": "stderr",
     "output_type": "stream",
     "text": [
      "     11/400      12.5G      1.837      2.696      1.456      1.388          5   \n",
      "                 Class     Images  Instances      Box(P          R      mAP50  m"
     ]
    },
    {
     "name": "stdout",
     "output_type": "stream",
     "text": [
      "                   all        495        372      0.641      0.552      0.596      0.293      0.687      0.507      0.584      0.228\n"
     ]
    },
    {
     "name": "stderr",
     "output_type": "stream",
     "text": [
      "\n"
     ]
    },
    {
     "name": "stdout",
     "output_type": "stream",
     "text": [
      "\n",
      "      Epoch    GPU_mem   box_loss   seg_loss   cls_loss   dfl_loss  Instances       Size\n"
     ]
    },
    {
     "name": "stderr",
     "output_type": "stream",
     "text": [
      "     12/400      12.5G      1.784      2.588      1.358      1.357          9   \n",
      "                 Class     Images  Instances      Box(P          R      mAP50  m"
     ]
    },
    {
     "name": "stdout",
     "output_type": "stream",
     "text": [
      "                   all        495        372      0.682      0.556       0.62      0.317      0.665      0.545      0.597       0.24\n"
     ]
    },
    {
     "name": "stderr",
     "output_type": "stream",
     "text": [
      "\n"
     ]
    },
    {
     "name": "stdout",
     "output_type": "stream",
     "text": [
      "\n",
      "      Epoch    GPU_mem   box_loss   seg_loss   cls_loss   dfl_loss  Instances       Size\n"
     ]
    },
    {
     "name": "stderr",
     "output_type": "stream",
     "text": [
      "     13/400      12.5G      1.771       2.58      1.351       1.36          6   \n",
      "                 Class     Images  Instances      Box(P          R      mAP50  m"
     ]
    },
    {
     "name": "stdout",
     "output_type": "stream",
     "text": [
      "                   all        495        372      0.736      0.548      0.628      0.314      0.735      0.548      0.626      0.244\n"
     ]
    },
    {
     "name": "stderr",
     "output_type": "stream",
     "text": [
      "\n"
     ]
    },
    {
     "name": "stdout",
     "output_type": "stream",
     "text": [
      "\n",
      "      Epoch    GPU_mem   box_loss   seg_loss   cls_loss   dfl_loss  Instances       Size\n"
     ]
    },
    {
     "name": "stderr",
     "output_type": "stream",
     "text": [
      "     14/400      12.5G      1.728      2.523      1.318      1.342          7   \n",
      "                 Class     Images  Instances      Box(P          R      mAP50  m"
     ]
    },
    {
     "name": "stdout",
     "output_type": "stream",
     "text": [
      "                   all        495        372      0.754      0.599      0.649      0.315      0.766      0.581      0.634      0.252\n"
     ]
    },
    {
     "name": "stderr",
     "output_type": "stream",
     "text": [
      "\n"
     ]
    },
    {
     "name": "stdout",
     "output_type": "stream",
     "text": [
      "\n",
      "      Epoch    GPU_mem   box_loss   seg_loss   cls_loss   dfl_loss  Instances       Size\n"
     ]
    },
    {
     "name": "stderr",
     "output_type": "stream",
     "text": [
      "     15/400      12.5G      1.672      2.464      1.224      1.314          1   \n",
      "                 Class     Images  Instances      Box(P          R      mAP50  m"
     ]
    },
    {
     "name": "stdout",
     "output_type": "stream",
     "text": [
      "                   all        495        372      0.721      0.565      0.624      0.305       0.73      0.566      0.629      0.255\n"
     ]
    },
    {
     "name": "stderr",
     "output_type": "stream",
     "text": [
      "\n"
     ]
    },
    {
     "name": "stdout",
     "output_type": "stream",
     "text": [
      "\n",
      "      Epoch    GPU_mem   box_loss   seg_loss   cls_loss   dfl_loss  Instances       Size\n"
     ]
    },
    {
     "name": "stderr",
     "output_type": "stream",
     "text": [
      "     16/400      12.5G      1.689      2.441      1.217      1.314          5   \n",
      "                 Class     Images  Instances      Box(P          R      mAP50  m"
     ]
    },
    {
     "name": "stdout",
     "output_type": "stream",
     "text": [
      "                   all        495        372      0.743      0.634      0.675      0.332      0.755      0.638       0.67      0.264\n"
     ]
    },
    {
     "name": "stderr",
     "output_type": "stream",
     "text": [
      "\n"
     ]
    },
    {
     "name": "stdout",
     "output_type": "stream",
     "text": [
      "\n",
      "      Epoch    GPU_mem   box_loss   seg_loss   cls_loss   dfl_loss  Instances       Size\n"
     ]
    },
    {
     "name": "stderr",
     "output_type": "stream",
     "text": [
      "     17/400      12.5G       1.65      2.397      1.168        1.3          7   \n",
      "                 Class     Images  Instances      Box(P          R      mAP50  m"
     ]
    },
    {
     "name": "stdout",
     "output_type": "stream",
     "text": [
      "                   all        495        372      0.736      0.591      0.673      0.341      0.824      0.543      0.651      0.275\n"
     ]
    },
    {
     "name": "stderr",
     "output_type": "stream",
     "text": [
      "\n"
     ]
    },
    {
     "name": "stdout",
     "output_type": "stream",
     "text": [
      "\n",
      "      Epoch    GPU_mem   box_loss   seg_loss   cls_loss   dfl_loss  Instances       Size\n"
     ]
    },
    {
     "name": "stderr",
     "output_type": "stream",
     "text": [
      "     18/400      12.5G       1.62      2.341      1.139      1.274          5   \n",
      "                 Class     Images  Instances      Box(P          R      mAP50  m"
     ]
    },
    {
     "name": "stdout",
     "output_type": "stream",
     "text": [
      "                   all        495        372      0.798      0.591      0.674      0.368      0.797      0.586      0.662      0.287\n"
     ]
    },
    {
     "name": "stderr",
     "output_type": "stream",
     "text": [
      "\n"
     ]
    },
    {
     "name": "stdout",
     "output_type": "stream",
     "text": [
      "\n",
      "      Epoch    GPU_mem   box_loss   seg_loss   cls_loss   dfl_loss  Instances       Size\n"
     ]
    },
    {
     "name": "stderr",
     "output_type": "stream",
     "text": [
      "     19/400      12.5G      1.594      2.333      1.116      1.264         12   \n",
      "                 Class     Images  Instances      Box(P          R      mAP50  m"
     ]
    },
    {
     "name": "stdout",
     "output_type": "stream",
     "text": [
      "                   all        495        372      0.819      0.605      0.699      0.375      0.812      0.599       0.69      0.293\n"
     ]
    },
    {
     "name": "stderr",
     "output_type": "stream",
     "text": [
      "\n"
     ]
    },
    {
     "name": "stdout",
     "output_type": "stream",
     "text": [
      "\n",
      "      Epoch    GPU_mem   box_loss   seg_loss   cls_loss   dfl_loss  Instances       Size\n"
     ]
    },
    {
     "name": "stderr",
     "output_type": "stream",
     "text": [
      "     20/400      12.5G      1.586      2.318      1.114      1.271          5   \n",
      "                 Class     Images  Instances      Box(P          R      mAP50  m"
     ]
    },
    {
     "name": "stdout",
     "output_type": "stream",
     "text": [
      "                   all        495        372      0.801      0.616      0.708      0.389      0.798      0.615      0.705      0.311\n"
     ]
    },
    {
     "name": "stderr",
     "output_type": "stream",
     "text": [
      "\n"
     ]
    },
    {
     "name": "stdout",
     "output_type": "stream",
     "text": [
      "\n",
      "      Epoch    GPU_mem   box_loss   seg_loss   cls_loss   dfl_loss  Instances       Size\n"
     ]
    },
    {
     "name": "stderr",
     "output_type": "stream",
     "text": [
      "     21/400      12.5G      1.563      2.277      1.069      1.246          7   \n",
      "                 Class     Images  Instances      Box(P          R      mAP50  m"
     ]
    },
    {
     "name": "stdout",
     "output_type": "stream",
     "text": [
      "                   all        495        372      0.793      0.634      0.712      0.399      0.796      0.637      0.707       0.32\n"
     ]
    },
    {
     "name": "stderr",
     "output_type": "stream",
     "text": [
      "\n"
     ]
    },
    {
     "name": "stdout",
     "output_type": "stream",
     "text": [
      "\n",
      "      Epoch    GPU_mem   box_loss   seg_loss   cls_loss   dfl_loss  Instances       Size\n"
     ]
    },
    {
     "name": "stderr",
     "output_type": "stream",
     "text": [
      "     22/400      12.5G      1.532      2.262      1.033      1.226          5   \n",
      "                 Class     Images  Instances      Box(P          R      mAP50  m"
     ]
    },
    {
     "name": "stdout",
     "output_type": "stream",
     "text": [
      "                   all        495        372      0.813      0.634       0.71       0.41       0.81      0.653      0.722       0.34\n"
     ]
    },
    {
     "name": "stderr",
     "output_type": "stream",
     "text": [
      "\n"
     ]
    },
    {
     "name": "stdout",
     "output_type": "stream",
     "text": [
      "\n",
      "      Epoch    GPU_mem   box_loss   seg_loss   cls_loss   dfl_loss  Instances       Size\n"
     ]
    },
    {
     "name": "stderr",
     "output_type": "stream",
     "text": [
      "     23/400      12.5G      1.514      2.208      1.009      1.223         12   \n",
      "                 Class     Images  Instances      Box(P          R      mAP50  m"
     ]
    },
    {
     "name": "stdout",
     "output_type": "stream",
     "text": [
      "                   all        495        372      0.761      0.656      0.743      0.428      0.761      0.656      0.741      0.344\n"
     ]
    },
    {
     "name": "stderr",
     "output_type": "stream",
     "text": [
      "\n"
     ]
    },
    {
     "name": "stdout",
     "output_type": "stream",
     "text": [
      "\n",
      "      Epoch    GPU_mem   box_loss   seg_loss   cls_loss   dfl_loss  Instances       Size\n"
     ]
    },
    {
     "name": "stderr",
     "output_type": "stream",
     "text": [
      "     24/400      12.5G      1.496      2.197     0.9771      1.218         11   \n",
      "                 Class     Images  Instances      Box(P          R      mAP50  m"
     ]
    },
    {
     "name": "stdout",
     "output_type": "stream",
     "text": [
      "                   all        495        372      0.853      0.641      0.722      0.415      0.841      0.655      0.717      0.332\n"
     ]
    },
    {
     "name": "stderr",
     "output_type": "stream",
     "text": [
      "\n"
     ]
    },
    {
     "name": "stdout",
     "output_type": "stream",
     "text": [
      "\n",
      "      Epoch    GPU_mem   box_loss   seg_loss   cls_loss   dfl_loss  Instances       Size\n"
     ]
    },
    {
     "name": "stderr",
     "output_type": "stream",
     "text": [
      "     25/400      12.5G      1.461      2.169     0.9582      1.209          8   \n",
      "                 Class     Images  Instances      Box(P          R      mAP50  m"
     ]
    },
    {
     "name": "stdout",
     "output_type": "stream",
     "text": [
      "                   all        495        372      0.788      0.669      0.743      0.425        0.8      0.656      0.735      0.338\n"
     ]
    },
    {
     "name": "stderr",
     "output_type": "stream",
     "text": [
      "\n"
     ]
    },
    {
     "name": "stdout",
     "output_type": "stream",
     "text": [
      "\n",
      "      Epoch    GPU_mem   box_loss   seg_loss   cls_loss   dfl_loss  Instances       Size\n"
     ]
    },
    {
     "name": "stderr",
     "output_type": "stream",
     "text": [
      "     26/400      12.5G      1.458      2.164     0.9602      1.193          9   \n",
      "                 Class     Images  Instances      Box(P          R      mAP50  m"
     ]
    },
    {
     "name": "stdout",
     "output_type": "stream",
     "text": [
      "                   all        495        372       0.81      0.686      0.753      0.423       0.83      0.669      0.746      0.346\n"
     ]
    },
    {
     "name": "stderr",
     "output_type": "stream",
     "text": [
      "\n"
     ]
    },
    {
     "name": "stdout",
     "output_type": "stream",
     "text": [
      "\n",
      "      Epoch    GPU_mem   box_loss   seg_loss   cls_loss   dfl_loss  Instances       Size\n"
     ]
    },
    {
     "name": "stderr",
     "output_type": "stream",
     "text": [
      "     27/400      12.5G      1.426       2.14     0.9194      1.183          6   \n",
      "                 Class     Images  Instances      Box(P          R      mAP50  m"
     ]
    },
    {
     "name": "stdout",
     "output_type": "stream",
     "text": [
      "                   all        495        372      0.861      0.667      0.773      0.447      0.855      0.667       0.76       0.36\n"
     ]
    },
    {
     "name": "stderr",
     "output_type": "stream",
     "text": [
      "\n"
     ]
    },
    {
     "name": "stdout",
     "output_type": "stream",
     "text": [
      "\n",
      "      Epoch    GPU_mem   box_loss   seg_loss   cls_loss   dfl_loss  Instances       Size\n"
     ]
    },
    {
     "name": "stderr",
     "output_type": "stream",
     "text": [
      "     28/400      12.5G      1.403      2.105     0.9032      1.169          9   \n",
      "                 Class     Images  Instances      Box(P          R      mAP50  m"
     ]
    },
    {
     "name": "stdout",
     "output_type": "stream",
     "text": [
      "                   all        495        372      0.802      0.715       0.77      0.462        0.8      0.712       0.76      0.374\n"
     ]
    },
    {
     "name": "stderr",
     "output_type": "stream",
     "text": [
      "\n"
     ]
    },
    {
     "name": "stdout",
     "output_type": "stream",
     "text": [
      "\n",
      "      Epoch    GPU_mem   box_loss   seg_loss   cls_loss   dfl_loss  Instances       Size\n"
     ]
    },
    {
     "name": "stderr",
     "output_type": "stream",
     "text": [
      "     29/400      12.5G      1.393      2.083     0.8819      1.162         10   \n",
      "                 Class     Images  Instances      Box(P          R      mAP50  m"
     ]
    },
    {
     "name": "stdout",
     "output_type": "stream",
     "text": [
      "                   all        495        372      0.858      0.651      0.769      0.451      0.848      0.645      0.765      0.358\n"
     ]
    },
    {
     "name": "stderr",
     "output_type": "stream",
     "text": [
      "\n"
     ]
    },
    {
     "name": "stdout",
     "output_type": "stream",
     "text": [
      "\n",
      "      Epoch    GPU_mem   box_loss   seg_loss   cls_loss   dfl_loss  Instances       Size\n"
     ]
    },
    {
     "name": "stderr",
     "output_type": "stream",
     "text": [
      "     30/400      12.5G      1.379       2.06     0.8745       1.16         10   \n",
      "                 Class     Images  Instances      Box(P          R      mAP50  m"
     ]
    },
    {
     "name": "stdout",
     "output_type": "stream",
     "text": [
      "                   all        495        372      0.793      0.709      0.761      0.457      0.845      0.667       0.76      0.375\n"
     ]
    },
    {
     "name": "stderr",
     "output_type": "stream",
     "text": [
      "\n"
     ]
    },
    {
     "name": "stdout",
     "output_type": "stream",
     "text": [
      "\n",
      "      Epoch    GPU_mem   box_loss   seg_loss   cls_loss   dfl_loss  Instances       Size\n"
     ]
    },
    {
     "name": "stderr",
     "output_type": "stream",
     "text": [
      "     31/400      12.5G      1.367      2.053     0.8632      1.157          5   \n",
      "                 Class     Images  Instances      Box(P          R      mAP50  m"
     ]
    },
    {
     "name": "stdout",
     "output_type": "stream",
     "text": [
      "                   all        495        372      0.845      0.691      0.782      0.475      0.839      0.686      0.772      0.382\n"
     ]
    },
    {
     "name": "stderr",
     "output_type": "stream",
     "text": [
      "\n"
     ]
    },
    {
     "name": "stdout",
     "output_type": "stream",
     "text": [
      "\n",
      "      Epoch    GPU_mem   box_loss   seg_loss   cls_loss   dfl_loss  Instances       Size\n"
     ]
    },
    {
     "name": "stderr",
     "output_type": "stream",
     "text": [
      "     32/400      12.5G      1.354      2.029     0.8348      1.149          1   \n",
      "                 Class     Images  Instances      Box(P          R      mAP50  m"
     ]
    },
    {
     "name": "stdout",
     "output_type": "stream",
     "text": [
      "                   all        495        372      0.824      0.732      0.799      0.489      0.823      0.724      0.789      0.395\n"
     ]
    },
    {
     "name": "stderr",
     "output_type": "stream",
     "text": [
      "\n"
     ]
    },
    {
     "name": "stdout",
     "output_type": "stream",
     "text": [
      "\n",
      "      Epoch    GPU_mem   box_loss   seg_loss   cls_loss   dfl_loss  Instances       Size\n"
     ]
    },
    {
     "name": "stderr",
     "output_type": "stream",
     "text": [
      "     33/400      12.5G      1.344      1.994     0.8261      1.145          3   \n",
      "                 Class     Images  Instances      Box(P          R      mAP50  m"
     ]
    },
    {
     "name": "stdout",
     "output_type": "stream",
     "text": [
      "                   all        495        372      0.832      0.707      0.777      0.474      0.832      0.705      0.774      0.384\n"
     ]
    },
    {
     "name": "stderr",
     "output_type": "stream",
     "text": [
      "\n"
     ]
    },
    {
     "name": "stdout",
     "output_type": "stream",
     "text": [
      "\n",
      "      Epoch    GPU_mem   box_loss   seg_loss   cls_loss   dfl_loss  Instances       Size\n"
     ]
    },
    {
     "name": "stderr",
     "output_type": "stream",
     "text": [
      "     34/400      12.5G      1.319      1.988     0.8123      1.138          7   \n",
      "                 Class     Images  Instances      Box(P          R      mAP50  m"
     ]
    },
    {
     "name": "stdout",
     "output_type": "stream",
     "text": [
      "                   all        495        372      0.848      0.739       0.81      0.506      0.845      0.737      0.803      0.407\n"
     ]
    },
    {
     "name": "stderr",
     "output_type": "stream",
     "text": [
      "\n"
     ]
    },
    {
     "name": "stdout",
     "output_type": "stream",
     "text": [
      "\n",
      "      Epoch    GPU_mem   box_loss   seg_loss   cls_loss   dfl_loss  Instances       Size\n"
     ]
    },
    {
     "name": "stderr",
     "output_type": "stream",
     "text": [
      "     35/400      12.5G      1.307      1.974     0.7937      1.128         12   \n",
      "                 Class     Images  Instances      Box(P          R      mAP50  m"
     ]
    },
    {
     "name": "stdout",
     "output_type": "stream",
     "text": [
      "                   all        495        372      0.832      0.733      0.808      0.494      0.823      0.725       0.79        0.4\n"
     ]
    },
    {
     "name": "stderr",
     "output_type": "stream",
     "text": [
      "\n"
     ]
    },
    {
     "name": "stdout",
     "output_type": "stream",
     "text": [
      "\n",
      "      Epoch    GPU_mem   box_loss   seg_loss   cls_loss   dfl_loss  Instances       Size\n"
     ]
    },
    {
     "name": "stderr",
     "output_type": "stream",
     "text": [
      "     36/400      12.5G      1.312       1.98     0.7919      1.126          7   \n",
      "                 Class     Images  Instances      Box(P          R      mAP50  m"
     ]
    },
    {
     "name": "stdout",
     "output_type": "stream",
     "text": [
      "                   all        495        372      0.829      0.757      0.811      0.504      0.823       0.75      0.803      0.407\n"
     ]
    },
    {
     "name": "stderr",
     "output_type": "stream",
     "text": [
      "\n"
     ]
    },
    {
     "name": "stdout",
     "output_type": "stream",
     "text": [
      "\n",
      "      Epoch    GPU_mem   box_loss   seg_loss   cls_loss   dfl_loss  Instances       Size\n"
     ]
    },
    {
     "name": "stderr",
     "output_type": "stream",
     "text": [
      "     37/400      12.5G       1.28      1.937     0.7785      1.113          6   \n",
      "                 Class     Images  Instances      Box(P          R      mAP50  m"
     ]
    },
    {
     "name": "stdout",
     "output_type": "stream",
     "text": [
      "                   all        495        372      0.833       0.75      0.818      0.523      0.834       0.75      0.811      0.423\n"
     ]
    },
    {
     "name": "stderr",
     "output_type": "stream",
     "text": [
      "\n"
     ]
    },
    {
     "name": "stdout",
     "output_type": "stream",
     "text": [
      "\n",
      "      Epoch    GPU_mem   box_loss   seg_loss   cls_loss   dfl_loss  Instances       Size\n"
     ]
    },
    {
     "name": "stderr",
     "output_type": "stream",
     "text": [
      "     38/400      12.5G      1.282      1.924     0.7997      1.114          9   \n",
      "                 Class     Images  Instances      Box(P          R      mAP50  m"
     ]
    },
    {
     "name": "stdout",
     "output_type": "stream",
     "text": [
      "                   all        495        372      0.806      0.738      0.801      0.504      0.803      0.735      0.802      0.405\n"
     ]
    },
    {
     "name": "stderr",
     "output_type": "stream",
     "text": [
      "\n"
     ]
    },
    {
     "name": "stdout",
     "output_type": "stream",
     "text": [
      "\n",
      "      Epoch    GPU_mem   box_loss   seg_loss   cls_loss   dfl_loss  Instances       Size\n"
     ]
    },
    {
     "name": "stderr",
     "output_type": "stream",
     "text": [
      "     39/400      12.5G      1.259      1.924     0.7683      1.099          6   \n",
      "                 Class     Images  Instances      Box(P          R      mAP50  m"
     ]
    },
    {
     "name": "stdout",
     "output_type": "stream",
     "text": [
      "                   all        495        372       0.83       0.75      0.811      0.512      0.818      0.747      0.804      0.417\n"
     ]
    },
    {
     "name": "stderr",
     "output_type": "stream",
     "text": [
      "\n"
     ]
    },
    {
     "name": "stdout",
     "output_type": "stream",
     "text": [
      "\n",
      "      Epoch    GPU_mem   box_loss   seg_loss   cls_loss   dfl_loss  Instances       Size\n"
     ]
    },
    {
     "name": "stderr",
     "output_type": "stream",
     "text": [
      "     40/400      12.5G      1.251      1.918     0.7639      1.093          6   \n",
      "                 Class     Images  Instances      Box(P          R      mAP50  m"
     ]
    },
    {
     "name": "stdout",
     "output_type": "stream",
     "text": [
      "                   all        495        372      0.841      0.755      0.822      0.522      0.839      0.756      0.816      0.423\n"
     ]
    },
    {
     "name": "stderr",
     "output_type": "stream",
     "text": [
      "\n"
     ]
    },
    {
     "name": "stdout",
     "output_type": "stream",
     "text": [
      "\n",
      "      Epoch    GPU_mem   box_loss   seg_loss   cls_loss   dfl_loss  Instances       Size\n"
     ]
    },
    {
     "name": "stderr",
     "output_type": "stream",
     "text": [
      "     41/400      12.5G      1.237      1.888     0.7407      1.087          4   \n",
      "                 Class     Images  Instances      Box(P          R      mAP50  m"
     ]
    },
    {
     "name": "stdout",
     "output_type": "stream",
     "text": [
      "                   all        495        372      0.882      0.725       0.82      0.531      0.882      0.724      0.812      0.423\n"
     ]
    },
    {
     "name": "stderr",
     "output_type": "stream",
     "text": [
      "\n"
     ]
    },
    {
     "name": "stdout",
     "output_type": "stream",
     "text": [
      "\n",
      "      Epoch    GPU_mem   box_loss   seg_loss   cls_loss   dfl_loss  Instances       Size\n"
     ]
    },
    {
     "name": "stderr",
     "output_type": "stream",
     "text": [
      "     42/400      12.5G       1.24      1.886     0.7523      1.091          5   \n",
      "                 Class     Images  Instances      Box(P          R      mAP50  m"
     ]
    },
    {
     "name": "stdout",
     "output_type": "stream",
     "text": [
      "                   all        495        372      0.867      0.766      0.833       0.53      0.855      0.761      0.828      0.421\n"
     ]
    },
    {
     "name": "stderr",
     "output_type": "stream",
     "text": [
      "\n"
     ]
    },
    {
     "name": "stdout",
     "output_type": "stream",
     "text": [
      "\n",
      "      Epoch    GPU_mem   box_loss   seg_loss   cls_loss   dfl_loss  Instances       Size\n"
     ]
    },
    {
     "name": "stderr",
     "output_type": "stream",
     "text": [
      "     43/400      12.5G      1.244      1.878     0.7417      1.087          2   \n",
      "                 Class     Images  Instances      Box(P          R      mAP50  m"
     ]
    },
    {
     "name": "stdout",
     "output_type": "stream",
     "text": [
      "                   all        495        372      0.866      0.784      0.832      0.556      0.866      0.784      0.835      0.449\n"
     ]
    },
    {
     "name": "stderr",
     "output_type": "stream",
     "text": [
      "\n"
     ]
    },
    {
     "name": "stdout",
     "output_type": "stream",
     "text": [
      "\n",
      "      Epoch    GPU_mem   box_loss   seg_loss   cls_loss   dfl_loss  Instances       Size\n"
     ]
    },
    {
     "name": "stderr",
     "output_type": "stream",
     "text": [
      "     44/400      12.5G      1.209      1.843     0.7164      1.075          6   \n",
      "                 Class     Images  Instances      Box(P          R      mAP50  m"
     ]
    },
    {
     "name": "stdout",
     "output_type": "stream",
     "text": [
      "                   all        495        372      0.855      0.745      0.818      0.533      0.907       0.71      0.821      0.437\n"
     ]
    },
    {
     "name": "stderr",
     "output_type": "stream",
     "text": [
      "\n"
     ]
    },
    {
     "name": "stdout",
     "output_type": "stream",
     "text": [
      "\n",
      "      Epoch    GPU_mem   box_loss   seg_loss   cls_loss   dfl_loss  Instances       Size\n"
     ]
    },
    {
     "name": "stderr",
     "output_type": "stream",
     "text": [
      "     45/400      12.5G      1.196      1.831     0.7082      1.061          6   \n",
      "                 Class     Images  Instances      Box(P          R      mAP50  m"
     ]
    },
    {
     "name": "stdout",
     "output_type": "stream",
     "text": [
      "                   all        495        372      0.841      0.755      0.826      0.536      0.823      0.758      0.819       0.43\n"
     ]
    },
    {
     "name": "stderr",
     "output_type": "stream",
     "text": [
      "\n"
     ]
    },
    {
     "name": "stdout",
     "output_type": "stream",
     "text": [
      "\n",
      "      Epoch    GPU_mem   box_loss   seg_loss   cls_loss   dfl_loss  Instances       Size\n"
     ]
    },
    {
     "name": "stderr",
     "output_type": "stream",
     "text": [
      "     46/400      12.5G      1.191      1.833     0.7127      1.068          6   \n",
      "                 Class     Images  Instances      Box(P          R      mAP50  m"
     ]
    },
    {
     "name": "stdout",
     "output_type": "stream",
     "text": [
      "                   all        495        372      0.864      0.785      0.839      0.555      0.864      0.785      0.834      0.441\n"
     ]
    },
    {
     "name": "stderr",
     "output_type": "stream",
     "text": [
      "\n"
     ]
    },
    {
     "name": "stdout",
     "output_type": "stream",
     "text": [
      "\n",
      "      Epoch    GPU_mem   box_loss   seg_loss   cls_loss   dfl_loss  Instances       Size\n"
     ]
    },
    {
     "name": "stderr",
     "output_type": "stream",
     "text": [
      "     47/400      12.5G      1.174      1.803     0.6975      1.065          8   \n",
      "                 Class     Images  Instances      Box(P          R      mAP50  m"
     ]
    },
    {
     "name": "stdout",
     "output_type": "stream",
     "text": [
      "                   all        495        372      0.872       0.79      0.855      0.568      0.866      0.785      0.849      0.463\n"
     ]
    },
    {
     "name": "stderr",
     "output_type": "stream",
     "text": [
      "\n"
     ]
    },
    {
     "name": "stdout",
     "output_type": "stream",
     "text": [
      "\n",
      "      Epoch    GPU_mem   box_loss   seg_loss   cls_loss   dfl_loss  Instances       Size\n"
     ]
    },
    {
     "name": "stderr",
     "output_type": "stream",
     "text": [
      "     48/400      12.5G      1.176       1.83     0.6974      1.054         13   \n",
      "                 Class     Images  Instances      Box(P          R      mAP50  m"
     ]
    },
    {
     "name": "stdout",
     "output_type": "stream",
     "text": [
      "                   all        495        372      0.857      0.788      0.843      0.561       0.85      0.774       0.83      0.446\n"
     ]
    },
    {
     "name": "stderr",
     "output_type": "stream",
     "text": [
      "\n"
     ]
    },
    {
     "name": "stdout",
     "output_type": "stream",
     "text": [
      "\n",
      "      Epoch    GPU_mem   box_loss   seg_loss   cls_loss   dfl_loss  Instances       Size\n"
     ]
    },
    {
     "name": "stderr",
     "output_type": "stream",
     "text": [
      "     49/400      12.5G       1.17      1.795     0.6819      1.064          6   \n",
      "                 Class     Images  Instances      Box(P          R      mAP50  m"
     ]
    },
    {
     "name": "stdout",
     "output_type": "stream",
     "text": [
      "                   all        495        372      0.828      0.798      0.834      0.562       0.88      0.749      0.835      0.454\n"
     ]
    },
    {
     "name": "stderr",
     "output_type": "stream",
     "text": [
      "\n"
     ]
    },
    {
     "name": "stdout",
     "output_type": "stream",
     "text": [
      "\n",
      "      Epoch    GPU_mem   box_loss   seg_loss   cls_loss   dfl_loss  Instances       Size\n"
     ]
    },
    {
     "name": "stderr",
     "output_type": "stream",
     "text": [
      "     50/400      12.5G      1.145      1.788     0.6712      1.045          5   \n",
      "                 Class     Images  Instances      Box(P          R      mAP50  m"
     ]
    },
    {
     "name": "stdout",
     "output_type": "stream",
     "text": [
      "                   all        495        372      0.878      0.747      0.841      0.564      0.875      0.745      0.834      0.459\n"
     ]
    },
    {
     "name": "stderr",
     "output_type": "stream",
     "text": [
      "\n"
     ]
    },
    {
     "name": "stdout",
     "output_type": "stream",
     "text": [
      "\n",
      "      Epoch    GPU_mem   box_loss   seg_loss   cls_loss   dfl_loss  Instances       Size\n"
     ]
    },
    {
     "name": "stderr",
     "output_type": "stream",
     "text": [
      "     51/400      12.5G      1.144      1.778     0.6595       1.05          5   \n",
      "                 Class     Images  Instances      Box(P          R      mAP50  m"
     ]
    },
    {
     "name": "stdout",
     "output_type": "stream",
     "text": [
      "                   all        495        372      0.887      0.763      0.849       0.57      0.875      0.761      0.834      0.456\n"
     ]
    },
    {
     "name": "stderr",
     "output_type": "stream",
     "text": [
      "\n"
     ]
    },
    {
     "name": "stdout",
     "output_type": "stream",
     "text": [
      "\n",
      "      Epoch    GPU_mem   box_loss   seg_loss   cls_loss   dfl_loss  Instances       Size\n"
     ]
    },
    {
     "name": "stderr",
     "output_type": "stream",
     "text": [
      "     52/400      12.5G      1.146       1.78     0.6725      1.043          8   \n",
      "                 Class     Images  Instances      Box(P          R      mAP50  m"
     ]
    },
    {
     "name": "stdout",
     "output_type": "stream",
     "text": [
      "                   all        495        372      0.898      0.774      0.851      0.564      0.895      0.772      0.848      0.459\n"
     ]
    },
    {
     "name": "stderr",
     "output_type": "stream",
     "text": [
      "\n"
     ]
    },
    {
     "name": "stdout",
     "output_type": "stream",
     "text": [
      "\n",
      "      Epoch    GPU_mem   box_loss   seg_loss   cls_loss   dfl_loss  Instances       Size\n"
     ]
    },
    {
     "name": "stderr",
     "output_type": "stream",
     "text": [
      "     53/400      12.5G      1.128      1.758     0.6587      1.041         11   \n",
      "                 Class     Images  Instances      Box(P          R      mAP50  m"
     ]
    },
    {
     "name": "stdout",
     "output_type": "stream",
     "text": [
      "                   all        495        372      0.902      0.765       0.84      0.571      0.905      0.769      0.836      0.463\n"
     ]
    },
    {
     "name": "stderr",
     "output_type": "stream",
     "text": [
      "\n"
     ]
    },
    {
     "name": "stdout",
     "output_type": "stream",
     "text": [
      "\n",
      "      Epoch    GPU_mem   box_loss   seg_loss   cls_loss   dfl_loss  Instances       Size\n"
     ]
    },
    {
     "name": "stderr",
     "output_type": "stream",
     "text": [
      "     54/400      12.5G      1.124      1.725     0.6514       1.04          8   \n",
      "                 Class     Images  Instances      Box(P          R      mAP50  m"
     ]
    },
    {
     "name": "stdout",
     "output_type": "stream",
     "text": [
      "                   all        495        372      0.865      0.792      0.841      0.569      0.916      0.732       0.83      0.462\n"
     ]
    },
    {
     "name": "stderr",
     "output_type": "stream",
     "text": [
      "\n"
     ]
    },
    {
     "name": "stdout",
     "output_type": "stream",
     "text": [
      "\n",
      "      Epoch    GPU_mem   box_loss   seg_loss   cls_loss   dfl_loss  Instances       Size\n"
     ]
    },
    {
     "name": "stderr",
     "output_type": "stream",
     "text": [
      "     55/400      12.5G      1.102      1.709     0.6457      1.031         10   \n",
      "                 Class     Images  Instances      Box(P          R      mAP50  m"
     ]
    },
    {
     "name": "stdout",
     "output_type": "stream",
     "text": [
      "                   all        495        372      0.863      0.815      0.854      0.582      0.855      0.809      0.848       0.47\n"
     ]
    },
    {
     "name": "stderr",
     "output_type": "stream",
     "text": [
      "\n"
     ]
    },
    {
     "name": "stdout",
     "output_type": "stream",
     "text": [
      "\n",
      "      Epoch    GPU_mem   box_loss   seg_loss   cls_loss   dfl_loss  Instances       Size\n"
     ]
    },
    {
     "name": "stderr",
     "output_type": "stream",
     "text": [
      "     56/400      12.5G      1.114      1.715     0.6312      1.029         11   \n",
      "                 Class     Images  Instances      Box(P          R      mAP50  m"
     ]
    },
    {
     "name": "stdout",
     "output_type": "stream",
     "text": [
      "                   all        495        372      0.903      0.772      0.853      0.595      0.906      0.775      0.851      0.473\n"
     ]
    },
    {
     "name": "stderr",
     "output_type": "stream",
     "text": [
      "\n"
     ]
    },
    {
     "name": "stdout",
     "output_type": "stream",
     "text": [
      "\n",
      "      Epoch    GPU_mem   box_loss   seg_loss   cls_loss   dfl_loss  Instances       Size\n"
     ]
    },
    {
     "name": "stderr",
     "output_type": "stream",
     "text": [
      "     57/400      12.5G      1.107      1.737     0.6454      1.026          7   \n",
      "                 Class     Images  Instances      Box(P          R      mAP50  m"
     ]
    },
    {
     "name": "stdout",
     "output_type": "stream",
     "text": [
      "                   all        495        372      0.875      0.798       0.86      0.602      0.875      0.798       0.86      0.486\n"
     ]
    },
    {
     "name": "stderr",
     "output_type": "stream",
     "text": [
      "\n"
     ]
    },
    {
     "name": "stdout",
     "output_type": "stream",
     "text": [
      "\n",
      "      Epoch    GPU_mem   box_loss   seg_loss   cls_loss   dfl_loss  Instances       Size\n"
     ]
    },
    {
     "name": "stderr",
     "output_type": "stream",
     "text": [
      "     58/400      12.5G      1.107      1.722      0.633      1.024          6   \n",
      "                 Class     Images  Instances      Box(P          R      mAP50  m"
     ]
    },
    {
     "name": "stdout",
     "output_type": "stream",
     "text": [
      "                   all        495        372      0.897      0.785      0.864      0.595       0.89      0.777       0.86       0.49\n"
     ]
    },
    {
     "name": "stderr",
     "output_type": "stream",
     "text": [
      "\n"
     ]
    },
    {
     "name": "stdout",
     "output_type": "stream",
     "text": [
      "\n",
      "      Epoch    GPU_mem   box_loss   seg_loss   cls_loss   dfl_loss  Instances       Size\n"
     ]
    },
    {
     "name": "stderr",
     "output_type": "stream",
     "text": [
      "     59/400      12.5G        1.1        1.7     0.6292      1.028         14   \n",
      "                 Class     Images  Instances      Box(P          R      mAP50  m"
     ]
    },
    {
     "name": "stdout",
     "output_type": "stream",
     "text": [
      "                   all        495        372      0.884      0.804      0.852      0.599      0.881      0.801      0.849      0.477\n"
     ]
    },
    {
     "name": "stderr",
     "output_type": "stream",
     "text": [
      "\n"
     ]
    },
    {
     "name": "stdout",
     "output_type": "stream",
     "text": [
      "\n",
      "      Epoch    GPU_mem   box_loss   seg_loss   cls_loss   dfl_loss  Instances       Size\n"
     ]
    },
    {
     "name": "stderr",
     "output_type": "stream",
     "text": [
      "     60/400      12.5G       1.08      1.706     0.6261      1.019          4   \n",
      "                 Class     Images  Instances      Box(P          R      mAP50  m"
     ]
    },
    {
     "name": "stdout",
     "output_type": "stream",
     "text": [
      "                   all        495        372      0.945      0.758      0.859      0.592      0.873      0.812      0.861      0.481\n"
     ]
    },
    {
     "name": "stderr",
     "output_type": "stream",
     "text": [
      "\n"
     ]
    },
    {
     "name": "stdout",
     "output_type": "stream",
     "text": [
      "\n",
      "      Epoch    GPU_mem   box_loss   seg_loss   cls_loss   dfl_loss  Instances       Size\n"
     ]
    },
    {
     "name": "stderr",
     "output_type": "stream",
     "text": [
      "     61/400      12.5G      1.067      1.668     0.5988      1.016          4   \n",
      "                 Class     Images  Instances      Box(P          R      mAP50  m"
     ]
    },
    {
     "name": "stdout",
     "output_type": "stream",
     "text": [
      "                   all        495        372      0.928      0.782      0.859      0.602      0.929      0.785      0.854      0.494\n"
     ]
    },
    {
     "name": "stderr",
     "output_type": "stream",
     "text": [
      "\n"
     ]
    },
    {
     "name": "stdout",
     "output_type": "stream",
     "text": [
      "\n",
      "      Epoch    GPU_mem   box_loss   seg_loss   cls_loss   dfl_loss  Instances       Size\n"
     ]
    },
    {
     "name": "stderr",
     "output_type": "stream",
     "text": [
      "     62/400      12.5G      1.062      1.676     0.6048      1.005          7   \n",
      "                 Class     Images  Instances      Box(P          R      mAP50  m"
     ]
    },
    {
     "name": "stdout",
     "output_type": "stream",
     "text": [
      "                   all        495        372      0.912      0.804      0.861      0.596      0.909      0.801      0.857      0.478\n"
     ]
    },
    {
     "name": "stderr",
     "output_type": "stream",
     "text": [
      "\n"
     ]
    },
    {
     "name": "stdout",
     "output_type": "stream",
     "text": [
      "\n",
      "      Epoch    GPU_mem   box_loss   seg_loss   cls_loss   dfl_loss  Instances       Size\n"
     ]
    },
    {
     "name": "stderr",
     "output_type": "stream",
     "text": [
      "     63/400      12.5G      1.066      1.662     0.6095       1.01          6   \n",
      "                 Class     Images  Instances      Box(P          R      mAP50  m"
     ]
    },
    {
     "name": "stdout",
     "output_type": "stream",
     "text": [
      "                   all        495        372      0.889      0.788      0.856      0.618      0.888      0.793      0.853      0.501\n"
     ]
    },
    {
     "name": "stderr",
     "output_type": "stream",
     "text": [
      "\n"
     ]
    },
    {
     "name": "stdout",
     "output_type": "stream",
     "text": [
      "\n",
      "      Epoch    GPU_mem   box_loss   seg_loss   cls_loss   dfl_loss  Instances       Size\n"
     ]
    },
    {
     "name": "stderr",
     "output_type": "stream",
     "text": [
      "     64/400      12.5G      1.057      1.639      0.594      1.009          5   \n",
      "                 Class     Images  Instances      Box(P          R      mAP50  m"
     ]
    },
    {
     "name": "stdout",
     "output_type": "stream",
     "text": [
      "                   all        495        372      0.896      0.804      0.864      0.612      0.887      0.796      0.852      0.495\n"
     ]
    },
    {
     "name": "stderr",
     "output_type": "stream",
     "text": [
      "\n"
     ]
    },
    {
     "name": "stdout",
     "output_type": "stream",
     "text": [
      "\n",
      "      Epoch    GPU_mem   box_loss   seg_loss   cls_loss   dfl_loss  Instances       Size\n"
     ]
    },
    {
     "name": "stderr",
     "output_type": "stream",
     "text": [
      "     65/400      12.5G      1.057      1.642     0.6009      1.009          7   \n",
      "                 Class     Images  Instances      Box(P          R      mAP50  m"
     ]
    },
    {
     "name": "stdout",
     "output_type": "stream",
     "text": [
      "                   all        495        372      0.919      0.793      0.871      0.612      0.914      0.788      0.868      0.494\n"
     ]
    },
    {
     "name": "stderr",
     "output_type": "stream",
     "text": [
      "\n"
     ]
    },
    {
     "name": "stdout",
     "output_type": "stream",
     "text": [
      "\n",
      "      Epoch    GPU_mem   box_loss   seg_loss   cls_loss   dfl_loss  Instances       Size\n"
     ]
    },
    {
     "name": "stderr",
     "output_type": "stream",
     "text": [
      "     66/400      12.5G      1.047      1.645     0.5896       1.01          9   \n",
      "                 Class     Images  Instances      Box(P          R      mAP50  m"
     ]
    },
    {
     "name": "stdout",
     "output_type": "stream",
     "text": [
      "                   all        495        372      0.867      0.826      0.868      0.623      0.862      0.821       0.86      0.508\n"
     ]
    },
    {
     "name": "stderr",
     "output_type": "stream",
     "text": [
      "\n"
     ]
    },
    {
     "name": "stdout",
     "output_type": "stream",
     "text": [
      "\n",
      "      Epoch    GPU_mem   box_loss   seg_loss   cls_loss   dfl_loss  Instances       Size\n"
     ]
    },
    {
     "name": "stderr",
     "output_type": "stream",
     "text": [
      "     67/400      12.5G      1.048       1.64     0.5985      1.003          5   \n",
      "                 Class     Images  Instances      Box(P          R      mAP50  m"
     ]
    },
    {
     "name": "stdout",
     "output_type": "stream",
     "text": [
      "                   all        495        372       0.89       0.82      0.865      0.621      0.887      0.817      0.866      0.502\n"
     ]
    },
    {
     "name": "stderr",
     "output_type": "stream",
     "text": [
      "\n"
     ]
    },
    {
     "name": "stdout",
     "output_type": "stream",
     "text": [
      "\n",
      "      Epoch    GPU_mem   box_loss   seg_loss   cls_loss   dfl_loss  Instances       Size\n"
     ]
    },
    {
     "name": "stderr",
     "output_type": "stream",
     "text": [
      "     68/400      12.5G      1.033      1.634     0.5858     0.9956          4   \n",
      "                 Class     Images  Instances      Box(P          R      mAP50  m"
     ]
    },
    {
     "name": "stdout",
     "output_type": "stream",
     "text": [
      "                   all        495        372      0.914      0.833       0.88      0.628      0.911      0.823      0.879      0.509\n"
     ]
    },
    {
     "name": "stderr",
     "output_type": "stream",
     "text": [
      "\n"
     ]
    },
    {
     "name": "stdout",
     "output_type": "stream",
     "text": [
      "\n",
      "      Epoch    GPU_mem   box_loss   seg_loss   cls_loss   dfl_loss  Instances       Size\n"
     ]
    },
    {
     "name": "stderr",
     "output_type": "stream",
     "text": [
      "     69/400      12.5G      1.026      1.615     0.5681     0.9984          5   \n",
      "                 Class     Images  Instances      Box(P          R      mAP50  m"
     ]
    },
    {
     "name": "stdout",
     "output_type": "stream",
     "text": [
      "                   all        495        372      0.897      0.822      0.866      0.626      0.898       0.82      0.871      0.503\n"
     ]
    },
    {
     "name": "stderr",
     "output_type": "stream",
     "text": [
      "\n"
     ]
    },
    {
     "name": "stdout",
     "output_type": "stream",
     "text": [
      "\n",
      "      Epoch    GPU_mem   box_loss   seg_loss   cls_loss   dfl_loss  Instances       Size\n"
     ]
    },
    {
     "name": "stderr",
     "output_type": "stream",
     "text": [
      "     70/400      12.5G      1.035      1.629     0.5937     0.9968          9   \n",
      "                 Class     Images  Instances      Box(P          R      mAP50  m"
     ]
    },
    {
     "name": "stdout",
     "output_type": "stream",
     "text": [
      "                   all        495        372      0.902      0.839      0.885      0.627       0.89      0.829      0.873      0.512\n"
     ]
    },
    {
     "name": "stderr",
     "output_type": "stream",
     "text": [
      "\n"
     ]
    },
    {
     "name": "stdout",
     "output_type": "stream",
     "text": [
      "\n",
      "      Epoch    GPU_mem   box_loss   seg_loss   cls_loss   dfl_loss  Instances       Size\n"
     ]
    },
    {
     "name": "stderr",
     "output_type": "stream",
     "text": [
      "     71/400      12.5G      1.027      1.602     0.5745     0.9963          6   \n",
      "                 Class     Images  Instances      Box(P          R      mAP50"
     ]
    },
    {
     "name": "stdout",
     "output_type": "stream",
     "text": [
      "                   all        495        372      0.892      0.821      0.871      0.627      0.899      0.791      0.861      0.503\n"
     ]
    },
    {
     "name": "stderr",
     "output_type": "stream",
     "text": [
      "\n"
     ]
    },
    {
     "name": "stdout",
     "output_type": "stream",
     "text": [
      "\n",
      "      Epoch    GPU_mem   box_loss   seg_loss   cls_loss   dfl_loss  Instances       Size\n"
     ]
    },
    {
     "name": "stderr",
     "output_type": "stream",
     "text": [
      "     72/400      12.5G      1.006      1.622     0.5749     0.9908          6\n",
      "                 Class     Images  Instances      Box(P          R      mAP50"
     ]
    },
    {
     "name": "stdout",
     "output_type": "stream",
     "text": [
      "                   all        495        372      0.933       0.79       0.87      0.633      0.931      0.794      0.865      0.511\n"
     ]
    },
    {
     "name": "stderr",
     "output_type": "stream",
     "text": [
      "\n"
     ]
    },
    {
     "name": "stdout",
     "output_type": "stream",
     "text": [
      "\n",
      "      Epoch    GPU_mem   box_loss   seg_loss   cls_loss   dfl_loss  Instances       Size\n"
     ]
    },
    {
     "name": "stderr",
     "output_type": "stream",
     "text": [
      "     73/400      12.5G      1.002      1.576     0.5669     0.9839          6\n",
      "                 Class     Images  Instances      Box(P          R      mAP50"
     ]
    },
    {
     "name": "stdout",
     "output_type": "stream",
     "text": [
      "                   all        495        372      0.917      0.801      0.872      0.625      0.923      0.804      0.877      0.503\n"
     ]
    },
    {
     "name": "stderr",
     "output_type": "stream",
     "text": [
      "\n"
     ]
    },
    {
     "name": "stdout",
     "output_type": "stream",
     "text": [
      "\n",
      "      Epoch    GPU_mem   box_loss   seg_loss   cls_loss   dfl_loss  Instances       Size\n"
     ]
    },
    {
     "name": "stderr",
     "output_type": "stream",
     "text": [
      "     74/400      12.5G      1.013       1.62      0.567     0.9842          4\n",
      "                 Class     Images  Instances      Box(P          R      mAP50"
     ]
    },
    {
     "name": "stdout",
     "output_type": "stream",
     "text": [
      "                   all        495        372      0.932      0.817      0.878      0.625      0.931      0.817      0.877      0.522\n"
     ]
    },
    {
     "name": "stderr",
     "output_type": "stream",
     "text": [
      "\n"
     ]
    },
    {
     "name": "stdout",
     "output_type": "stream",
     "text": [
      "\n",
      "      Epoch    GPU_mem   box_loss   seg_loss   cls_loss   dfl_loss  Instances       Size\n"
     ]
    },
    {
     "name": "stderr",
     "output_type": "stream",
     "text": [
      "     75/400      12.5G          1      1.589     0.5577     0.9895         11\n",
      "                 Class     Images  Instances      Box(P          R      mAP50"
     ]
    },
    {
     "name": "stdout",
     "output_type": "stream",
     "text": [
      "                   all        495        372      0.919      0.822      0.872       0.63      0.913      0.823      0.869      0.524\n"
     ]
    },
    {
     "name": "stderr",
     "output_type": "stream",
     "text": [
      "\n"
     ]
    },
    {
     "name": "stdout",
     "output_type": "stream",
     "text": [
      "\n",
      "      Epoch    GPU_mem   box_loss   seg_loss   cls_loss   dfl_loss  Instances       Size\n"
     ]
    },
    {
     "name": "stderr",
     "output_type": "stream",
     "text": [
      "     76/400      12.5G     0.9914      1.571     0.5617     0.9832          8\n",
      "                 Class     Images  Instances      Box(P          R      mAP50"
     ]
    },
    {
     "name": "stdout",
     "output_type": "stream",
     "text": [
      "                   all        495        372      0.907      0.798      0.872      0.623      0.899      0.814      0.875      0.513\n"
     ]
    },
    {
     "name": "stderr",
     "output_type": "stream",
     "text": [
      "\n"
     ]
    },
    {
     "name": "stdout",
     "output_type": "stream",
     "text": [
      "\n",
      "      Epoch    GPU_mem   box_loss   seg_loss   cls_loss   dfl_loss  Instances       Size\n"
     ]
    },
    {
     "name": "stderr",
     "output_type": "stream",
     "text": [
      "     77/400      12.5G     0.9933      1.583     0.5551     0.9791         14\n",
      "                 Class     Images  Instances      Box(P          R      mAP50"
     ]
    },
    {
     "name": "stdout",
     "output_type": "stream",
     "text": [
      "                   all        495        372        0.9      0.836      0.877      0.646      0.901      0.836      0.878      0.526\n"
     ]
    },
    {
     "name": "stderr",
     "output_type": "stream",
     "text": [
      "\n"
     ]
    },
    {
     "name": "stdout",
     "output_type": "stream",
     "text": [
      "\n",
      "      Epoch    GPU_mem   box_loss   seg_loss   cls_loss   dfl_loss  Instances       Size\n"
     ]
    },
    {
     "name": "stderr",
     "output_type": "stream",
     "text": [
      "     78/400      12.5G     0.9769      1.578     0.5482     0.9805         10\n",
      "                 Class     Images  Instances      Box(P          R      mAP50"
     ]
    },
    {
     "name": "stdout",
     "output_type": "stream",
     "text": [
      "                   all        495        372      0.897      0.839      0.881      0.649      0.885       0.82      0.875      0.528\n"
     ]
    },
    {
     "name": "stderr",
     "output_type": "stream",
     "text": [
      "\n"
     ]
    },
    {
     "name": "stdout",
     "output_type": "stream",
     "text": [
      "\n",
      "      Epoch    GPU_mem   box_loss   seg_loss   cls_loss   dfl_loss  Instances       Size\n"
     ]
    },
    {
     "name": "stderr",
     "output_type": "stream",
     "text": [
      "     79/400      12.5G     0.9777      1.548     0.5439     0.9708          8\n",
      "                 Class     Images  Instances      Box(P          R      mAP50"
     ]
    },
    {
     "name": "stdout",
     "output_type": "stream",
     "text": [
      "                   all        495        372      0.925      0.817       0.88      0.645      0.904      0.831      0.878      0.523\n"
     ]
    },
    {
     "name": "stderr",
     "output_type": "stream",
     "text": [
      "\n"
     ]
    },
    {
     "name": "stdout",
     "output_type": "stream",
     "text": [
      "\n",
      "      Epoch    GPU_mem   box_loss   seg_loss   cls_loss   dfl_loss  Instances       Size\n"
     ]
    },
    {
     "name": "stderr",
     "output_type": "stream",
     "text": [
      "     80/400      12.5G     0.9769      1.553     0.5371     0.9712          6\n",
      "                 Class     Images  Instances      Box(P          R      mAP50"
     ]
    },
    {
     "name": "stdout",
     "output_type": "stream",
     "text": [
      "                   all        495        372      0.919      0.823      0.873      0.639      0.916       0.82      0.869       0.52\n"
     ]
    },
    {
     "name": "stderr",
     "output_type": "stream",
     "text": [
      "\n"
     ]
    },
    {
     "name": "stdout",
     "output_type": "stream",
     "text": [
      "\n",
      "      Epoch    GPU_mem   box_loss   seg_loss   cls_loss   dfl_loss  Instances       Size\n"
     ]
    },
    {
     "name": "stderr",
     "output_type": "stream",
     "text": [
      "     81/400      12.5G     0.9629      1.536     0.5457     0.9729          4\n",
      "                 Class     Images  Instances      Box(P          R      mAP50"
     ]
    },
    {
     "name": "stdout",
     "output_type": "stream",
     "text": [
      "                   all        495        372      0.917      0.833       0.88      0.654      0.914      0.831       0.88      0.528\n"
     ]
    },
    {
     "name": "stderr",
     "output_type": "stream",
     "text": [
      "\n"
     ]
    },
    {
     "name": "stdout",
     "output_type": "stream",
     "text": [
      "\n",
      "      Epoch    GPU_mem   box_loss   seg_loss   cls_loss   dfl_loss  Instances       Size\n"
     ]
    },
    {
     "name": "stderr",
     "output_type": "stream",
     "text": [
      "     82/400      12.5G     0.9685      1.559     0.5549     0.9681         11\n",
      "                 Class     Images  Instances      Box(P          R      mAP50"
     ]
    },
    {
     "name": "stdout",
     "output_type": "stream",
     "text": [
      "                   all        495        372      0.934      0.804      0.874      0.648      0.916       0.82      0.878      0.526\n"
     ]
    },
    {
     "name": "stderr",
     "output_type": "stream",
     "text": [
      "\n"
     ]
    },
    {
     "name": "stdout",
     "output_type": "stream",
     "text": [
      "\n",
      "      Epoch    GPU_mem   box_loss   seg_loss   cls_loss   dfl_loss  Instances       Size\n"
     ]
    },
    {
     "name": "stderr",
     "output_type": "stream",
     "text": [
      "     83/400      12.5G     0.9673      1.528     0.5383     0.9699          5\n",
      "                 Class     Images  Instances      Box(P          R      mAP50"
     ]
    },
    {
     "name": "stdout",
     "output_type": "stream",
     "text": [
      "                   all        495        372      0.936      0.806      0.886      0.653      0.939      0.809      0.886      0.527\n"
     ]
    },
    {
     "name": "stderr",
     "output_type": "stream",
     "text": [
      "\n"
     ]
    },
    {
     "name": "stdout",
     "output_type": "stream",
     "text": [
      "\n",
      "      Epoch    GPU_mem   box_loss   seg_loss   cls_loss   dfl_loss  Instances       Size\n"
     ]
    },
    {
     "name": "stderr",
     "output_type": "stream",
     "text": [
      "     84/400      12.5G     0.9583      1.549      0.539     0.9649          8\n",
      "                 Class     Images  Instances      Box(P          R      mAP50"
     ]
    },
    {
     "name": "stdout",
     "output_type": "stream",
     "text": [
      "                   all        495        372      0.877      0.842      0.876      0.649       0.88      0.848      0.883      0.529\n"
     ]
    },
    {
     "name": "stderr",
     "output_type": "stream",
     "text": [
      "\n"
     ]
    },
    {
     "name": "stdout",
     "output_type": "stream",
     "text": [
      "\n",
      "      Epoch    GPU_mem   box_loss   seg_loss   cls_loss   dfl_loss  Instances       Size\n"
     ]
    },
    {
     "name": "stderr",
     "output_type": "stream",
     "text": [
      "     85/400      12.5G     0.9602      1.544     0.5353     0.9648          6\n",
      "                 Class     Images  Instances      Box(P          R      mAP50"
     ]
    },
    {
     "name": "stdout",
     "output_type": "stream",
     "text": [
      "                   all        495        372      0.931      0.797      0.885      0.657      0.945      0.786      0.889      0.537\n"
     ]
    },
    {
     "name": "stderr",
     "output_type": "stream",
     "text": [
      "\n"
     ]
    },
    {
     "name": "stdout",
     "output_type": "stream",
     "text": [
      "\n",
      "      Epoch    GPU_mem   box_loss   seg_loss   cls_loss   dfl_loss  Instances       Size\n"
     ]
    },
    {
     "name": "stderr",
     "output_type": "stream",
     "text": [
      "     86/400      12.5G     0.9506      1.522     0.5279     0.9631         13\n",
      "                 Class     Images  Instances      Box(P          R      mAP50"
     ]
    },
    {
     "name": "stdout",
     "output_type": "stream",
     "text": [
      "                   all        495        372      0.914       0.82      0.888      0.662      0.919       0.82      0.896      0.541\n"
     ]
    },
    {
     "name": "stderr",
     "output_type": "stream",
     "text": [
      "\n"
     ]
    },
    {
     "name": "stdout",
     "output_type": "stream",
     "text": [
      "\n",
      "      Epoch    GPU_mem   box_loss   seg_loss   cls_loss   dfl_loss  Instances       Size\n"
     ]
    },
    {
     "name": "stderr",
     "output_type": "stream",
     "text": [
      "     87/400      12.5G     0.9568      1.517     0.5304     0.9636         16\n",
      "                 Class     Images  Instances      Box(P          R      mAP50"
     ]
    },
    {
     "name": "stdout",
     "output_type": "stream",
     "text": [
      "                   all        495        372      0.875      0.863      0.896      0.662      0.877      0.858      0.895      0.533\n"
     ]
    },
    {
     "name": "stderr",
     "output_type": "stream",
     "text": [
      "\n"
     ]
    },
    {
     "name": "stdout",
     "output_type": "stream",
     "text": [
      "\n",
      "      Epoch    GPU_mem   box_loss   seg_loss   cls_loss   dfl_loss  Instances       Size\n"
     ]
    },
    {
     "name": "stderr",
     "output_type": "stream",
     "text": [
      "     88/400      12.5G      0.949      1.506     0.5295      0.968          4\n",
      "                 Class     Images  Instances      Box(P          R      mAP50"
     ]
    },
    {
     "name": "stdout",
     "output_type": "stream",
     "text": [
      "                   all        495        372      0.918       0.84      0.898      0.665      0.914      0.833      0.891      0.543\n"
     ]
    },
    {
     "name": "stderr",
     "output_type": "stream",
     "text": [
      "\n"
     ]
    },
    {
     "name": "stdout",
     "output_type": "stream",
     "text": [
      "\n",
      "      Epoch    GPU_mem   box_loss   seg_loss   cls_loss   dfl_loss  Instances       Size\n"
     ]
    },
    {
     "name": "stderr",
     "output_type": "stream",
     "text": [
      "     89/400      12.5G     0.9264       1.49     0.5084     0.9532         11\n",
      "                 Class     Images  Instances      Box(P          R      mAP50"
     ]
    },
    {
     "name": "stdout",
     "output_type": "stream",
     "text": [
      "                   all        495        372       0.92      0.829      0.895      0.665      0.914      0.825      0.879      0.537\n"
     ]
    },
    {
     "name": "stderr",
     "output_type": "stream",
     "text": [
      "\n"
     ]
    },
    {
     "name": "stdout",
     "output_type": "stream",
     "text": [
      "\n",
      "      Epoch    GPU_mem   box_loss   seg_loss   cls_loss   dfl_loss  Instances       Size\n"
     ]
    },
    {
     "name": "stderr",
     "output_type": "stream",
     "text": [
      "     90/400      12.5G     0.9346        1.5     0.5207     0.9596          8\n",
      "                 Class     Images  Instances      Box(P          R      mAP50"
     ]
    },
    {
     "name": "stdout",
     "output_type": "stream",
     "text": [
      "                   all        495        372      0.928      0.812      0.883       0.66      0.951      0.796      0.877       0.53\n"
     ]
    },
    {
     "name": "stderr",
     "output_type": "stream",
     "text": [
      "\n"
     ]
    },
    {
     "name": "stdout",
     "output_type": "stream",
     "text": [
      "\n",
      "      Epoch    GPU_mem   box_loss   seg_loss   cls_loss   dfl_loss  Instances       Size\n"
     ]
    },
    {
     "name": "stderr",
     "output_type": "stream",
     "text": [
      "     91/400      12.5G     0.9356      1.489     0.5181     0.9606          6\n",
      "                 Class     Images  Instances      Box(P          R      mAP50"
     ]
    },
    {
     "name": "stdout",
     "output_type": "stream",
     "text": [
      "                   all        495        372      0.921      0.812      0.879      0.659      0.927      0.817      0.877      0.532\n"
     ]
    },
    {
     "name": "stderr",
     "output_type": "stream",
     "text": [
      "\n"
     ]
    },
    {
     "name": "stdout",
     "output_type": "stream",
     "text": [
      "\n",
      "      Epoch    GPU_mem   box_loss   seg_loss   cls_loss   dfl_loss  Instances       Size\n"
     ]
    },
    {
     "name": "stderr",
     "output_type": "stream",
     "text": [
      "     92/400      12.5G     0.9204      1.477      0.511     0.9545         12\n",
      "                 Class     Images  Instances      Box(P          R      mAP50"
     ]
    },
    {
     "name": "stdout",
     "output_type": "stream",
     "text": [
      "                   all        495        372      0.913      0.815      0.884      0.664      0.893       0.83      0.877      0.541\n"
     ]
    },
    {
     "name": "stderr",
     "output_type": "stream",
     "text": [
      "\n"
     ]
    },
    {
     "name": "stdout",
     "output_type": "stream",
     "text": [
      "\n",
      "      Epoch    GPU_mem   box_loss   seg_loss   cls_loss   dfl_loss  Instances       Size\n"
     ]
    },
    {
     "name": "stderr",
     "output_type": "stream",
     "text": [
      "     93/400      12.5G       0.92      1.463     0.5057     0.9517          4\n",
      "                 Class     Images  Instances      Box(P          R      mAP50"
     ]
    },
    {
     "name": "stdout",
     "output_type": "stream",
     "text": [
      "                   all        495        372      0.919       0.82      0.885      0.668      0.922       0.82      0.881      0.548\n"
     ]
    },
    {
     "name": "stderr",
     "output_type": "stream",
     "text": [
      "\n"
     ]
    },
    {
     "name": "stdout",
     "output_type": "stream",
     "text": [
      "\n",
      "      Epoch    GPU_mem   box_loss   seg_loss   cls_loss   dfl_loss  Instances       Size\n"
     ]
    },
    {
     "name": "stderr",
     "output_type": "stream",
     "text": [
      "     94/400      12.5G     0.9097      1.458     0.5077      0.949          8\n",
      "                 Class     Images  Instances      Box(P          R      mAP50"
     ]
    },
    {
     "name": "stdout",
     "output_type": "stream",
     "text": [
      "                   all        495        372      0.914      0.832      0.888      0.668       0.93      0.823      0.884      0.554\n"
     ]
    },
    {
     "name": "stderr",
     "output_type": "stream",
     "text": [
      "\n"
     ]
    },
    {
     "name": "stdout",
     "output_type": "stream",
     "text": [
      "\n",
      "      Epoch    GPU_mem   box_loss   seg_loss   cls_loss   dfl_loss  Instances       Size\n"
     ]
    },
    {
     "name": "stderr",
     "output_type": "stream",
     "text": [
      "     95/400      12.5G     0.9112       1.47     0.5008     0.9534          5\n",
      "                 Class     Images  Instances      Box(P          R      mAP50"
     ]
    },
    {
     "name": "stdout",
     "output_type": "stream",
     "text": [
      "                   all        495        372      0.918      0.842      0.888      0.669      0.929      0.828      0.886      0.553\n"
     ]
    },
    {
     "name": "stderr",
     "output_type": "stream",
     "text": [
      "\n"
     ]
    },
    {
     "name": "stdout",
     "output_type": "stream",
     "text": [
      "\n",
      "      Epoch    GPU_mem   box_loss   seg_loss   cls_loss   dfl_loss  Instances       Size\n"
     ]
    },
    {
     "name": "stderr",
     "output_type": "stream",
     "text": [
      "     96/400      12.5G     0.9166      1.463     0.5091     0.9471          5\n",
      "                 Class     Images  Instances      Box(P          R      mAP50"
     ]
    },
    {
     "name": "stdout",
     "output_type": "stream",
     "text": [
      "                   all        495        372      0.962      0.809      0.889      0.676      0.962      0.809      0.886      0.553\n"
     ]
    },
    {
     "name": "stderr",
     "output_type": "stream",
     "text": [
      "\n"
     ]
    },
    {
     "name": "stdout",
     "output_type": "stream",
     "text": [
      "\n",
      "      Epoch    GPU_mem   box_loss   seg_loss   cls_loss   dfl_loss  Instances       Size\n"
     ]
    },
    {
     "name": "stderr",
     "output_type": "stream",
     "text": [
      "     97/400      12.5G     0.9037      1.464     0.5005     0.9451          5\n",
      "                 Class     Images  Instances      Box(P          R      mAP50"
     ]
    },
    {
     "name": "stdout",
     "output_type": "stream",
     "text": [
      "                   all        495        372      0.922      0.844      0.893      0.674       0.92      0.833      0.886      0.548\n"
     ]
    },
    {
     "name": "stderr",
     "output_type": "stream",
     "text": [
      "\n"
     ]
    },
    {
     "name": "stdout",
     "output_type": "stream",
     "text": [
      "\n",
      "      Epoch    GPU_mem   box_loss   seg_loss   cls_loss   dfl_loss  Instances       Size\n"
     ]
    },
    {
     "name": "stderr",
     "output_type": "stream",
     "text": [
      "     98/400      12.5G     0.9056      1.473      0.503     0.9507          3\n",
      "                 Class     Images  Instances      Box(P          R      mAP50"
     ]
    },
    {
     "name": "stdout",
     "output_type": "stream",
     "text": [
      "                   all        495        372      0.972      0.804      0.896      0.677      0.969      0.801      0.891      0.551\n"
     ]
    },
    {
     "name": "stderr",
     "output_type": "stream",
     "text": [
      "\n"
     ]
    },
    {
     "name": "stdout",
     "output_type": "stream",
     "text": [
      "\n",
      "      Epoch    GPU_mem   box_loss   seg_loss   cls_loss   dfl_loss  Instances       Size\n"
     ]
    },
    {
     "name": "stderr",
     "output_type": "stream",
     "text": [
      "     99/400      12.5G     0.9005      1.446      0.491      0.943          3\n",
      "                 Class     Images  Instances      Box(P          R      mAP50"
     ]
    },
    {
     "name": "stdout",
     "output_type": "stream",
     "text": [
      "                   all        495        372      0.932      0.839      0.898      0.675      0.926      0.833      0.884      0.557\n"
     ]
    },
    {
     "name": "stderr",
     "output_type": "stream",
     "text": [
      "\n"
     ]
    },
    {
     "name": "stdout",
     "output_type": "stream",
     "text": [
      "\n",
      "      Epoch    GPU_mem   box_loss   seg_loss   cls_loss   dfl_loss  Instances       Size\n"
     ]
    },
    {
     "name": "stderr",
     "output_type": "stream",
     "text": [
      "    100/400      12.5G     0.8975      1.452     0.4952     0.9499          7\n",
      "                 Class     Images  Instances      Box(P          R      mAP50"
     ]
    },
    {
     "name": "stdout",
     "output_type": "stream",
     "text": [
      "                   all        495        372      0.952      0.817      0.896      0.678      0.946      0.812      0.883      0.554\n"
     ]
    },
    {
     "name": "stderr",
     "output_type": "stream",
     "text": [
      "\n"
     ]
    },
    {
     "name": "stdout",
     "output_type": "stream",
     "text": [
      "\n",
      "      Epoch    GPU_mem   box_loss   seg_loss   cls_loss   dfl_loss  Instances       Size\n"
     ]
    },
    {
     "name": "stderr",
     "output_type": "stream",
     "text": [
      "    101/400      12.5G     0.9002      1.432     0.5044     0.9457          9\n",
      "                 Class     Images  Instances      Box(P          R      mAP50"
     ]
    },
    {
     "name": "stdout",
     "output_type": "stream",
     "text": [
      "                   all        495        372      0.948      0.826      0.894      0.674      0.928      0.832      0.882      0.553\n"
     ]
    },
    {
     "name": "stderr",
     "output_type": "stream",
     "text": [
      "\n"
     ]
    },
    {
     "name": "stdout",
     "output_type": "stream",
     "text": [
      "\n",
      "      Epoch    GPU_mem   box_loss   seg_loss   cls_loss   dfl_loss  Instances       Size\n"
     ]
    },
    {
     "name": "stderr",
     "output_type": "stream",
     "text": [
      "    102/400      12.5G     0.8938      1.452     0.5028      0.943         10\n",
      "                 Class     Images  Instances      Box(P          R      mAP50"
     ]
    },
    {
     "name": "stdout",
     "output_type": "stream",
     "text": [
      "                   all        495        372       0.92      0.847      0.896      0.677      0.917      0.844      0.888      0.554\n"
     ]
    },
    {
     "name": "stderr",
     "output_type": "stream",
     "text": [
      "\n"
     ]
    },
    {
     "name": "stdout",
     "output_type": "stream",
     "text": [
      "\n",
      "      Epoch    GPU_mem   box_loss   seg_loss   cls_loss   dfl_loss  Instances       Size\n"
     ]
    },
    {
     "name": "stderr",
     "output_type": "stream",
     "text": [
      "    103/400      12.5G     0.9027      1.436     0.4967     0.9449         19\n",
      "                 Class     Images  Instances      Box(P          R      mAP50"
     ]
    },
    {
     "name": "stdout",
     "output_type": "stream",
     "text": [
      "                   all        495        372      0.945      0.826      0.893       0.68      0.919      0.849      0.896      0.558\n"
     ]
    },
    {
     "name": "stderr",
     "output_type": "stream",
     "text": [
      "\n"
     ]
    },
    {
     "name": "stdout",
     "output_type": "stream",
     "text": [
      "\n",
      "      Epoch    GPU_mem   box_loss   seg_loss   cls_loss   dfl_loss  Instances       Size\n"
     ]
    },
    {
     "name": "stderr",
     "output_type": "stream",
     "text": [
      "    104/400      12.5G     0.8867      1.412     0.4854     0.9427          7\n",
      "                 Class     Images  Instances      Box(P          R      mAP50"
     ]
    },
    {
     "name": "stdout",
     "output_type": "stream",
     "text": [
      "                   all        495        372      0.924      0.844      0.895      0.681      0.918      0.841      0.895      0.559\n"
     ]
    },
    {
     "name": "stderr",
     "output_type": "stream",
     "text": [
      "\n"
     ]
    },
    {
     "name": "stdout",
     "output_type": "stream",
     "text": [
      "\n",
      "      Epoch    GPU_mem   box_loss   seg_loss   cls_loss   dfl_loss  Instances       Size\n"
     ]
    },
    {
     "name": "stderr",
     "output_type": "stream",
     "text": [
      "    105/400      12.5G     0.8782      1.409     0.4812     0.9359          5\n",
      "                 Class     Images  Instances      Box(P          R      mAP50"
     ]
    },
    {
     "name": "stdout",
     "output_type": "stream",
     "text": [
      "                   all        495        372      0.939      0.831      0.898      0.688      0.939      0.828      0.901      0.562\n"
     ]
    },
    {
     "name": "stderr",
     "output_type": "stream",
     "text": [
      "\n"
     ]
    },
    {
     "name": "stdout",
     "output_type": "stream",
     "text": [
      "\n",
      "      Epoch    GPU_mem   box_loss   seg_loss   cls_loss   dfl_loss  Instances       Size\n"
     ]
    },
    {
     "name": "stderr",
     "output_type": "stream",
     "text": [
      "    106/400      12.5G     0.8873      1.412     0.4894     0.9412         12\n",
      "                 Class     Images  Instances      Box(P          R      mAP50"
     ]
    },
    {
     "name": "stdout",
     "output_type": "stream",
     "text": [
      "                   all        495        372      0.943      0.838      0.897      0.688       0.94      0.836      0.896      0.568\n"
     ]
    },
    {
     "name": "stderr",
     "output_type": "stream",
     "text": [
      "\n"
     ]
    },
    {
     "name": "stdout",
     "output_type": "stream",
     "text": [
      "\n",
      "      Epoch    GPU_mem   box_loss   seg_loss   cls_loss   dfl_loss  Instances       Size\n"
     ]
    },
    {
     "name": "stderr",
     "output_type": "stream",
     "text": [
      "    107/400      12.5G      0.868      1.417      0.485     0.9322         10\n",
      "                 Class     Images  Instances      Box(P          R      mAP50"
     ]
    },
    {
     "name": "stdout",
     "output_type": "stream",
     "text": [
      "                   all        495        372      0.948      0.833      0.897      0.692      0.946      0.828      0.896      0.565\n"
     ]
    },
    {
     "name": "stderr",
     "output_type": "stream",
     "text": [
      "\n"
     ]
    },
    {
     "name": "stdout",
     "output_type": "stream",
     "text": [
      "\n",
      "      Epoch    GPU_mem   box_loss   seg_loss   cls_loss   dfl_loss  Instances       Size\n"
     ]
    },
    {
     "name": "stderr",
     "output_type": "stream",
     "text": [
      "    108/400      12.5G     0.8713      1.414      0.479     0.9391          4\n",
      "                 Class     Images  Instances      Box(P          R      mAP50"
     ]
    },
    {
     "name": "stdout",
     "output_type": "stream",
     "text": [
      "                   all        495        372      0.934      0.843        0.9      0.693      0.931      0.841      0.887      0.566\n"
     ]
    },
    {
     "name": "stderr",
     "output_type": "stream",
     "text": [
      "\n"
     ]
    },
    {
     "name": "stdout",
     "output_type": "stream",
     "text": [
      "\n",
      "      Epoch    GPU_mem   box_loss   seg_loss   cls_loss   dfl_loss  Instances       Size\n"
     ]
    },
    {
     "name": "stderr",
     "output_type": "stream",
     "text": [
      "    109/400      12.5G     0.8854      1.411     0.4876     0.9356          4\n",
      "                 Class     Images  Instances      Box(P          R      mAP50"
     ]
    },
    {
     "name": "stdout",
     "output_type": "stream",
     "text": [
      "                   all        495        372      0.924      0.839      0.896      0.693      0.935      0.833      0.884      0.564\n"
     ]
    },
    {
     "name": "stderr",
     "output_type": "stream",
     "text": [
      "\n"
     ]
    },
    {
     "name": "stdout",
     "output_type": "stream",
     "text": [
      "\n",
      "      Epoch    GPU_mem   box_loss   seg_loss   cls_loss   dfl_loss  Instances       Size\n"
     ]
    },
    {
     "name": "stderr",
     "output_type": "stream",
     "text": [
      "    110/400      12.5G     0.8839      1.427      0.488      0.943         15\n",
      "                 Class     Images  Instances      Box(P          R      mAP50"
     ]
    },
    {
     "name": "stdout",
     "output_type": "stream",
     "text": [
      "                   all        495        372      0.921      0.849      0.898       0.69      0.932      0.839      0.884      0.561\n"
     ]
    },
    {
     "name": "stderr",
     "output_type": "stream",
     "text": [
      "\n"
     ]
    },
    {
     "name": "stdout",
     "output_type": "stream",
     "text": [
      "\n",
      "      Epoch    GPU_mem   box_loss   seg_loss   cls_loss   dfl_loss  Instances       Size\n"
     ]
    },
    {
     "name": "stderr",
     "output_type": "stream",
     "text": [
      "    111/400      12.5G     0.8681      1.401     0.4777      0.928          4\n",
      "                 Class     Images  Instances      Box(P          R      mAP50"
     ]
    },
    {
     "name": "stdout",
     "output_type": "stream",
     "text": [
      "                   all        495        372       0.94      0.836      0.901      0.691       0.94      0.836      0.884      0.564\n"
     ]
    },
    {
     "name": "stderr",
     "output_type": "stream",
     "text": [
      "\n"
     ]
    },
    {
     "name": "stdout",
     "output_type": "stream",
     "text": [
      "\n",
      "      Epoch    GPU_mem   box_loss   seg_loss   cls_loss   dfl_loss  Instances       Size\n"
     ]
    },
    {
     "name": "stderr",
     "output_type": "stream",
     "text": [
      "    112/400      12.5G     0.8584        1.4     0.4823     0.9329          6\n",
      "                 Class     Images  Instances      Box(P          R      mAP50"
     ]
    },
    {
     "name": "stdout",
     "output_type": "stream",
     "text": [
      "                   all        495        372      0.963       0.82      0.902      0.695      0.963       0.82      0.888      0.568\n"
     ]
    },
    {
     "name": "stderr",
     "output_type": "stream",
     "text": [
      "\n"
     ]
    },
    {
     "name": "stdout",
     "output_type": "stream",
     "text": [
      "\n",
      "      Epoch    GPU_mem   box_loss   seg_loss   cls_loss   dfl_loss  Instances       Size\n"
     ]
    },
    {
     "name": "stderr",
     "output_type": "stream",
     "text": [
      "    113/400      12.5G     0.8622        1.4     0.4805     0.9265          5\n",
      "                 Class     Images  Instances      Box(P          R      mAP50"
     ]
    },
    {
     "name": "stdout",
     "output_type": "stream",
     "text": [
      "                   all        495        372      0.932      0.841      0.903      0.694      0.951      0.826       0.89      0.563\n"
     ]
    },
    {
     "name": "stderr",
     "output_type": "stream",
     "text": [
      "\n"
     ]
    },
    {
     "name": "stdout",
     "output_type": "stream",
     "text": [
      "\n",
      "      Epoch    GPU_mem   box_loss   seg_loss   cls_loss   dfl_loss  Instances       Size\n"
     ]
    },
    {
     "name": "stderr",
     "output_type": "stream",
     "text": [
      "    114/400      12.5G     0.8548      1.392     0.4713     0.9293          9\n",
      "                 Class     Images  Instances      Box(P          R      mAP50"
     ]
    },
    {
     "name": "stdout",
     "output_type": "stream",
     "text": [
      "                   all        495        372      0.926      0.844      0.905      0.693      0.948      0.823      0.897      0.566\n"
     ]
    },
    {
     "name": "stderr",
     "output_type": "stream",
     "text": [
      "\n"
     ]
    },
    {
     "name": "stdout",
     "output_type": "stream",
     "text": [
      "\n",
      "      Epoch    GPU_mem   box_loss   seg_loss   cls_loss   dfl_loss  Instances       Size\n"
     ]
    },
    {
     "name": "stderr",
     "output_type": "stream",
     "text": [
      "    115/400      12.5G       0.85      1.369     0.4665     0.9279          9\n",
      "                 Class     Images  Instances      Box(P          R      mAP50"
     ]
    },
    {
     "name": "stdout",
     "output_type": "stream",
     "text": [
      "                   all        495        372      0.929      0.844      0.903      0.695       0.96      0.815      0.893      0.561\n"
     ]
    },
    {
     "name": "stderr",
     "output_type": "stream",
     "text": [
      "\n"
     ]
    },
    {
     "name": "stdout",
     "output_type": "stream",
     "text": [
      "\n",
      "      Epoch    GPU_mem   box_loss   seg_loss   cls_loss   dfl_loss  Instances       Size\n"
     ]
    },
    {
     "name": "stderr",
     "output_type": "stream",
     "text": [
      "    116/400      12.5G     0.8477      1.367     0.4617     0.9318         12\n",
      "                 Class     Images  Instances      Box(P          R      mAP50"
     ]
    },
    {
     "name": "stdout",
     "output_type": "stream",
     "text": [
      "                   all        495        372      0.932      0.842      0.903      0.699      0.957      0.815      0.896      0.564\n"
     ]
    },
    {
     "name": "stderr",
     "output_type": "stream",
     "text": [
      "\n"
     ]
    },
    {
     "name": "stdout",
     "output_type": "stream",
     "text": [
      "\n",
      "      Epoch    GPU_mem   box_loss   seg_loss   cls_loss   dfl_loss  Instances       Size\n"
     ]
    },
    {
     "name": "stderr",
     "output_type": "stream",
     "text": [
      "    117/400      12.5G     0.8571      1.374      0.464     0.9302          6\n",
      "                 Class     Images  Instances      Box(P          R      mAP50"
     ]
    },
    {
     "name": "stdout",
     "output_type": "stream",
     "text": [
      "                   all        495        372      0.942      0.844      0.906      0.701      0.955      0.825      0.897      0.568\n"
     ]
    },
    {
     "name": "stderr",
     "output_type": "stream",
     "text": [
      "\n"
     ]
    },
    {
     "name": "stdout",
     "output_type": "stream",
     "text": [
      "\n",
      "      Epoch    GPU_mem   box_loss   seg_loss   cls_loss   dfl_loss  Instances       Size\n"
     ]
    },
    {
     "name": "stderr",
     "output_type": "stream",
     "text": [
      "    118/400      12.5G     0.8479      1.372     0.4644     0.9253          7\n",
      "                 Class     Images  Instances      Box(P          R      mAP50"
     ]
    },
    {
     "name": "stdout",
     "output_type": "stream",
     "text": [
      "                   all        495        372      0.971       0.82      0.902      0.705      0.961      0.823      0.898      0.573\n"
     ]
    },
    {
     "name": "stderr",
     "output_type": "stream",
     "text": [
      "\n"
     ]
    },
    {
     "name": "stdout",
     "output_type": "stream",
     "text": [
      "\n",
      "      Epoch    GPU_mem   box_loss   seg_loss   cls_loss   dfl_loss  Instances       Size\n"
     ]
    },
    {
     "name": "stderr",
     "output_type": "stream",
     "text": [
      "    119/400      12.5G     0.8474       1.38     0.4676     0.9247          6\n",
      "                 Class     Images  Instances      Box(P          R      mAP50"
     ]
    },
    {
     "name": "stdout",
     "output_type": "stream",
     "text": [
      "                   all        495        372      0.945      0.829      0.897        0.7      0.962      0.817      0.895      0.574\n"
     ]
    },
    {
     "name": "stderr",
     "output_type": "stream",
     "text": [
      "\n"
     ]
    },
    {
     "name": "stdout",
     "output_type": "stream",
     "text": [
      "\n",
      "      Epoch    GPU_mem   box_loss   seg_loss   cls_loss   dfl_loss  Instances       Size\n"
     ]
    },
    {
     "name": "stderr",
     "output_type": "stream",
     "text": [
      "    120/400      12.5G     0.8371      1.367     0.4603     0.9257         13\n",
      "                 Class     Images  Instances      Box(P          R      mAP50"
     ]
    },
    {
     "name": "stdout",
     "output_type": "stream",
     "text": [
      "                   all        495        372      0.942      0.832      0.898      0.701      0.968      0.818        0.9      0.578\n"
     ]
    },
    {
     "name": "stderr",
     "output_type": "stream",
     "text": [
      "\n"
     ]
    },
    {
     "name": "stdout",
     "output_type": "stream",
     "text": [
      "\n",
      "      Epoch    GPU_mem   box_loss   seg_loss   cls_loss   dfl_loss  Instances       Size\n"
     ]
    },
    {
     "name": "stderr",
     "output_type": "stream",
     "text": [
      "    121/400      12.5G     0.8356      1.348     0.4516     0.9224         10\n",
      "                 Class     Images  Instances      Box(P          R      mAP50"
     ]
    },
    {
     "name": "stdout",
     "output_type": "stream",
     "text": [
      "                   all        495        372      0.936      0.841      0.902      0.704      0.959      0.825      0.902      0.578\n"
     ]
    },
    {
     "name": "stderr",
     "output_type": "stream",
     "text": [
      "\n"
     ]
    },
    {
     "name": "stdout",
     "output_type": "stream",
     "text": [
      "\n",
      "      Epoch    GPU_mem   box_loss   seg_loss   cls_loss   dfl_loss  Instances       Size\n"
     ]
    },
    {
     "name": "stderr",
     "output_type": "stream",
     "text": [
      "    122/400      12.5G     0.8455      1.343     0.4611     0.9247          0\n",
      "                 Class     Images  Instances      Box(P          R      mAP50"
     ]
    },
    {
     "name": "stdout",
     "output_type": "stream",
     "text": [
      "                   all        495        372       0.94      0.843      0.899      0.703       0.92      0.862      0.898      0.582\n"
     ]
    },
    {
     "name": "stderr",
     "output_type": "stream",
     "text": [
      "\n"
     ]
    },
    {
     "name": "stdout",
     "output_type": "stream",
     "text": [
      "\n",
      "      Epoch    GPU_mem   box_loss   seg_loss   cls_loss   dfl_loss  Instances       Size\n"
     ]
    },
    {
     "name": "stderr",
     "output_type": "stream",
     "text": [
      "    123/400      12.5G     0.8414      1.343     0.4598      0.919          7\n",
      "                 Class     Images  Instances      Box(P          R      mAP50"
     ]
    },
    {
     "name": "stdout",
     "output_type": "stream",
     "text": [
      "                   all        495        372      0.944      0.836      0.901      0.706      0.947      0.839      0.899      0.585\n"
     ]
    },
    {
     "name": "stderr",
     "output_type": "stream",
     "text": [
      "\n"
     ]
    },
    {
     "name": "stdout",
     "output_type": "stream",
     "text": [
      "\n",
      "      Epoch    GPU_mem   box_loss   seg_loss   cls_loss   dfl_loss  Instances       Size\n"
     ]
    },
    {
     "name": "stderr",
     "output_type": "stream",
     "text": [
      "    124/400      12.5G     0.8347      1.358     0.4581     0.9201          7\n",
      "                 Class     Images  Instances      Box(P          R      mAP50"
     ]
    },
    {
     "name": "stdout",
     "output_type": "stream",
     "text": [
      "                   all        495        372       0.93      0.858      0.905      0.705      0.949      0.847        0.9      0.585\n"
     ]
    },
    {
     "name": "stderr",
     "output_type": "stream",
     "text": [
      "\n"
     ]
    },
    {
     "name": "stdout",
     "output_type": "stream",
     "text": [
      "\n",
      "      Epoch    GPU_mem   box_loss   seg_loss   cls_loss   dfl_loss  Instances       Size\n"
     ]
    },
    {
     "name": "stderr",
     "output_type": "stream",
     "text": [
      "    125/400      12.5G     0.8302       1.34     0.4513     0.9245          8\n",
      "                 Class     Images  Instances      Box(P          R      mAP50"
     ]
    },
    {
     "name": "stdout",
     "output_type": "stream",
     "text": [
      "                   all        495        372      0.942      0.847      0.904      0.706      0.942      0.847      0.892      0.585\n"
     ]
    },
    {
     "name": "stderr",
     "output_type": "stream",
     "text": [
      "\n"
     ]
    },
    {
     "name": "stdout",
     "output_type": "stream",
     "text": [
      "\n",
      "      Epoch    GPU_mem   box_loss   seg_loss   cls_loss   dfl_loss  Instances       Size\n"
     ]
    },
    {
     "name": "stderr",
     "output_type": "stream",
     "text": [
      "    126/400      12.5G     0.8259      1.344      0.451     0.9182         10\n",
      "                 Class     Images  Instances      Box(P          R      mAP50"
     ]
    },
    {
     "name": "stdout",
     "output_type": "stream",
     "text": [
      "                   all        495        372      0.936      0.849      0.907      0.709       0.94      0.845      0.893      0.583\n"
     ]
    },
    {
     "name": "stderr",
     "output_type": "stream",
     "text": [
      "\n"
     ]
    },
    {
     "name": "stdout",
     "output_type": "stream",
     "text": [
      "\n",
      "      Epoch    GPU_mem   box_loss   seg_loss   cls_loss   dfl_loss  Instances       Size\n"
     ]
    },
    {
     "name": "stderr",
     "output_type": "stream",
     "text": [
      "    127/400      12.5G     0.8235      1.325     0.4501     0.9223          8\n",
      "                 Class     Images  Instances      Box(P          R      mAP50"
     ]
    },
    {
     "name": "stdout",
     "output_type": "stream",
     "text": [
      "                   all        495        372      0.936      0.847      0.907      0.712      0.936      0.847      0.896      0.587\n"
     ]
    },
    {
     "name": "stderr",
     "output_type": "stream",
     "text": [
      "\n"
     ]
    },
    {
     "name": "stdout",
     "output_type": "stream",
     "text": [
      "\n",
      "      Epoch    GPU_mem   box_loss   seg_loss   cls_loss   dfl_loss  Instances       Size\n"
     ]
    },
    {
     "name": "stderr",
     "output_type": "stream",
     "text": [
      "    128/400      12.5G     0.8061      1.314     0.4452     0.9146         12\n",
      "                 Class     Images  Instances      Box(P          R      mAP50"
     ]
    },
    {
     "name": "stdout",
     "output_type": "stream",
     "text": [
      "                   all        495        372       0.94      0.847      0.905      0.707      0.937      0.844      0.892      0.585\n"
     ]
    },
    {
     "name": "stderr",
     "output_type": "stream",
     "text": [
      "\n"
     ]
    },
    {
     "name": "stdout",
     "output_type": "stream",
     "text": [
      "\n",
      "      Epoch    GPU_mem   box_loss   seg_loss   cls_loss   dfl_loss  Instances       Size\n"
     ]
    },
    {
     "name": "stderr",
     "output_type": "stream",
     "text": [
      "    129/400      12.5G     0.8074       1.32     0.4467      0.907          4\n",
      "                 Class     Images  Instances      Box(P          R      mAP50"
     ]
    },
    {
     "name": "stdout",
     "output_type": "stream",
     "text": [
      "                   all        495        372      0.942      0.849      0.905      0.711      0.936      0.844      0.892      0.583\n"
     ]
    },
    {
     "name": "stderr",
     "output_type": "stream",
     "text": [
      "\n"
     ]
    },
    {
     "name": "stdout",
     "output_type": "stream",
     "text": [
      "\n",
      "      Epoch    GPU_mem   box_loss   seg_loss   cls_loss   dfl_loss  Instances       Size\n"
     ]
    },
    {
     "name": "stderr",
     "output_type": "stream",
     "text": [
      "    130/400      12.5G     0.8207      1.333     0.4475     0.9156          8\n",
      "                 Class     Images  Instances      Box(P          R      mAP50"
     ]
    },
    {
     "name": "stdout",
     "output_type": "stream",
     "text": [
      "                   all        495        372      0.943      0.845      0.906      0.715      0.978       0.82      0.897      0.587\n"
     ]
    },
    {
     "name": "stderr",
     "output_type": "stream",
     "text": [
      "\n"
     ]
    },
    {
     "name": "stdout",
     "output_type": "stream",
     "text": [
      "\n",
      "      Epoch    GPU_mem   box_loss   seg_loss   cls_loss   dfl_loss  Instances       Size\n"
     ]
    },
    {
     "name": "stderr",
     "output_type": "stream",
     "text": [
      "    131/400      12.5G     0.8091      1.321     0.4419     0.9166          2\n",
      "                 Class     Images  Instances      Box(P          R      mAP50"
     ]
    },
    {
     "name": "stdout",
     "output_type": "stream",
     "text": [
      "                   all        495        372      0.913       0.87      0.908      0.715      0.956      0.836        0.9       0.59\n"
     ]
    },
    {
     "name": "stderr",
     "output_type": "stream",
     "text": [
      "\n"
     ]
    },
    {
     "name": "stdout",
     "output_type": "stream",
     "text": [
      "\n",
      "      Epoch    GPU_mem   box_loss   seg_loss   cls_loss   dfl_loss  Instances       Size\n"
     ]
    },
    {
     "name": "stderr",
     "output_type": "stream",
     "text": [
      "    132/400      12.5G     0.8055      1.321     0.4464     0.9071          3\n",
      "                 Class     Images  Instances      Box(P          R      mAP50"
     ]
    },
    {
     "name": "stdout",
     "output_type": "stream",
     "text": [
      "                   all        495        372      0.913      0.871      0.907      0.715      0.952      0.833      0.897       0.59\n"
     ]
    },
    {
     "name": "stderr",
     "output_type": "stream",
     "text": [
      "\n"
     ]
    },
    {
     "name": "stdout",
     "output_type": "stream",
     "text": [
      "\n",
      "      Epoch    GPU_mem   box_loss   seg_loss   cls_loss   dfl_loss  Instances       Size\n"
     ]
    },
    {
     "name": "stderr",
     "output_type": "stream",
     "text": [
      "    133/400      12.5G     0.8047      1.315     0.4373     0.9081          2\n",
      "                 Class     Images  Instances      Box(P          R      mAP50"
     ]
    },
    {
     "name": "stdout",
     "output_type": "stream",
     "text": [
      "                   all        495        372      0.914      0.871      0.908      0.716      0.951      0.831      0.897      0.591\n"
     ]
    },
    {
     "name": "stderr",
     "output_type": "stream",
     "text": [
      "\n"
     ]
    },
    {
     "name": "stdout",
     "output_type": "stream",
     "text": [
      "\n",
      "      Epoch    GPU_mem   box_loss   seg_loss   cls_loss   dfl_loss  Instances       Size\n"
     ]
    },
    {
     "name": "stderr",
     "output_type": "stream",
     "text": [
      "    134/400      12.5G     0.8196      1.327     0.4407     0.9127          3\n",
      "                 Class     Images  Instances      Box(P          R      mAP50"
     ]
    },
    {
     "name": "stdout",
     "output_type": "stream",
     "text": [
      "                   all        495        372      0.934      0.852      0.909      0.716      0.955      0.828      0.898       0.59\n"
     ]
    },
    {
     "name": "stderr",
     "output_type": "stream",
     "text": [
      "\n"
     ]
    },
    {
     "name": "stdout",
     "output_type": "stream",
     "text": [
      "\n",
      "      Epoch    GPU_mem   box_loss   seg_loss   cls_loss   dfl_loss  Instances       Size\n"
     ]
    },
    {
     "name": "stderr",
     "output_type": "stream",
     "text": [
      "    135/400      12.5G     0.8013      1.307     0.4397     0.9063          8\n",
      "                 Class     Images  Instances      Box(P          R      mAP50"
     ]
    },
    {
     "name": "stdout",
     "output_type": "stream",
     "text": [
      "                   all        495        372       0.92      0.866       0.91      0.716      0.962      0.828      0.899      0.588\n"
     ]
    },
    {
     "name": "stderr",
     "output_type": "stream",
     "text": [
      "\n"
     ]
    },
    {
     "name": "stdout",
     "output_type": "stream",
     "text": [
      "\n",
      "      Epoch    GPU_mem   box_loss   seg_loss   cls_loss   dfl_loss  Instances       Size\n"
     ]
    },
    {
     "name": "stderr",
     "output_type": "stream",
     "text": [
      "    136/400      12.5G     0.8108      1.321     0.4535     0.9132          1\n",
      "                 Class     Images  Instances      Box(P          R      mAP50"
     ]
    },
    {
     "name": "stdout",
     "output_type": "stream",
     "text": [
      "                   all        495        372      0.923      0.866      0.909      0.716      0.917       0.86      0.899      0.592\n"
     ]
    },
    {
     "name": "stderr",
     "output_type": "stream",
     "text": [
      "\n"
     ]
    },
    {
     "name": "stdout",
     "output_type": "stream",
     "text": [
      "\n",
      "      Epoch    GPU_mem   box_loss   seg_loss   cls_loss   dfl_loss  Instances       Size\n"
     ]
    },
    {
     "name": "stderr",
     "output_type": "stream",
     "text": [
      "    137/400      12.5G     0.8025      1.305     0.4373      0.909          7\n",
      "                 Class     Images  Instances      Box(P          R      mAP50"
     ]
    },
    {
     "name": "stdout",
     "output_type": "stream",
     "text": [
      "                   all        495        372      0.923      0.866      0.909      0.719      0.947      0.839      0.898      0.599\n"
     ]
    },
    {
     "name": "stderr",
     "output_type": "stream",
     "text": [
      "\n"
     ]
    },
    {
     "name": "stdout",
     "output_type": "stream",
     "text": [
      "\n",
      "      Epoch    GPU_mem   box_loss   seg_loss   cls_loss   dfl_loss  Instances       Size\n"
     ]
    },
    {
     "name": "stderr",
     "output_type": "stream",
     "text": [
      "    138/400      12.5G     0.7912      1.297     0.4281     0.9063          4\n",
      "                 Class     Images  Instances      Box(P          R      mAP50"
     ]
    },
    {
     "name": "stdout",
     "output_type": "stream",
     "text": [
      "                   all        495        372      0.922      0.866      0.909      0.717      0.948      0.836      0.897      0.598\n"
     ]
    },
    {
     "name": "stderr",
     "output_type": "stream",
     "text": [
      "\n"
     ]
    },
    {
     "name": "stdout",
     "output_type": "stream",
     "text": [
      "\n",
      "      Epoch    GPU_mem   box_loss   seg_loss   cls_loss   dfl_loss  Instances       Size\n"
     ]
    },
    {
     "name": "stderr",
     "output_type": "stream",
     "text": [
      "    139/400      12.5G     0.7919      1.283     0.4368     0.9069          6\n",
      "                 Class     Images  Instances      Box(P          R      mAP50"
     ]
    },
    {
     "name": "stdout",
     "output_type": "stream",
     "text": [
      "                   all        495        372      0.931       0.86      0.909      0.722      0.971      0.823      0.899      0.599\n"
     ]
    },
    {
     "name": "stderr",
     "output_type": "stream",
     "text": [
      "\n"
     ]
    },
    {
     "name": "stdout",
     "output_type": "stream",
     "text": [
      "\n",
      "      Epoch    GPU_mem   box_loss   seg_loss   cls_loss   dfl_loss  Instances       Size\n"
     ]
    },
    {
     "name": "stderr",
     "output_type": "stream",
     "text": [
      "    140/400      12.5G     0.7971      1.292     0.4325     0.9088          9\n",
      "                 Class     Images  Instances      Box(P          R      mAP50"
     ]
    },
    {
     "name": "stdout",
     "output_type": "stream",
     "text": [
      "                   all        495        372      0.933      0.861      0.911      0.724       0.93      0.859      0.905      0.603\n"
     ]
    },
    {
     "name": "stderr",
     "output_type": "stream",
     "text": [
      "\n"
     ]
    },
    {
     "name": "stdout",
     "output_type": "stream",
     "text": [
      "\n",
      "      Epoch    GPU_mem   box_loss   seg_loss   cls_loss   dfl_loss  Instances       Size\n"
     ]
    },
    {
     "name": "stderr",
     "output_type": "stream",
     "text": [
      "    141/400      12.5G     0.7982      1.292     0.4404     0.9094          3\n",
      "                 Class     Images  Instances      Box(P          R      mAP50"
     ]
    },
    {
     "name": "stdout",
     "output_type": "stream",
     "text": [
      "                   all        495        372      0.936      0.861       0.91      0.727      0.933      0.858      0.905      0.604\n"
     ]
    },
    {
     "name": "stderr",
     "output_type": "stream",
     "text": [
      "\n"
     ]
    },
    {
     "name": "stdout",
     "output_type": "stream",
     "text": [
      "\n",
      "      Epoch    GPU_mem   box_loss   seg_loss   cls_loss   dfl_loss  Instances       Size\n"
     ]
    },
    {
     "name": "stderr",
     "output_type": "stream",
     "text": [
      "    142/400      12.5G     0.7832      1.292     0.4312     0.9013          7\n",
      "                 Class     Images  Instances      Box(P          R      mAP50"
     ]
    },
    {
     "name": "stdout",
     "output_type": "stream",
     "text": [
      "                   all        495        372      0.936      0.858      0.911      0.728      0.933      0.855      0.906      0.607\n"
     ]
    },
    {
     "name": "stderr",
     "output_type": "stream",
     "text": [
      "\n"
     ]
    },
    {
     "name": "stdout",
     "output_type": "stream",
     "text": [
      "\n",
      "      Epoch    GPU_mem   box_loss   seg_loss   cls_loss   dfl_loss  Instances       Size\n"
     ]
    },
    {
     "name": "stderr",
     "output_type": "stream",
     "text": [
      "    143/400      12.5G     0.7758      1.277     0.4253     0.9048          3\n",
      "                 Class     Images  Instances      Box(P          R      mAP50"
     ]
    },
    {
     "name": "stdout",
     "output_type": "stream",
     "text": [
      "                   all        495        372      0.947      0.847      0.911       0.73      0.948      0.847      0.905      0.606\n"
     ]
    },
    {
     "name": "stderr",
     "output_type": "stream",
     "text": [
      "\n"
     ]
    },
    {
     "name": "stdout",
     "output_type": "stream",
     "text": [
      "\n",
      "      Epoch    GPU_mem   box_loss   seg_loss   cls_loss   dfl_loss  Instances       Size\n"
     ]
    },
    {
     "name": "stderr",
     "output_type": "stream",
     "text": [
      "    144/400      12.5G     0.7962      1.294     0.4295     0.9124          8\n",
      "                 Class     Images  Instances      Box(P          R      mAP50"
     ]
    },
    {
     "name": "stdout",
     "output_type": "stream",
     "text": [
      "                   all        495        372      0.949      0.849      0.913      0.729      0.948      0.847      0.906      0.604\n"
     ]
    },
    {
     "name": "stderr",
     "output_type": "stream",
     "text": [
      "\n"
     ]
    },
    {
     "name": "stdout",
     "output_type": "stream",
     "text": [
      "\n",
      "      Epoch    GPU_mem   box_loss   seg_loss   cls_loss   dfl_loss  Instances       Size\n"
     ]
    },
    {
     "name": "stderr",
     "output_type": "stream",
     "text": [
      "    145/400      12.5G     0.7835      1.292     0.4298     0.9078          5\n",
      "                 Class     Images  Instances      Box(P          R      mAP50"
     ]
    },
    {
     "name": "stdout",
     "output_type": "stream",
     "text": [
      "                   all        495        372      0.946      0.855      0.912       0.73      0.946      0.849      0.906      0.601\n"
     ]
    },
    {
     "name": "stderr",
     "output_type": "stream",
     "text": [
      "\n"
     ]
    },
    {
     "name": "stdout",
     "output_type": "stream",
     "text": [
      "\n",
      "      Epoch    GPU_mem   box_loss   seg_loss   cls_loss   dfl_loss  Instances       Size\n"
     ]
    },
    {
     "name": "stderr",
     "output_type": "stream",
     "text": [
      "    146/400      12.5G     0.7822      1.279     0.4285     0.8998          6\n",
      "                 Class     Images  Instances      Box(P          R      mAP50"
     ]
    },
    {
     "name": "stdout",
     "output_type": "stream",
     "text": [
      "                   all        495        372      0.945      0.855      0.913      0.728      0.942      0.852      0.907        0.6\n"
     ]
    },
    {
     "name": "stderr",
     "output_type": "stream",
     "text": [
      "\n"
     ]
    },
    {
     "name": "stdout",
     "output_type": "stream",
     "text": [
      "\n",
      "      Epoch    GPU_mem   box_loss   seg_loss   cls_loss   dfl_loss  Instances       Size\n"
     ]
    },
    {
     "name": "stderr",
     "output_type": "stream",
     "text": [
      "    147/400      12.5G     0.7899      1.296     0.4355     0.8996          7\n",
      "                 Class     Images  Instances      Box(P          R      mAP50"
     ]
    },
    {
     "name": "stdout",
     "output_type": "stream",
     "text": [
      "                   all        495        372      0.946      0.855      0.913       0.73      0.943      0.852      0.907        0.6\n"
     ]
    },
    {
     "name": "stderr",
     "output_type": "stream",
     "text": [
      "\n"
     ]
    },
    {
     "name": "stdout",
     "output_type": "stream",
     "text": [
      "\n",
      "      Epoch    GPU_mem   box_loss   seg_loss   cls_loss   dfl_loss  Instances       Size\n"
     ]
    },
    {
     "name": "stderr",
     "output_type": "stream",
     "text": [
      "    148/400      12.5G     0.7791      1.276     0.4232     0.9051         16\n",
      "                 Class     Images  Instances      Box(P          R      mAP50"
     ]
    },
    {
     "name": "stdout",
     "output_type": "stream",
     "text": [
      "                   all        495        372      0.946      0.854      0.913      0.728      0.943      0.849      0.906      0.602\n"
     ]
    },
    {
     "name": "stderr",
     "output_type": "stream",
     "text": [
      "\n"
     ]
    },
    {
     "name": "stdout",
     "output_type": "stream",
     "text": [
      "\n",
      "      Epoch    GPU_mem   box_loss   seg_loss   cls_loss   dfl_loss  Instances       Size\n"
     ]
    },
    {
     "name": "stderr",
     "output_type": "stream",
     "text": [
      "    149/400      12.5G     0.7638      1.268     0.4141     0.9055          5\n",
      "                 Class     Images  Instances      Box(P          R      mAP50"
     ]
    },
    {
     "name": "stdout",
     "output_type": "stream",
     "text": [
      "                   all        495        372      0.943      0.855      0.913      0.729      0.941      0.852      0.907      0.603\n"
     ]
    },
    {
     "name": "stderr",
     "output_type": "stream",
     "text": [
      "\n"
     ]
    },
    {
     "name": "stdout",
     "output_type": "stream",
     "text": [
      "\n",
      "      Epoch    GPU_mem   box_loss   seg_loss   cls_loss   dfl_loss  Instances       Size\n"
     ]
    },
    {
     "name": "stderr",
     "output_type": "stream",
     "text": [
      "    150/400      12.5G     0.7766      1.278     0.4334     0.9042          4\n",
      "                 Class     Images  Instances      Box(P          R      mAP50"
     ]
    },
    {
     "name": "stdout",
     "output_type": "stream",
     "text": [
      "                   all        495        372      0.942      0.855      0.913      0.729      0.939      0.852      0.907      0.602\n"
     ]
    },
    {
     "name": "stderr",
     "output_type": "stream",
     "text": [
      "\n"
     ]
    },
    {
     "name": "stdout",
     "output_type": "stream",
     "text": [
      "\n",
      "      Epoch    GPU_mem   box_loss   seg_loss   cls_loss   dfl_loss  Instances       Size\n"
     ]
    },
    {
     "name": "stderr",
     "output_type": "stream",
     "text": [
      "    151/400      12.5G     0.7681      1.264     0.4128     0.8978         14\n",
      "                 Class     Images  Instances      Box(P          R      mAP50"
     ]
    },
    {
     "name": "stdout",
     "output_type": "stream",
     "text": [
      "                   all        495        372      0.942      0.855      0.914      0.732      0.941      0.852      0.908      0.604\n"
     ]
    },
    {
     "name": "stderr",
     "output_type": "stream",
     "text": [
      "\n"
     ]
    },
    {
     "name": "stdout",
     "output_type": "stream",
     "text": [
      "\n",
      "      Epoch    GPU_mem   box_loss   seg_loss   cls_loss   dfl_loss  Instances       Size\n"
     ]
    },
    {
     "name": "stderr",
     "output_type": "stream",
     "text": [
      "    152/400      12.5G     0.7633      1.257     0.4161     0.8988          7\n",
      "                 Class     Images  Instances      Box(P          R      mAP50"
     ]
    },
    {
     "name": "stdout",
     "output_type": "stream",
     "text": [
      "                   all        495        372      0.946      0.849      0.914      0.733      0.946      0.847      0.908      0.602\n"
     ]
    },
    {
     "name": "stderr",
     "output_type": "stream",
     "text": [
      "\n"
     ]
    },
    {
     "name": "stdout",
     "output_type": "stream",
     "text": [
      "\n",
      "      Epoch    GPU_mem   box_loss   seg_loss   cls_loss   dfl_loss  Instances       Size\n"
     ]
    },
    {
     "name": "stderr",
     "output_type": "stream",
     "text": [
      "    153/400      12.5G     0.7797       1.28     0.4265     0.8998         14\n",
      "                 Class     Images  Instances      Box(P          R      mAP50"
     ]
    },
    {
     "name": "stdout",
     "output_type": "stream",
     "text": [
      "                   all        495        372      0.949      0.848      0.914      0.732      0.952      0.849      0.911      0.605\n"
     ]
    },
    {
     "name": "stderr",
     "output_type": "stream",
     "text": [
      "\n"
     ]
    },
    {
     "name": "stdout",
     "output_type": "stream",
     "text": [
      "\n",
      "      Epoch    GPU_mem   box_loss   seg_loss   cls_loss   dfl_loss  Instances       Size\n"
     ]
    },
    {
     "name": "stderr",
     "output_type": "stream",
     "text": [
      "    154/400      12.5G     0.7715      1.246     0.4189     0.8999          4\n",
      "                 Class     Images  Instances      Box(P          R      mAP50"
     ]
    },
    {
     "name": "stdout",
     "output_type": "stream",
     "text": [
      "                   all        495        372      0.946      0.847      0.913      0.734      0.953      0.847       0.91      0.606\n"
     ]
    },
    {
     "name": "stderr",
     "output_type": "stream",
     "text": [
      "\n"
     ]
    },
    {
     "name": "stdout",
     "output_type": "stream",
     "text": [
      "\n",
      "      Epoch    GPU_mem   box_loss   seg_loss   cls_loss   dfl_loss  Instances       Size\n"
     ]
    },
    {
     "name": "stderr",
     "output_type": "stream",
     "text": [
      "    155/400      12.5G     0.7628      1.258     0.4125     0.8947          7\n",
      "                 Class     Images  Instances      Box(P          R      mAP50"
     ]
    },
    {
     "name": "stdout",
     "output_type": "stream",
     "text": [
      "                   all        495        372      0.952      0.841      0.913      0.733      0.955      0.844       0.91      0.607\n"
     ]
    },
    {
     "name": "stderr",
     "output_type": "stream",
     "text": [
      "\n"
     ]
    },
    {
     "name": "stdout",
     "output_type": "stream",
     "text": [
      "\n",
      "      Epoch    GPU_mem   box_loss   seg_loss   cls_loss   dfl_loss  Instances       Size\n"
     ]
    },
    {
     "name": "stderr",
     "output_type": "stream",
     "text": [
      "    156/400      12.5G     0.7692      1.255     0.4082     0.8962          3\n",
      "                 Class     Images  Instances      Box(P          R      mAP50"
     ]
    },
    {
     "name": "stdout",
     "output_type": "stream",
     "text": [
      "                   all        495        372      0.954      0.843      0.913      0.734      0.954      0.843      0.906      0.607\n"
     ]
    },
    {
     "name": "stderr",
     "output_type": "stream",
     "text": [
      "\n"
     ]
    },
    {
     "name": "stdout",
     "output_type": "stream",
     "text": [
      "\n",
      "      Epoch    GPU_mem   box_loss   seg_loss   cls_loss   dfl_loss  Instances       Size\n"
     ]
    },
    {
     "name": "stderr",
     "output_type": "stream",
     "text": [
      "    157/400      12.5G     0.7652      1.262     0.4146     0.8936         13\n",
      "                 Class     Images  Instances      Box(P          R      mAP50"
     ]
    },
    {
     "name": "stdout",
     "output_type": "stream",
     "text": [
      "                   all        495        372      0.954      0.844      0.913      0.732      0.954      0.844      0.908      0.608\n"
     ]
    },
    {
     "name": "stderr",
     "output_type": "stream",
     "text": [
      "\n"
     ]
    },
    {
     "name": "stdout",
     "output_type": "stream",
     "text": [
      "\n",
      "      Epoch    GPU_mem   box_loss   seg_loss   cls_loss   dfl_loss  Instances       Size\n"
     ]
    },
    {
     "name": "stderr",
     "output_type": "stream",
     "text": [
      "    158/400      12.5G     0.7553      1.244     0.4125     0.8912         14\n",
      "                 Class     Images  Instances      Box(P          R      mAP50"
     ]
    },
    {
     "name": "stdout",
     "output_type": "stream",
     "text": [
      "                   all        495        372      0.954      0.843      0.913       0.73      0.954      0.843      0.907      0.606\n"
     ]
    },
    {
     "name": "stderr",
     "output_type": "stream",
     "text": [
      "\n"
     ]
    },
    {
     "name": "stdout",
     "output_type": "stream",
     "text": [
      "\n",
      "      Epoch    GPU_mem   box_loss   seg_loss   cls_loss   dfl_loss  Instances       Size\n"
     ]
    },
    {
     "name": "stderr",
     "output_type": "stream",
     "text": [
      "    159/400      12.5G     0.7607      1.238     0.4202     0.8934         12\n",
      "                 Class     Images  Instances      Box(P          R      mAP50"
     ]
    },
    {
     "name": "stdout",
     "output_type": "stream",
     "text": [
      "                   all        495        372      0.954      0.842      0.913      0.733      0.954      0.842      0.907      0.607\n"
     ]
    },
    {
     "name": "stderr",
     "output_type": "stream",
     "text": [
      "\n"
     ]
    },
    {
     "name": "stdout",
     "output_type": "stream",
     "text": [
      "\n",
      "      Epoch    GPU_mem   box_loss   seg_loss   cls_loss   dfl_loss  Instances       Size\n"
     ]
    },
    {
     "name": "stderr",
     "output_type": "stream",
     "text": [
      "    160/400      12.5G     0.7585      1.248     0.4223     0.8979         10\n",
      "                 Class     Images  Instances      Box(P          R      mAP50"
     ]
    },
    {
     "name": "stdout",
     "output_type": "stream",
     "text": [
      "                   all        495        372      0.933      0.858      0.913      0.733      0.951      0.839      0.907      0.608\n"
     ]
    },
    {
     "name": "stderr",
     "output_type": "stream",
     "text": [
      "\n"
     ]
    },
    {
     "name": "stdout",
     "output_type": "stream",
     "text": [
      "\n",
      "      Epoch    GPU_mem   box_loss   seg_loss   cls_loss   dfl_loss  Instances       Size\n"
     ]
    },
    {
     "name": "stderr",
     "output_type": "stream",
     "text": [
      "    161/400      12.5G     0.7473      1.241     0.4107     0.8947          1\n",
      "                 Class     Images  Instances      Box(P          R      mAP50"
     ]
    },
    {
     "name": "stdout",
     "output_type": "stream",
     "text": [
      "                   all        495        372      0.933      0.856      0.913      0.732      0.951       0.84      0.907      0.608\n"
     ]
    },
    {
     "name": "stderr",
     "output_type": "stream",
     "text": [
      "\n"
     ]
    },
    {
     "name": "stdout",
     "output_type": "stream",
     "text": [
      "\n",
      "      Epoch    GPU_mem   box_loss   seg_loss   cls_loss   dfl_loss  Instances       Size\n"
     ]
    },
    {
     "name": "stderr",
     "output_type": "stream",
     "text": [
      "    162/400      12.5G      0.746      1.233     0.4102     0.8908          9\n",
      "                 Class     Images  Instances      Box(P          R      mAP50"
     ]
    },
    {
     "name": "stdout",
     "output_type": "stream",
     "text": [
      "                   all        495        372      0.951      0.842      0.913      0.733      0.951      0.842      0.907      0.607\n"
     ]
    },
    {
     "name": "stderr",
     "output_type": "stream",
     "text": [
      "\n"
     ]
    },
    {
     "name": "stdout",
     "output_type": "stream",
     "text": [
      "\n",
      "      Epoch    GPU_mem   box_loss   seg_loss   cls_loss   dfl_loss  Instances       Size\n"
     ]
    },
    {
     "name": "stderr",
     "output_type": "stream",
     "text": [
      "    163/400      12.5G     0.7457      1.228     0.4055     0.8858          8\n",
      "                 Class     Images  Instances      Box(P          R      mAP50"
     ]
    },
    {
     "name": "stdout",
     "output_type": "stream",
     "text": [
      "                   all        495        372      0.953      0.841      0.913      0.731      0.953      0.841      0.906      0.609\n"
     ]
    },
    {
     "name": "stderr",
     "output_type": "stream",
     "text": [
      "\n"
     ]
    },
    {
     "name": "stdout",
     "output_type": "stream",
     "text": [
      "\n",
      "      Epoch    GPU_mem   box_loss   seg_loss   cls_loss   dfl_loss  Instances       Size\n"
     ]
    },
    {
     "name": "stderr",
     "output_type": "stream",
     "text": [
      "    164/400      12.5G     0.7468      1.241     0.4045     0.8932          4\n",
      "                 Class     Images  Instances      Box(P          R      mAP50"
     ]
    },
    {
     "name": "stdout",
     "output_type": "stream",
     "text": [
      "                   all        495        372      0.947      0.847      0.914      0.731      0.951      0.842      0.906      0.609\n"
     ]
    },
    {
     "name": "stderr",
     "output_type": "stream",
     "text": [
      "\n"
     ]
    },
    {
     "name": "stdout",
     "output_type": "stream",
     "text": [
      "\n",
      "      Epoch    GPU_mem   box_loss   seg_loss   cls_loss   dfl_loss  Instances       Size\n"
     ]
    },
    {
     "name": "stderr",
     "output_type": "stream",
     "text": [
      "    165/400      12.5G     0.7471      1.237     0.4082     0.8933          5\n",
      "                 Class     Images  Instances      Box(P          R      mAP50"
     ]
    },
    {
     "name": "stdout",
     "output_type": "stream",
     "text": [
      "                   all        495        372      0.949      0.849      0.914      0.731      0.952      0.841      0.906      0.608\n"
     ]
    },
    {
     "name": "stderr",
     "output_type": "stream",
     "text": [
      "\n"
     ]
    },
    {
     "name": "stdout",
     "output_type": "stream",
     "text": [
      "\n",
      "      Epoch    GPU_mem   box_loss   seg_loss   cls_loss   dfl_loss  Instances       Size\n"
     ]
    },
    {
     "name": "stderr",
     "output_type": "stream",
     "text": [
      "    166/400      12.5G     0.7454      1.223     0.4055     0.8901          6\n",
      "                 Class     Images  Instances      Box(P          R      mAP50"
     ]
    },
    {
     "name": "stdout",
     "output_type": "stream",
     "text": [
      "                   all        495        372       0.95      0.847      0.914      0.732      0.948      0.844      0.908       0.61\n"
     ]
    },
    {
     "name": "stderr",
     "output_type": "stream",
     "text": [
      "\n"
     ]
    },
    {
     "name": "stdout",
     "output_type": "stream",
     "text": [
      "\n",
      "      Epoch    GPU_mem   box_loss   seg_loss   cls_loss   dfl_loss  Instances       Size\n"
     ]
    },
    {
     "name": "stderr",
     "output_type": "stream",
     "text": [
      "    167/400      12.5G     0.7451      1.219     0.4051     0.8931          3\n",
      "                 Class     Images  Instances      Box(P          R      mAP50"
     ]
    },
    {
     "name": "stdout",
     "output_type": "stream",
     "text": [
      "                   all        495        372      0.947      0.847      0.914      0.732      0.952      0.846      0.911       0.61\n"
     ]
    },
    {
     "name": "stderr",
     "output_type": "stream",
     "text": [
      "\n"
     ]
    },
    {
     "name": "stdout",
     "output_type": "stream",
     "text": [
      "\n",
      "      Epoch    GPU_mem   box_loss   seg_loss   cls_loss   dfl_loss  Instances       Size\n"
     ]
    },
    {
     "name": "stderr",
     "output_type": "stream",
     "text": [
      "    168/400      12.5G      0.747      1.216     0.4075     0.8871          8\n",
      "                 Class     Images  Instances      Box(P          R      mAP50"
     ]
    },
    {
     "name": "stdout",
     "output_type": "stream",
     "text": [
      "                   all        495        372      0.941      0.852      0.914      0.731      0.949      0.844      0.911      0.609\n"
     ]
    },
    {
     "name": "stderr",
     "output_type": "stream",
     "text": [
      "\n"
     ]
    },
    {
     "name": "stdout",
     "output_type": "stream",
     "text": [
      "\n",
      "      Epoch    GPU_mem   box_loss   seg_loss   cls_loss   dfl_loss  Instances       Size\n"
     ]
    },
    {
     "name": "stderr",
     "output_type": "stream",
     "text": [
      "    169/400      12.5G     0.7291      1.206     0.3991     0.8856          7\n",
      "                 Class     Images  Instances      Box(P          R      mAP50"
     ]
    },
    {
     "name": "stdout",
     "output_type": "stream",
     "text": [
      "                   all        495        372      0.943      0.852      0.914      0.733      0.951      0.844      0.909       0.61\n"
     ]
    },
    {
     "name": "stderr",
     "output_type": "stream",
     "text": [
      "\n"
     ]
    },
    {
     "name": "stdout",
     "output_type": "stream",
     "text": [
      "\n",
      "      Epoch    GPU_mem   box_loss   seg_loss   cls_loss   dfl_loss  Instances       Size\n"
     ]
    },
    {
     "name": "stderr",
     "output_type": "stream",
     "text": [
      "    170/400      12.5G     0.7323      1.201     0.3966     0.8863          8\n",
      "                 Class     Images  Instances      Box(P          R      mAP50"
     ]
    },
    {
     "name": "stdout",
     "output_type": "stream",
     "text": [
      "                   all        495        372      0.941      0.849      0.915      0.733      0.946      0.847      0.909      0.609\n"
     ]
    },
    {
     "name": "stderr",
     "output_type": "stream",
     "text": [
      "\n"
     ]
    },
    {
     "name": "stdout",
     "output_type": "stream",
     "text": [
      "\n",
      "      Epoch    GPU_mem   box_loss   seg_loss   cls_loss   dfl_loss  Instances       Size\n"
     ]
    },
    {
     "name": "stderr",
     "output_type": "stream",
     "text": [
      "    171/400      12.5G     0.7293      1.198     0.4017     0.8831          3\n",
      "                 Class     Images  Instances      Box(P          R      mAP50"
     ]
    },
    {
     "name": "stdout",
     "output_type": "stream",
     "text": [
      "                   all        495        372      0.946      0.848      0.916      0.734      0.946      0.848      0.914       0.61\n"
     ]
    },
    {
     "name": "stderr",
     "output_type": "stream",
     "text": [
      "\n"
     ]
    },
    {
     "name": "stdout",
     "output_type": "stream",
     "text": [
      "\n",
      "      Epoch    GPU_mem   box_loss   seg_loss   cls_loss   dfl_loss  Instances       Size\n"
     ]
    },
    {
     "name": "stderr",
     "output_type": "stream",
     "text": [
      "    172/400      12.5G      0.733      1.206     0.3995     0.8887         10\n",
      "                 Class     Images  Instances      Box(P          R      mAP50"
     ]
    },
    {
     "name": "stdout",
     "output_type": "stream",
     "text": [
      "                   all        495        372      0.946       0.85      0.916      0.733      0.943      0.846      0.909      0.611\n"
     ]
    },
    {
     "name": "stderr",
     "output_type": "stream",
     "text": [
      "\n"
     ]
    },
    {
     "name": "stdout",
     "output_type": "stream",
     "text": [
      "\n",
      "      Epoch    GPU_mem   box_loss   seg_loss   cls_loss   dfl_loss  Instances       Size\n"
     ]
    },
    {
     "name": "stderr",
     "output_type": "stream",
     "text": [
      "    173/400      12.5G     0.7226      1.197      0.396     0.8832          8\n",
      "                 Class     Images  Instances      Box(P          R      mAP50"
     ]
    },
    {
     "name": "stdout",
     "output_type": "stream",
     "text": [
      "                   all        495        372      0.946      0.848      0.916      0.734      0.948      0.844       0.91      0.613\n"
     ]
    },
    {
     "name": "stderr",
     "output_type": "stream",
     "text": [
      "\n"
     ]
    },
    {
     "name": "stdout",
     "output_type": "stream",
     "text": [
      "\n",
      "      Epoch    GPU_mem   box_loss   seg_loss   cls_loss   dfl_loss  Instances       Size\n"
     ]
    },
    {
     "name": "stderr",
     "output_type": "stream",
     "text": [
      "    174/400      12.5G     0.7321      1.214     0.3927     0.8893          7\n",
      "                 Class     Images  Instances      Box(P          R      mAP50"
     ]
    },
    {
     "name": "stdout",
     "output_type": "stream",
     "text": [
      "                   all        495        372      0.946      0.848      0.916      0.736      0.957      0.844      0.913      0.612\n"
     ]
    },
    {
     "name": "stderr",
     "output_type": "stream",
     "text": [
      "\n"
     ]
    },
    {
     "name": "stdout",
     "output_type": "stream",
     "text": [
      "\n",
      "      Epoch    GPU_mem   box_loss   seg_loss   cls_loss   dfl_loss  Instances       Size\n"
     ]
    },
    {
     "name": "stderr",
     "output_type": "stream",
     "text": [
      "    175/400      12.5G     0.7326      1.208      0.395     0.8828         10\n",
      "                 Class     Images  Instances      Box(P          R      mAP50"
     ]
    },
    {
     "name": "stdout",
     "output_type": "stream",
     "text": [
      "                   all        495        372      0.951      0.847      0.918      0.736      0.957      0.843       0.91      0.612\n"
     ]
    },
    {
     "name": "stderr",
     "output_type": "stream",
     "text": [
      "\n"
     ]
    },
    {
     "name": "stdout",
     "output_type": "stream",
     "text": [
      "\n",
      "      Epoch    GPU_mem   box_loss   seg_loss   cls_loss   dfl_loss  Instances       Size\n"
     ]
    },
    {
     "name": "stderr",
     "output_type": "stream",
     "text": [
      "    176/400      12.5G     0.7237      1.183     0.3934     0.8855          8\n",
      "                 Class     Images  Instances      Box(P          R      mAP50"
     ]
    },
    {
     "name": "stdout",
     "output_type": "stream",
     "text": [
      "                   all        495        372      0.957      0.844      0.918      0.736       0.96      0.845      0.913      0.612\n"
     ]
    },
    {
     "name": "stderr",
     "output_type": "stream",
     "text": [
      "\n"
     ]
    },
    {
     "name": "stdout",
     "output_type": "stream",
     "text": [
      "\n",
      "      Epoch    GPU_mem   box_loss   seg_loss   cls_loss   dfl_loss  Instances       Size\n"
     ]
    },
    {
     "name": "stderr",
     "output_type": "stream",
     "text": [
      "    177/400      12.5G     0.7212      1.189     0.3913     0.8808          5\n",
      "                 Class     Images  Instances      Box(P          R      mAP50"
     ]
    },
    {
     "name": "stdout",
     "output_type": "stream",
     "text": [
      "                   all        495        372      0.957      0.843      0.918      0.735       0.96      0.844      0.914       0.61\n"
     ]
    },
    {
     "name": "stderr",
     "output_type": "stream",
     "text": [
      "\n"
     ]
    },
    {
     "name": "stdout",
     "output_type": "stream",
     "text": [
      "\n",
      "      Epoch    GPU_mem   box_loss   seg_loss   cls_loss   dfl_loss  Instances       Size\n"
     ]
    },
    {
     "name": "stderr",
     "output_type": "stream",
     "text": [
      "    178/400      12.5G     0.7217        1.2     0.3934      0.884         10\n",
      "                 Class     Images  Instances      Box(P          R      mAP50"
     ]
    },
    {
     "name": "stdout",
     "output_type": "stream",
     "text": [
      "                   all        495        372      0.956      0.841      0.918      0.735      0.961      0.844      0.915      0.611\n"
     ]
    },
    {
     "name": "stderr",
     "output_type": "stream",
     "text": [
      "\n"
     ]
    },
    {
     "name": "stdout",
     "output_type": "stream",
     "text": [
      "\n",
      "      Epoch    GPU_mem   box_loss   seg_loss   cls_loss   dfl_loss  Instances       Size\n"
     ]
    },
    {
     "name": "stderr",
     "output_type": "stream",
     "text": [
      "    179/400      12.5G     0.7152      1.187     0.3919      0.879          8\n",
      "                 Class     Images  Instances      Box(P          R      mAP50"
     ]
    },
    {
     "name": "stdout",
     "output_type": "stream",
     "text": [
      "                   all        495        372      0.957      0.841      0.918      0.736      0.961      0.844      0.912      0.611\n"
     ]
    },
    {
     "name": "stderr",
     "output_type": "stream",
     "text": [
      "\n"
     ]
    },
    {
     "name": "stdout",
     "output_type": "stream",
     "text": [
      "\n",
      "      Epoch    GPU_mem   box_loss   seg_loss   cls_loss   dfl_loss  Instances       Size\n"
     ]
    },
    {
     "name": "stderr",
     "output_type": "stream",
     "text": [
      "    180/400      12.5G      0.729      1.183     0.3997     0.8819          9\n",
      "                 Class     Images  Instances      Box(P          R      mAP50"
     ]
    },
    {
     "name": "stdout",
     "output_type": "stream",
     "text": [
      "                   all        495        372      0.958      0.841      0.918      0.735      0.962      0.844      0.914      0.612\n"
     ]
    },
    {
     "name": "stderr",
     "output_type": "stream",
     "text": [
      "\n"
     ]
    },
    {
     "name": "stdout",
     "output_type": "stream",
     "text": [
      "\n",
      "      Epoch    GPU_mem   box_loss   seg_loss   cls_loss   dfl_loss  Instances       Size\n"
     ]
    },
    {
     "name": "stderr",
     "output_type": "stream",
     "text": [
      "    181/400      12.5G     0.7212       1.18      0.389     0.8804          4\n",
      "                 Class     Images  Instances      Box(P          R      mAP50"
     ]
    },
    {
     "name": "stdout",
     "output_type": "stream",
     "text": [
      "                   all        495        372      0.958      0.841      0.918      0.736      0.963      0.844      0.915      0.613\n"
     ]
    },
    {
     "name": "stderr",
     "output_type": "stream",
     "text": [
      "\n"
     ]
    },
    {
     "name": "stdout",
     "output_type": "stream",
     "text": [
      "\n",
      "      Epoch    GPU_mem   box_loss   seg_loss   cls_loss   dfl_loss  Instances       Size\n"
     ]
    },
    {
     "name": "stderr",
     "output_type": "stream",
     "text": [
      "    182/400      12.5G     0.7092      1.182     0.3896     0.8807         11\n",
      "                 Class     Images  Instances      Box(P          R      mAP50"
     ]
    },
    {
     "name": "stdout",
     "output_type": "stream",
     "text": [
      "                   all        495        372      0.959      0.841      0.918      0.738      0.959      0.841      0.912      0.614\n"
     ]
    },
    {
     "name": "stderr",
     "output_type": "stream",
     "text": [
      "\n"
     ]
    },
    {
     "name": "stdout",
     "output_type": "stream",
     "text": [
      "\n",
      "      Epoch    GPU_mem   box_loss   seg_loss   cls_loss   dfl_loss  Instances       Size\n"
     ]
    },
    {
     "name": "stderr",
     "output_type": "stream",
     "text": [
      "    183/400      12.5G     0.7176      1.178     0.3895     0.8803          9\n",
      "                 Class     Images  Instances      Box(P          R      mAP50"
     ]
    },
    {
     "name": "stdout",
     "output_type": "stream",
     "text": [
      "                   all        495        372      0.959      0.841      0.919      0.737      0.963      0.844      0.913      0.615\n"
     ]
    },
    {
     "name": "stderr",
     "output_type": "stream",
     "text": [
      "\n"
     ]
    },
    {
     "name": "stdout",
     "output_type": "stream",
     "text": [
      "\n",
      "      Epoch    GPU_mem   box_loss   seg_loss   cls_loss   dfl_loss  Instances       Size\n"
     ]
    },
    {
     "name": "stderr",
     "output_type": "stream",
     "text": [
      "    184/400      12.5G     0.7126      1.174     0.3912     0.8803          9\n",
      "                 Class     Images  Instances      Box(P          R      mAP50"
     ]
    },
    {
     "name": "stdout",
     "output_type": "stream",
     "text": [
      "                   all        495        372       0.96      0.842      0.918      0.737      0.963      0.843      0.911      0.615\n"
     ]
    },
    {
     "name": "stderr",
     "output_type": "stream",
     "text": [
      "\n"
     ]
    },
    {
     "name": "stdout",
     "output_type": "stream",
     "text": [
      "\n",
      "      Epoch    GPU_mem   box_loss   seg_loss   cls_loss   dfl_loss  Instances       Size\n"
     ]
    },
    {
     "name": "stderr",
     "output_type": "stream",
     "text": [
      "    185/400      12.5G     0.7071      1.171     0.3841      0.876          8\n",
      "                 Class     Images  Instances      Box(P          R      mAP50"
     ]
    },
    {
     "name": "stdout",
     "output_type": "stream",
     "text": [
      "                   all        495        372       0.96      0.842      0.918      0.737      0.964      0.841      0.913      0.615\n"
     ]
    },
    {
     "name": "stderr",
     "output_type": "stream",
     "text": [
      "\n"
     ]
    },
    {
     "name": "stdout",
     "output_type": "stream",
     "text": [
      "\n",
      "      Epoch    GPU_mem   box_loss   seg_loss   cls_loss   dfl_loss  Instances       Size\n"
     ]
    },
    {
     "name": "stderr",
     "output_type": "stream",
     "text": [
      "    186/400      12.5G     0.6993       1.15     0.3827     0.8715          2\n",
      "                 Class     Images  Instances      Box(P          R      mAP50"
     ]
    },
    {
     "name": "stdout",
     "output_type": "stream",
     "text": [
      "                   all        495        372       0.96      0.842      0.918      0.739      0.963      0.839      0.909      0.615\n"
     ]
    },
    {
     "name": "stderr",
     "output_type": "stream",
     "text": [
      "\n"
     ]
    },
    {
     "name": "stdout",
     "output_type": "stream",
     "text": [
      "\n",
      "      Epoch    GPU_mem   box_loss   seg_loss   cls_loss   dfl_loss  Instances       Size\n"
     ]
    },
    {
     "name": "stderr",
     "output_type": "stream",
     "text": [
      "    187/400      12.5G     0.6985      1.161     0.3764     0.8784         11\n",
      "                 Class     Images  Instances      Box(P          R      mAP50"
     ]
    },
    {
     "name": "stdout",
     "output_type": "stream",
     "text": [
      "                   all        495        372      0.962      0.841      0.918      0.738      0.966      0.842      0.911      0.615\n"
     ]
    },
    {
     "name": "stderr",
     "output_type": "stream",
     "text": [
      "\n"
     ]
    },
    {
     "name": "stdout",
     "output_type": "stream",
     "text": [
      "\n",
      "      Epoch    GPU_mem   box_loss   seg_loss   cls_loss   dfl_loss  Instances       Size\n"
     ]
    },
    {
     "name": "stderr",
     "output_type": "stream",
     "text": [
      "    188/400      12.5G     0.7047      1.161     0.3815     0.8795          7\n",
      "                 Class     Images  Instances      Box(P          R      mAP50"
     ]
    },
    {
     "name": "stdout",
     "output_type": "stream",
     "text": [
      "                   all        495        372      0.962      0.841      0.918      0.739      0.966      0.842      0.911      0.616\n"
     ]
    },
    {
     "name": "stderr",
     "output_type": "stream",
     "text": [
      "\n"
     ]
    },
    {
     "name": "stdout",
     "output_type": "stream",
     "text": [
      "\n",
      "      Epoch    GPU_mem   box_loss   seg_loss   cls_loss   dfl_loss  Instances       Size\n"
     ]
    },
    {
     "name": "stderr",
     "output_type": "stream",
     "text": [
      "    189/400      12.5G     0.6997      1.163     0.3811     0.8783          3\n",
      "                 Class     Images  Instances      Box(P          R      mAP50"
     ]
    },
    {
     "name": "stdout",
     "output_type": "stream",
     "text": [
      "                   all        495        372      0.962      0.841      0.918      0.738      0.966      0.843      0.911      0.617\n"
     ]
    },
    {
     "name": "stderr",
     "output_type": "stream",
     "text": [
      "\n"
     ]
    },
    {
     "name": "stdout",
     "output_type": "stream",
     "text": [
      "\n",
      "      Epoch    GPU_mem   box_loss   seg_loss   cls_loss   dfl_loss  Instances       Size\n"
     ]
    },
    {
     "name": "stderr",
     "output_type": "stream",
     "text": [
      "    190/400      12.5G     0.7023      1.157     0.3859     0.8753          6\n",
      "                 Class     Images  Instances      Box(P          R      mAP50"
     ]
    },
    {
     "name": "stdout",
     "output_type": "stream",
     "text": [
      "                   all        495        372      0.963      0.842      0.919      0.738      0.966      0.842      0.912      0.618\n"
     ]
    },
    {
     "name": "stderr",
     "output_type": "stream",
     "text": [
      "\n"
     ]
    },
    {
     "name": "stdout",
     "output_type": "stream",
     "text": [
      "\n",
      "      Epoch    GPU_mem   box_loss   seg_loss   cls_loss   dfl_loss  Instances       Size\n"
     ]
    },
    {
     "name": "stderr",
     "output_type": "stream",
     "text": [
      "    191/400      12.5G     0.7059      1.159      0.385     0.8749          6\n",
      "                 Class     Images  Instances      Box(P          R      mAP50"
     ]
    },
    {
     "name": "stdout",
     "output_type": "stream",
     "text": [
      "                   all        495        372      0.963       0.84      0.919      0.738      0.966       0.84      0.914      0.619\n"
     ]
    },
    {
     "name": "stderr",
     "output_type": "stream",
     "text": [
      "\n"
     ]
    },
    {
     "name": "stdout",
     "output_type": "stream",
     "text": [
      "\n",
      "      Epoch    GPU_mem   box_loss   seg_loss   cls_loss   dfl_loss  Instances       Size\n"
     ]
    },
    {
     "name": "stderr",
     "output_type": "stream",
     "text": [
      "    192/400      12.5G     0.7023      1.145     0.3819     0.8806          6\n",
      "                 Class     Images  Instances      Box(P          R      mAP50"
     ]
    },
    {
     "name": "stdout",
     "output_type": "stream",
     "text": [
      "                   all        495        372      0.963      0.839      0.919      0.739      0.967      0.839      0.912       0.62\n"
     ]
    },
    {
     "name": "stderr",
     "output_type": "stream",
     "text": [
      "\n"
     ]
    },
    {
     "name": "stdout",
     "output_type": "stream",
     "text": [
      "\n",
      "      Epoch    GPU_mem   box_loss   seg_loss   cls_loss   dfl_loss  Instances       Size\n"
     ]
    },
    {
     "name": "stderr",
     "output_type": "stream",
     "text": [
      "    193/400      12.5G      0.704      1.149     0.3807     0.8797          9\n",
      "                 Class     Images  Instances      Box(P          R      mAP50"
     ]
    },
    {
     "name": "stdout",
     "output_type": "stream",
     "text": [
      "                   all        495        372      0.955      0.847      0.919       0.74      0.966      0.839      0.912       0.62\n"
     ]
    },
    {
     "name": "stderr",
     "output_type": "stream",
     "text": [
      "\n"
     ]
    },
    {
     "name": "stdout",
     "output_type": "stream",
     "text": [
      "\n",
      "      Epoch    GPU_mem   box_loss   seg_loss   cls_loss   dfl_loss  Instances       Size\n"
     ]
    },
    {
     "name": "stderr",
     "output_type": "stream",
     "text": [
      "    194/400      12.5G     0.6944       1.15     0.3811     0.8736          8\n",
      "                 Class     Images  Instances      Box(P          R      mAP50"
     ]
    },
    {
     "name": "stdout",
     "output_type": "stream",
     "text": [
      "                   all        495        372      0.956      0.847      0.919       0.74      0.963      0.836       0.91       0.62\n"
     ]
    },
    {
     "name": "stderr",
     "output_type": "stream",
     "text": [
      "\n"
     ]
    },
    {
     "name": "stdout",
     "output_type": "stream",
     "text": [
      "\n",
      "      Epoch    GPU_mem   box_loss   seg_loss   cls_loss   dfl_loss  Instances       Size\n"
     ]
    },
    {
     "name": "stderr",
     "output_type": "stream",
     "text": [
      "    195/400      12.5G     0.7043      1.148     0.3777     0.8734          7\n",
      "                 Class     Images  Instances      Box(P          R      mAP50"
     ]
    },
    {
     "name": "stdout",
     "output_type": "stream",
     "text": [
      "                   all        495        372      0.956      0.847      0.919       0.74      0.963      0.836       0.91       0.62\n"
     ]
    },
    {
     "name": "stderr",
     "output_type": "stream",
     "text": [
      "\n"
     ]
    },
    {
     "name": "stdout",
     "output_type": "stream",
     "text": [
      "\n",
      "      Epoch    GPU_mem   box_loss   seg_loss   cls_loss   dfl_loss  Instances       Size\n"
     ]
    },
    {
     "name": "stderr",
     "output_type": "stream",
     "text": [
      "    196/400      12.5G     0.6952       1.15     0.3775     0.8687          4\n",
      "                 Class     Images  Instances      Box(P          R      mAP50"
     ]
    },
    {
     "name": "stdout",
     "output_type": "stream",
     "text": [
      "                   all        495        372      0.955      0.847      0.919       0.74      0.963      0.836       0.91       0.62\n"
     ]
    },
    {
     "name": "stderr",
     "output_type": "stream",
     "text": [
      "\n"
     ]
    },
    {
     "name": "stdout",
     "output_type": "stream",
     "text": [
      "\n",
      "      Epoch    GPU_mem   box_loss   seg_loss   cls_loss   dfl_loss  Instances       Size\n"
     ]
    },
    {
     "name": "stderr",
     "output_type": "stream",
     "text": [
      "    197/400      12.5G     0.6954      1.144     0.3778     0.8734          6\n",
      "                 Class     Images  Instances      Box(P          R      mAP50"
     ]
    },
    {
     "name": "stdout",
     "output_type": "stream",
     "text": [
      "                   all        495        372      0.955      0.847      0.919      0.741      0.966      0.836       0.91      0.619\n"
     ]
    },
    {
     "name": "stderr",
     "output_type": "stream",
     "text": [
      "\n"
     ]
    },
    {
     "name": "stdout",
     "output_type": "stream",
     "text": [
      "\n",
      "      Epoch    GPU_mem   box_loss   seg_loss   cls_loss   dfl_loss  Instances       Size\n"
     ]
    },
    {
     "name": "stderr",
     "output_type": "stream",
     "text": [
      "    198/400      12.5G      0.677      1.125     0.3638     0.8706          4\n",
      "                 Class     Images  Instances      Box(P          R      mAP50"
     ]
    },
    {
     "name": "stdout",
     "output_type": "stream",
     "text": [
      "                   all        495        372      0.954      0.845       0.92      0.742      0.966      0.836      0.911      0.619\n"
     ]
    },
    {
     "name": "stderr",
     "output_type": "stream",
     "text": [
      "\n"
     ]
    },
    {
     "name": "stdout",
     "output_type": "stream",
     "text": [
      "\n",
      "      Epoch    GPU_mem   box_loss   seg_loss   cls_loss   dfl_loss  Instances       Size\n"
     ]
    },
    {
     "name": "stderr",
     "output_type": "stream",
     "text": [
      "    199/400      12.5G     0.6848      1.142     0.3761     0.8669          9\n",
      "                 Class     Images  Instances      Box(P          R      mAP50"
     ]
    },
    {
     "name": "stdout",
     "output_type": "stream",
     "text": [
      "                   all        495        372      0.954      0.844       0.92      0.741      0.966      0.836      0.911      0.619\n"
     ]
    },
    {
     "name": "stderr",
     "output_type": "stream",
     "text": [
      "\n"
     ]
    },
    {
     "name": "stdout",
     "output_type": "stream",
     "text": [
      "\n",
      "      Epoch    GPU_mem   box_loss   seg_loss   cls_loss   dfl_loss  Instances       Size\n"
     ]
    },
    {
     "name": "stderr",
     "output_type": "stream",
     "text": [
      "    200/400      12.5G     0.6836      1.126     0.3649     0.8707         10\n",
      "                 Class     Images  Instances      Box(P          R      mAP50"
     ]
    },
    {
     "name": "stdout",
     "output_type": "stream",
     "text": [
      "                   all        495        372      0.957      0.844      0.919      0.741      0.966      0.836       0.91      0.619\n"
     ]
    },
    {
     "name": "stderr",
     "output_type": "stream",
     "text": [
      "\n"
     ]
    },
    {
     "name": "stdout",
     "output_type": "stream",
     "text": [
      "\n",
      "      Epoch    GPU_mem   box_loss   seg_loss   cls_loss   dfl_loss  Instances       Size\n"
     ]
    },
    {
     "name": "stderr",
     "output_type": "stream",
     "text": [
      "    201/400      12.5G     0.6792      1.126     0.3655      0.872          8\n",
      "                 Class     Images  Instances      Box(P          R      mAP50"
     ]
    },
    {
     "name": "stdout",
     "output_type": "stream",
     "text": [
      "                   all        495        372       0.96      0.844      0.919      0.741      0.966      0.836      0.911      0.621\n"
     ]
    },
    {
     "name": "stderr",
     "output_type": "stream",
     "text": [
      "\n"
     ]
    },
    {
     "name": "stdout",
     "output_type": "stream",
     "text": [
      "\n",
      "      Epoch    GPU_mem   box_loss   seg_loss   cls_loss   dfl_loss  Instances       Size\n"
     ]
    },
    {
     "name": "stderr",
     "output_type": "stream",
     "text": [
      "    202/400      12.5G     0.6828      1.129     0.3702     0.8706          5\n",
      "                 Class     Images  Instances      Box(P          R      mAP50"
     ]
    },
    {
     "name": "stdout",
     "output_type": "stream",
     "text": [
      "                   all        495        372      0.966      0.843      0.919      0.742      0.966      0.839      0.911      0.622\n"
     ]
    },
    {
     "name": "stderr",
     "output_type": "stream",
     "text": [
      "\n"
     ]
    },
    {
     "name": "stdout",
     "output_type": "stream",
     "text": [
      "\n",
      "      Epoch    GPU_mem   box_loss   seg_loss   cls_loss   dfl_loss  Instances       Size\n"
     ]
    },
    {
     "name": "stderr",
     "output_type": "stream",
     "text": [
      "    203/400      12.5G     0.6911      1.145     0.3759     0.8728          6\n",
      "                 Class     Images  Instances      Box(P          R      mAP50"
     ]
    },
    {
     "name": "stdout",
     "output_type": "stream",
     "text": [
      "                   all        495        372      0.965      0.844       0.92      0.742      0.966       0.84      0.912      0.619\n"
     ]
    },
    {
     "name": "stderr",
     "output_type": "stream",
     "text": [
      "\n"
     ]
    },
    {
     "name": "stdout",
     "output_type": "stream",
     "text": [
      "\n",
      "      Epoch    GPU_mem   box_loss   seg_loss   cls_loss   dfl_loss  Instances       Size\n"
     ]
    },
    {
     "name": "stderr",
     "output_type": "stream",
     "text": [
      "    204/400      12.5G     0.6812      1.135     0.3689     0.8695          6\n",
      "                 Class     Images  Instances      Box(P          R      mAP50"
     ]
    },
    {
     "name": "stdout",
     "output_type": "stream",
     "text": [
      "                   all        495        372      0.966      0.844       0.92      0.742      0.966      0.841      0.912       0.62\n"
     ]
    },
    {
     "name": "stderr",
     "output_type": "stream",
     "text": [
      "\n"
     ]
    },
    {
     "name": "stdout",
     "output_type": "stream",
     "text": [
      "\n",
      "      Epoch    GPU_mem   box_loss   seg_loss   cls_loss   dfl_loss  Instances       Size\n"
     ]
    },
    {
     "name": "stderr",
     "output_type": "stream",
     "text": [
      "    205/400      12.5G     0.6741      1.127     0.3663     0.8707         10\n",
      "                 Class     Images  Instances      Box(P          R      mAP50"
     ]
    },
    {
     "name": "stdout",
     "output_type": "stream",
     "text": [
      "                   all        495        372      0.965      0.844       0.92      0.741      0.965      0.841      0.912       0.62\n"
     ]
    },
    {
     "name": "stderr",
     "output_type": "stream",
     "text": [
      "\n"
     ]
    },
    {
     "name": "stdout",
     "output_type": "stream",
     "text": [
      "\n",
      "      Epoch    GPU_mem   box_loss   seg_loss   cls_loss   dfl_loss  Instances       Size\n"
     ]
    },
    {
     "name": "stderr",
     "output_type": "stream",
     "text": [
      "    206/400      12.5G     0.6748      1.123     0.3713     0.8703          5\n",
      "                 Class     Images  Instances      Box(P          R      mAP50"
     ]
    },
    {
     "name": "stdout",
     "output_type": "stream",
     "text": [
      "                   all        495        372      0.965      0.844       0.92      0.742      0.966      0.844      0.914      0.621\n"
     ]
    },
    {
     "name": "stderr",
     "output_type": "stream",
     "text": [
      "\n"
     ]
    },
    {
     "name": "stdout",
     "output_type": "stream",
     "text": [
      "\n",
      "      Epoch    GPU_mem   box_loss   seg_loss   cls_loss   dfl_loss  Instances       Size\n"
     ]
    },
    {
     "name": "stderr",
     "output_type": "stream",
     "text": [
      "    207/400      12.5G     0.6755      1.107     0.3633      0.869          5\n",
      "                 Class     Images  Instances      Box(P          R      mAP50"
     ]
    },
    {
     "name": "stdout",
     "output_type": "stream",
     "text": [
      "                   all        495        372      0.965      0.844       0.92      0.742      0.963      0.841      0.912      0.621\n"
     ]
    },
    {
     "name": "stderr",
     "output_type": "stream",
     "text": [
      "\n"
     ]
    },
    {
     "name": "stdout",
     "output_type": "stream",
     "text": [
      "\n",
      "      Epoch    GPU_mem   box_loss   seg_loss   cls_loss   dfl_loss  Instances       Size\n"
     ]
    },
    {
     "name": "stderr",
     "output_type": "stream",
     "text": [
      "    208/400      12.5G     0.6699       1.11     0.3645      0.869          5\n",
      "                 Class     Images  Instances      Box(P          R      mAP50"
     ]
    },
    {
     "name": "stdout",
     "output_type": "stream",
     "text": [
      "                   all        495        372      0.966      0.844       0.92      0.742      0.966      0.839      0.914      0.622\n"
     ]
    },
    {
     "name": "stderr",
     "output_type": "stream",
     "text": [
      "\n"
     ]
    },
    {
     "name": "stdout",
     "output_type": "stream",
     "text": [
      "\n",
      "      Epoch    GPU_mem   box_loss   seg_loss   cls_loss   dfl_loss  Instances       Size\n"
     ]
    },
    {
     "name": "stderr",
     "output_type": "stream",
     "text": [
      "    209/400      12.5G     0.6743      1.123     0.3691     0.8671          8\n",
      "                 Class     Images  Instances      Box(P          R      mAP50"
     ]
    },
    {
     "name": "stdout",
     "output_type": "stream",
     "text": [
      "                   all        495        372      0.966      0.844       0.92      0.742      0.969      0.841      0.914      0.622\n"
     ]
    },
    {
     "name": "stderr",
     "output_type": "stream",
     "text": [
      "\n"
     ]
    },
    {
     "name": "stdout",
     "output_type": "stream",
     "text": [
      "\n",
      "      Epoch    GPU_mem   box_loss   seg_loss   cls_loss   dfl_loss  Instances       Size\n"
     ]
    },
    {
     "name": "stderr",
     "output_type": "stream",
     "text": [
      "    210/400      12.5G     0.6701      1.108     0.3641     0.8701          5\n",
      "                 Class     Images  Instances      Box(P          R      mAP50"
     ]
    },
    {
     "name": "stdout",
     "output_type": "stream",
     "text": [
      "                   all        495        372      0.966      0.844       0.92      0.742      0.969      0.841      0.914      0.621\n"
     ]
    },
    {
     "name": "stderr",
     "output_type": "stream",
     "text": [
      "\n"
     ]
    },
    {
     "name": "stdout",
     "output_type": "stream",
     "text": [
      "\n",
      "      Epoch    GPU_mem   box_loss   seg_loss   cls_loss   dfl_loss  Instances       Size\n"
     ]
    },
    {
     "name": "stderr",
     "output_type": "stream",
     "text": [
      "    211/400      12.5G     0.6699      1.105     0.3641     0.8687         11\n",
      "                 Class     Images  Instances      Box(P          R      mAP50"
     ]
    },
    {
     "name": "stdout",
     "output_type": "stream",
     "text": [
      "                   all        495        372      0.966      0.844       0.92      0.743      0.969      0.841      0.914      0.621\n"
     ]
    },
    {
     "name": "stderr",
     "output_type": "stream",
     "text": [
      "\n"
     ]
    },
    {
     "name": "stdout",
     "output_type": "stream",
     "text": [
      "\n",
      "      Epoch    GPU_mem   box_loss   seg_loss   cls_loss   dfl_loss  Instances       Size\n"
     ]
    },
    {
     "name": "stderr",
     "output_type": "stream",
     "text": [
      "    212/400      12.5G     0.6614      1.111     0.3621     0.8705          9\n",
      "                 Class     Images  Instances      Box(P          R      mAP50"
     ]
    },
    {
     "name": "stdout",
     "output_type": "stream",
     "text": [
      "                   all        495        372      0.965      0.844       0.92      0.743      0.968      0.841      0.914      0.622\n"
     ]
    },
    {
     "name": "stderr",
     "output_type": "stream",
     "text": [
      "\n"
     ]
    },
    {
     "name": "stdout",
     "output_type": "stream",
     "text": [
      "\n",
      "      Epoch    GPU_mem   box_loss   seg_loss   cls_loss   dfl_loss  Instances       Size\n"
     ]
    },
    {
     "name": "stderr",
     "output_type": "stream",
     "text": [
      "    213/400      12.5G     0.6647      1.103     0.3637     0.8594          2\n",
      "                 Class     Images  Instances      Box(P          R      mAP50"
     ]
    },
    {
     "name": "stdout",
     "output_type": "stream",
     "text": [
      "                   all        495        372      0.965      0.844       0.92      0.743      0.966      0.839      0.911      0.622\n"
     ]
    },
    {
     "name": "stderr",
     "output_type": "stream",
     "text": [
      "\n"
     ]
    },
    {
     "name": "stdout",
     "output_type": "stream",
     "text": [
      "\n",
      "      Epoch    GPU_mem   box_loss   seg_loss   cls_loss   dfl_loss  Instances       Size\n"
     ]
    },
    {
     "name": "stderr",
     "output_type": "stream",
     "text": [
      "    214/400      12.5G     0.6579      1.106     0.3564     0.8645          5\n",
      "                 Class     Images  Instances      Box(P          R      mAP50"
     ]
    },
    {
     "name": "stdout",
     "output_type": "stream",
     "text": [
      "                   all        495        372      0.965      0.844       0.92      0.743      0.965      0.839      0.911      0.622\n"
     ]
    },
    {
     "name": "stderr",
     "output_type": "stream",
     "text": [
      "\n"
     ]
    },
    {
     "name": "stdout",
     "output_type": "stream",
     "text": [
      "\n",
      "      Epoch    GPU_mem   box_loss   seg_loss   cls_loss   dfl_loss  Instances       Size\n"
     ]
    },
    {
     "name": "stderr",
     "output_type": "stream",
     "text": [
      "    215/400      12.5G     0.6534      1.089     0.3581     0.8605          1\n",
      "                 Class     Images  Instances      Box(P          R      mAP50"
     ]
    },
    {
     "name": "stdout",
     "output_type": "stream",
     "text": [
      "                   all        495        372      0.965      0.844       0.92      0.745      0.966      0.839      0.911      0.623\n"
     ]
    },
    {
     "name": "stderr",
     "output_type": "stream",
     "text": [
      "\n"
     ]
    },
    {
     "name": "stdout",
     "output_type": "stream",
     "text": [
      "\n",
      "      Epoch    GPU_mem   box_loss   seg_loss   cls_loss   dfl_loss  Instances       Size\n"
     ]
    },
    {
     "name": "stderr",
     "output_type": "stream",
     "text": [
      "    216/400      12.5G     0.6642      1.105     0.3641      0.866          9\n",
      "                 Class     Images  Instances      Box(P          R      mAP50"
     ]
    },
    {
     "name": "stdout",
     "output_type": "stream",
     "text": [
      "                   all        495        372      0.965      0.844       0.92      0.744      0.965      0.839      0.911      0.623\n"
     ]
    },
    {
     "name": "stderr",
     "output_type": "stream",
     "text": [
      "\n"
     ]
    },
    {
     "name": "stdout",
     "output_type": "stream",
     "text": [
      "\n",
      "      Epoch    GPU_mem   box_loss   seg_loss   cls_loss   dfl_loss  Instances       Size\n"
     ]
    },
    {
     "name": "stderr",
     "output_type": "stream",
     "text": [
      "    217/400      12.5G     0.6547      1.098     0.3547       0.87          6\n",
      "                 Class     Images  Instances      Box(P          R      mAP50"
     ]
    },
    {
     "name": "stdout",
     "output_type": "stream",
     "text": [
      "                   all        495        372      0.965      0.844       0.92      0.744      0.966      0.838      0.912      0.625\n"
     ]
    },
    {
     "name": "stderr",
     "output_type": "stream",
     "text": [
      "\n"
     ]
    },
    {
     "name": "stdout",
     "output_type": "stream",
     "text": [
      "\n",
      "      Epoch    GPU_mem   box_loss   seg_loss   cls_loss   dfl_loss  Instances       Size\n"
     ]
    },
    {
     "name": "stderr",
     "output_type": "stream",
     "text": [
      "    218/400      12.5G     0.6593      1.106     0.3608     0.8662          6\n",
      "                 Class     Images  Instances      Box(P          R      mAP50"
     ]
    },
    {
     "name": "stdout",
     "output_type": "stream",
     "text": [
      "                   all        495        372      0.964      0.844       0.92      0.744      0.966      0.839      0.911      0.623\n"
     ]
    },
    {
     "name": "stderr",
     "output_type": "stream",
     "text": [
      "\n"
     ]
    },
    {
     "name": "stdout",
     "output_type": "stream",
     "text": [
      "\n",
      "      Epoch    GPU_mem   box_loss   seg_loss   cls_loss   dfl_loss  Instances       Size\n"
     ]
    },
    {
     "name": "stderr",
     "output_type": "stream",
     "text": [
      "    219/400      12.5G     0.6496      1.069     0.3488     0.8592          7\n",
      "                 Class     Images  Instances      Box(P          R      mAP50"
     ]
    },
    {
     "name": "stdout",
     "output_type": "stream",
     "text": [
      "                   all        495        372      0.964      0.844       0.92      0.744      0.969      0.841      0.914      0.624\n"
     ]
    },
    {
     "name": "stderr",
     "output_type": "stream",
     "text": [
      "\n"
     ]
    },
    {
     "name": "stdout",
     "output_type": "stream",
     "text": [
      "\n",
      "      Epoch    GPU_mem   box_loss   seg_loss   cls_loss   dfl_loss  Instances       Size\n"
     ]
    },
    {
     "name": "stderr",
     "output_type": "stream",
     "text": [
      "    220/400      12.5G     0.6502      1.082     0.3555     0.8624          3\n",
      "                 Class     Images  Instances      Box(P          R      mAP50"
     ]
    },
    {
     "name": "stdout",
     "output_type": "stream",
     "text": [
      "                   all        495        372      0.964      0.844       0.92      0.745      0.969      0.841      0.914      0.625\n"
     ]
    },
    {
     "name": "stderr",
     "output_type": "stream",
     "text": [
      "\n"
     ]
    },
    {
     "name": "stdout",
     "output_type": "stream",
     "text": [
      "\n",
      "      Epoch    GPU_mem   box_loss   seg_loss   cls_loss   dfl_loss  Instances       Size\n"
     ]
    },
    {
     "name": "stderr",
     "output_type": "stream",
     "text": [
      "    221/400      12.5G     0.6473      1.084     0.3527     0.8601          5\n",
      "                 Class     Images  Instances      Box(P          R      mAP50"
     ]
    },
    {
     "name": "stdout",
     "output_type": "stream",
     "text": [
      "                   all        495        372      0.964      0.844       0.92      0.745      0.964      0.844      0.914      0.624\n"
     ]
    },
    {
     "name": "stderr",
     "output_type": "stream",
     "text": [
      "\n"
     ]
    },
    {
     "name": "stdout",
     "output_type": "stream",
     "text": [
      "\n",
      "      Epoch    GPU_mem   box_loss   seg_loss   cls_loss   dfl_loss  Instances       Size\n"
     ]
    },
    {
     "name": "stderr",
     "output_type": "stream",
     "text": [
      "    222/400      12.5G     0.6514      1.082     0.3497     0.8591          6\n",
      "                 Class     Images  Instances      Box(P          R      mAP50"
     ]
    },
    {
     "name": "stdout",
     "output_type": "stream",
     "text": [
      "                   all        495        372      0.964      0.844       0.92      0.744      0.969      0.841      0.914      0.625\n"
     ]
    },
    {
     "name": "stderr",
     "output_type": "stream",
     "text": [
      "\n"
     ]
    },
    {
     "name": "stdout",
     "output_type": "stream",
     "text": [
      "\n",
      "      Epoch    GPU_mem   box_loss   seg_loss   cls_loss   dfl_loss  Instances       Size\n"
     ]
    },
    {
     "name": "stderr",
     "output_type": "stream",
     "text": [
      "    223/400      12.5G     0.6453      1.078     0.3475      0.862          2\n",
      "                 Class     Images  Instances      Box(P          R      mAP50"
     ]
    },
    {
     "name": "stdout",
     "output_type": "stream",
     "text": [
      "                   all        495        372      0.964      0.844      0.919      0.741      0.969      0.841      0.914      0.624\n"
     ]
    },
    {
     "name": "stderr",
     "output_type": "stream",
     "text": [
      "\n"
     ]
    },
    {
     "name": "stdout",
     "output_type": "stream",
     "text": [
      "\n",
      "      Epoch    GPU_mem   box_loss   seg_loss   cls_loss   dfl_loss  Instances       Size\n"
     ]
    },
    {
     "name": "stderr",
     "output_type": "stream",
     "text": [
      "    224/400      12.5G     0.6374      1.069     0.3532     0.8557          4\n",
      "                 Class     Images  Instances      Box(P          R      mAP50"
     ]
    },
    {
     "name": "stdout",
     "output_type": "stream",
     "text": [
      "                   all        495        372      0.963      0.844      0.919      0.743       0.97      0.841      0.914      0.623\n"
     ]
    },
    {
     "name": "stderr",
     "output_type": "stream",
     "text": [
      "\n"
     ]
    },
    {
     "name": "stdout",
     "output_type": "stream",
     "text": [
      "\n",
      "      Epoch    GPU_mem   box_loss   seg_loss   cls_loss   dfl_loss  Instances       Size\n"
     ]
    },
    {
     "name": "stderr",
     "output_type": "stream",
     "text": [
      "    225/400      12.5G     0.6381      1.072     0.3493     0.8618          5\n",
      "                 Class     Images  Instances      Box(P          R      mAP50"
     ]
    },
    {
     "name": "stdout",
     "output_type": "stream",
     "text": [
      "                   all        495        372      0.964      0.844      0.919      0.743      0.969      0.841      0.912      0.625\n"
     ]
    },
    {
     "name": "stderr",
     "output_type": "stream",
     "text": [
      "\n"
     ]
    },
    {
     "name": "stdout",
     "output_type": "stream",
     "text": [
      "\n",
      "      Epoch    GPU_mem   box_loss   seg_loss   cls_loss   dfl_loss  Instances       Size\n"
     ]
    },
    {
     "name": "stderr",
     "output_type": "stream",
     "text": [
      "    226/400      12.5G     0.6451      1.081     0.3508     0.8562          6\n",
      "                 Class     Images  Instances      Box(P          R      mAP50"
     ]
    },
    {
     "name": "stdout",
     "output_type": "stream",
     "text": [
      "                   all        495        372      0.964      0.844      0.919      0.744      0.969      0.841      0.913      0.625\n"
     ]
    },
    {
     "name": "stderr",
     "output_type": "stream",
     "text": [
      "\n"
     ]
    },
    {
     "name": "stdout",
     "output_type": "stream",
     "text": [
      "\n",
      "      Epoch    GPU_mem   box_loss   seg_loss   cls_loss   dfl_loss  Instances       Size\n"
     ]
    },
    {
     "name": "stderr",
     "output_type": "stream",
     "text": [
      "    227/400      12.5G     0.6376      1.069     0.3465     0.8574          6\n",
      "                 Class     Images  Instances      Box(P          R      mAP50"
     ]
    },
    {
     "name": "stdout",
     "output_type": "stream",
     "text": [
      "                   all        495        372      0.964      0.844      0.919      0.743      0.969      0.842      0.913      0.626\n"
     ]
    },
    {
     "name": "stderr",
     "output_type": "stream",
     "text": [
      "\n"
     ]
    },
    {
     "name": "stdout",
     "output_type": "stream",
     "text": [
      "\n",
      "      Epoch    GPU_mem   box_loss   seg_loss   cls_loss   dfl_loss  Instances       Size\n"
     ]
    },
    {
     "name": "stderr",
     "output_type": "stream",
     "text": [
      "    228/400      12.5G     0.6464      1.064     0.3522     0.8607          9\n",
      "                 Class     Images  Instances      Box(P          R      mAP50"
     ]
    },
    {
     "name": "stdout",
     "output_type": "stream",
     "text": [
      "                   all        495        372      0.964      0.844      0.919      0.742      0.969      0.842      0.913      0.625\n"
     ]
    },
    {
     "name": "stderr",
     "output_type": "stream",
     "text": [
      "\n"
     ]
    },
    {
     "name": "stdout",
     "output_type": "stream",
     "text": [
      "\n",
      "      Epoch    GPU_mem   box_loss   seg_loss   cls_loss   dfl_loss  Instances       Size\n"
     ]
    },
    {
     "name": "stderr",
     "output_type": "stream",
     "text": [
      "    229/400      12.5G     0.6361      1.069     0.3491     0.8572         11\n",
      "                 Class     Images  Instances      Box(P          R      mAP50"
     ]
    },
    {
     "name": "stdout",
     "output_type": "stream",
     "text": [
      "                   all        495        372      0.964      0.844      0.919      0.743      0.964      0.844      0.913      0.626\n"
     ]
    },
    {
     "name": "stderr",
     "output_type": "stream",
     "text": [
      "\n"
     ]
    },
    {
     "name": "stdout",
     "output_type": "stream",
     "text": [
      "\n",
      "      Epoch    GPU_mem   box_loss   seg_loss   cls_loss   dfl_loss  Instances       Size\n"
     ]
    },
    {
     "name": "stderr",
     "output_type": "stream",
     "text": [
      "    230/400      12.5G     0.6373      1.059     0.3478      0.857          4\n",
      "                 Class     Images  Instances      Box(P          R      mAP50"
     ]
    },
    {
     "name": "stdout",
     "output_type": "stream",
     "text": [
      "                   all        495        372      0.964      0.844      0.919      0.743      0.964      0.844      0.913      0.627\n"
     ]
    },
    {
     "name": "stderr",
     "output_type": "stream",
     "text": [
      "\n"
     ]
    },
    {
     "name": "stdout",
     "output_type": "stream",
     "text": [
      "\n",
      "      Epoch    GPU_mem   box_loss   seg_loss   cls_loss   dfl_loss  Instances       Size\n"
     ]
    },
    {
     "name": "stderr",
     "output_type": "stream",
     "text": [
      "    231/400      12.5G     0.6406      1.079     0.3472     0.8515          5\n",
      "                 Class     Images  Instances      Box(P          R      mAP50"
     ]
    },
    {
     "name": "stdout",
     "output_type": "stream",
     "text": [
      "                   all        495        372      0.964      0.844      0.919      0.743      0.964      0.844      0.913      0.626\n"
     ]
    },
    {
     "name": "stderr",
     "output_type": "stream",
     "text": [
      "\n"
     ]
    },
    {
     "name": "stdout",
     "output_type": "stream",
     "text": [
      "\n",
      "      Epoch    GPU_mem   box_loss   seg_loss   cls_loss   dfl_loss  Instances       Size\n"
     ]
    },
    {
     "name": "stderr",
     "output_type": "stream",
     "text": [
      "    232/400      12.5G      0.636      1.065     0.3453     0.8567          9\n",
      "                 Class     Images  Instances      Box(P          R      mAP50"
     ]
    },
    {
     "name": "stdout",
     "output_type": "stream",
     "text": [
      "                   all        495        372      0.964      0.844      0.919      0.742      0.964      0.844      0.913      0.626\n"
     ]
    },
    {
     "name": "stderr",
     "output_type": "stream",
     "text": [
      "\n"
     ]
    },
    {
     "name": "stdout",
     "output_type": "stream",
     "text": [
      "\n",
      "      Epoch    GPU_mem   box_loss   seg_loss   cls_loss   dfl_loss  Instances       Size\n"
     ]
    },
    {
     "name": "stderr",
     "output_type": "stream",
     "text": [
      "    233/400      12.5G     0.6223      1.039     0.3432     0.8528          5\n",
      "                 Class     Images  Instances      Box(P          R      mAP50"
     ]
    },
    {
     "name": "stdout",
     "output_type": "stream",
     "text": [
      "                   all        495        372      0.964      0.844      0.919      0.743      0.964      0.844      0.913      0.625\n"
     ]
    },
    {
     "name": "stderr",
     "output_type": "stream",
     "text": [
      "\n"
     ]
    },
    {
     "name": "stdout",
     "output_type": "stream",
     "text": [
      "\n",
      "      Epoch    GPU_mem   box_loss   seg_loss   cls_loss   dfl_loss  Instances       Size\n"
     ]
    },
    {
     "name": "stderr",
     "output_type": "stream",
     "text": [
      "    234/400      12.5G     0.6309      1.048     0.3391     0.8575          8\n",
      "                 Class     Images  Instances      Box(P          R      mAP50"
     ]
    },
    {
     "name": "stdout",
     "output_type": "stream",
     "text": [
      "                   all        495        372      0.964      0.844      0.919      0.743      0.964      0.844      0.912      0.624\n"
     ]
    },
    {
     "name": "stderr",
     "output_type": "stream",
     "text": [
      "\n"
     ]
    },
    {
     "name": "stdout",
     "output_type": "stream",
     "text": [
      "\n",
      "      Epoch    GPU_mem   box_loss   seg_loss   cls_loss   dfl_loss  Instances       Size\n"
     ]
    },
    {
     "name": "stderr",
     "output_type": "stream",
     "text": [
      "    235/400      12.5G     0.6357      1.059     0.3446     0.8572          5\n",
      "                 Class     Images  Instances      Box(P          R      mAP50"
     ]
    },
    {
     "name": "stdout",
     "output_type": "stream",
     "text": [
      "                   all        495        372      0.964      0.844       0.92      0.744      0.964      0.844      0.912      0.625\n"
     ]
    },
    {
     "name": "stderr",
     "output_type": "stream",
     "text": [
      "\n"
     ]
    },
    {
     "name": "stdout",
     "output_type": "stream",
     "text": [
      "\n",
      "      Epoch    GPU_mem   box_loss   seg_loss   cls_loss   dfl_loss  Instances       Size\n"
     ]
    },
    {
     "name": "stderr",
     "output_type": "stream",
     "text": [
      "    236/400      12.5G     0.6269       1.06     0.3423     0.8558          6\n",
      "                 Class     Images  Instances      Box(P          R      mAP50"
     ]
    },
    {
     "name": "stdout",
     "output_type": "stream",
     "text": [
      "                   all        495        372       0.96      0.841      0.918      0.744      0.963      0.844      0.913      0.624\n"
     ]
    },
    {
     "name": "stderr",
     "output_type": "stream",
     "text": [
      "\n"
     ]
    },
    {
     "name": "stdout",
     "output_type": "stream",
     "text": [
      "\n",
      "      Epoch    GPU_mem   box_loss   seg_loss   cls_loss   dfl_loss  Instances       Size\n"
     ]
    },
    {
     "name": "stderr",
     "output_type": "stream",
     "text": [
      "    237/400      12.5G     0.6247      1.052     0.3408     0.8513         11\n",
      "                 Class     Images  Instances      Box(P          R      mAP50"
     ]
    },
    {
     "name": "stdout",
     "output_type": "stream",
     "text": [
      "                   all        495        372       0.96      0.841      0.918      0.744      0.963      0.844      0.913      0.626\n"
     ]
    },
    {
     "name": "stderr",
     "output_type": "stream",
     "text": [
      "\n"
     ]
    },
    {
     "name": "stdout",
     "output_type": "stream",
     "text": [
      "\n",
      "      Epoch    GPU_mem   box_loss   seg_loss   cls_loss   dfl_loss  Instances       Size\n"
     ]
    },
    {
     "name": "stderr",
     "output_type": "stream",
     "text": [
      "    238/400      12.5G     0.6175      1.036     0.3363      0.854         11\n",
      "                 Class     Images  Instances      Box(P          R      mAP50"
     ]
    },
    {
     "name": "stdout",
     "output_type": "stream",
     "text": [
      "                   all        495        372       0.96      0.841      0.918      0.745      0.963      0.844      0.913      0.626\n"
     ]
    },
    {
     "name": "stderr",
     "output_type": "stream",
     "text": [
      "\n"
     ]
    },
    {
     "name": "stdout",
     "output_type": "stream",
     "text": [
      "\n",
      "      Epoch    GPU_mem   box_loss   seg_loss   cls_loss   dfl_loss  Instances       Size\n"
     ]
    },
    {
     "name": "stderr",
     "output_type": "stream",
     "text": [
      "    239/400      12.5G     0.6302       1.06     0.3447     0.8514         14\n",
      "                 Class     Images  Instances      Box(P          R      mAP50"
     ]
    },
    {
     "name": "stdout",
     "output_type": "stream",
     "text": [
      "                   all        495        372       0.96      0.841      0.917      0.744      0.963      0.844      0.913      0.626\n"
     ]
    },
    {
     "name": "stderr",
     "output_type": "stream",
     "text": [
      "\n"
     ]
    },
    {
     "name": "stdout",
     "output_type": "stream",
     "text": [
      "\n",
      "      Epoch    GPU_mem   box_loss   seg_loss   cls_loss   dfl_loss  Instances       Size\n"
     ]
    },
    {
     "name": "stderr",
     "output_type": "stream",
     "text": [
      "    240/400      12.5G     0.6162      1.031     0.3327     0.8552          9\n",
      "                 Class     Images  Instances      Box(P          R      mAP50"
     ]
    },
    {
     "name": "stdout",
     "output_type": "stream",
     "text": [
      "                   all        495        372       0.96      0.841      0.917      0.747      0.963      0.844      0.913      0.627\n"
     ]
    },
    {
     "name": "stderr",
     "output_type": "stream",
     "text": [
      "\n"
     ]
    },
    {
     "name": "stdout",
     "output_type": "stream",
     "text": [
      "\n",
      "      Epoch    GPU_mem   box_loss   seg_loss   cls_loss   dfl_loss  Instances       Size\n"
     ]
    },
    {
     "name": "stderr",
     "output_type": "stream",
     "text": [
      "    241/400      12.5G     0.6207      1.039     0.3387     0.8544          7\n",
      "                 Class     Images  Instances      Box(P          R      mAP50"
     ]
    },
    {
     "name": "stdout",
     "output_type": "stream",
     "text": [
      "                   all        495        372       0.96      0.841      0.917      0.747      0.963      0.844      0.913      0.626\n"
     ]
    },
    {
     "name": "stderr",
     "output_type": "stream",
     "text": [
      "\n"
     ]
    },
    {
     "name": "stdout",
     "output_type": "stream",
     "text": [
      "\n",
      "      Epoch    GPU_mem   box_loss   seg_loss   cls_loss   dfl_loss  Instances       Size\n"
     ]
    },
    {
     "name": "stderr",
     "output_type": "stream",
     "text": [
      "    242/400      12.5G     0.6163      1.022     0.3391     0.8517          8\n",
      "                 Class     Images  Instances      Box(P          R      mAP50"
     ]
    },
    {
     "name": "stdout",
     "output_type": "stream",
     "text": [
      "                   all        495        372      0.963      0.844      0.919      0.747      0.963      0.844      0.913      0.627\n"
     ]
    },
    {
     "name": "stderr",
     "output_type": "stream",
     "text": [
      "\n"
     ]
    },
    {
     "name": "stdout",
     "output_type": "stream",
     "text": [
      "\n",
      "      Epoch    GPU_mem   box_loss   seg_loss   cls_loss   dfl_loss  Instances       Size\n"
     ]
    },
    {
     "name": "stderr",
     "output_type": "stream",
     "text": [
      "    243/400      12.5G     0.6179      1.031     0.3387     0.8502          4\n",
      "                 Class     Images  Instances      Box(P          R      mAP50"
     ]
    },
    {
     "name": "stdout",
     "output_type": "stream",
     "text": [
      "                   all        495        372      0.963      0.844      0.919      0.745      0.963      0.844      0.913      0.627\n"
     ]
    },
    {
     "name": "stderr",
     "output_type": "stream",
     "text": [
      "\n"
     ]
    },
    {
     "name": "stdout",
     "output_type": "stream",
     "text": [
      "\n",
      "      Epoch    GPU_mem   box_loss   seg_loss   cls_loss   dfl_loss  Instances       Size\n"
     ]
    },
    {
     "name": "stderr",
     "output_type": "stream",
     "text": [
      "    244/400      12.5G     0.6159      1.026     0.3329      0.856          7\n",
      "                 Class     Images  Instances      Box(P          R      mAP50"
     ]
    },
    {
     "name": "stdout",
     "output_type": "stream",
     "text": [
      "                   all        495        372      0.963      0.844      0.919      0.746      0.963      0.844      0.913      0.627\n"
     ]
    },
    {
     "name": "stderr",
     "output_type": "stream",
     "text": [
      "\n"
     ]
    },
    {
     "name": "stdout",
     "output_type": "stream",
     "text": [
      "\n",
      "      Epoch    GPU_mem   box_loss   seg_loss   cls_loss   dfl_loss  Instances       Size\n"
     ]
    },
    {
     "name": "stderr",
     "output_type": "stream",
     "text": [
      "    245/400      12.5G     0.6121      1.034     0.3359       0.85          9\n",
      "                 Class     Images  Instances      Box(P          R      mAP50"
     ]
    },
    {
     "name": "stdout",
     "output_type": "stream",
     "text": [
      "                   all        495        372      0.963      0.845      0.919      0.746      0.963      0.845      0.914      0.628\n"
     ]
    },
    {
     "name": "stderr",
     "output_type": "stream",
     "text": [
      "\n"
     ]
    },
    {
     "name": "stdout",
     "output_type": "stream",
     "text": [
      "\n",
      "      Epoch    GPU_mem   box_loss   seg_loss   cls_loss   dfl_loss  Instances       Size\n"
     ]
    },
    {
     "name": "stderr",
     "output_type": "stream",
     "text": [
      "    246/400      12.5G     0.6098      1.016     0.3361      0.849          5\n",
      "                 Class     Images  Instances      Box(P          R      mAP50"
     ]
    },
    {
     "name": "stdout",
     "output_type": "stream",
     "text": [
      "                   all        495        372      0.963      0.845      0.919      0.747      0.963      0.845      0.914      0.629\n"
     ]
    },
    {
     "name": "stderr",
     "output_type": "stream",
     "text": [
      "\n"
     ]
    },
    {
     "name": "stdout",
     "output_type": "stream",
     "text": [
      "\n",
      "      Epoch    GPU_mem   box_loss   seg_loss   cls_loss   dfl_loss  Instances       Size\n"
     ]
    },
    {
     "name": "stderr",
     "output_type": "stream",
     "text": [
      "    247/400      12.5G     0.6019     0.9941     0.3258     0.8505          5\n",
      "                 Class     Images  Instances      Box(P          R      mAP50"
     ]
    },
    {
     "name": "stdout",
     "output_type": "stream",
     "text": [
      "                   all        495        372      0.963      0.847      0.919      0.746      0.963      0.847      0.914      0.629\n"
     ]
    },
    {
     "name": "stderr",
     "output_type": "stream",
     "text": [
      "\n"
     ]
    },
    {
     "name": "stdout",
     "output_type": "stream",
     "text": [
      "\n",
      "      Epoch    GPU_mem   box_loss   seg_loss   cls_loss   dfl_loss  Instances       Size\n"
     ]
    },
    {
     "name": "stderr",
     "output_type": "stream",
     "text": [
      "    248/400      12.5G     0.6062      1.019     0.3286     0.8484          8\n",
      "                 Class     Images  Instances      Box(P          R      mAP50"
     ]
    },
    {
     "name": "stdout",
     "output_type": "stream",
     "text": [
      "                   all        495        372      0.962      0.847      0.919      0.748      0.962      0.847      0.914      0.629\n"
     ]
    },
    {
     "name": "stderr",
     "output_type": "stream",
     "text": [
      "\n"
     ]
    },
    {
     "name": "stdout",
     "output_type": "stream",
     "text": [
      "\n",
      "      Epoch    GPU_mem   box_loss   seg_loss   cls_loss   dfl_loss  Instances       Size\n"
     ]
    },
    {
     "name": "stderr",
     "output_type": "stream",
     "text": [
      "    249/400      12.5G     0.6077      1.011     0.3309     0.8476          8\n",
      "                 Class     Images  Instances      Box(P          R      mAP50"
     ]
    },
    {
     "name": "stdout",
     "output_type": "stream",
     "text": [
      "                   all        495        372      0.962      0.847      0.919      0.748      0.962      0.847      0.914      0.629\n"
     ]
    },
    {
     "name": "stderr",
     "output_type": "stream",
     "text": [
      "\n"
     ]
    },
    {
     "name": "stdout",
     "output_type": "stream",
     "text": [
      "\n",
      "      Epoch    GPU_mem   box_loss   seg_loss   cls_loss   dfl_loss  Instances       Size\n"
     ]
    },
    {
     "name": "stderr",
     "output_type": "stream",
     "text": [
      "    250/400      12.5G     0.6012      1.009     0.3245     0.8481          9\n",
      "                 Class     Images  Instances      Box(P          R      mAP50"
     ]
    },
    {
     "name": "stdout",
     "output_type": "stream",
     "text": [
      "                   all        495        372      0.962      0.847      0.919      0.749      0.962      0.847      0.914      0.629\n"
     ]
    },
    {
     "name": "stderr",
     "output_type": "stream",
     "text": [
      "\n"
     ]
    },
    {
     "name": "stdout",
     "output_type": "stream",
     "text": [
      "\n",
      "      Epoch    GPU_mem   box_loss   seg_loss   cls_loss   dfl_loss  Instances       Size\n"
     ]
    },
    {
     "name": "stderr",
     "output_type": "stream",
     "text": [
      "    251/400      12.5G      0.603       1.01     0.3283      0.848         13\n",
      "                 Class     Images  Instances      Box(P          R      mAP50"
     ]
    },
    {
     "name": "stdout",
     "output_type": "stream",
     "text": [
      "                   all        495        372      0.962      0.847      0.919      0.749      0.962      0.847      0.914      0.629\n"
     ]
    },
    {
     "name": "stderr",
     "output_type": "stream",
     "text": [
      "\n"
     ]
    },
    {
     "name": "stdout",
     "output_type": "stream",
     "text": [
      "\n",
      "      Epoch    GPU_mem   box_loss   seg_loss   cls_loss   dfl_loss  Instances       Size\n"
     ]
    },
    {
     "name": "stderr",
     "output_type": "stream",
     "text": [
      "    252/400      12.5G      0.595      1.008     0.3244     0.8494          4\n",
      "                 Class     Images  Instances      Box(P          R      mAP50"
     ]
    },
    {
     "name": "stdout",
     "output_type": "stream",
     "text": [
      "                   all        495        372      0.962      0.847      0.919      0.749      0.965      0.849      0.915      0.629\n"
     ]
    },
    {
     "name": "stderr",
     "output_type": "stream",
     "text": [
      "\n"
     ]
    },
    {
     "name": "stdout",
     "output_type": "stream",
     "text": [
      "\n",
      "      Epoch    GPU_mem   box_loss   seg_loss   cls_loss   dfl_loss  Instances       Size\n"
     ]
    },
    {
     "name": "stderr",
     "output_type": "stream",
     "text": [
      "    253/400      12.5G     0.5955      1.006     0.3303     0.8442          3\n",
      "                 Class     Images  Instances      Box(P          R      mAP50"
     ]
    },
    {
     "name": "stdout",
     "output_type": "stream",
     "text": [
      "                   all        495        372      0.961      0.847      0.919       0.75      0.964      0.849      0.915      0.629\n"
     ]
    },
    {
     "name": "stderr",
     "output_type": "stream",
     "text": [
      "\n"
     ]
    },
    {
     "name": "stdout",
     "output_type": "stream",
     "text": [
      "\n",
      "      Epoch    GPU_mem   box_loss   seg_loss   cls_loss   dfl_loss  Instances       Size\n"
     ]
    },
    {
     "name": "stderr",
     "output_type": "stream",
     "text": [
      "    254/400      12.5G     0.5986     0.9961     0.3252     0.8474          2\n",
      "                 Class     Images  Instances      Box(P          R      mAP50"
     ]
    },
    {
     "name": "stdout",
     "output_type": "stream",
     "text": [
      "                   all        495        372      0.961      0.847       0.92       0.75      0.964      0.849      0.916      0.628\n"
     ]
    },
    {
     "name": "stderr",
     "output_type": "stream",
     "text": [
      "\n"
     ]
    },
    {
     "name": "stdout",
     "output_type": "stream",
     "text": [
      "\n",
      "      Epoch    GPU_mem   box_loss   seg_loss   cls_loss   dfl_loss  Instances       Size\n"
     ]
    },
    {
     "name": "stderr",
     "output_type": "stream",
     "text": [
      "    255/400      12.5G     0.6011      1.014     0.3281     0.8491          9\n",
      "                 Class     Images  Instances      Box(P          R      mAP50"
     ]
    },
    {
     "name": "stdout",
     "output_type": "stream",
     "text": [
      "                   all        495        372      0.958      0.844      0.917       0.75      0.964      0.849      0.916      0.628\n"
     ]
    },
    {
     "name": "stderr",
     "output_type": "stream",
     "text": [
      "\n"
     ]
    },
    {
     "name": "stdout",
     "output_type": "stream",
     "text": [
      "\n",
      "      Epoch    GPU_mem   box_loss   seg_loss   cls_loss   dfl_loss  Instances       Size\n"
     ]
    },
    {
     "name": "stderr",
     "output_type": "stream",
     "text": [
      "    256/400      12.5G     0.5985      1.014     0.3259     0.8475         17\n",
      "                 Class     Images  Instances      Box(P          R      mAP50"
     ]
    },
    {
     "name": "stdout",
     "output_type": "stream",
     "text": [
      "                   all        495        372      0.958      0.844      0.919      0.749      0.964      0.849      0.916      0.627\n"
     ]
    },
    {
     "name": "stderr",
     "output_type": "stream",
     "text": [
      "\n"
     ]
    },
    {
     "name": "stdout",
     "output_type": "stream",
     "text": [
      "\n",
      "      Epoch    GPU_mem   box_loss   seg_loss   cls_loss   dfl_loss  Instances       Size\n"
     ]
    },
    {
     "name": "stderr",
     "output_type": "stream",
     "text": [
      "    257/400      12.5G     0.5891      0.993     0.3166      0.846          5\n",
      "                 Class     Images  Instances      Box(P          R      mAP50"
     ]
    },
    {
     "name": "stdout",
     "output_type": "stream",
     "text": [
      "                   all        495        372      0.958      0.844      0.919       0.75      0.964      0.849      0.916      0.629\n"
     ]
    },
    {
     "name": "stderr",
     "output_type": "stream",
     "text": [
      "\n"
     ]
    },
    {
     "name": "stdout",
     "output_type": "stream",
     "text": [
      "\n",
      "      Epoch    GPU_mem   box_loss   seg_loss   cls_loss   dfl_loss  Instances       Size\n"
     ]
    },
    {
     "name": "stderr",
     "output_type": "stream",
     "text": [
      "    258/400      12.5G     0.5858     0.9807     0.3187     0.8417          5\n",
      "                 Class     Images  Instances      Box(P          R      mAP50"
     ]
    },
    {
     "name": "stdout",
     "output_type": "stream",
     "text": [
      "                   all        495        372      0.957      0.845      0.918       0.75      0.963      0.851      0.915      0.628\n"
     ]
    },
    {
     "name": "stderr",
     "output_type": "stream",
     "text": [
      "\n"
     ]
    },
    {
     "name": "stdout",
     "output_type": "stream",
     "text": [
      "\n",
      "      Epoch    GPU_mem   box_loss   seg_loss   cls_loss   dfl_loss  Instances       Size\n"
     ]
    },
    {
     "name": "stderr",
     "output_type": "stream",
     "text": [
      "    259/400      12.5G     0.5909     0.9997     0.3217     0.8472          6\n",
      "                 Class     Images  Instances      Box(P          R      mAP50"
     ]
    },
    {
     "name": "stdout",
     "output_type": "stream",
     "text": [
      "                   all        495        372      0.957      0.847      0.919      0.751      0.963      0.852      0.916      0.629\n"
     ]
    },
    {
     "name": "stderr",
     "output_type": "stream",
     "text": [
      "\n"
     ]
    },
    {
     "name": "stdout",
     "output_type": "stream",
     "text": [
      "\n",
      "      Epoch    GPU_mem   box_loss   seg_loss   cls_loss   dfl_loss  Instances       Size\n"
     ]
    },
    {
     "name": "stderr",
     "output_type": "stream",
     "text": [
      "    260/400      12.5G     0.5884      1.006     0.3221     0.8459         10\n",
      "                 Class     Images  Instances      Box(P          R      mAP50"
     ]
    },
    {
     "name": "stdout",
     "output_type": "stream",
     "text": [
      "                   all        495        372      0.957      0.847      0.919      0.752      0.963      0.852      0.916       0.63\n"
     ]
    },
    {
     "name": "stderr",
     "output_type": "stream",
     "text": [
      "\n"
     ]
    },
    {
     "name": "stdout",
     "output_type": "stream",
     "text": [
      "\n",
      "      Epoch    GPU_mem   box_loss   seg_loss   cls_loss   dfl_loss  Instances       Size\n"
     ]
    },
    {
     "name": "stderr",
     "output_type": "stream",
     "text": [
      "    261/400      12.5G     0.5869     0.9912     0.3231     0.8432          7\n",
      "                 Class     Images  Instances      Box(P          R      mAP50"
     ]
    },
    {
     "name": "stdout",
     "output_type": "stream",
     "text": [
      "                   all        495        372      0.957      0.847      0.919      0.753      0.963      0.852      0.916       0.63\n"
     ]
    },
    {
     "name": "stderr",
     "output_type": "stream",
     "text": [
      "\n"
     ]
    },
    {
     "name": "stdout",
     "output_type": "stream",
     "text": [
      "\n",
      "      Epoch    GPU_mem   box_loss   seg_loss   cls_loss   dfl_loss  Instances       Size\n"
     ]
    },
    {
     "name": "stderr",
     "output_type": "stream",
     "text": [
      "    262/400      12.5G     0.5782     0.9697     0.3162     0.8425          7\n",
      "                 Class     Images  Instances      Box(P          R      mAP50"
     ]
    },
    {
     "name": "stdout",
     "output_type": "stream",
     "text": [
      "                   all        495        372      0.957      0.847       0.92      0.753      0.963      0.852      0.916      0.632\n"
     ]
    },
    {
     "name": "stderr",
     "output_type": "stream",
     "text": [
      "\n"
     ]
    },
    {
     "name": "stdout",
     "output_type": "stream",
     "text": [
      "\n",
      "      Epoch    GPU_mem   box_loss   seg_loss   cls_loss   dfl_loss  Instances       Size\n"
     ]
    },
    {
     "name": "stderr",
     "output_type": "stream",
     "text": [
      "    263/400      12.5G      0.592          1     0.3275     0.8456          8\n",
      "                 Class     Images  Instances      Box(P          R      mAP50"
     ]
    },
    {
     "name": "stdout",
     "output_type": "stream",
     "text": [
      "                   all        495        372      0.957      0.847       0.92      0.752      0.963      0.852      0.916      0.632\n"
     ]
    },
    {
     "name": "stderr",
     "output_type": "stream",
     "text": [
      "\n"
     ]
    },
    {
     "name": "stdout",
     "output_type": "stream",
     "text": [
      "\n",
      "      Epoch    GPU_mem   box_loss   seg_loss   cls_loss   dfl_loss  Instances       Size\n"
     ]
    },
    {
     "name": "stderr",
     "output_type": "stream",
     "text": [
      "    264/400      12.5G     0.5798     0.9864      0.319       0.84          7\n",
      "                 Class     Images  Instances      Box(P          R      mAP50"
     ]
    },
    {
     "name": "stdout",
     "output_type": "stream",
     "text": [
      "                   all        495        372      0.957      0.847      0.919      0.752      0.963      0.852      0.916      0.631\n"
     ]
    },
    {
     "name": "stderr",
     "output_type": "stream",
     "text": [
      "\n"
     ]
    },
    {
     "name": "stdout",
     "output_type": "stream",
     "text": [
      "\n",
      "      Epoch    GPU_mem   box_loss   seg_loss   cls_loss   dfl_loss  Instances       Size\n"
     ]
    },
    {
     "name": "stderr",
     "output_type": "stream",
     "text": [
      "    265/400      12.5G     0.5902     0.9956     0.3237     0.8424          8\n",
      "                 Class     Images  Instances      Box(P          R      mAP50"
     ]
    },
    {
     "name": "stdout",
     "output_type": "stream",
     "text": [
      "                   all        495        372      0.957      0.847      0.919      0.753      0.963      0.852      0.916      0.632\n"
     ]
    },
    {
     "name": "stderr",
     "output_type": "stream",
     "text": [
      "\n"
     ]
    },
    {
     "name": "stdout",
     "output_type": "stream",
     "text": [
      "\n",
      "      Epoch    GPU_mem   box_loss   seg_loss   cls_loss   dfl_loss  Instances       Size\n"
     ]
    },
    {
     "name": "stderr",
     "output_type": "stream",
     "text": [
      "    266/400      12.5G     0.5792     0.9754     0.3111     0.8418          6\n",
      "                 Class     Images  Instances      Box(P          R      mAP50"
     ]
    },
    {
     "name": "stdout",
     "output_type": "stream",
     "text": [
      "                   all        495        372      0.957      0.847      0.919      0.753      0.964      0.852      0.916      0.632\n"
     ]
    },
    {
     "name": "stderr",
     "output_type": "stream",
     "text": [
      "\n"
     ]
    },
    {
     "name": "stdout",
     "output_type": "stream",
     "text": [
      "\n",
      "      Epoch    GPU_mem   box_loss   seg_loss   cls_loss   dfl_loss  Instances       Size\n"
     ]
    },
    {
     "name": "stderr",
     "output_type": "stream",
     "text": [
      "    267/400      12.5G     0.5834     0.9874     0.3205     0.8427          5\n",
      "                 Class     Images  Instances      Box(P          R      mAP50"
     ]
    },
    {
     "name": "stdout",
     "output_type": "stream",
     "text": [
      "                   all        495        372      0.957      0.845      0.919      0.754      0.964      0.849      0.916      0.632\n"
     ]
    },
    {
     "name": "stderr",
     "output_type": "stream",
     "text": [
      "\n"
     ]
    },
    {
     "name": "stdout",
     "output_type": "stream",
     "text": [
      "\n",
      "      Epoch    GPU_mem   box_loss   seg_loss   cls_loss   dfl_loss  Instances       Size\n"
     ]
    },
    {
     "name": "stderr",
     "output_type": "stream",
     "text": [
      "    268/400      12.5G     0.5832     0.9783     0.3182     0.8429          6\n",
      "                 Class     Images  Instances      Box(P          R      mAP50"
     ]
    },
    {
     "name": "stdout",
     "output_type": "stream",
     "text": [
      "                   all        495        372      0.961      0.844      0.919      0.753      0.967      0.849      0.916      0.631\n"
     ]
    },
    {
     "name": "stderr",
     "output_type": "stream",
     "text": [
      "\n"
     ]
    },
    {
     "name": "stdout",
     "output_type": "stream",
     "text": [
      "\n",
      "      Epoch    GPU_mem   box_loss   seg_loss   cls_loss   dfl_loss  Instances       Size\n"
     ]
    },
    {
     "name": "stderr",
     "output_type": "stream",
     "text": [
      "    269/400      12.5G     0.5682       0.96     0.3131     0.8434         14\n",
      "                 Class     Images  Instances      Box(P          R      mAP50"
     ]
    },
    {
     "name": "stdout",
     "output_type": "stream",
     "text": [
      "                   all        495        372      0.963      0.844      0.919      0.753      0.969      0.849      0.916       0.63\n"
     ]
    },
    {
     "name": "stderr",
     "output_type": "stream",
     "text": [
      "\n"
     ]
    },
    {
     "name": "stdout",
     "output_type": "stream",
     "text": [
      "\n",
      "      Epoch    GPU_mem   box_loss   seg_loss   cls_loss   dfl_loss  Instances       Size\n"
     ]
    },
    {
     "name": "stderr",
     "output_type": "stream",
     "text": [
      "    270/400      12.5G     0.5741     0.9668      0.318      0.842          3\n",
      "                 Class     Images  Instances      Box(P          R      mAP50"
     ]
    },
    {
     "name": "stdout",
     "output_type": "stream",
     "text": [
      "                   all        495        372      0.963      0.844      0.919      0.754       0.97      0.849      0.916      0.632\n"
     ]
    },
    {
     "name": "stderr",
     "output_type": "stream",
     "text": [
      "\n"
     ]
    },
    {
     "name": "stdout",
     "output_type": "stream",
     "text": [
      "\n",
      "      Epoch    GPU_mem   box_loss   seg_loss   cls_loss   dfl_loss  Instances       Size\n"
     ]
    },
    {
     "name": "stderr",
     "output_type": "stream",
     "text": [
      "    271/400      12.5G     0.5769     0.9846     0.3161     0.8414          7\n",
      "                 Class     Images  Instances      Box(P          R      mAP50"
     ]
    },
    {
     "name": "stdout",
     "output_type": "stream",
     "text": [
      "                   all        495        372      0.964      0.844      0.919      0.753       0.97      0.849      0.916      0.632\n"
     ]
    },
    {
     "name": "stderr",
     "output_type": "stream",
     "text": [
      "\n"
     ]
    },
    {
     "name": "stdout",
     "output_type": "stream",
     "text": [
      "\n",
      "      Epoch    GPU_mem   box_loss   seg_loss   cls_loss   dfl_loss  Instances       Size\n"
     ]
    },
    {
     "name": "stderr",
     "output_type": "stream",
     "text": [
      "    272/400      12.5G     0.5658     0.9639     0.3125     0.8395         11\n",
      "                 Class     Images  Instances      Box(P          R      mAP50"
     ]
    },
    {
     "name": "stdout",
     "output_type": "stream",
     "text": [
      "                   all        495        372      0.964      0.844      0.919      0.753       0.97      0.849      0.916      0.633\n"
     ]
    },
    {
     "name": "stderr",
     "output_type": "stream",
     "text": [
      "\n"
     ]
    },
    {
     "name": "stdout",
     "output_type": "stream",
     "text": [
      "\n",
      "      Epoch    GPU_mem   box_loss   seg_loss   cls_loss   dfl_loss  Instances       Size\n"
     ]
    },
    {
     "name": "stderr",
     "output_type": "stream",
     "text": [
      "    273/400      12.5G     0.5703     0.9688     0.3136     0.8371          5\n",
      "                 Class     Images  Instances      Box(P          R      mAP50"
     ]
    },
    {
     "name": "stdout",
     "output_type": "stream",
     "text": [
      "                   all        495        372      0.964      0.844      0.919      0.753       0.97      0.849      0.916      0.634\n"
     ]
    },
    {
     "name": "stderr",
     "output_type": "stream",
     "text": [
      "\n"
     ]
    },
    {
     "name": "stdout",
     "output_type": "stream",
     "text": [
      "\n",
      "      Epoch    GPU_mem   box_loss   seg_loss   cls_loss   dfl_loss  Instances       Size\n"
     ]
    },
    {
     "name": "stderr",
     "output_type": "stream",
     "text": [
      "    274/400      12.5G     0.5679     0.9841     0.3123     0.8371          3\n",
      "                 Class     Images  Instances      Box(P          R      mAP50"
     ]
    },
    {
     "name": "stdout",
     "output_type": "stream",
     "text": [
      "                   all        495        372      0.964      0.844      0.919      0.753       0.97      0.849      0.916      0.635\n"
     ]
    },
    {
     "name": "stderr",
     "output_type": "stream",
     "text": [
      "\n"
     ]
    },
    {
     "name": "stdout",
     "output_type": "stream",
     "text": [
      "\n",
      "      Epoch    GPU_mem   box_loss   seg_loss   cls_loss   dfl_loss  Instances       Size\n"
     ]
    },
    {
     "name": "stderr",
     "output_type": "stream",
     "text": [
      "    275/400      12.5G     0.5632     0.9575     0.3093     0.8426          9\n",
      "                 Class     Images  Instances      Box(P          R      mAP50"
     ]
    },
    {
     "name": "stdout",
     "output_type": "stream",
     "text": [
      "                   all        495        372      0.964      0.844      0.919      0.754       0.97      0.849      0.916      0.635\n"
     ]
    },
    {
     "name": "stderr",
     "output_type": "stream",
     "text": [
      "\n"
     ]
    },
    {
     "name": "stdout",
     "output_type": "stream",
     "text": [
      "\n",
      "      Epoch    GPU_mem   box_loss   seg_loss   cls_loss   dfl_loss  Instances       Size\n"
     ]
    },
    {
     "name": "stderr",
     "output_type": "stream",
     "text": [
      "    276/400      12.5G      0.564     0.9562     0.3087     0.8371          5\n",
      "                 Class     Images  Instances      Box(P          R      mAP50"
     ]
    },
    {
     "name": "stdout",
     "output_type": "stream",
     "text": [
      "                   all        495        372      0.964      0.844      0.919      0.754       0.97      0.849      0.916      0.637\n"
     ]
    },
    {
     "name": "stderr",
     "output_type": "stream",
     "text": [
      "\n"
     ]
    },
    {
     "name": "stdout",
     "output_type": "stream",
     "text": [
      "\n",
      "      Epoch    GPU_mem   box_loss   seg_loss   cls_loss   dfl_loss  Instances       Size\n"
     ]
    },
    {
     "name": "stderr",
     "output_type": "stream",
     "text": [
      "    277/400      12.5G     0.5664     0.9632     0.3135     0.8355          1\n",
      "                 Class     Images  Instances      Box(P          R      mAP50"
     ]
    },
    {
     "name": "stdout",
     "output_type": "stream",
     "text": [
      "                   all        495        372      0.964      0.844      0.919      0.755       0.97      0.849      0.916      0.636\n"
     ]
    },
    {
     "name": "stderr",
     "output_type": "stream",
     "text": [
      "\n"
     ]
    },
    {
     "name": "stdout",
     "output_type": "stream",
     "text": [
      "\n",
      "      Epoch    GPU_mem   box_loss   seg_loss   cls_loss   dfl_loss  Instances       Size\n"
     ]
    },
    {
     "name": "stderr",
     "output_type": "stream",
     "text": [
      "    278/400      12.5G     0.5696     0.9549     0.3096     0.8418         16\n",
      "                 Class     Images  Instances      Box(P          R      mAP50"
     ]
    },
    {
     "name": "stdout",
     "output_type": "stream",
     "text": [
      "                   all        495        372      0.964      0.844      0.919      0.755       0.97      0.849      0.916      0.636\n"
     ]
    },
    {
     "name": "stderr",
     "output_type": "stream",
     "text": [
      "\n"
     ]
    },
    {
     "name": "stdout",
     "output_type": "stream",
     "text": [
      "\n",
      "      Epoch    GPU_mem   box_loss   seg_loss   cls_loss   dfl_loss  Instances       Size\n"
     ]
    },
    {
     "name": "stderr",
     "output_type": "stream",
     "text": [
      "    279/400      12.5G     0.5643     0.9664     0.3093     0.8381         11\n",
      "                 Class     Images  Instances      Box(P          R      mAP50"
     ]
    },
    {
     "name": "stdout",
     "output_type": "stream",
     "text": [
      "                   all        495        372      0.964      0.844      0.919      0.756       0.97      0.849      0.918      0.636\n"
     ]
    },
    {
     "name": "stderr",
     "output_type": "stream",
     "text": [
      "\n"
     ]
    },
    {
     "name": "stdout",
     "output_type": "stream",
     "text": [
      "\n",
      "      Epoch    GPU_mem   box_loss   seg_loss   cls_loss   dfl_loss  Instances       Size\n"
     ]
    },
    {
     "name": "stderr",
     "output_type": "stream",
     "text": [
      "    280/400      12.5G     0.5526     0.9416     0.3029     0.8342          4\n",
      "                 Class     Images  Instances      Box(P          R      mAP50"
     ]
    },
    {
     "name": "stdout",
     "output_type": "stream",
     "text": [
      "                   all        495        372      0.964      0.844      0.919      0.755       0.97      0.849      0.917      0.636\n"
     ]
    },
    {
     "name": "stderr",
     "output_type": "stream",
     "text": [
      "\n"
     ]
    },
    {
     "name": "stdout",
     "output_type": "stream",
     "text": [
      "\n",
      "      Epoch    GPU_mem   box_loss   seg_loss   cls_loss   dfl_loss  Instances       Size\n"
     ]
    },
    {
     "name": "stderr",
     "output_type": "stream",
     "text": [
      "    281/400      12.5G     0.5605     0.9383     0.3067     0.8376          7\n",
      "                 Class     Images  Instances      Box(P          R      mAP50"
     ]
    },
    {
     "name": "stdout",
     "output_type": "stream",
     "text": [
      "                   all        495        372      0.947       0.86       0.92      0.755       0.97      0.849      0.918      0.635\n"
     ]
    },
    {
     "name": "stderr",
     "output_type": "stream",
     "text": [
      "\n"
     ]
    },
    {
     "name": "stdout",
     "output_type": "stream",
     "text": [
      "\n",
      "      Epoch    GPU_mem   box_loss   seg_loss   cls_loss   dfl_loss  Instances       Size\n"
     ]
    },
    {
     "name": "stderr",
     "output_type": "stream",
     "text": [
      "    282/400      12.5G     0.5652     0.9551     0.3094     0.8383          9\n",
      "                 Class     Images  Instances      Box(P          R      mAP50"
     ]
    },
    {
     "name": "stdout",
     "output_type": "stream",
     "text": [
      "                   all        495        372      0.947       0.86       0.92      0.755       0.97      0.849      0.918      0.636\n"
     ]
    },
    {
     "name": "stderr",
     "output_type": "stream",
     "text": [
      "\n"
     ]
    },
    {
     "name": "stdout",
     "output_type": "stream",
     "text": [
      "\n",
      "      Epoch    GPU_mem   box_loss   seg_loss   cls_loss   dfl_loss  Instances       Size\n"
     ]
    },
    {
     "name": "stderr",
     "output_type": "stream",
     "text": [
      "    283/400      12.5G     0.5577      0.943     0.3026     0.8407         10\n",
      "                 Class     Images  Instances      Box(P          R      mAP50"
     ]
    },
    {
     "name": "stdout",
     "output_type": "stream",
     "text": [
      "                   all        495        372      0.924       0.88       0.92      0.754       0.97      0.849      0.918      0.636\n"
     ]
    },
    {
     "name": "stderr",
     "output_type": "stream",
     "text": [
      "\n"
     ]
    },
    {
     "name": "stdout",
     "output_type": "stream",
     "text": [
      "\n",
      "      Epoch    GPU_mem   box_loss   seg_loss   cls_loss   dfl_loss  Instances       Size\n"
     ]
    },
    {
     "name": "stderr",
     "output_type": "stream",
     "text": [
      "    284/400      12.5G     0.5535     0.9372     0.3014     0.8343          9\n",
      "                 Class     Images  Instances      Box(P          R      mAP50"
     ]
    },
    {
     "name": "stdout",
     "output_type": "stream",
     "text": [
      "                   all        495        372      0.948       0.86       0.92      0.756       0.97      0.849       0.92      0.638\n"
     ]
    },
    {
     "name": "stderr",
     "output_type": "stream",
     "text": [
      "\n"
     ]
    },
    {
     "name": "stdout",
     "output_type": "stream",
     "text": [
      "\n",
      "      Epoch    GPU_mem   box_loss   seg_loss   cls_loss   dfl_loss  Instances       Size\n"
     ]
    },
    {
     "name": "stderr",
     "output_type": "stream",
     "text": [
      "    285/400      12.5G     0.5573     0.9482     0.3043     0.8374          4\n",
      "                 Class     Images  Instances      Box(P          R      mAP50"
     ]
    },
    {
     "name": "stdout",
     "output_type": "stream",
     "text": [
      "                   all        495        372      0.964      0.844       0.92      0.756      0.971      0.849       0.92      0.639\n"
     ]
    },
    {
     "name": "stderr",
     "output_type": "stream",
     "text": [
      "\n"
     ]
    },
    {
     "name": "stdout",
     "output_type": "stream",
     "text": [
      "\n",
      "      Epoch    GPU_mem   box_loss   seg_loss   cls_loss   dfl_loss  Instances       Size\n"
     ]
    },
    {
     "name": "stderr",
     "output_type": "stream",
     "text": [
      "    286/400      12.5G     0.5501     0.9486      0.302     0.8406          8\n",
      "                 Class     Images  Instances      Box(P          R      mAP50"
     ]
    },
    {
     "name": "stdout",
     "output_type": "stream",
     "text": [
      "                   all        495        372      0.964      0.844       0.92      0.756      0.971      0.849       0.92      0.639\n"
     ]
    },
    {
     "name": "stderr",
     "output_type": "stream",
     "text": [
      "\n"
     ]
    },
    {
     "name": "stdout",
     "output_type": "stream",
     "text": [
      "\n",
      "      Epoch    GPU_mem   box_loss   seg_loss   cls_loss   dfl_loss  Instances       Size\n"
     ]
    },
    {
     "name": "stderr",
     "output_type": "stream",
     "text": [
      "    287/400      12.5G     0.5568     0.9448      0.307     0.8414          7\n",
      "                 Class     Images  Instances      Box(P          R      mAP50"
     ]
    },
    {
     "name": "stdout",
     "output_type": "stream",
     "text": [
      "                   all        495        372      0.965      0.844       0.92      0.756      0.971      0.849       0.92      0.639\n"
     ]
    },
    {
     "name": "stderr",
     "output_type": "stream",
     "text": [
      "\n"
     ]
    },
    {
     "name": "stdout",
     "output_type": "stream",
     "text": [
      "\n",
      "      Epoch    GPU_mem   box_loss   seg_loss   cls_loss   dfl_loss  Instances       Size\n"
     ]
    },
    {
     "name": "stderr",
     "output_type": "stream",
     "text": [
      "    288/400      12.5G     0.5481     0.9288     0.3021     0.8327          7\n",
      "                 Class     Images  Instances      Box(P          R      mAP50"
     ]
    },
    {
     "name": "stdout",
     "output_type": "stream",
     "text": [
      "                   all        495        372      0.965      0.844       0.92      0.757      0.971      0.849      0.921       0.64\n"
     ]
    },
    {
     "name": "stderr",
     "output_type": "stream",
     "text": [
      "\n"
     ]
    },
    {
     "name": "stdout",
     "output_type": "stream",
     "text": [
      "\n",
      "      Epoch    GPU_mem   box_loss   seg_loss   cls_loss   dfl_loss  Instances       Size\n"
     ]
    },
    {
     "name": "stderr",
     "output_type": "stream",
     "text": [
      "    289/400      12.5G     0.5515     0.9316     0.3008     0.8411          4\n",
      "                 Class     Images  Instances      Box(P          R      mAP50"
     ]
    },
    {
     "name": "stdout",
     "output_type": "stream",
     "text": [
      "                   all        495        372      0.965      0.844       0.92      0.758      0.971      0.849      0.921      0.639\n"
     ]
    },
    {
     "name": "stderr",
     "output_type": "stream",
     "text": [
      "\n"
     ]
    },
    {
     "name": "stdout",
     "output_type": "stream",
     "text": [
      "\n",
      "      Epoch    GPU_mem   box_loss   seg_loss   cls_loss   dfl_loss  Instances       Size\n"
     ]
    },
    {
     "name": "stderr",
     "output_type": "stream",
     "text": [
      "    290/400      12.5G     0.5424     0.9421     0.2973     0.8298          9\n",
      "                 Class     Images  Instances      Box(P          R      mAP50"
     ]
    },
    {
     "name": "stdout",
     "output_type": "stream",
     "text": [
      "                   all        495        372      0.949       0.86       0.92       0.76      0.971      0.849      0.921      0.639\n"
     ]
    },
    {
     "name": "stderr",
     "output_type": "stream",
     "text": [
      "\n"
     ]
    },
    {
     "name": "stdout",
     "output_type": "stream",
     "text": [
      "\n",
      "      Epoch    GPU_mem   box_loss   seg_loss   cls_loss   dfl_loss  Instances       Size\n"
     ]
    },
    {
     "name": "stderr",
     "output_type": "stream",
     "text": [
      "    291/400      12.5G     0.5407     0.9206     0.2958     0.8328         10\n",
      "                 Class     Images  Instances      Box(P          R      mAP50"
     ]
    },
    {
     "name": "stdout",
     "output_type": "stream",
     "text": [
      "                   all        495        372      0.949       0.86       0.92       0.76      0.971      0.849      0.921      0.639\n"
     ]
    },
    {
     "name": "stderr",
     "output_type": "stream",
     "text": [
      "\n"
     ]
    },
    {
     "name": "stdout",
     "output_type": "stream",
     "text": [
      "\n",
      "      Epoch    GPU_mem   box_loss   seg_loss   cls_loss   dfl_loss  Instances       Size\n"
     ]
    },
    {
     "name": "stderr",
     "output_type": "stream",
     "text": [
      "    292/400      12.5G     0.5495      0.925     0.2993     0.8377         11\n",
      "                 Class     Images  Instances      Box(P          R      mAP50"
     ]
    },
    {
     "name": "stdout",
     "output_type": "stream",
     "text": [
      "                   all        495        372      0.949       0.86       0.92       0.76      0.971      0.849      0.921       0.64\n"
     ]
    },
    {
     "name": "stderr",
     "output_type": "stream",
     "text": [
      "\n"
     ]
    },
    {
     "name": "stdout",
     "output_type": "stream",
     "text": [
      "\n",
      "      Epoch    GPU_mem   box_loss   seg_loss   cls_loss   dfl_loss  Instances       Size\n"
     ]
    },
    {
     "name": "stderr",
     "output_type": "stream",
     "text": [
      "    293/400      12.5G     0.5329     0.9149     0.2939     0.8307         12\n",
      "                 Class     Images  Instances      Box(P          R      mAP50"
     ]
    },
    {
     "name": "stdout",
     "output_type": "stream",
     "text": [
      "                   all        495        372      0.949       0.86       0.92       0.76      0.971      0.849      0.921      0.639\n"
     ]
    },
    {
     "name": "stderr",
     "output_type": "stream",
     "text": [
      "\n"
     ]
    },
    {
     "name": "stdout",
     "output_type": "stream",
     "text": [
      "\n",
      "      Epoch    GPU_mem   box_loss   seg_loss   cls_loss   dfl_loss  Instances       Size\n"
     ]
    },
    {
     "name": "stderr",
     "output_type": "stream",
     "text": [
      "    294/400      12.5G     0.5363     0.9168     0.2927     0.8299          6\n",
      "                 Class     Images  Instances      Box(P          R      mAP50"
     ]
    },
    {
     "name": "stdout",
     "output_type": "stream",
     "text": [
      "                   all        495        372      0.963      0.848       0.92       0.76      0.971      0.849      0.921       0.64\n"
     ]
    },
    {
     "name": "stderr",
     "output_type": "stream",
     "text": [
      "\n"
     ]
    },
    {
     "name": "stdout",
     "output_type": "stream",
     "text": [
      "\n",
      "      Epoch    GPU_mem   box_loss   seg_loss   cls_loss   dfl_loss  Instances       Size\n"
     ]
    },
    {
     "name": "stderr",
     "output_type": "stream",
     "text": [
      "    295/400      12.5G     0.5316     0.9035     0.2941     0.8295          6\n",
      "                 Class     Images  Instances      Box(P          R      mAP50"
     ]
    },
    {
     "name": "stdout",
     "output_type": "stream",
     "text": [
      "                   all        495        372      0.949      0.858       0.92      0.761      0.972      0.849      0.921       0.64\n"
     ]
    },
    {
     "name": "stderr",
     "output_type": "stream",
     "text": [
      "\n"
     ]
    },
    {
     "name": "stdout",
     "output_type": "stream",
     "text": [
      "\n",
      "      Epoch    GPU_mem   box_loss   seg_loss   cls_loss   dfl_loss  Instances       Size\n"
     ]
    },
    {
     "name": "stderr",
     "output_type": "stream",
     "text": [
      "    296/400      12.5G     0.5334     0.9251     0.2938     0.8324          5\n",
      "                 Class     Images  Instances      Box(P          R      mAP50"
     ]
    },
    {
     "name": "stdout",
     "output_type": "stream",
     "text": [
      "                   all        495        372      0.949      0.858       0.92      0.761      0.972      0.849      0.921       0.64\n"
     ]
    },
    {
     "name": "stderr",
     "output_type": "stream",
     "text": [
      "\n"
     ]
    },
    {
     "name": "stdout",
     "output_type": "stream",
     "text": [
      "\n",
      "      Epoch    GPU_mem   box_loss   seg_loss   cls_loss   dfl_loss  Instances       Size\n"
     ]
    },
    {
     "name": "stderr",
     "output_type": "stream",
     "text": [
      "    297/400      12.5G     0.5327     0.8975     0.2937     0.8319          8\n",
      "                 Class     Images  Instances      Box(P          R      mAP50"
     ]
    },
    {
     "name": "stdout",
     "output_type": "stream",
     "text": [
      "                   all        495        372      0.949      0.858       0.92      0.761      0.972      0.849      0.919      0.639\n"
     ]
    },
    {
     "name": "stderr",
     "output_type": "stream",
     "text": [
      "\n"
     ]
    },
    {
     "name": "stdout",
     "output_type": "stream",
     "text": [
      "\n",
      "      Epoch    GPU_mem   box_loss   seg_loss   cls_loss   dfl_loss  Instances       Size\n"
     ]
    },
    {
     "name": "stderr",
     "output_type": "stream",
     "text": [
      "    298/400      12.5G     0.5353     0.9104     0.2935     0.8313         11\n",
      "                 Class     Images  Instances      Box(P          R      mAP50"
     ]
    },
    {
     "name": "stdout",
     "output_type": "stream",
     "text": [
      "                   all        495        372      0.949      0.858       0.92      0.761      0.973      0.849      0.919      0.639\n"
     ]
    },
    {
     "name": "stderr",
     "output_type": "stream",
     "text": [
      "\n"
     ]
    },
    {
     "name": "stdout",
     "output_type": "stream",
     "text": [
      "\n",
      "      Epoch    GPU_mem   box_loss   seg_loss   cls_loss   dfl_loss  Instances       Size\n"
     ]
    },
    {
     "name": "stderr",
     "output_type": "stream",
     "text": [
      "    299/400      12.5G     0.5253      0.898     0.2919     0.8292          2\n",
      "                 Class     Images  Instances      Box(P          R      mAP50"
     ]
    },
    {
     "name": "stdout",
     "output_type": "stream",
     "text": [
      "                   all        495        372      0.962      0.849       0.92      0.761      0.973      0.849      0.919      0.639\n"
     ]
    },
    {
     "name": "stderr",
     "output_type": "stream",
     "text": [
      "\n"
     ]
    },
    {
     "name": "stdout",
     "output_type": "stream",
     "text": [
      "\n",
      "      Epoch    GPU_mem   box_loss   seg_loss   cls_loss   dfl_loss  Instances       Size\n"
     ]
    },
    {
     "name": "stderr",
     "output_type": "stream",
     "text": [
      "    300/400      12.5G      0.527     0.9135     0.2902     0.8286          3\n",
      "                 Class     Images  Instances      Box(P          R      mAP50"
     ]
    },
    {
     "name": "stdout",
     "output_type": "stream",
     "text": [
      "                   all        495        372      0.961      0.849       0.92       0.76      0.973      0.849      0.919       0.64\n"
     ]
    },
    {
     "name": "stderr",
     "output_type": "stream",
     "text": [
      "\n"
     ]
    },
    {
     "name": "stdout",
     "output_type": "stream",
     "text": [
      "\n",
      "      Epoch    GPU_mem   box_loss   seg_loss   cls_loss   dfl_loss  Instances       Size\n"
     ]
    },
    {
     "name": "stderr",
     "output_type": "stream",
     "text": [
      "    301/400      12.5G     0.5204     0.8907     0.2879     0.8305          6\n",
      "                 Class     Images  Instances      Box(P          R      mAP50"
     ]
    },
    {
     "name": "stdout",
     "output_type": "stream",
     "text": [
      "                   all        495        372      0.961      0.849       0.92      0.759      0.973      0.849      0.919       0.64\n"
     ]
    },
    {
     "name": "stderr",
     "output_type": "stream",
     "text": [
      "\n"
     ]
    },
    {
     "name": "stdout",
     "output_type": "stream",
     "text": [
      "\n",
      "      Epoch    GPU_mem   box_loss   seg_loss   cls_loss   dfl_loss  Instances       Size\n"
     ]
    },
    {
     "name": "stderr",
     "output_type": "stream",
     "text": [
      "    302/400      12.5G     0.5254     0.8969     0.2887     0.8276          7\n",
      "                 Class     Images  Instances      Box(P          R      mAP50"
     ]
    },
    {
     "name": "stdout",
     "output_type": "stream",
     "text": [
      "                   all        495        372      0.961      0.849       0.92       0.76      0.973      0.849      0.922       0.64\n"
     ]
    },
    {
     "name": "stderr",
     "output_type": "stream",
     "text": [
      "\n"
     ]
    },
    {
     "name": "stdout",
     "output_type": "stream",
     "text": [
      "\n",
      "      Epoch    GPU_mem   box_loss   seg_loss   cls_loss   dfl_loss  Instances       Size\n"
     ]
    },
    {
     "name": "stderr",
     "output_type": "stream",
     "text": [
      "    303/400      12.5G     0.5256     0.9042     0.2902     0.8285         10\n",
      "                 Class     Images  Instances      Box(P          R      mAP50"
     ]
    },
    {
     "name": "stdout",
     "output_type": "stream",
     "text": [
      "                   all        495        372      0.963      0.852       0.92      0.759      0.973      0.849       0.92       0.64\n"
     ]
    },
    {
     "name": "stderr",
     "output_type": "stream",
     "text": [
      "\n"
     ]
    },
    {
     "name": "stdout",
     "output_type": "stream",
     "text": [
      "\n",
      "      Epoch    GPU_mem   box_loss   seg_loss   cls_loss   dfl_loss  Instances       Size\n"
     ]
    },
    {
     "name": "stderr",
     "output_type": "stream",
     "text": [
      "    304/400      12.5G     0.5195     0.9004     0.2897     0.8256         15\n",
      "                 Class     Images  Instances      Box(P          R      mAP50"
     ]
    },
    {
     "name": "stdout",
     "output_type": "stream",
     "text": [
      "                   all        495        372      0.963      0.855       0.92       0.76      0.973      0.849      0.922      0.641\n"
     ]
    },
    {
     "name": "stderr",
     "output_type": "stream",
     "text": [
      "\n"
     ]
    },
    {
     "name": "stdout",
     "output_type": "stream",
     "text": [
      "\n",
      "      Epoch    GPU_mem   box_loss   seg_loss   cls_loss   dfl_loss  Instances       Size\n"
     ]
    },
    {
     "name": "stderr",
     "output_type": "stream",
     "text": [
      "    305/400      12.5G     0.5145     0.8949     0.2879      0.829          8\n",
      "                 Class     Images  Instances      Box(P          R      mAP50"
     ]
    },
    {
     "name": "stdout",
     "output_type": "stream",
     "text": [
      "                   all        495        372      0.963      0.855       0.92      0.761      0.973      0.849       0.92       0.64\n"
     ]
    },
    {
     "name": "stderr",
     "output_type": "stream",
     "text": [
      "\n"
     ]
    },
    {
     "name": "stdout",
     "output_type": "stream",
     "text": [
      "\n",
      "      Epoch    GPU_mem   box_loss   seg_loss   cls_loss   dfl_loss  Instances       Size\n"
     ]
    },
    {
     "name": "stderr",
     "output_type": "stream",
     "text": [
      "    306/400      12.5G     0.5201     0.8966     0.2853     0.8256          6\n",
      "                 Class     Images  Instances      Box(P          R      mAP50"
     ]
    },
    {
     "name": "stdout",
     "output_type": "stream",
     "text": [
      "                   all        495        372      0.963      0.855       0.92      0.761      0.973      0.849      0.919       0.64\n"
     ]
    },
    {
     "name": "stderr",
     "output_type": "stream",
     "text": [
      "\n"
     ]
    },
    {
     "name": "stdout",
     "output_type": "stream",
     "text": [
      "\n",
      "      Epoch    GPU_mem   box_loss   seg_loss   cls_loss   dfl_loss  Instances       Size\n"
     ]
    },
    {
     "name": "stderr",
     "output_type": "stream",
     "text": [
      "    307/400      12.5G      0.522     0.8988     0.2874     0.8251          7\n",
      "                 Class     Images  Instances      Box(P          R      mAP50"
     ]
    },
    {
     "name": "stdout",
     "output_type": "stream",
     "text": [
      "                   all        495        372      0.963      0.855      0.921      0.761      0.973      0.849      0.919       0.64\n"
     ]
    },
    {
     "name": "stderr",
     "output_type": "stream",
     "text": [
      "\n"
     ]
    },
    {
     "name": "stdout",
     "output_type": "stream",
     "text": [
      "\n",
      "      Epoch    GPU_mem   box_loss   seg_loss   cls_loss   dfl_loss  Instances       Size\n"
     ]
    },
    {
     "name": "stderr",
     "output_type": "stream",
     "text": [
      "    308/400      12.5G     0.5149     0.8806     0.2836     0.8278         10\n",
      "                 Class     Images  Instances      Box(P          R      mAP50"
     ]
    },
    {
     "name": "stdout",
     "output_type": "stream",
     "text": [
      "                   all        495        372      0.961      0.855      0.921      0.761      0.973      0.849       0.92      0.639\n"
     ]
    },
    {
     "name": "stderr",
     "output_type": "stream",
     "text": [
      "\n"
     ]
    },
    {
     "name": "stdout",
     "output_type": "stream",
     "text": [
      "\n",
      "      Epoch    GPU_mem   box_loss   seg_loss   cls_loss   dfl_loss  Instances       Size\n"
     ]
    },
    {
     "name": "stderr",
     "output_type": "stream",
     "text": [
      "    309/400      12.5G     0.5145     0.8791     0.2837     0.8261          3\n",
      "                 Class     Images  Instances      Box(P          R      mAP50"
     ]
    },
    {
     "name": "stdout",
     "output_type": "stream",
     "text": [
      "                   all        495        372       0.96      0.855      0.921       0.76      0.973      0.849       0.92       0.64\n"
     ]
    },
    {
     "name": "stderr",
     "output_type": "stream",
     "text": [
      "\n"
     ]
    },
    {
     "name": "stdout",
     "output_type": "stream",
     "text": [
      "\n",
      "      Epoch    GPU_mem   box_loss   seg_loss   cls_loss   dfl_loss  Instances       Size\n"
     ]
    },
    {
     "name": "stderr",
     "output_type": "stream",
     "text": [
      "    310/400      12.5G     0.5185     0.8946     0.2884     0.8283          8\n",
      "                 Class     Images  Instances      Box(P          R      mAP50"
     ]
    },
    {
     "name": "stdout",
     "output_type": "stream",
     "text": [
      "                   all        495        372       0.96      0.855      0.921      0.761      0.973      0.849      0.922      0.641\n"
     ]
    },
    {
     "name": "stderr",
     "output_type": "stream",
     "text": [
      "\n"
     ]
    },
    {
     "name": "stdout",
     "output_type": "stream",
     "text": [
      "\n",
      "      Epoch    GPU_mem   box_loss   seg_loss   cls_loss   dfl_loss  Instances       Size\n"
     ]
    },
    {
     "name": "stderr",
     "output_type": "stream",
     "text": [
      "    311/400      12.5G     0.4991     0.8664     0.2797     0.8259          7\n",
      "                 Class     Images  Instances      Box(P          R      mAP50"
     ]
    },
    {
     "name": "stdout",
     "output_type": "stream",
     "text": [
      "                   all        495        372       0.96      0.855      0.921      0.761      0.973      0.849       0.92       0.64\n"
     ]
    },
    {
     "name": "stderr",
     "output_type": "stream",
     "text": [
      "\n"
     ]
    },
    {
     "name": "stdout",
     "output_type": "stream",
     "text": [
      "\n",
      "      Epoch    GPU_mem   box_loss   seg_loss   cls_loss   dfl_loss  Instances       Size\n"
     ]
    },
    {
     "name": "stderr",
     "output_type": "stream",
     "text": [
      "    312/400      12.5G     0.5089     0.8701     0.2843     0.8292          3\n",
      "                 Class     Images  Instances      Box(P          R      mAP50"
     ]
    },
    {
     "name": "stdout",
     "output_type": "stream",
     "text": [
      "                   all        495        372      0.959      0.855      0.921       0.76      0.974      0.849      0.919      0.641\n"
     ]
    },
    {
     "name": "stderr",
     "output_type": "stream",
     "text": [
      "\n"
     ]
    },
    {
     "name": "stdout",
     "output_type": "stream",
     "text": [
      "\n",
      "      Epoch    GPU_mem   box_loss   seg_loss   cls_loss   dfl_loss  Instances       Size\n"
     ]
    },
    {
     "name": "stderr",
     "output_type": "stream",
     "text": [
      "    313/400      12.5G     0.5071     0.8802     0.2792     0.8252          5\n",
      "                 Class     Images  Instances      Box(P          R      mAP50"
     ]
    },
    {
     "name": "stdout",
     "output_type": "stream",
     "text": [
      "                   all        495        372      0.958      0.855      0.921      0.761      0.974      0.849       0.92      0.641\n"
     ]
    },
    {
     "name": "stderr",
     "output_type": "stream",
     "text": [
      "\n"
     ]
    },
    {
     "name": "stdout",
     "output_type": "stream",
     "text": [
      "\n",
      "      Epoch    GPU_mem   box_loss   seg_loss   cls_loss   dfl_loss  Instances       Size\n"
     ]
    },
    {
     "name": "stderr",
     "output_type": "stream",
     "text": [
      "    314/400      12.5G     0.5208     0.8852      0.285     0.8267          8\n",
      "                 Class     Images  Instances      Box(P          R      mAP50"
     ]
    },
    {
     "name": "stdout",
     "output_type": "stream",
     "text": [
      "                   all        495        372      0.959      0.855      0.921       0.76      0.974      0.849       0.92      0.642\n"
     ]
    },
    {
     "name": "stderr",
     "output_type": "stream",
     "text": [
      "\n"
     ]
    },
    {
     "name": "stdout",
     "output_type": "stream",
     "text": [
      "\n",
      "      Epoch    GPU_mem   box_loss   seg_loss   cls_loss   dfl_loss  Instances       Size\n"
     ]
    },
    {
     "name": "stderr",
     "output_type": "stream",
     "text": [
      "    315/400      12.5G     0.5053      0.869     0.2793     0.8242         12\n",
      "                 Class     Images  Instances      Box(P          R      mAP50"
     ]
    },
    {
     "name": "stdout",
     "output_type": "stream",
     "text": [
      "                   all        495        372      0.958      0.855      0.922      0.761      0.971      0.847       0.92      0.642\n"
     ]
    },
    {
     "name": "stderr",
     "output_type": "stream",
     "text": [
      "\n"
     ]
    },
    {
     "name": "stdout",
     "output_type": "stream",
     "text": [
      "\n",
      "      Epoch    GPU_mem   box_loss   seg_loss   cls_loss   dfl_loss  Instances       Size\n"
     ]
    },
    {
     "name": "stderr",
     "output_type": "stream",
     "text": [
      "    316/400      12.5G     0.5008     0.8692     0.2788     0.8225          4\n",
      "                 Class     Images  Instances      Box(P          R      mAP50"
     ]
    },
    {
     "name": "stdout",
     "output_type": "stream",
     "text": [
      "                   all        495        372      0.958      0.855      0.922       0.76      0.971      0.847       0.92      0.643\n"
     ]
    },
    {
     "name": "stderr",
     "output_type": "stream",
     "text": [
      "\n"
     ]
    },
    {
     "name": "stdout",
     "output_type": "stream",
     "text": [
      "\n",
      "      Epoch    GPU_mem   box_loss   seg_loss   cls_loss   dfl_loss  Instances       Size\n"
     ]
    },
    {
     "name": "stderr",
     "output_type": "stream",
     "text": [
      "    317/400      12.5G     0.5036     0.8673     0.2805     0.8246         10\n",
      "                 Class     Images  Instances      Box(P          R      mAP50"
     ]
    },
    {
     "name": "stdout",
     "output_type": "stream",
     "text": [
      "                   all        495        372      0.961      0.857      0.922      0.762      0.972      0.847       0.92      0.644\n"
     ]
    },
    {
     "name": "stderr",
     "output_type": "stream",
     "text": [
      "\n"
     ]
    },
    {
     "name": "stdout",
     "output_type": "stream",
     "text": [
      "\n",
      "      Epoch    GPU_mem   box_loss   seg_loss   cls_loss   dfl_loss  Instances       Size\n"
     ]
    },
    {
     "name": "stderr",
     "output_type": "stream",
     "text": [
      "    318/400      12.5G     0.5014     0.8681     0.2768      0.826          9\n",
      "                 Class     Images  Instances      Box(P          R      mAP50"
     ]
    },
    {
     "name": "stdout",
     "output_type": "stream",
     "text": [
      "                   all        495        372       0.96      0.858      0.922      0.763      0.972      0.847      0.923      0.646\n"
     ]
    },
    {
     "name": "stderr",
     "output_type": "stream",
     "text": [
      "\n"
     ]
    },
    {
     "name": "stdout",
     "output_type": "stream",
     "text": [
      "\n",
      "      Epoch    GPU_mem   box_loss   seg_loss   cls_loss   dfl_loss  Instances       Size\n"
     ]
    },
    {
     "name": "stderr",
     "output_type": "stream",
     "text": [
      "    319/400      12.5G     0.5097     0.8839     0.2823     0.8256          9\n",
      "                 Class     Images  Instances      Box(P          R      mAP50"
     ]
    },
    {
     "name": "stdout",
     "output_type": "stream",
     "text": [
      "                   all        495        372      0.961      0.856      0.922      0.763      0.972      0.847      0.921      0.646\n"
     ]
    },
    {
     "name": "stderr",
     "output_type": "stream",
     "text": [
      "\n"
     ]
    },
    {
     "name": "stdout",
     "output_type": "stream",
     "text": [
      "\n",
      "      Epoch    GPU_mem   box_loss   seg_loss   cls_loss   dfl_loss  Instances       Size\n"
     ]
    },
    {
     "name": "stderr",
     "output_type": "stream",
     "text": [
      "    320/400      12.5G     0.4886     0.8573     0.2719     0.8192          7\n",
      "                 Class     Images  Instances      Box(P          R      mAP50"
     ]
    },
    {
     "name": "stdout",
     "output_type": "stream",
     "text": [
      "                   all        495        372      0.961      0.856      0.922      0.763      0.972      0.847      0.921      0.647\n"
     ]
    },
    {
     "name": "stderr",
     "output_type": "stream",
     "text": [
      "\n"
     ]
    },
    {
     "name": "stdout",
     "output_type": "stream",
     "text": [
      "\n",
      "      Epoch    GPU_mem   box_loss   seg_loss   cls_loss   dfl_loss  Instances       Size\n"
     ]
    },
    {
     "name": "stderr",
     "output_type": "stream",
     "text": [
      "    321/400      12.5G     0.4998     0.8653     0.2713     0.8251          3\n",
      "                 Class     Images  Instances      Box(P          R      mAP50"
     ]
    },
    {
     "name": "stdout",
     "output_type": "stream",
     "text": [
      "                   all        495        372      0.961      0.856      0.922      0.763      0.972      0.847      0.921      0.647\n"
     ]
    },
    {
     "name": "stderr",
     "output_type": "stream",
     "text": [
      "\n"
     ]
    },
    {
     "name": "stdout",
     "output_type": "stream",
     "text": [
      "\n",
      "      Epoch    GPU_mem   box_loss   seg_loss   cls_loss   dfl_loss  Instances       Size\n"
     ]
    },
    {
     "name": "stderr",
     "output_type": "stream",
     "text": [
      "    322/400      12.5G     0.4911     0.8502     0.2697     0.8207          9\n",
      "                 Class     Images  Instances      Box(P          R      mAP50"
     ]
    },
    {
     "name": "stdout",
     "output_type": "stream",
     "text": [
      "                   all        495        372      0.961      0.856      0.922      0.763      0.972      0.847      0.921      0.647\n"
     ]
    },
    {
     "name": "stderr",
     "output_type": "stream",
     "text": [
      "\n"
     ]
    },
    {
     "name": "stdout",
     "output_type": "stream",
     "text": [
      "\n",
      "      Epoch    GPU_mem   box_loss   seg_loss   cls_loss   dfl_loss  Instances       Size\n"
     ]
    },
    {
     "name": "stderr",
     "output_type": "stream",
     "text": [
      "    323/400      12.5G     0.4854     0.8456     0.2728     0.8209          8\n",
      "                 Class     Images  Instances      Box(P          R      mAP50"
     ]
    },
    {
     "name": "stdout",
     "output_type": "stream",
     "text": [
      "                   all        495        372      0.961      0.856      0.923      0.764      0.972      0.847      0.922      0.648\n"
     ]
    },
    {
     "name": "stderr",
     "output_type": "stream",
     "text": [
      "\n"
     ]
    },
    {
     "name": "stdout",
     "output_type": "stream",
     "text": [
      "\n",
      "      Epoch    GPU_mem   box_loss   seg_loss   cls_loss   dfl_loss  Instances       Size\n"
     ]
    },
    {
     "name": "stderr",
     "output_type": "stream",
     "text": [
      "    324/400      12.5G       0.49     0.8465     0.2722      0.821         11\n",
      "                 Class     Images  Instances      Box(P          R      mAP50"
     ]
    },
    {
     "name": "stdout",
     "output_type": "stream",
     "text": [
      "                   all        495        372       0.96       0.86      0.923      0.764      0.972      0.847      0.922       0.65\n"
     ]
    },
    {
     "name": "stderr",
     "output_type": "stream",
     "text": [
      "\n"
     ]
    },
    {
     "name": "stdout",
     "output_type": "stream",
     "text": [
      "\n",
      "      Epoch    GPU_mem   box_loss   seg_loss   cls_loss   dfl_loss  Instances       Size\n"
     ]
    },
    {
     "name": "stderr",
     "output_type": "stream",
     "text": [
      "    325/400      12.5G     0.4911     0.8551     0.2735     0.8181         12\n",
      "                 Class     Images  Instances      Box(P          R      mAP50"
     ]
    },
    {
     "name": "stdout",
     "output_type": "stream",
     "text": [
      "                   all        495        372       0.96       0.86      0.923      0.764      0.972      0.846      0.922       0.65\n"
     ]
    },
    {
     "name": "stderr",
     "output_type": "stream",
     "text": [
      "\n"
     ]
    },
    {
     "name": "stdout",
     "output_type": "stream",
     "text": [
      "\n",
      "      Epoch    GPU_mem   box_loss   seg_loss   cls_loss   dfl_loss  Instances       Size\n"
     ]
    },
    {
     "name": "stderr",
     "output_type": "stream",
     "text": [
      "    326/400      12.5G     0.4884     0.8444     0.2744      0.823          5\n",
      "                 Class     Images  Instances      Box(P          R      mAP50"
     ]
    },
    {
     "name": "stdout",
     "output_type": "stream",
     "text": [
      "                   all        495        372      0.959       0.86      0.923      0.765      0.972      0.846      0.922       0.65\n"
     ]
    },
    {
     "name": "stderr",
     "output_type": "stream",
     "text": [
      "\n"
     ]
    },
    {
     "name": "stdout",
     "output_type": "stream",
     "text": [
      "\n",
      "      Epoch    GPU_mem   box_loss   seg_loss   cls_loss   dfl_loss  Instances       Size\n"
     ]
    },
    {
     "name": "stderr",
     "output_type": "stream",
     "text": [
      "    327/400      12.5G     0.4838     0.8405     0.2703      0.823         12\n",
      "                 Class     Images  Instances      Box(P          R      mAP50"
     ]
    },
    {
     "name": "stdout",
     "output_type": "stream",
     "text": [
      "                   all        495        372      0.958       0.86      0.922      0.764      0.971      0.847      0.921      0.651\n"
     ]
    },
    {
     "name": "stderr",
     "output_type": "stream",
     "text": [
      "\n"
     ]
    },
    {
     "name": "stdout",
     "output_type": "stream",
     "text": [
      "\n",
      "      Epoch    GPU_mem   box_loss   seg_loss   cls_loss   dfl_loss  Instances       Size\n"
     ]
    },
    {
     "name": "stderr",
     "output_type": "stream",
     "text": [
      "    328/400      12.5G     0.4738      0.842      0.265      0.819          7\n",
      "                 Class     Images  Instances      Box(P          R      mAP50"
     ]
    },
    {
     "name": "stdout",
     "output_type": "stream",
     "text": [
      "                   all        495        372      0.958       0.86      0.922      0.765       0.97      0.847      0.921      0.651\n"
     ]
    },
    {
     "name": "stderr",
     "output_type": "stream",
     "text": [
      "\n"
     ]
    },
    {
     "name": "stdout",
     "output_type": "stream",
     "text": [
      "\n",
      "      Epoch    GPU_mem   box_loss   seg_loss   cls_loss   dfl_loss  Instances       Size\n"
     ]
    },
    {
     "name": "stderr",
     "output_type": "stream",
     "text": [
      "    329/400      12.5G     0.4842     0.8381     0.2678     0.8247         13\n",
      "                 Class     Images  Instances      Box(P          R      mAP50"
     ]
    },
    {
     "name": "stdout",
     "output_type": "stream",
     "text": [
      "                   all        495        372      0.957       0.86      0.922      0.765       0.97      0.847      0.921      0.651\n"
     ]
    },
    {
     "name": "stderr",
     "output_type": "stream",
     "text": [
      "\n"
     ]
    },
    {
     "name": "stdout",
     "output_type": "stream",
     "text": [
      "\n",
      "      Epoch    GPU_mem   box_loss   seg_loss   cls_loss   dfl_loss  Instances       Size\n"
     ]
    },
    {
     "name": "stderr",
     "output_type": "stream",
     "text": [
      "    330/400      12.5G      0.484     0.8364     0.2688     0.8202         12\n",
      "                 Class     Images  Instances      Box(P          R      mAP50"
     ]
    },
    {
     "name": "stdout",
     "output_type": "stream",
     "text": [
      "                   all        495        372      0.961      0.855      0.922      0.765      0.972      0.848      0.921      0.652\n"
     ]
    },
    {
     "name": "stderr",
     "output_type": "stream",
     "text": [
      "\n"
     ]
    },
    {
     "name": "stdout",
     "output_type": "stream",
     "text": [
      "\n",
      "      Epoch    GPU_mem   box_loss   seg_loss   cls_loss   dfl_loss  Instances       Size\n"
     ]
    },
    {
     "name": "stderr",
     "output_type": "stream",
     "text": [
      "    331/400      12.5G     0.4784     0.8373      0.268     0.8191         17\n",
      "                 Class     Images  Instances      Box(P          R      mAP50"
     ]
    },
    {
     "name": "stdout",
     "output_type": "stream",
     "text": [
      "                   all        495        372      0.962      0.855      0.922      0.766      0.972      0.849      0.922      0.652\n"
     ]
    },
    {
     "name": "stderr",
     "output_type": "stream",
     "text": [
      "\n"
     ]
    },
    {
     "name": "stdout",
     "output_type": "stream",
     "text": [
      "\n",
      "      Epoch    GPU_mem   box_loss   seg_loss   cls_loss   dfl_loss  Instances       Size\n"
     ]
    },
    {
     "name": "stderr",
     "output_type": "stream",
     "text": [
      "    332/400      12.5G     0.4805     0.8345     0.2656     0.8185          5\n",
      "                 Class     Images  Instances      Box(P          R      mAP50"
     ]
    },
    {
     "name": "stdout",
     "output_type": "stream",
     "text": [
      "                   all        495        372      0.962      0.855      0.922      0.766      0.972      0.849      0.922      0.653\n"
     ]
    },
    {
     "name": "stderr",
     "output_type": "stream",
     "text": [
      "\n"
     ]
    },
    {
     "name": "stdout",
     "output_type": "stream",
     "text": [
      "\n",
      "      Epoch    GPU_mem   box_loss   seg_loss   cls_loss   dfl_loss  Instances       Size\n"
     ]
    },
    {
     "name": "stderr",
     "output_type": "stream",
     "text": [
      "    333/400      12.5G     0.4714     0.8273     0.2604     0.8233          9\n",
      "                 Class     Images  Instances      Box(P          R      mAP50"
     ]
    },
    {
     "name": "stdout",
     "output_type": "stream",
     "text": [
      "                   all        495        372      0.962      0.855      0.922      0.766      0.972      0.849      0.922      0.654\n"
     ]
    },
    {
     "name": "stderr",
     "output_type": "stream",
     "text": [
      "\n"
     ]
    },
    {
     "name": "stdout",
     "output_type": "stream",
     "text": [
      "\n",
      "      Epoch    GPU_mem   box_loss   seg_loss   cls_loss   dfl_loss  Instances       Size\n"
     ]
    },
    {
     "name": "stderr",
     "output_type": "stream",
     "text": [
      "    334/400      12.5G     0.4781     0.8314     0.2687     0.8213         13\n",
      "                 Class     Images  Instances      Box(P          R      mAP50"
     ]
    },
    {
     "name": "stdout",
     "output_type": "stream",
     "text": [
      "                   all        495        372      0.962      0.855      0.922      0.766      0.972      0.849      0.922      0.654\n"
     ]
    },
    {
     "name": "stderr",
     "output_type": "stream",
     "text": [
      "\n"
     ]
    },
    {
     "name": "stdout",
     "output_type": "stream",
     "text": [
      "\n",
      "      Epoch    GPU_mem   box_loss   seg_loss   cls_loss   dfl_loss  Instances       Size\n"
     ]
    },
    {
     "name": "stderr",
     "output_type": "stream",
     "text": [
      "    335/400      12.5G     0.4713     0.8385     0.2632     0.8167          9\n",
      "                 Class     Images  Instances      Box(P          R      mAP50"
     ]
    },
    {
     "name": "stdout",
     "output_type": "stream",
     "text": [
      "                   all        495        372      0.963      0.855      0.922      0.765      0.972      0.849      0.922      0.654\n"
     ]
    },
    {
     "name": "stderr",
     "output_type": "stream",
     "text": [
      "\n"
     ]
    },
    {
     "name": "stdout",
     "output_type": "stream",
     "text": [
      "\n",
      "      Epoch    GPU_mem   box_loss   seg_loss   cls_loss   dfl_loss  Instances       Size\n"
     ]
    },
    {
     "name": "stderr",
     "output_type": "stream",
     "text": [
      "    336/400      12.5G     0.4694     0.8211      0.262     0.8172          7\n",
      "                 Class     Images  Instances      Box(P          R      mAP50"
     ]
    },
    {
     "name": "stdout",
     "output_type": "stream",
     "text": [
      "                   all        495        372      0.964      0.855      0.922      0.765      0.972      0.849      0.922      0.654\n"
     ]
    },
    {
     "name": "stderr",
     "output_type": "stream",
     "text": [
      "\n"
     ]
    },
    {
     "name": "stdout",
     "output_type": "stream",
     "text": [
      "\n",
      "      Epoch    GPU_mem   box_loss   seg_loss   cls_loss   dfl_loss  Instances       Size\n"
     ]
    },
    {
     "name": "stderr",
     "output_type": "stream",
     "text": [
      "    337/400      12.5G     0.4753     0.8185     0.2628     0.8179         14\n",
      "                 Class     Images  Instances      Box(P          R      mAP50"
     ]
    },
    {
     "name": "stdout",
     "output_type": "stream",
     "text": [
      "                   all        495        372      0.964      0.855      0.922      0.765      0.972      0.849      0.922      0.652\n"
     ]
    },
    {
     "name": "stderr",
     "output_type": "stream",
     "text": [
      "\n"
     ]
    },
    {
     "name": "stdout",
     "output_type": "stream",
     "text": [
      "\n",
      "      Epoch    GPU_mem   box_loss   seg_loss   cls_loss   dfl_loss  Instances       Size\n"
     ]
    },
    {
     "name": "stderr",
     "output_type": "stream",
     "text": [
      "    338/400      12.5G      0.466     0.8162      0.264     0.8192          6\n",
      "                 Class     Images  Instances      Box(P          R      mAP50"
     ]
    },
    {
     "name": "stdout",
     "output_type": "stream",
     "text": [
      "                   all        495        372      0.964      0.855      0.922      0.766      0.972      0.849      0.922      0.654\n"
     ]
    },
    {
     "name": "stderr",
     "output_type": "stream",
     "text": [
      "\n"
     ]
    },
    {
     "name": "stdout",
     "output_type": "stream",
     "text": [
      "\n",
      "      Epoch    GPU_mem   box_loss   seg_loss   cls_loss   dfl_loss  Instances       Size\n"
     ]
    },
    {
     "name": "stderr",
     "output_type": "stream",
     "text": [
      "    339/400      12.5G      0.467     0.8162     0.2609     0.8188          4\n",
      "                 Class     Images  Instances      Box(P          R      mAP50"
     ]
    },
    {
     "name": "stdout",
     "output_type": "stream",
     "text": [
      "                   all        495        372      0.964      0.855      0.922      0.766      0.972      0.849      0.922      0.654\n"
     ]
    },
    {
     "name": "stderr",
     "output_type": "stream",
     "text": [
      "\n"
     ]
    },
    {
     "name": "stdout",
     "output_type": "stream",
     "text": [
      "\n",
      "      Epoch    GPU_mem   box_loss   seg_loss   cls_loss   dfl_loss  Instances       Size\n"
     ]
    },
    {
     "name": "stderr",
     "output_type": "stream",
     "text": [
      "    340/400      12.5G     0.4643     0.8193     0.2587     0.8173          9\n",
      "                 Class     Images  Instances      Box(P          R      mAP50"
     ]
    },
    {
     "name": "stdout",
     "output_type": "stream",
     "text": [
      "                   all        495        372      0.964      0.855      0.922      0.767      0.972      0.849      0.922      0.654\n"
     ]
    },
    {
     "name": "stderr",
     "output_type": "stream",
     "text": [
      "\n"
     ]
    },
    {
     "name": "stdout",
     "output_type": "stream",
     "text": [
      "\n",
      "      Epoch    GPU_mem   box_loss   seg_loss   cls_loss   dfl_loss  Instances       Size\n"
     ]
    },
    {
     "name": "stderr",
     "output_type": "stream",
     "text": [
      "    341/400      12.5G     0.4643     0.8157       0.26     0.8135         13\n",
      "                 Class     Images  Instances      Box(P          R      mAP50"
     ]
    },
    {
     "name": "stdout",
     "output_type": "stream",
     "text": [
      "                   all        495        372      0.964      0.855      0.922      0.767      0.972      0.849      0.922      0.655\n"
     ]
    },
    {
     "name": "stderr",
     "output_type": "stream",
     "text": [
      "\n"
     ]
    },
    {
     "name": "stdout",
     "output_type": "stream",
     "text": [
      "\n",
      "      Epoch    GPU_mem   box_loss   seg_loss   cls_loss   dfl_loss  Instances       Size\n"
     ]
    },
    {
     "name": "stderr",
     "output_type": "stream",
     "text": [
      "    342/400      12.5G     0.4648     0.8123       0.26     0.8138         12\n",
      "                 Class     Images  Instances      Box(P          R      mAP50"
     ]
    },
    {
     "name": "stdout",
     "output_type": "stream",
     "text": [
      "                   all        495        372      0.967      0.857      0.922      0.767      0.972      0.849      0.922      0.655\n"
     ]
    },
    {
     "name": "stderr",
     "output_type": "stream",
     "text": [
      "\n"
     ]
    },
    {
     "name": "stdout",
     "output_type": "stream",
     "text": [
      "\n",
      "      Epoch    GPU_mem   box_loss   seg_loss   cls_loss   dfl_loss  Instances       Size\n"
     ]
    },
    {
     "name": "stderr",
     "output_type": "stream",
     "text": [
      "    343/400      12.5G     0.4521     0.8036     0.2554     0.8152          9\n",
      "                 Class     Images  Instances      Box(P          R      mAP50"
     ]
    },
    {
     "name": "stdout",
     "output_type": "stream",
     "text": [
      "                   all        495        372      0.967      0.857      0.922      0.767      0.972      0.849      0.922      0.654\n"
     ]
    },
    {
     "name": "stderr",
     "output_type": "stream",
     "text": [
      "\n"
     ]
    },
    {
     "name": "stdout",
     "output_type": "stream",
     "text": [
      "\n",
      "      Epoch    GPU_mem   box_loss   seg_loss   cls_loss   dfl_loss  Instances       Size\n"
     ]
    },
    {
     "name": "stderr",
     "output_type": "stream",
     "text": [
      "    344/400      12.5G     0.4609     0.8181     0.2575     0.8136         11\n",
      "                 Class     Images  Instances      Box(P          R      mAP50"
     ]
    },
    {
     "name": "stdout",
     "output_type": "stream",
     "text": [
      "                   all        495        372      0.967      0.857      0.922      0.768      0.972      0.849      0.922      0.655\n"
     ]
    },
    {
     "name": "stderr",
     "output_type": "stream",
     "text": [
      "\n"
     ]
    },
    {
     "name": "stdout",
     "output_type": "stream",
     "text": [
      "\n",
      "      Epoch    GPU_mem   box_loss   seg_loss   cls_loss   dfl_loss  Instances       Size\n"
     ]
    },
    {
     "name": "stderr",
     "output_type": "stream",
     "text": [
      "    345/400      12.5G     0.4593      0.813      0.256     0.8182          5\n",
      "                 Class     Images  Instances      Box(P          R      mAP50"
     ]
    },
    {
     "name": "stdout",
     "output_type": "stream",
     "text": [
      "                   all        495        372      0.967      0.857      0.922      0.769      0.972      0.849      0.922      0.653\n"
     ]
    },
    {
     "name": "stderr",
     "output_type": "stream",
     "text": [
      "\n"
     ]
    },
    {
     "name": "stdout",
     "output_type": "stream",
     "text": [
      "\n",
      "      Epoch    GPU_mem   box_loss   seg_loss   cls_loss   dfl_loss  Instances       Size\n"
     ]
    },
    {
     "name": "stderr",
     "output_type": "stream",
     "text": [
      "    346/400      12.5G      0.453     0.8033     0.2537     0.8112         17\n",
      "                 Class     Images  Instances      Box(P          R      mAP50"
     ]
    },
    {
     "name": "stdout",
     "output_type": "stream",
     "text": [
      "                   all        495        372      0.967      0.857      0.923      0.768      0.971      0.849      0.923      0.653\n"
     ]
    },
    {
     "name": "stderr",
     "output_type": "stream",
     "text": [
      "\n"
     ]
    },
    {
     "name": "stdout",
     "output_type": "stream",
     "text": [
      "\n",
      "      Epoch    GPU_mem   box_loss   seg_loss   cls_loss   dfl_loss  Instances       Size\n"
     ]
    },
    {
     "name": "stderr",
     "output_type": "stream",
     "text": [
      "    347/400      12.5G     0.4501     0.7947     0.2525      0.815          3\n",
      "                 Class     Images  Instances      Box(P          R      mAP50"
     ]
    },
    {
     "name": "stdout",
     "output_type": "stream",
     "text": [
      "                   all        495        372      0.967      0.857      0.923      0.769      0.971      0.849      0.923      0.655\n"
     ]
    },
    {
     "name": "stderr",
     "output_type": "stream",
     "text": [
      "\n"
     ]
    },
    {
     "name": "stdout",
     "output_type": "stream",
     "text": [
      "\n",
      "      Epoch    GPU_mem   box_loss   seg_loss   cls_loss   dfl_loss  Instances       Size\n"
     ]
    },
    {
     "name": "stderr",
     "output_type": "stream",
     "text": [
      "    348/400      12.5G     0.4542     0.8066     0.2528     0.8131          6\n",
      "                 Class     Images  Instances      Box(P          R      mAP50"
     ]
    },
    {
     "name": "stdout",
     "output_type": "stream",
     "text": [
      "                   all        495        372      0.967      0.857      0.923      0.769      0.971      0.849      0.923      0.654\n"
     ]
    },
    {
     "name": "stderr",
     "output_type": "stream",
     "text": [
      "\n"
     ]
    },
    {
     "name": "stdout",
     "output_type": "stream",
     "text": [
      "\n",
      "      Epoch    GPU_mem   box_loss   seg_loss   cls_loss   dfl_loss  Instances       Size\n"
     ]
    },
    {
     "name": "stderr",
     "output_type": "stream",
     "text": [
      "    349/400      12.5G     0.4475     0.7887     0.2525     0.8139          3\n",
      "                 Class     Images  Instances      Box(P          R      mAP50"
     ]
    },
    {
     "name": "stdout",
     "output_type": "stream",
     "text": [
      "                   all        495        372      0.967      0.857      0.923      0.769      0.971      0.849      0.923      0.656\n"
     ]
    },
    {
     "name": "stderr",
     "output_type": "stream",
     "text": [
      "\n"
     ]
    },
    {
     "name": "stdout",
     "output_type": "stream",
     "text": [
      "\n",
      "      Epoch    GPU_mem   box_loss   seg_loss   cls_loss   dfl_loss  Instances       Size\n"
     ]
    },
    {
     "name": "stderr",
     "output_type": "stream",
     "text": [
      "    350/400      12.5G     0.4454     0.7916     0.2512     0.8121          4\n",
      "                 Class     Images  Instances      Box(P          R      mAP50"
     ]
    },
    {
     "name": "stdout",
     "output_type": "stream",
     "text": [
      "                   all        495        372      0.967      0.857      0.923       0.77      0.971      0.849      0.923      0.655\n"
     ]
    },
    {
     "name": "stderr",
     "output_type": "stream",
     "text": [
      "\n"
     ]
    },
    {
     "name": "stdout",
     "output_type": "stream",
     "text": [
      "\n",
      "      Epoch    GPU_mem   box_loss   seg_loss   cls_loss   dfl_loss  Instances       Size\n"
     ]
    },
    {
     "name": "stderr",
     "output_type": "stream",
     "text": [
      "    351/400      12.5G     0.4411     0.7924     0.2508     0.8114          4\n",
      "                 Class     Images  Instances      Box(P          R      mAP50"
     ]
    },
    {
     "name": "stdout",
     "output_type": "stream",
     "text": [
      "                   all        495        372      0.967      0.857      0.923       0.77      0.971      0.849      0.923      0.656\n"
     ]
    },
    {
     "name": "stderr",
     "output_type": "stream",
     "text": [
      "\n"
     ]
    },
    {
     "name": "stdout",
     "output_type": "stream",
     "text": [
      "\n",
      "      Epoch    GPU_mem   box_loss   seg_loss   cls_loss   dfl_loss  Instances       Size\n"
     ]
    },
    {
     "name": "stderr",
     "output_type": "stream",
     "text": [
      "    352/400      12.5G     0.4428     0.7921     0.2505     0.8145          7\n",
      "                 Class     Images  Instances      Box(P          R      mAP50"
     ]
    },
    {
     "name": "stdout",
     "output_type": "stream",
     "text": [
      "                   all        495        372      0.967      0.858      0.923       0.77      0.971      0.849      0.923      0.656\n"
     ]
    },
    {
     "name": "stderr",
     "output_type": "stream",
     "text": [
      "\n"
     ]
    },
    {
     "name": "stdout",
     "output_type": "stream",
     "text": [
      "\n",
      "      Epoch    GPU_mem   box_loss   seg_loss   cls_loss   dfl_loss  Instances       Size\n"
     ]
    },
    {
     "name": "stderr",
     "output_type": "stream",
     "text": [
      "    353/400      12.5G     0.4392     0.7946     0.2487     0.8135          7\n",
      "                 Class     Images  Instances      Box(P          R      mAP50"
     ]
    },
    {
     "name": "stdout",
     "output_type": "stream",
     "text": [
      "                   all        495        372      0.967      0.858      0.923      0.771       0.97      0.849      0.923      0.655\n"
     ]
    },
    {
     "name": "stderr",
     "output_type": "stream",
     "text": [
      "\n"
     ]
    },
    {
     "name": "stdout",
     "output_type": "stream",
     "text": [
      "\n",
      "      Epoch    GPU_mem   box_loss   seg_loss   cls_loss   dfl_loss  Instances       Size\n"
     ]
    },
    {
     "name": "stderr",
     "output_type": "stream",
     "text": [
      "    354/400      12.5G     0.4439     0.7877     0.2484      0.812          3\n",
      "                 Class     Images  Instances      Box(P          R      mAP50"
     ]
    },
    {
     "name": "stdout",
     "output_type": "stream",
     "text": [
      "                   all        495        372      0.967      0.859      0.923      0.771       0.97      0.849      0.924      0.657\n"
     ]
    },
    {
     "name": "stderr",
     "output_type": "stream",
     "text": [
      "\n"
     ]
    },
    {
     "name": "stdout",
     "output_type": "stream",
     "text": [
      "\n",
      "      Epoch    GPU_mem   box_loss   seg_loss   cls_loss   dfl_loss  Instances       Size\n"
     ]
    },
    {
     "name": "stderr",
     "output_type": "stream",
     "text": [
      "    355/400      12.5G     0.4387     0.7836     0.2449     0.8124         11\n",
      "                 Class     Images  Instances      Box(P          R      mAP50"
     ]
    },
    {
     "name": "stdout",
     "output_type": "stream",
     "text": [
      "                   all        495        372      0.967      0.859      0.923      0.772       0.97      0.849      0.924      0.656\n"
     ]
    },
    {
     "name": "stderr",
     "output_type": "stream",
     "text": [
      "\n"
     ]
    },
    {
     "name": "stdout",
     "output_type": "stream",
     "text": [
      "\n",
      "      Epoch    GPU_mem   box_loss   seg_loss   cls_loss   dfl_loss  Instances       Size\n"
     ]
    },
    {
     "name": "stderr",
     "output_type": "stream",
     "text": [
      "    356/400      12.5G     0.4333     0.7809     0.2443     0.8098          9\n",
      "                 Class     Images  Instances      Box(P          R      mAP50"
     ]
    },
    {
     "name": "stdout",
     "output_type": "stream",
     "text": [
      "                   all        495        372      0.967       0.86      0.923      0.771      0.971      0.849      0.923      0.656\n"
     ]
    },
    {
     "name": "stderr",
     "output_type": "stream",
     "text": [
      "\n"
     ]
    },
    {
     "name": "stdout",
     "output_type": "stream",
     "text": [
      "\n",
      "      Epoch    GPU_mem   box_loss   seg_loss   cls_loss   dfl_loss  Instances       Size\n"
     ]
    },
    {
     "name": "stderr",
     "output_type": "stream",
     "text": [
      "    357/400      12.5G     0.4349     0.7789     0.2462      0.811          4\n",
      "                 Class     Images  Instances      Box(P          R      mAP50"
     ]
    },
    {
     "name": "stdout",
     "output_type": "stream",
     "text": [
      "                   all        495        372      0.966       0.86      0.923      0.772      0.971      0.849      0.924      0.655\n"
     ]
    },
    {
     "name": "stderr",
     "output_type": "stream",
     "text": [
      "\n"
     ]
    },
    {
     "name": "stdout",
     "output_type": "stream",
     "text": [
      "\n",
      "      Epoch    GPU_mem   box_loss   seg_loss   cls_loss   dfl_loss  Instances       Size\n"
     ]
    },
    {
     "name": "stderr",
     "output_type": "stream",
     "text": [
      "    358/400      12.5G      0.437     0.7848     0.2459     0.8122          2\n",
      "                 Class     Images  Instances      Box(P          R      mAP50"
     ]
    },
    {
     "name": "stdout",
     "output_type": "stream",
     "text": [
      "                   all        495        372      0.966       0.86      0.923      0.772      0.971      0.849      0.924      0.654\n"
     ]
    },
    {
     "name": "stderr",
     "output_type": "stream",
     "text": [
      "\n"
     ]
    },
    {
     "name": "stdout",
     "output_type": "stream",
     "text": [
      "\n",
      "      Epoch    GPU_mem   box_loss   seg_loss   cls_loss   dfl_loss  Instances       Size\n"
     ]
    },
    {
     "name": "stderr",
     "output_type": "stream",
     "text": [
      "    359/400      12.5G     0.4284     0.7629     0.2417     0.8128          9\n",
      "                 Class     Images  Instances      Box(P          R      mAP50"
     ]
    },
    {
     "name": "stdout",
     "output_type": "stream",
     "text": [
      "                   all        495        372      0.967      0.859      0.923      0.772      0.971      0.849      0.924      0.655\n"
     ]
    },
    {
     "name": "stderr",
     "output_type": "stream",
     "text": [
      "\n"
     ]
    },
    {
     "name": "stdout",
     "output_type": "stream",
     "text": [
      "\n",
      "      Epoch    GPU_mem   box_loss   seg_loss   cls_loss   dfl_loss  Instances       Size\n"
     ]
    },
    {
     "name": "stderr",
     "output_type": "stream",
     "text": [
      "    360/400      12.5G     0.4317     0.7753     0.2468     0.8115          8\n",
      "                 Class     Images  Instances      Box(P          R      mAP50"
     ]
    },
    {
     "name": "stdout",
     "output_type": "stream",
     "text": [
      "                   all        495        372      0.967      0.859      0.924      0.772       0.97      0.849      0.924      0.655\n"
     ]
    },
    {
     "name": "stderr",
     "output_type": "stream",
     "text": [
      "\n"
     ]
    },
    {
     "name": "stdout",
     "output_type": "stream",
     "text": [
      "\n",
      "      Epoch    GPU_mem   box_loss   seg_loss   cls_loss   dfl_loss  Instances       Size\n"
     ]
    },
    {
     "name": "stderr",
     "output_type": "stream",
     "text": [
      "    361/400      12.5G     0.4268     0.7613     0.2406     0.8081          8\n",
      "                 Class     Images  Instances      Box(P          R      mAP50"
     ]
    },
    {
     "name": "stdout",
     "output_type": "stream",
     "text": [
      "                   all        495        372      0.967      0.859      0.924      0.773       0.97      0.849      0.924      0.655\n"
     ]
    },
    {
     "name": "stderr",
     "output_type": "stream",
     "text": [
      "\n"
     ]
    },
    {
     "name": "stdout",
     "output_type": "stream",
     "text": [
      "\n",
      "      Epoch    GPU_mem   box_loss   seg_loss   cls_loss   dfl_loss  Instances       Size\n"
     ]
    },
    {
     "name": "stderr",
     "output_type": "stream",
     "text": [
      "    362/400      12.5G     0.4263     0.7607     0.2429      0.807          9\n",
      "                 Class     Images  Instances      Box(P          R      mAP50"
     ]
    },
    {
     "name": "stdout",
     "output_type": "stream",
     "text": [
      "                   all        495        372      0.967       0.86      0.924      0.774       0.97      0.849      0.924      0.656\n"
     ]
    },
    {
     "name": "stderr",
     "output_type": "stream",
     "text": [
      "\n"
     ]
    },
    {
     "name": "stdout",
     "output_type": "stream",
     "text": [
      "\n",
      "      Epoch    GPU_mem   box_loss   seg_loss   cls_loss   dfl_loss  Instances       Size\n"
     ]
    },
    {
     "name": "stderr",
     "output_type": "stream",
     "text": [
      "    363/400      12.5G     0.4239     0.7643     0.2386       0.81         10\n",
      "                 Class     Images  Instances      Box(P          R      mAP50"
     ]
    },
    {
     "name": "stdout",
     "output_type": "stream",
     "text": [
      "                   all        495        372      0.966       0.86      0.924      0.775       0.97      0.849      0.925      0.657\n"
     ]
    },
    {
     "name": "stderr",
     "output_type": "stream",
     "text": [
      "\n"
     ]
    },
    {
     "name": "stdout",
     "output_type": "stream",
     "text": [
      "\n",
      "      Epoch    GPU_mem   box_loss   seg_loss   cls_loss   dfl_loss  Instances       Size\n"
     ]
    },
    {
     "name": "stderr",
     "output_type": "stream",
     "text": [
      "    364/400      12.5G     0.4282     0.7562     0.2419     0.8101         10\n",
      "                 Class     Images  Instances      Box(P          R      mAP50"
     ]
    },
    {
     "name": "stdout",
     "output_type": "stream",
     "text": [
      "                   all        495        372      0.963       0.86      0.924      0.774       0.97      0.849      0.925      0.658\n"
     ]
    },
    {
     "name": "stderr",
     "output_type": "stream",
     "text": [
      "\n"
     ]
    },
    {
     "name": "stdout",
     "output_type": "stream",
     "text": [
      "\n",
      "      Epoch    GPU_mem   box_loss   seg_loss   cls_loss   dfl_loss  Instances       Size\n"
     ]
    },
    {
     "name": "stderr",
     "output_type": "stream",
     "text": [
      "    365/400      12.5G     0.4231     0.7619      0.238     0.8092          8\n",
      "                 Class     Images  Instances      Box(P          R      mAP50"
     ]
    },
    {
     "name": "stdout",
     "output_type": "stream",
     "text": [
      "                   all        495        372      0.963       0.86      0.924      0.775      0.969      0.849      0.925      0.659\n"
     ]
    },
    {
     "name": "stderr",
     "output_type": "stream",
     "text": [
      "\n"
     ]
    },
    {
     "name": "stdout",
     "output_type": "stream",
     "text": [
      "\n",
      "      Epoch    GPU_mem   box_loss   seg_loss   cls_loss   dfl_loss  Instances       Size\n"
     ]
    },
    {
     "name": "stderr",
     "output_type": "stream",
     "text": [
      "    366/400      12.5G     0.4179     0.7643     0.2402     0.8057         10\n",
      "                 Class     Images  Instances      Box(P          R      mAP50"
     ]
    },
    {
     "name": "stdout",
     "output_type": "stream",
     "text": [
      "                   all        495        372      0.963       0.86      0.924      0.776      0.969       0.85      0.925       0.66\n"
     ]
    },
    {
     "name": "stderr",
     "output_type": "stream",
     "text": [
      "\n"
     ]
    },
    {
     "name": "stdout",
     "output_type": "stream",
     "text": [
      "\n",
      "      Epoch    GPU_mem   box_loss   seg_loss   cls_loss   dfl_loss  Instances       Size\n"
     ]
    },
    {
     "name": "stderr",
     "output_type": "stream",
     "text": [
      "    367/400      12.5G     0.4218     0.7638     0.2387     0.8078          6\n",
      "                 Class     Images  Instances      Box(P          R      mAP50"
     ]
    },
    {
     "name": "stdout",
     "output_type": "stream",
     "text": [
      "                   all        495        372      0.963       0.86      0.924      0.775      0.969       0.85      0.925      0.659\n"
     ]
    },
    {
     "name": "stderr",
     "output_type": "stream",
     "text": [
      "\n"
     ]
    },
    {
     "name": "stdout",
     "output_type": "stream",
     "text": [
      "\n",
      "      Epoch    GPU_mem   box_loss   seg_loss   cls_loss   dfl_loss  Instances       Size\n"
     ]
    },
    {
     "name": "stderr",
     "output_type": "stream",
     "text": [
      "    368/400      12.5G     0.4147     0.7525      0.235     0.8061         11\n",
      "                 Class     Images  Instances      Box(P          R      mAP50"
     ]
    },
    {
     "name": "stdout",
     "output_type": "stream",
     "text": [
      "                   all        495        372      0.963       0.86      0.924      0.775      0.969      0.851      0.925      0.659\n"
     ]
    },
    {
     "name": "stderr",
     "output_type": "stream",
     "text": [
      "\n"
     ]
    },
    {
     "name": "stdout",
     "output_type": "stream",
     "text": [
      "\n",
      "      Epoch    GPU_mem   box_loss   seg_loss   cls_loss   dfl_loss  Instances       Size\n"
     ]
    },
    {
     "name": "stderr",
     "output_type": "stream",
     "text": [
      "    369/400      12.5G     0.4218     0.7544     0.2387     0.8085          8\n",
      "                 Class     Images  Instances      Box(P          R      mAP50"
     ]
    },
    {
     "name": "stdout",
     "output_type": "stream",
     "text": [
      "                   all        495        372      0.963       0.86      0.924      0.775      0.969      0.852      0.925       0.66\n"
     ]
    },
    {
     "name": "stderr",
     "output_type": "stream",
     "text": [
      "\n"
     ]
    },
    {
     "name": "stdout",
     "output_type": "stream",
     "text": [
      "\n",
      "      Epoch    GPU_mem   box_loss   seg_loss   cls_loss   dfl_loss  Instances       Size\n"
     ]
    },
    {
     "name": "stderr",
     "output_type": "stream",
     "text": [
      "    370/400      12.5G     0.4192     0.7488     0.2366     0.8095         10\n",
      "                 Class     Images  Instances      Box(P          R      mAP50"
     ]
    },
    {
     "name": "stdout",
     "output_type": "stream",
     "text": [
      "                   all        495        372      0.963       0.86      0.924      0.775      0.969      0.852      0.925       0.66\n"
     ]
    },
    {
     "name": "stderr",
     "output_type": "stream",
     "text": [
      "\n"
     ]
    },
    {
     "name": "stdout",
     "output_type": "stream",
     "text": [
      "\n",
      "      Epoch    GPU_mem   box_loss   seg_loss   cls_loss   dfl_loss  Instances       Size\n"
     ]
    },
    {
     "name": "stderr",
     "output_type": "stream",
     "text": [
      "    371/400      12.5G     0.4094     0.7498     0.2351     0.8087         10\n",
      "                 Class     Images  Instances      Box(P          R      mAP50"
     ]
    },
    {
     "name": "stdout",
     "output_type": "stream",
     "text": [
      "                   all        495        372      0.963       0.86      0.924      0.775      0.968      0.852      0.927      0.659\n"
     ]
    },
    {
     "name": "stderr",
     "output_type": "stream",
     "text": [
      "\n"
     ]
    },
    {
     "name": "stdout",
     "output_type": "stream",
     "text": [
      "\n",
      "      Epoch    GPU_mem   box_loss   seg_loss   cls_loss   dfl_loss  Instances       Size\n"
     ]
    },
    {
     "name": "stderr",
     "output_type": "stream",
     "text": [
      "    372/400      12.5G      0.411     0.7518     0.2342      0.807         12\n",
      "                 Class     Images  Instances      Box(P          R      mAP50"
     ]
    },
    {
     "name": "stdout",
     "output_type": "stream",
     "text": [
      "                   all        495        372      0.962       0.86      0.924      0.777      0.969      0.852      0.927       0.66\n"
     ]
    },
    {
     "name": "stderr",
     "output_type": "stream",
     "text": [
      "\n"
     ]
    },
    {
     "name": "stdout",
     "output_type": "stream",
     "text": [
      "\n",
      "      Epoch    GPU_mem   box_loss   seg_loss   cls_loss   dfl_loss  Instances       Size\n"
     ]
    },
    {
     "name": "stderr",
     "output_type": "stream",
     "text": [
      "    373/400      12.5G     0.4096     0.7581     0.2335     0.8084         11\n",
      "                 Class     Images  Instances      Box(P          R      mAP50"
     ]
    },
    {
     "name": "stdout",
     "output_type": "stream",
     "text": [
      "                   all        495        372      0.962       0.86      0.924      0.775      0.968      0.852      0.927      0.661\n"
     ]
    },
    {
     "name": "stderr",
     "output_type": "stream",
     "text": [
      "\n"
     ]
    },
    {
     "name": "stdout",
     "output_type": "stream",
     "text": [
      "\n",
      "      Epoch    GPU_mem   box_loss   seg_loss   cls_loss   dfl_loss  Instances       Size\n"
     ]
    },
    {
     "name": "stderr",
     "output_type": "stream",
     "text": [
      "    374/400      12.5G     0.4098     0.7389     0.2348     0.8052         10\n",
      "                 Class     Images  Instances      Box(P          R      mAP50"
     ]
    },
    {
     "name": "stdout",
     "output_type": "stream",
     "text": [
      "                   all        495        372      0.963       0.86      0.924      0.777      0.968      0.852      0.927      0.662\n"
     ]
    },
    {
     "name": "stderr",
     "output_type": "stream",
     "text": [
      "\n"
     ]
    },
    {
     "name": "stdout",
     "output_type": "stream",
     "text": [
      "\n",
      "      Epoch    GPU_mem   box_loss   seg_loss   cls_loss   dfl_loss  Instances       Size\n"
     ]
    },
    {
     "name": "stderr",
     "output_type": "stream",
     "text": [
      "    375/400      12.5G     0.4112     0.7629     0.2371      0.807         13\n",
      "                 Class     Images  Instances      Box(P          R      mAP50"
     ]
    },
    {
     "name": "stdout",
     "output_type": "stream",
     "text": [
      "                   all        495        372      0.963       0.86      0.924      0.777      0.965      0.849      0.925      0.661\n"
     ]
    },
    {
     "name": "stderr",
     "output_type": "stream",
     "text": [
      "\n"
     ]
    },
    {
     "name": "stdout",
     "output_type": "stream",
     "text": [
      "\n",
      "      Epoch    GPU_mem   box_loss   seg_loss   cls_loss   dfl_loss  Instances       Size\n"
     ]
    },
    {
     "name": "stderr",
     "output_type": "stream",
     "text": [
      "    376/400      12.5G     0.4087     0.7473     0.2347     0.8094          9\n",
      "                 Class     Images  Instances      Box(P          R      mAP50"
     ]
    },
    {
     "name": "stdout",
     "output_type": "stream",
     "text": [
      "                   all        495        372      0.963       0.86      0.924      0.776      0.965      0.849      0.925      0.661\n"
     ]
    },
    {
     "name": "stderr",
     "output_type": "stream",
     "text": [
      "\n"
     ]
    },
    {
     "name": "stdout",
     "output_type": "stream",
     "text": [
      "\n",
      "      Epoch    GPU_mem   box_loss   seg_loss   cls_loss   dfl_loss  Instances       Size\n"
     ]
    },
    {
     "name": "stderr",
     "output_type": "stream",
     "text": [
      "    377/400      12.5G     0.4088     0.7387      0.233     0.8026         15\n",
      "                 Class     Images  Instances      Box(P          R      mAP50"
     ]
    },
    {
     "name": "stdout",
     "output_type": "stream",
     "text": [
      "                   all        495        372      0.963       0.86      0.925      0.777      0.966      0.849      0.925      0.661\n"
     ]
    },
    {
     "name": "stderr",
     "output_type": "stream",
     "text": [
      "\n"
     ]
    },
    {
     "name": "stdout",
     "output_type": "stream",
     "text": [
      "\n",
      "      Epoch    GPU_mem   box_loss   seg_loss   cls_loss   dfl_loss  Instances       Size\n"
     ]
    },
    {
     "name": "stderr",
     "output_type": "stream",
     "text": [
      "    378/400      12.5G     0.4072     0.7457     0.2338      0.804          5\n",
      "                 Class     Images  Instances      Box(P          R      mAP50"
     ]
    },
    {
     "name": "stdout",
     "output_type": "stream",
     "text": [
      "                   all        495        372      0.963       0.86      0.925      0.777      0.966      0.849      0.925      0.663\n"
     ]
    },
    {
     "name": "stderr",
     "output_type": "stream",
     "text": [
      "\n"
     ]
    },
    {
     "name": "stdout",
     "output_type": "stream",
     "text": [
      "\n",
      "      Epoch    GPU_mem   box_loss   seg_loss   cls_loss   dfl_loss  Instances       Size\n"
     ]
    },
    {
     "name": "stderr",
     "output_type": "stream",
     "text": [
      "    379/400      12.5G     0.3995     0.7414     0.2293     0.8063          5\n",
      "                 Class     Images  Instances      Box(P          R      mAP50"
     ]
    },
    {
     "name": "stdout",
     "output_type": "stream",
     "text": [
      "                   all        495        372      0.963       0.86      0.925      0.778      0.964      0.847      0.925      0.662\n"
     ]
    },
    {
     "name": "stderr",
     "output_type": "stream",
     "text": [
      "\n"
     ]
    },
    {
     "name": "stdout",
     "output_type": "stream",
     "text": [
      "\n",
      "      Epoch    GPU_mem   box_loss   seg_loss   cls_loss   dfl_loss  Instances       Size\n"
     ]
    },
    {
     "name": "stderr",
     "output_type": "stream",
     "text": [
      "    380/400      12.5G     0.3992     0.7294     0.2296     0.8079          5\n",
      "                 Class     Images  Instances      Box(P          R      mAP50"
     ]
    },
    {
     "name": "stdout",
     "output_type": "stream",
     "text": [
      "                   all        495        372      0.962       0.86      0.925      0.778      0.961      0.844      0.923      0.662\n"
     ]
    },
    {
     "name": "stderr",
     "output_type": "stream",
     "text": [
      "\n"
     ]
    },
    {
     "name": "stdout",
     "output_type": "stream",
     "text": [
      "\n",
      "      Epoch    GPU_mem   box_loss   seg_loss   cls_loss   dfl_loss  Instances       Size\n"
     ]
    },
    {
     "name": "stderr",
     "output_type": "stream",
     "text": [
      "    381/400      12.5G     0.3936     0.7232     0.2282     0.8041          6\n",
      "                 Class     Images  Instances      Box(P          R      mAP50"
     ]
    },
    {
     "name": "stdout",
     "output_type": "stream",
     "text": [
      "                   all        495        372      0.963       0.86      0.925      0.778      0.962      0.844      0.923      0.663\n"
     ]
    },
    {
     "name": "stderr",
     "output_type": "stream",
     "text": [
      "\n"
     ]
    },
    {
     "name": "stdout",
     "output_type": "stream",
     "text": [
      "\n",
      "      Epoch    GPU_mem   box_loss   seg_loss   cls_loss   dfl_loss  Instances       Size\n"
     ]
    },
    {
     "name": "stderr",
     "output_type": "stream",
     "text": [
      "    382/400      12.5G     0.4005      0.729     0.2299     0.8022          8\n",
      "                 Class     Images  Instances      Box(P          R      mAP50"
     ]
    },
    {
     "name": "stdout",
     "output_type": "stream",
     "text": [
      "                   all        495        372      0.964       0.86      0.925      0.778      0.962      0.844      0.924      0.663\n"
     ]
    },
    {
     "name": "stderr",
     "output_type": "stream",
     "text": [
      "\n"
     ]
    },
    {
     "name": "stdout",
     "output_type": "stream",
     "text": [
      "\n",
      "      Epoch    GPU_mem   box_loss   seg_loss   cls_loss   dfl_loss  Instances       Size\n"
     ]
    },
    {
     "name": "stderr",
     "output_type": "stream",
     "text": [
      "    383/400      12.5G     0.3982     0.7335      0.228     0.8052          3\n",
      "                 Class     Images  Instances      Box(P          R      mAP50"
     ]
    },
    {
     "name": "stdout",
     "output_type": "stream",
     "text": [
      "                   all        495        372      0.964       0.86      0.925      0.777      0.962      0.844      0.924      0.664\n"
     ]
    },
    {
     "name": "stderr",
     "output_type": "stream",
     "text": [
      "\n"
     ]
    },
    {
     "name": "stdout",
     "output_type": "stream",
     "text": [
      "\n",
      "      Epoch    GPU_mem   box_loss   seg_loss   cls_loss   dfl_loss  Instances       Size\n"
     ]
    },
    {
     "name": "stderr",
     "output_type": "stream",
     "text": [
      "    384/400      12.5G     0.3958     0.7213     0.2257     0.8064          7\n",
      "                 Class     Images  Instances      Box(P          R      mAP50"
     ]
    },
    {
     "name": "stdout",
     "output_type": "stream",
     "text": [
      "                   all        495        372      0.964      0.859      0.925      0.778      0.962      0.844      0.924      0.664\n"
     ]
    },
    {
     "name": "stderr",
     "output_type": "stream",
     "text": [
      "\n"
     ]
    },
    {
     "name": "stdout",
     "output_type": "stream",
     "text": [
      "\n",
      "      Epoch    GPU_mem   box_loss   seg_loss   cls_loss   dfl_loss  Instances       Size\n"
     ]
    },
    {
     "name": "stderr",
     "output_type": "stream",
     "text": [
      "    385/400      12.5G     0.3917     0.7237     0.2258     0.8029         11\n",
      "                 Class     Images  Instances      Box(P          R      mAP50"
     ]
    },
    {
     "name": "stdout",
     "output_type": "stream",
     "text": [
      "                   all        495        372      0.964      0.859      0.925      0.777      0.962      0.844      0.924      0.663\n"
     ]
    },
    {
     "name": "stderr",
     "output_type": "stream",
     "text": [
      "\n"
     ]
    },
    {
     "name": "stdout",
     "output_type": "stream",
     "text": [
      "\n",
      "      Epoch    GPU_mem   box_loss   seg_loss   cls_loss   dfl_loss  Instances       Size\n"
     ]
    },
    {
     "name": "stderr",
     "output_type": "stream",
     "text": [
      "    386/400      12.5G     0.3901     0.7192     0.2246     0.8027          3\n",
      "                 Class     Images  Instances      Box(P          R      mAP50"
     ]
    },
    {
     "name": "stdout",
     "output_type": "stream",
     "text": [
      "                   all        495        372      0.963      0.858      0.925      0.778      0.961      0.844      0.924      0.663\n"
     ]
    },
    {
     "name": "stderr",
     "output_type": "stream",
     "text": [
      "\n"
     ]
    },
    {
     "name": "stdout",
     "output_type": "stream",
     "text": [
      "\n",
      "      Epoch    GPU_mem   box_loss   seg_loss   cls_loss   dfl_loss  Instances       Size\n"
     ]
    },
    {
     "name": "stderr",
     "output_type": "stream",
     "text": [
      "    387/400      12.5G     0.3944     0.7383     0.2274     0.8038          7\n",
      "                 Class     Images  Instances      Box(P          R      mAP50"
     ]
    },
    {
     "name": "stdout",
     "output_type": "stream",
     "text": [
      "                   all        495        372      0.963      0.858      0.925      0.777      0.962      0.844      0.923      0.663\n"
     ]
    },
    {
     "name": "stderr",
     "output_type": "stream",
     "text": [
      "\n"
     ]
    },
    {
     "name": "stdout",
     "output_type": "stream",
     "text": [
      "\n",
      "      Epoch    GPU_mem   box_loss   seg_loss   cls_loss   dfl_loss  Instances       Size\n"
     ]
    },
    {
     "name": "stderr",
     "output_type": "stream",
     "text": [
      "    388/400      12.5G     0.3852     0.7138     0.2234      0.804          5\n",
      "                 Class     Images  Instances      Box(P          R      mAP50"
     ]
    },
    {
     "name": "stdout",
     "output_type": "stream",
     "text": [
      "                   all        495        372      0.963      0.858      0.925      0.778      0.966      0.844      0.925      0.664\n"
     ]
    },
    {
     "name": "stderr",
     "output_type": "stream",
     "text": [
      "\n"
     ]
    },
    {
     "name": "stdout",
     "output_type": "stream",
     "text": [
      "\n",
      "      Epoch    GPU_mem   box_loss   seg_loss   cls_loss   dfl_loss  Instances       Size\n"
     ]
    },
    {
     "name": "stderr",
     "output_type": "stream",
     "text": [
      "    389/400      12.5G     0.3892      0.722     0.2249     0.8041          7\n",
      "                 Class     Images  Instances      Box(P          R      mAP50"
     ]
    },
    {
     "name": "stdout",
     "output_type": "stream",
     "text": [
      "                   all        495        372      0.963      0.858      0.925      0.778      0.963      0.841      0.925      0.664\n"
     ]
    },
    {
     "name": "stderr",
     "output_type": "stream",
     "text": [
      "\n"
     ]
    },
    {
     "name": "stdout",
     "output_type": "stream",
     "text": [
      "\n",
      "      Epoch    GPU_mem   box_loss   seg_loss   cls_loss   dfl_loss  Instances       Size\n"
     ]
    },
    {
     "name": "stderr",
     "output_type": "stream",
     "text": [
      "    390/400      12.5G     0.3886     0.7261     0.2233     0.8017          2\n",
      "                 Class     Images  Instances      Box(P          R      mAP50"
     ]
    },
    {
     "name": "stdout",
     "output_type": "stream",
     "text": [
      "                   all        495        372      0.963      0.858      0.925      0.777      0.972      0.837      0.924      0.663\n"
     ]
    },
    {
     "name": "stderr",
     "output_type": "stream",
     "text": [
      "\n"
     ]
    },
    {
     "name": "stdout",
     "output_type": "stream",
     "text": [
      "Closing dataloader mosaic\n",
      "\u001b[34m\u001b[1malbumentations: \u001b[0mBlur(p=0.01, blur_limit=(3, 7)), MedianBlur(p=0.01, blur_limit=(3, 7)), ToGray(p=0.01, num_output_channels=3, method='weighted_average'), CLAHE(p=0.01, clip_limit=(1.0, 4.0), tile_grid_size=(8, 8))\n",
      "\n",
      "      Epoch    GPU_mem   box_loss   seg_loss   cls_loss   dfl_loss  Instances       Size\n"
     ]
    },
    {
     "name": "stderr",
     "output_type": "stream",
     "text": [
      "    391/400      12.5G     0.3953     0.7319     0.2154     0.8039          6\n",
      "                 Class     Images  Instances      Box(P          R      mAP50"
     ]
    },
    {
     "name": "stdout",
     "output_type": "stream",
     "text": [
      "                   all        495        372      0.963      0.858      0.925      0.778      0.972      0.838      0.925      0.663\n"
     ]
    },
    {
     "name": "stderr",
     "output_type": "stream",
     "text": [
      "\n"
     ]
    },
    {
     "name": "stdout",
     "output_type": "stream",
     "text": [
      "\n",
      "      Epoch    GPU_mem   box_loss   seg_loss   cls_loss   dfl_loss  Instances       Size\n"
     ]
    },
    {
     "name": "stderr",
     "output_type": "stream",
     "text": [
      "    392/400      12.5G     0.3601     0.6892     0.2026     0.7968          2\n",
      "                 Class     Images  Instances      Box(P          R      mAP50"
     ]
    },
    {
     "name": "stdout",
     "output_type": "stream",
     "text": [
      "                   all        495        372      0.963      0.858      0.925      0.777      0.972      0.838      0.924      0.663\n"
     ]
    },
    {
     "name": "stderr",
     "output_type": "stream",
     "text": [
      "\n"
     ]
    },
    {
     "name": "stdout",
     "output_type": "stream",
     "text": [
      "\n",
      "      Epoch    GPU_mem   box_loss   seg_loss   cls_loss   dfl_loss  Instances       Size\n"
     ]
    },
    {
     "name": "stderr",
     "output_type": "stream",
     "text": [
      "    393/400      12.5G     0.3551     0.6915     0.1998      0.798          2\n",
      "                 Class     Images  Instances      Box(P          R      mAP50"
     ]
    },
    {
     "name": "stdout",
     "output_type": "stream",
     "text": [
      "                   all        495        372      0.963      0.858      0.925      0.778      0.972      0.839      0.924      0.661\n"
     ]
    },
    {
     "name": "stderr",
     "output_type": "stream",
     "text": [
      "\n"
     ]
    },
    {
     "name": "stdout",
     "output_type": "stream",
     "text": [
      "\n",
      "      Epoch    GPU_mem   box_loss   seg_loss   cls_loss   dfl_loss  Instances       Size\n"
     ]
    },
    {
     "name": "stderr",
     "output_type": "stream",
     "text": [
      "    394/400      12.5G     0.3512     0.6708     0.2005     0.7952          5\n",
      "                 Class     Images  Instances      Box(P          R      mAP50"
     ]
    },
    {
     "name": "stdout",
     "output_type": "stream",
     "text": [
      "                   all        495        372      0.963      0.858      0.925      0.777      0.972      0.838      0.924      0.662\n"
     ]
    },
    {
     "name": "stderr",
     "output_type": "stream",
     "text": [
      "\n"
     ]
    },
    {
     "name": "stdout",
     "output_type": "stream",
     "text": [
      "\n",
      "      Epoch    GPU_mem   box_loss   seg_loss   cls_loss   dfl_loss  Instances       Size\n"
     ]
    },
    {
     "name": "stderr",
     "output_type": "stream",
     "text": [
      "    395/400      12.5G     0.3427     0.6751     0.1967     0.7977          5\n",
      "                 Class     Images  Instances      Box(P          R      mAP50"
     ]
    },
    {
     "name": "stdout",
     "output_type": "stream",
     "text": [
      "                   all        495        372      0.963      0.858      0.925      0.778      0.972      0.838      0.924      0.662\n"
     ]
    },
    {
     "name": "stderr",
     "output_type": "stream",
     "text": [
      "\n"
     ]
    },
    {
     "name": "stdout",
     "output_type": "stream",
     "text": [
      "\n",
      "      Epoch    GPU_mem   box_loss   seg_loss   cls_loss   dfl_loss  Instances       Size\n"
     ]
    },
    {
     "name": "stderr",
     "output_type": "stream",
     "text": [
      "    396/400      12.5G     0.3424     0.6715     0.1989      0.794         10\n",
      "                 Class     Images  Instances      Box(P          R      mAP50"
     ]
    },
    {
     "name": "stdout",
     "output_type": "stream",
     "text": [
      "                   all        495        372      0.963      0.858      0.925      0.778      0.972      0.836      0.924      0.661\n"
     ]
    },
    {
     "name": "stderr",
     "output_type": "stream",
     "text": [
      "\n"
     ]
    },
    {
     "name": "stdout",
     "output_type": "stream",
     "text": [
      "\n",
      "      Epoch    GPU_mem   box_loss   seg_loss   cls_loss   dfl_loss  Instances       Size\n"
     ]
    },
    {
     "name": "stderr",
     "output_type": "stream",
     "text": [
      "    397/400      12.5G     0.3394     0.6748     0.1947     0.7957          3\n",
      "                 Class     Images  Instances      Box(P          R      mAP50"
     ]
    },
    {
     "name": "stdout",
     "output_type": "stream",
     "text": [
      "                   all        495        372      0.963      0.858      0.925      0.777      0.975      0.839      0.924      0.661\n"
     ]
    },
    {
     "name": "stderr",
     "output_type": "stream",
     "text": [
      "\n"
     ]
    },
    {
     "name": "stdout",
     "output_type": "stream",
     "text": [
      "\n",
      "      Epoch    GPU_mem   box_loss   seg_loss   cls_loss   dfl_loss  Instances       Size\n"
     ]
    },
    {
     "name": "stderr",
     "output_type": "stream",
     "text": [
      "    398/400      12.5G     0.3375     0.6648     0.1944     0.7914          3\n",
      "                 Class     Images  Instances      Box(P          R      mAP50"
     ]
    },
    {
     "name": "stdout",
     "output_type": "stream",
     "text": [
      "                   all        495        372      0.963      0.858      0.925      0.776      0.975      0.839      0.924      0.661\n"
     ]
    },
    {
     "name": "stderr",
     "output_type": "stream",
     "text": [
      "\n"
     ]
    },
    {
     "name": "stdout",
     "output_type": "stream",
     "text": [
      "\n",
      "      Epoch    GPU_mem   box_loss   seg_loss   cls_loss   dfl_loss  Instances       Size\n"
     ]
    },
    {
     "name": "stderr",
     "output_type": "stream",
     "text": [
      "    399/400      12.5G     0.3302     0.6605     0.1904     0.7913          2\n",
      "                 Class     Images  Instances      Box(P          R      mAP50"
     ]
    },
    {
     "name": "stdout",
     "output_type": "stream",
     "text": [
      "                   all        495        372      0.963      0.858      0.925      0.777      0.972      0.839      0.924      0.662\n"
     ]
    },
    {
     "name": "stderr",
     "output_type": "stream",
     "text": [
      "\n"
     ]
    },
    {
     "name": "stdout",
     "output_type": "stream",
     "text": [
      "\n",
      "      Epoch    GPU_mem   box_loss   seg_loss   cls_loss   dfl_loss  Instances       Size\n"
     ]
    },
    {
     "name": "stderr",
     "output_type": "stream",
     "text": [
      "    400/400      12.5G     0.3355     0.6653      0.193     0.7898          8\n",
      "                 Class     Images  Instances      Box(P          R      mAP50"
     ]
    },
    {
     "name": "stdout",
     "output_type": "stream",
     "text": [
      "                   all        495        372      0.963      0.858      0.925      0.778      0.972      0.837      0.924      0.663\n"
     ]
    },
    {
     "name": "stderr",
     "output_type": "stream",
     "text": [
      "\n"
     ]
    },
    {
     "name": "stdout",
     "output_type": "stream",
     "text": [
      "\n",
      "400 epochs completed in 11.885 hours.\n",
      "Optimizer stripped from runs/segment/train34/weights/last.pt, 92.3MB\n",
      "Optimizer stripped from runs/segment/train34/weights/best.pt, 92.3MB\n",
      "\n",
      "Validating runs/segment/train34/weights/best.pt...\n",
      "Ultralytics 8.3.91 🚀 Python-3.8.20 torch-2.4.1+cu121 CUDA:0 (NVIDIA GeForce RTX 4080, 15949MiB)\n",
      "YOLOv8l-seg summary (fused): 125 layers, 45,912,659 parameters, 0 gradients, 220.1 GFLOPs\n"
     ]
    },
    {
     "name": "stderr",
     "output_type": "stream",
     "text": [
      "                 Class     Images  Instances      Box(P          R      mAP50\n"
     ]
    },
    {
     "name": "stdout",
     "output_type": "stream",
     "text": [
      "                   all        495        372      0.963      0.858      0.925      0.778      0.963      0.842      0.925      0.664\n",
      "Speed: 0.1ms preprocess, 3.7ms inference, 0.0ms loss, 0.2ms postprocess per image\n",
      "Results saved to \u001b[1mruns/segment/train34\u001b[0m\n"
     ]
    },
    {
     "data": {
      "text/plain": [
       "ultralytics.utils.metrics.SegmentMetrics object with attributes:\n",
       "\n",
       "ap_class_index: array([0])\n",
       "box: ultralytics.utils.metrics.Metric object\n",
       "confusion_matrix: <ultralytics.utils.metrics.ConfusionMatrix object at 0x7f560ae77850>\n",
       "curves: ['Precision-Recall(B)', 'F1-Confidence(B)', 'Precision-Confidence(B)', 'Recall-Confidence(B)', 'Precision-Recall(M)', 'F1-Confidence(M)', 'Precision-Confidence(M)', 'Recall-Confidence(M)']\n",
       "curves_results: [[array([          0,    0.001001,    0.002002,    0.003003,    0.004004,    0.005005,    0.006006,    0.007007,    0.008008,    0.009009,     0.01001,    0.011011,    0.012012,    0.013013,    0.014014,    0.015015,    0.016016,    0.017017,    0.018018,    0.019019,     0.02002,    0.021021,    0.022022,    0.023023,\n",
       "          0.024024,    0.025025,    0.026026,    0.027027,    0.028028,    0.029029,     0.03003,    0.031031,    0.032032,    0.033033,    0.034034,    0.035035,    0.036036,    0.037037,    0.038038,    0.039039,     0.04004,    0.041041,    0.042042,    0.043043,    0.044044,    0.045045,    0.046046,    0.047047,\n",
       "          0.048048,    0.049049,     0.05005,    0.051051,    0.052052,    0.053053,    0.054054,    0.055055,    0.056056,    0.057057,    0.058058,    0.059059,     0.06006,    0.061061,    0.062062,    0.063063,    0.064064,    0.065065,    0.066066,    0.067067,    0.068068,    0.069069,     0.07007,    0.071071,\n",
       "          0.072072,    0.073073,    0.074074,    0.075075,    0.076076,    0.077077,    0.078078,    0.079079,     0.08008,    0.081081,    0.082082,    0.083083,    0.084084,    0.085085,    0.086086,    0.087087,    0.088088,    0.089089,     0.09009,    0.091091,    0.092092,    0.093093,    0.094094,    0.095095,\n",
       "          0.096096,    0.097097,    0.098098,    0.099099,      0.1001,      0.1011,      0.1021,      0.1031,      0.1041,     0.10511,     0.10611,     0.10711,     0.10811,     0.10911,     0.11011,     0.11111,     0.11211,     0.11311,     0.11411,     0.11512,     0.11612,     0.11712,     0.11812,     0.11912,\n",
       "           0.12012,     0.12112,     0.12212,     0.12312,     0.12412,     0.12513,     0.12613,     0.12713,     0.12813,     0.12913,     0.13013,     0.13113,     0.13213,     0.13313,     0.13413,     0.13514,     0.13614,     0.13714,     0.13814,     0.13914,     0.14014,     0.14114,     0.14214,     0.14314,\n",
       "           0.14414,     0.14515,     0.14615,     0.14715,     0.14815,     0.14915,     0.15015,     0.15115,     0.15215,     0.15315,     0.15415,     0.15516,     0.15616,     0.15716,     0.15816,     0.15916,     0.16016,     0.16116,     0.16216,     0.16316,     0.16416,     0.16517,     0.16617,     0.16717,\n",
       "           0.16817,     0.16917,     0.17017,     0.17117,     0.17217,     0.17317,     0.17417,     0.17518,     0.17618,     0.17718,     0.17818,     0.17918,     0.18018,     0.18118,     0.18218,     0.18318,     0.18418,     0.18519,     0.18619,     0.18719,     0.18819,     0.18919,     0.19019,     0.19119,\n",
       "           0.19219,     0.19319,     0.19419,      0.1952,      0.1962,      0.1972,      0.1982,      0.1992,      0.2002,      0.2012,      0.2022,      0.2032,      0.2042,     0.20521,     0.20621,     0.20721,     0.20821,     0.20921,     0.21021,     0.21121,     0.21221,     0.21321,     0.21421,     0.21522,\n",
       "           0.21622,     0.21722,     0.21822,     0.21922,     0.22022,     0.22122,     0.22222,     0.22322,     0.22422,     0.22523,     0.22623,     0.22723,     0.22823,     0.22923,     0.23023,     0.23123,     0.23223,     0.23323,     0.23423,     0.23524,     0.23624,     0.23724,     0.23824,     0.23924,\n",
       "           0.24024,     0.24124,     0.24224,     0.24324,     0.24424,     0.24525,     0.24625,     0.24725,     0.24825,     0.24925,     0.25025,     0.25125,     0.25225,     0.25325,     0.25425,     0.25526,     0.25626,     0.25726,     0.25826,     0.25926,     0.26026,     0.26126,     0.26226,     0.26326,\n",
       "           0.26426,     0.26527,     0.26627,     0.26727,     0.26827,     0.26927,     0.27027,     0.27127,     0.27227,     0.27327,     0.27427,     0.27528,     0.27628,     0.27728,     0.27828,     0.27928,     0.28028,     0.28128,     0.28228,     0.28328,     0.28428,     0.28529,     0.28629,     0.28729,\n",
       "           0.28829,     0.28929,     0.29029,     0.29129,     0.29229,     0.29329,     0.29429,      0.2953,      0.2963,      0.2973,      0.2983,      0.2993,      0.3003,      0.3013,      0.3023,      0.3033,      0.3043,     0.30531,     0.30631,     0.30731,     0.30831,     0.30931,     0.31031,     0.31131,\n",
       "           0.31231,     0.31331,     0.31431,     0.31532,     0.31632,     0.31732,     0.31832,     0.31932,     0.32032,     0.32132,     0.32232,     0.32332,     0.32432,     0.32533,     0.32633,     0.32733,     0.32833,     0.32933,     0.33033,     0.33133,     0.33233,     0.33333,     0.33433,     0.33534,\n",
       "           0.33634,     0.33734,     0.33834,     0.33934,     0.34034,     0.34134,     0.34234,     0.34334,     0.34434,     0.34535,     0.34635,     0.34735,     0.34835,     0.34935,     0.35035,     0.35135,     0.35235,     0.35335,     0.35435,     0.35536,     0.35636,     0.35736,     0.35836,     0.35936,\n",
       "           0.36036,     0.36136,     0.36236,     0.36336,     0.36436,     0.36537,     0.36637,     0.36737,     0.36837,     0.36937,     0.37037,     0.37137,     0.37237,     0.37337,     0.37437,     0.37538,     0.37638,     0.37738,     0.37838,     0.37938,     0.38038,     0.38138,     0.38238,     0.38338,\n",
       "           0.38438,     0.38539,     0.38639,     0.38739,     0.38839,     0.38939,     0.39039,     0.39139,     0.39239,     0.39339,     0.39439,      0.3954,      0.3964,      0.3974,      0.3984,      0.3994,      0.4004,      0.4014,      0.4024,      0.4034,      0.4044,     0.40541,     0.40641,     0.40741,\n",
       "           0.40841,     0.40941,     0.41041,     0.41141,     0.41241,     0.41341,     0.41441,     0.41542,     0.41642,     0.41742,     0.41842,     0.41942,     0.42042,     0.42142,     0.42242,     0.42342,     0.42442,     0.42543,     0.42643,     0.42743,     0.42843,     0.42943,     0.43043,     0.43143,\n",
       "           0.43243,     0.43343,     0.43443,     0.43544,     0.43644,     0.43744,     0.43844,     0.43944,     0.44044,     0.44144,     0.44244,     0.44344,     0.44444,     0.44545,     0.44645,     0.44745,     0.44845,     0.44945,     0.45045,     0.45145,     0.45245,     0.45345,     0.45445,     0.45546,\n",
       "           0.45646,     0.45746,     0.45846,     0.45946,     0.46046,     0.46146,     0.46246,     0.46346,     0.46446,     0.46547,     0.46647,     0.46747,     0.46847,     0.46947,     0.47047,     0.47147,     0.47247,     0.47347,     0.47447,     0.47548,     0.47648,     0.47748,     0.47848,     0.47948,\n",
       "           0.48048,     0.48148,     0.48248,     0.48348,     0.48448,     0.48549,     0.48649,     0.48749,     0.48849,     0.48949,     0.49049,     0.49149,     0.49249,     0.49349,     0.49449,      0.4955,      0.4965,      0.4975,      0.4985,      0.4995,      0.5005,      0.5015,      0.5025,      0.5035,\n",
       "            0.5045,     0.50551,     0.50651,     0.50751,     0.50851,     0.50951,     0.51051,     0.51151,     0.51251,     0.51351,     0.51451,     0.51552,     0.51652,     0.51752,     0.51852,     0.51952,     0.52052,     0.52152,     0.52252,     0.52352,     0.52452,     0.52553,     0.52653,     0.52753,\n",
       "           0.52853,     0.52953,     0.53053,     0.53153,     0.53253,     0.53353,     0.53453,     0.53554,     0.53654,     0.53754,     0.53854,     0.53954,     0.54054,     0.54154,     0.54254,     0.54354,     0.54454,     0.54555,     0.54655,     0.54755,     0.54855,     0.54955,     0.55055,     0.55155,\n",
       "           0.55255,     0.55355,     0.55455,     0.55556,     0.55656,     0.55756,     0.55856,     0.55956,     0.56056,     0.56156,     0.56256,     0.56356,     0.56456,     0.56557,     0.56657,     0.56757,     0.56857,     0.56957,     0.57057,     0.57157,     0.57257,     0.57357,     0.57457,     0.57558,\n",
       "           0.57658,     0.57758,     0.57858,     0.57958,     0.58058,     0.58158,     0.58258,     0.58358,     0.58458,     0.58559,     0.58659,     0.58759,     0.58859,     0.58959,     0.59059,     0.59159,     0.59259,     0.59359,     0.59459,      0.5956,      0.5966,      0.5976,      0.5986,      0.5996,\n",
       "            0.6006,      0.6016,      0.6026,      0.6036,      0.6046,     0.60561,     0.60661,     0.60761,     0.60861,     0.60961,     0.61061,     0.61161,     0.61261,     0.61361,     0.61461,     0.61562,     0.61662,     0.61762,     0.61862,     0.61962,     0.62062,     0.62162,     0.62262,     0.62362,\n",
       "           0.62462,     0.62563,     0.62663,     0.62763,     0.62863,     0.62963,     0.63063,     0.63163,     0.63263,     0.63363,     0.63463,     0.63564,     0.63664,     0.63764,     0.63864,     0.63964,     0.64064,     0.64164,     0.64264,     0.64364,     0.64464,     0.64565,     0.64665,     0.64765,\n",
       "           0.64865,     0.64965,     0.65065,     0.65165,     0.65265,     0.65365,     0.65465,     0.65566,     0.65666,     0.65766,     0.65866,     0.65966,     0.66066,     0.66166,     0.66266,     0.66366,     0.66466,     0.66567,     0.66667,     0.66767,     0.66867,     0.66967,     0.67067,     0.67167,\n",
       "           0.67267,     0.67367,     0.67467,     0.67568,     0.67668,     0.67768,     0.67868,     0.67968,     0.68068,     0.68168,     0.68268,     0.68368,     0.68468,     0.68569,     0.68669,     0.68769,     0.68869,     0.68969,     0.69069,     0.69169,     0.69269,     0.69369,     0.69469,      0.6957,\n",
       "            0.6967,      0.6977,      0.6987,      0.6997,      0.7007,      0.7017,      0.7027,      0.7037,      0.7047,     0.70571,     0.70671,     0.70771,     0.70871,     0.70971,     0.71071,     0.71171,     0.71271,     0.71371,     0.71471,     0.71572,     0.71672,     0.71772,     0.71872,     0.71972,\n",
       "           0.72072,     0.72172,     0.72272,     0.72372,     0.72472,     0.72573,     0.72673,     0.72773,     0.72873,     0.72973,     0.73073,     0.73173,     0.73273,     0.73373,     0.73473,     0.73574,     0.73674,     0.73774,     0.73874,     0.73974,     0.74074,     0.74174,     0.74274,     0.74374,\n",
       "           0.74474,     0.74575,     0.74675,     0.74775,     0.74875,     0.74975,     0.75075,     0.75175,     0.75275,     0.75375,     0.75475,     0.75576,     0.75676,     0.75776,     0.75876,     0.75976,     0.76076,     0.76176,     0.76276,     0.76376,     0.76476,     0.76577,     0.76677,     0.76777,\n",
       "           0.76877,     0.76977,     0.77077,     0.77177,     0.77277,     0.77377,     0.77477,     0.77578,     0.77678,     0.77778,     0.77878,     0.77978,     0.78078,     0.78178,     0.78278,     0.78378,     0.78478,     0.78579,     0.78679,     0.78779,     0.78879,     0.78979,     0.79079,     0.79179,\n",
       "           0.79279,     0.79379,     0.79479,      0.7958,      0.7968,      0.7978,      0.7988,      0.7998,      0.8008,      0.8018,      0.8028,      0.8038,      0.8048,     0.80581,     0.80681,     0.80781,     0.80881,     0.80981,     0.81081,     0.81181,     0.81281,     0.81381,     0.81481,     0.81582,\n",
       "           0.81682,     0.81782,     0.81882,     0.81982,     0.82082,     0.82182,     0.82282,     0.82382,     0.82482,     0.82583,     0.82683,     0.82783,     0.82883,     0.82983,     0.83083,     0.83183,     0.83283,     0.83383,     0.83483,     0.83584,     0.83684,     0.83784,     0.83884,     0.83984,\n",
       "           0.84084,     0.84184,     0.84284,     0.84384,     0.84484,     0.84585,     0.84685,     0.84785,     0.84885,     0.84985,     0.85085,     0.85185,     0.85285,     0.85385,     0.85485,     0.85586,     0.85686,     0.85786,     0.85886,     0.85986,     0.86086,     0.86186,     0.86286,     0.86386,\n",
       "           0.86486,     0.86587,     0.86687,     0.86787,     0.86887,     0.86987,     0.87087,     0.87187,     0.87287,     0.87387,     0.87487,     0.87588,     0.87688,     0.87788,     0.87888,     0.87988,     0.88088,     0.88188,     0.88288,     0.88388,     0.88488,     0.88589,     0.88689,     0.88789,\n",
       "           0.88889,     0.88989,     0.89089,     0.89189,     0.89289,     0.89389,     0.89489,      0.8959,      0.8969,      0.8979,      0.8989,      0.8999,      0.9009,      0.9019,      0.9029,      0.9039,      0.9049,     0.90591,     0.90691,     0.90791,     0.90891,     0.90991,     0.91091,     0.91191,\n",
       "           0.91291,     0.91391,     0.91491,     0.91592,     0.91692,     0.91792,     0.91892,     0.91992,     0.92092,     0.92192,     0.92292,     0.92392,     0.92492,     0.92593,     0.92693,     0.92793,     0.92893,     0.92993,     0.93093,     0.93193,     0.93293,     0.93393,     0.93493,     0.93594,\n",
       "           0.93694,     0.93794,     0.93894,     0.93994,     0.94094,     0.94194,     0.94294,     0.94394,     0.94494,     0.94595,     0.94695,     0.94795,     0.94895,     0.94995,     0.95095,     0.95195,     0.95295,     0.95395,     0.95495,     0.95596,     0.95696,     0.95796,     0.95896,     0.95996,\n",
       "           0.96096,     0.96196,     0.96296,     0.96396,     0.96496,     0.96597,     0.96697,     0.96797,     0.96897,     0.96997,     0.97097,     0.97197,     0.97297,     0.97397,     0.97497,     0.97598,     0.97698,     0.97798,     0.97898,     0.97998,     0.98098,     0.98198,     0.98298,     0.98398,\n",
       "           0.98498,     0.98599,     0.98699,     0.98799,     0.98899,     0.98999,     0.99099,     0.99199,     0.99299,     0.99399,     0.99499,       0.996,       0.997,       0.998,       0.999,           1]), array([[          1,           1,           1,           1,           1,           1,           1,           1,           1,           1,           1,           1,           1,           1,           1,           1,           1,           1,           1,           1,           1,           1,           1,\n",
       "                  1,           1,           1,           1,           1,           1,           1,           1,           1,           1,           1,           1,           1,           1,           1,           1,           1,           1,           1,           1,           1,           1,           1,\n",
       "                  1,           1,           1,           1,           1,           1,           1,           1,           1,           1,           1,           1,           1,           1,           1,           1,           1,           1,           1,           1,           1,           1,           1,\n",
       "                  1,           1,           1,           1,           1,           1,           1,           1,           1,           1,           1,           1,           1,           1,           1,           1,           1,           1,           1,           1,           1,           1,           1,\n",
       "                  1,           1,           1,           1,           1,           1,           1,           1,           1,           1,           1,           1,           1,           1,           1,           1,           1,           1,           1,           1,           1,           1,           1,\n",
       "                  1,           1,           1,           1,           1,           1,           1,           1,           1,           1,           1,           1,           1,           1,           1,           1,           1,           1,           1,           1,           1,           1,           1,\n",
       "                  1,           1,           1,           1,           1,           1,           1,           1,           1,           1,           1,           1,           1,           1,           1,           1,           1,           1,           1,           1,           1,           1,           1,\n",
       "                  1,           1,           1,           1,           1,           1,           1,           1,           1,           1,           1,           1,           1,           1,           1,           1,           1,           1,           1,           1,           1,           1,           1,\n",
       "                  1,           1,           1,           1,           1,           1,           1,           1,           1,           1,           1,           1,           1,           1,           1,           1,           1,           1,           1,           1,           1,           1,           1,\n",
       "                  1,           1,           1,           1,           1,           1,           1,           1,           1,           1,           1,           1,           1,           1,           1,           1,           1,           1,           1,           1,           1,           1,           1,\n",
       "                  1,           1,           1,           1,           1,           1,           1,           1,           1,           1,           1,           1,           1,           1,           1,           1,           1,           1,           1,           1,           1,           1,           1,\n",
       "                  1,           1,           1,           1,           1,           1,           1,           1,           1,           1,           1,           1,           1,           1,           1,           1,           1,           1,           1,           1,           1,           1,           1,\n",
       "                  1,           1,           1,           1,           1,           1,           1,           1,           1,           1,           1,           1,           1,           1,           1,           1,           1,           1,           1,           1,           1,           1,           1,\n",
       "                  1,           1,           1,           1,           1,           1,           1,           1,           1,           1,           1,           1,           1,           1,           1,           1,           1,           1,           1,           1,           1,           1,           1,\n",
       "                  1,           1,           1,           1,           1,           1,           1,           1,           1,           1,           1,           1,           1,           1,           1,           1,           1,           1,           1,           1,           1,           1,           1,\n",
       "                  1,           1,           1,           1,           1,           1,           1,           1,           1,           1,           1,           1,           1,           1,           1,           1,           1,           1,           1,           1,           1,           1,           1,\n",
       "                  1,           1,           1,           1,           1,           1,           1,           1,           1,           1,           1,           1,           1,           1,           1,           1,           1,           1,           1,           1,           1,           1,           1,\n",
       "                  1,           1,           1,           1,           1,           1,           1,           1,           1,           1,           1,           1,           1,           1,           1,           1,           1,           1,           1,           1,           1,           1,           1,\n",
       "                  1,           1,           1,           1,           1,           1,           1,           1,           1,           1,           1,           1,           1,           1,           1,           1,           1,           1,           1,           1,           1,           1,           1,\n",
       "                  1,           1,           1,           1,           1,           1,           1,           1,           1,           1,           1,           1,           1,           1,           1,           1,           1,           1,           1,           1,           1,           1,           1,\n",
       "                  1,           1,           1,           1,           1,           1,           1,           1,           1,           1,           1,           1,           1,           1,           1,           1,           1,           1,           1,           1,           1,           1,           1,\n",
       "                  1,           1,           1,           1,           1,           1,           1,           1,           1,           1,           1,           1,           1,           1,           1,           1,           1,           1,           1,           1,           1,           1,           1,\n",
       "                  1,           1,           1,           1,           1,           1,           1,           1,           1,           1,           1,           1,           1,           1,           1,           1,           1,           1,           1,           1,           1,           1,           1,\n",
       "                  1,           1,           1,           1,           1,           1,           1,           1,           1,           1,           1,           1,           1,           1,           1,           1,           1,           1,           1,           1,           1,           1,           1,\n",
       "                  1,           1,           1,           1,           1,           1,           1,           1,           1,           1,           1,           1,           1,           1,           1,           1,           1,           1,           1,           1,           1,           1,           1,\n",
       "                  1,           1,           1,           1,           1,           1,           1,           1,           1,           1,           1,           1,           1,           1,           1,           1,           1,           1,           1,           1,           1,           1,           1,\n",
       "                  1,           1,           1,           1,           1,           1,           1,           1,           1,           1,           1,           1,           1,           1,           1,           1,           1,           1,           1,           1,           1,           1,           1,\n",
       "                  1,           1,           1,           1,           1,           1,           1,           1,           1,           1,           1,      0.9965,      0.9965,      0.9965,      0.9965,      0.9965,      0.9965,      0.9965,      0.9965,      0.9965,      0.9965,      0.9965,      0.9965,\n",
       "             0.9965,      0.9965,      0.9965,      0.9965,      0.9965,      0.9965,      0.9965,      0.9965,      0.9965,      0.9965,      0.9965,      0.9965,      0.9965,      0.9965,      0.9965,      0.9965,      0.9965,      0.9965,      0.9965,      0.9965,      0.9965,      0.9965,      0.9965,\n",
       "             0.9965,      0.9965,      0.9965,      0.9965,      0.9965,      0.9965,      0.9965,      0.9965,      0.9965,      0.9965,      0.9965,      0.9965,      0.9965,      0.9965,      0.9965,      0.9965,      0.9965,      0.9965,      0.9965,      0.9965,      0.9965,      0.9965,      0.9965,\n",
       "             0.9965,      0.9965,      0.9965,      0.9965,      0.9965,      0.9965,      0.9965,      0.9965,      0.9965,      0.9965,      0.9965,      0.9965,      0.9965,      0.9965,      0.9965,      0.9965,      0.9965,      0.9965,      0.9965,      0.9965,      0.9965,      0.9965,      0.9965,\n",
       "             0.9965,      0.9965,      0.9965,      0.9965,      0.9965,      0.9965,      0.9965,      0.9965,      0.9965,      0.9965,      0.9965,      0.9965,      0.9965,      0.9965,      0.9965,      0.9965,      0.9965,      0.9965,      0.9965,      0.9965,      0.9965,      0.9965,      0.9965,\n",
       "             0.9965,      0.9965,      0.9965,      0.9965,      0.9965,      0.9965,      0.9965,      0.9965,      0.9965,      0.9965,      0.9965,      0.9965,      0.9965,      0.9965,      0.9965,      0.9965,      0.9965,      0.9965,      0.9965,      0.9965,      0.9965,      0.9965,      0.9965,\n",
       "             0.9965,      0.9965,      0.9965,      0.9965,      0.9965,      0.9965,      0.9965,     0.99322,     0.99322,     0.99322,     0.99322,     0.99322,     0.99322,     0.99322,     0.99322,     0.99322,     0.99322,     0.99322,     0.99322,     0.99322,     0.99322,     0.99322,     0.99322,\n",
       "            0.99322,     0.99322,     0.99322,     0.99322,     0.99322,     0.99003,     0.99003,     0.99003,     0.99003,     0.99003,     0.99003,     0.99003,     0.99003,     0.99003,     0.99003,     0.99003,     0.99003,     0.99003,     0.99003,     0.98706,     0.98706,     0.98706,     0.98706,\n",
       "            0.98706,     0.98706,     0.98706,     0.98706,     0.98706,     0.98706,     0.98706,     0.98706,     0.98706,     0.98706,     0.98706,     0.98706,     0.98706,     0.98706,     0.98706,     0.98397,     0.98397,     0.98397,     0.98397,     0.98397,     0.97799,     0.97799,     0.97799,\n",
       "            0.97799,     0.97799,     0.97799,     0.97799,     0.97799,     0.97799,     0.97799,     0.97799,     0.97196,     0.97196,     0.96914,     0.96914,     0.96914,     0.96914,     0.96914,     0.96914,     0.96667,     0.96667,     0.96667,     0.96667,     0.96667,     0.96667,     0.96667,\n",
       "            0.96667,     0.96667,     0.96667,     0.96667,     0.96667,     0.96667,     0.95522,     0.95522,     0.95522,     0.94186,     0.94186,     0.94186,     0.94186,     0.94186,     0.94186,     0.94186,     0.94186,     0.94186,     0.94186,     0.94186,     0.93931,     0.93931,     0.91317,\n",
       "            0.91317,     0.91317,     0.90833,     0.90833,     0.90833,     0.90608,     0.90608,     0.87037,     0.87037,     0.87037,     0.81281,     0.81281,     0.81281,     0.79187,     0.79187,     0.78302,     0.78302,     0.78302,     0.73836,     0.73836,     0.73836,     0.71368,     0.71368,\n",
       "            0.71277,     0.71277,     0.71277,        0.64,        0.64,        0.64,     0.61672,      0.6103,     0.60387,     0.59745,     0.59102,      0.5846,     0.57818,     0.57175,     0.56533,      0.5589,     0.55248,     0.54605,     0.53963,     0.53321,     0.52678,     0.52036,     0.51393,\n",
       "            0.50751,     0.50109,     0.49466,     0.48824,     0.48181,     0.47539,     0.46896,     0.46254,     0.45612,     0.44969,     0.44327,     0.43684,     0.43042,       0.424,     0.41757,     0.41115,     0.40472,      0.3983,     0.39187,     0.38545,     0.37903,      0.3726,     0.36618,\n",
       "            0.35975,     0.35333,     0.34691,     0.34048,     0.33406,     0.32763,     0.32121,     0.31478,     0.30836,     0.30194,     0.29551,     0.28909,     0.28266,     0.27624,     0.26982,     0.26339,     0.25697,     0.25054,     0.24412,     0.23769,     0.23127,     0.22485,     0.21842,\n",
       "              0.212,     0.20557,     0.19915,     0.19273,      0.1863,     0.17988,     0.17345,     0.16703,      0.1606,     0.15418,     0.14776,     0.14133,     0.13491,     0.12848,     0.12206,     0.11564,     0.10921,     0.10279,    0.096363,    0.089938,    0.083514,     0.07709,    0.070666,\n",
       "           0.064242,    0.057818,    0.051393,    0.044969,    0.038545,    0.032121,    0.025697,    0.019273,    0.012848,   0.0064242,           0]]), 'Recall', 'Precision'], [array([          0,    0.001001,    0.002002,    0.003003,    0.004004,    0.005005,    0.006006,    0.007007,    0.008008,    0.009009,     0.01001,    0.011011,    0.012012,    0.013013,    0.014014,    0.015015,    0.016016,    0.017017,    0.018018,    0.019019,     0.02002,    0.021021,    0.022022,    0.023023,\n",
       "          0.024024,    0.025025,    0.026026,    0.027027,    0.028028,    0.029029,     0.03003,    0.031031,    0.032032,    0.033033,    0.034034,    0.035035,    0.036036,    0.037037,    0.038038,    0.039039,     0.04004,    0.041041,    0.042042,    0.043043,    0.044044,    0.045045,    0.046046,    0.047047,\n",
       "          0.048048,    0.049049,     0.05005,    0.051051,    0.052052,    0.053053,    0.054054,    0.055055,    0.056056,    0.057057,    0.058058,    0.059059,     0.06006,    0.061061,    0.062062,    0.063063,    0.064064,    0.065065,    0.066066,    0.067067,    0.068068,    0.069069,     0.07007,    0.071071,\n",
       "          0.072072,    0.073073,    0.074074,    0.075075,    0.076076,    0.077077,    0.078078,    0.079079,     0.08008,    0.081081,    0.082082,    0.083083,    0.084084,    0.085085,    0.086086,    0.087087,    0.088088,    0.089089,     0.09009,    0.091091,    0.092092,    0.093093,    0.094094,    0.095095,\n",
       "          0.096096,    0.097097,    0.098098,    0.099099,      0.1001,      0.1011,      0.1021,      0.1031,      0.1041,     0.10511,     0.10611,     0.10711,     0.10811,     0.10911,     0.11011,     0.11111,     0.11211,     0.11311,     0.11411,     0.11512,     0.11612,     0.11712,     0.11812,     0.11912,\n",
       "           0.12012,     0.12112,     0.12212,     0.12312,     0.12412,     0.12513,     0.12613,     0.12713,     0.12813,     0.12913,     0.13013,     0.13113,     0.13213,     0.13313,     0.13413,     0.13514,     0.13614,     0.13714,     0.13814,     0.13914,     0.14014,     0.14114,     0.14214,     0.14314,\n",
       "           0.14414,     0.14515,     0.14615,     0.14715,     0.14815,     0.14915,     0.15015,     0.15115,     0.15215,     0.15315,     0.15415,     0.15516,     0.15616,     0.15716,     0.15816,     0.15916,     0.16016,     0.16116,     0.16216,     0.16316,     0.16416,     0.16517,     0.16617,     0.16717,\n",
       "           0.16817,     0.16917,     0.17017,     0.17117,     0.17217,     0.17317,     0.17417,     0.17518,     0.17618,     0.17718,     0.17818,     0.17918,     0.18018,     0.18118,     0.18218,     0.18318,     0.18418,     0.18519,     0.18619,     0.18719,     0.18819,     0.18919,     0.19019,     0.19119,\n",
       "           0.19219,     0.19319,     0.19419,      0.1952,      0.1962,      0.1972,      0.1982,      0.1992,      0.2002,      0.2012,      0.2022,      0.2032,      0.2042,     0.20521,     0.20621,     0.20721,     0.20821,     0.20921,     0.21021,     0.21121,     0.21221,     0.21321,     0.21421,     0.21522,\n",
       "           0.21622,     0.21722,     0.21822,     0.21922,     0.22022,     0.22122,     0.22222,     0.22322,     0.22422,     0.22523,     0.22623,     0.22723,     0.22823,     0.22923,     0.23023,     0.23123,     0.23223,     0.23323,     0.23423,     0.23524,     0.23624,     0.23724,     0.23824,     0.23924,\n",
       "           0.24024,     0.24124,     0.24224,     0.24324,     0.24424,     0.24525,     0.24625,     0.24725,     0.24825,     0.24925,     0.25025,     0.25125,     0.25225,     0.25325,     0.25425,     0.25526,     0.25626,     0.25726,     0.25826,     0.25926,     0.26026,     0.26126,     0.26226,     0.26326,\n",
       "           0.26426,     0.26527,     0.26627,     0.26727,     0.26827,     0.26927,     0.27027,     0.27127,     0.27227,     0.27327,     0.27427,     0.27528,     0.27628,     0.27728,     0.27828,     0.27928,     0.28028,     0.28128,     0.28228,     0.28328,     0.28428,     0.28529,     0.28629,     0.28729,\n",
       "           0.28829,     0.28929,     0.29029,     0.29129,     0.29229,     0.29329,     0.29429,      0.2953,      0.2963,      0.2973,      0.2983,      0.2993,      0.3003,      0.3013,      0.3023,      0.3033,      0.3043,     0.30531,     0.30631,     0.30731,     0.30831,     0.30931,     0.31031,     0.31131,\n",
       "           0.31231,     0.31331,     0.31431,     0.31532,     0.31632,     0.31732,     0.31832,     0.31932,     0.32032,     0.32132,     0.32232,     0.32332,     0.32432,     0.32533,     0.32633,     0.32733,     0.32833,     0.32933,     0.33033,     0.33133,     0.33233,     0.33333,     0.33433,     0.33534,\n",
       "           0.33634,     0.33734,     0.33834,     0.33934,     0.34034,     0.34134,     0.34234,     0.34334,     0.34434,     0.34535,     0.34635,     0.34735,     0.34835,     0.34935,     0.35035,     0.35135,     0.35235,     0.35335,     0.35435,     0.35536,     0.35636,     0.35736,     0.35836,     0.35936,\n",
       "           0.36036,     0.36136,     0.36236,     0.36336,     0.36436,     0.36537,     0.36637,     0.36737,     0.36837,     0.36937,     0.37037,     0.37137,     0.37237,     0.37337,     0.37437,     0.37538,     0.37638,     0.37738,     0.37838,     0.37938,     0.38038,     0.38138,     0.38238,     0.38338,\n",
       "           0.38438,     0.38539,     0.38639,     0.38739,     0.38839,     0.38939,     0.39039,     0.39139,     0.39239,     0.39339,     0.39439,      0.3954,      0.3964,      0.3974,      0.3984,      0.3994,      0.4004,      0.4014,      0.4024,      0.4034,      0.4044,     0.40541,     0.40641,     0.40741,\n",
       "           0.40841,     0.40941,     0.41041,     0.41141,     0.41241,     0.41341,     0.41441,     0.41542,     0.41642,     0.41742,     0.41842,     0.41942,     0.42042,     0.42142,     0.42242,     0.42342,     0.42442,     0.42543,     0.42643,     0.42743,     0.42843,     0.42943,     0.43043,     0.43143,\n",
       "           0.43243,     0.43343,     0.43443,     0.43544,     0.43644,     0.43744,     0.43844,     0.43944,     0.44044,     0.44144,     0.44244,     0.44344,     0.44444,     0.44545,     0.44645,     0.44745,     0.44845,     0.44945,     0.45045,     0.45145,     0.45245,     0.45345,     0.45445,     0.45546,\n",
       "           0.45646,     0.45746,     0.45846,     0.45946,     0.46046,     0.46146,     0.46246,     0.46346,     0.46446,     0.46547,     0.46647,     0.46747,     0.46847,     0.46947,     0.47047,     0.47147,     0.47247,     0.47347,     0.47447,     0.47548,     0.47648,     0.47748,     0.47848,     0.47948,\n",
       "           0.48048,     0.48148,     0.48248,     0.48348,     0.48448,     0.48549,     0.48649,     0.48749,     0.48849,     0.48949,     0.49049,     0.49149,     0.49249,     0.49349,     0.49449,      0.4955,      0.4965,      0.4975,      0.4985,      0.4995,      0.5005,      0.5015,      0.5025,      0.5035,\n",
       "            0.5045,     0.50551,     0.50651,     0.50751,     0.50851,     0.50951,     0.51051,     0.51151,     0.51251,     0.51351,     0.51451,     0.51552,     0.51652,     0.51752,     0.51852,     0.51952,     0.52052,     0.52152,     0.52252,     0.52352,     0.52452,     0.52553,     0.52653,     0.52753,\n",
       "           0.52853,     0.52953,     0.53053,     0.53153,     0.53253,     0.53353,     0.53453,     0.53554,     0.53654,     0.53754,     0.53854,     0.53954,     0.54054,     0.54154,     0.54254,     0.54354,     0.54454,     0.54555,     0.54655,     0.54755,     0.54855,     0.54955,     0.55055,     0.55155,\n",
       "           0.55255,     0.55355,     0.55455,     0.55556,     0.55656,     0.55756,     0.55856,     0.55956,     0.56056,     0.56156,     0.56256,     0.56356,     0.56456,     0.56557,     0.56657,     0.56757,     0.56857,     0.56957,     0.57057,     0.57157,     0.57257,     0.57357,     0.57457,     0.57558,\n",
       "           0.57658,     0.57758,     0.57858,     0.57958,     0.58058,     0.58158,     0.58258,     0.58358,     0.58458,     0.58559,     0.58659,     0.58759,     0.58859,     0.58959,     0.59059,     0.59159,     0.59259,     0.59359,     0.59459,      0.5956,      0.5966,      0.5976,      0.5986,      0.5996,\n",
       "            0.6006,      0.6016,      0.6026,      0.6036,      0.6046,     0.60561,     0.60661,     0.60761,     0.60861,     0.60961,     0.61061,     0.61161,     0.61261,     0.61361,     0.61461,     0.61562,     0.61662,     0.61762,     0.61862,     0.61962,     0.62062,     0.62162,     0.62262,     0.62362,\n",
       "           0.62462,     0.62563,     0.62663,     0.62763,     0.62863,     0.62963,     0.63063,     0.63163,     0.63263,     0.63363,     0.63463,     0.63564,     0.63664,     0.63764,     0.63864,     0.63964,     0.64064,     0.64164,     0.64264,     0.64364,     0.64464,     0.64565,     0.64665,     0.64765,\n",
       "           0.64865,     0.64965,     0.65065,     0.65165,     0.65265,     0.65365,     0.65465,     0.65566,     0.65666,     0.65766,     0.65866,     0.65966,     0.66066,     0.66166,     0.66266,     0.66366,     0.66466,     0.66567,     0.66667,     0.66767,     0.66867,     0.66967,     0.67067,     0.67167,\n",
       "           0.67267,     0.67367,     0.67467,     0.67568,     0.67668,     0.67768,     0.67868,     0.67968,     0.68068,     0.68168,     0.68268,     0.68368,     0.68468,     0.68569,     0.68669,     0.68769,     0.68869,     0.68969,     0.69069,     0.69169,     0.69269,     0.69369,     0.69469,      0.6957,\n",
       "            0.6967,      0.6977,      0.6987,      0.6997,      0.7007,      0.7017,      0.7027,      0.7037,      0.7047,     0.70571,     0.70671,     0.70771,     0.70871,     0.70971,     0.71071,     0.71171,     0.71271,     0.71371,     0.71471,     0.71572,     0.71672,     0.71772,     0.71872,     0.71972,\n",
       "           0.72072,     0.72172,     0.72272,     0.72372,     0.72472,     0.72573,     0.72673,     0.72773,     0.72873,     0.72973,     0.73073,     0.73173,     0.73273,     0.73373,     0.73473,     0.73574,     0.73674,     0.73774,     0.73874,     0.73974,     0.74074,     0.74174,     0.74274,     0.74374,\n",
       "           0.74474,     0.74575,     0.74675,     0.74775,     0.74875,     0.74975,     0.75075,     0.75175,     0.75275,     0.75375,     0.75475,     0.75576,     0.75676,     0.75776,     0.75876,     0.75976,     0.76076,     0.76176,     0.76276,     0.76376,     0.76476,     0.76577,     0.76677,     0.76777,\n",
       "           0.76877,     0.76977,     0.77077,     0.77177,     0.77277,     0.77377,     0.77477,     0.77578,     0.77678,     0.77778,     0.77878,     0.77978,     0.78078,     0.78178,     0.78278,     0.78378,     0.78478,     0.78579,     0.78679,     0.78779,     0.78879,     0.78979,     0.79079,     0.79179,\n",
       "           0.79279,     0.79379,     0.79479,      0.7958,      0.7968,      0.7978,      0.7988,      0.7998,      0.8008,      0.8018,      0.8028,      0.8038,      0.8048,     0.80581,     0.80681,     0.80781,     0.80881,     0.80981,     0.81081,     0.81181,     0.81281,     0.81381,     0.81481,     0.81582,\n",
       "           0.81682,     0.81782,     0.81882,     0.81982,     0.82082,     0.82182,     0.82282,     0.82382,     0.82482,     0.82583,     0.82683,     0.82783,     0.82883,     0.82983,     0.83083,     0.83183,     0.83283,     0.83383,     0.83483,     0.83584,     0.83684,     0.83784,     0.83884,     0.83984,\n",
       "           0.84084,     0.84184,     0.84284,     0.84384,     0.84484,     0.84585,     0.84685,     0.84785,     0.84885,     0.84985,     0.85085,     0.85185,     0.85285,     0.85385,     0.85485,     0.85586,     0.85686,     0.85786,     0.85886,     0.85986,     0.86086,     0.86186,     0.86286,     0.86386,\n",
       "           0.86486,     0.86587,     0.86687,     0.86787,     0.86887,     0.86987,     0.87087,     0.87187,     0.87287,     0.87387,     0.87487,     0.87588,     0.87688,     0.87788,     0.87888,     0.87988,     0.88088,     0.88188,     0.88288,     0.88388,     0.88488,     0.88589,     0.88689,     0.88789,\n",
       "           0.88889,     0.88989,     0.89089,     0.89189,     0.89289,     0.89389,     0.89489,      0.8959,      0.8969,      0.8979,      0.8989,      0.8999,      0.9009,      0.9019,      0.9029,      0.9039,      0.9049,     0.90591,     0.90691,     0.90791,     0.90891,     0.90991,     0.91091,     0.91191,\n",
       "           0.91291,     0.91391,     0.91491,     0.91592,     0.91692,     0.91792,     0.91892,     0.91992,     0.92092,     0.92192,     0.92292,     0.92392,     0.92492,     0.92593,     0.92693,     0.92793,     0.92893,     0.92993,     0.93093,     0.93193,     0.93293,     0.93393,     0.93493,     0.93594,\n",
       "           0.93694,     0.93794,     0.93894,     0.93994,     0.94094,     0.94194,     0.94294,     0.94394,     0.94494,     0.94595,     0.94695,     0.94795,     0.94895,     0.94995,     0.95095,     0.95195,     0.95295,     0.95395,     0.95495,     0.95596,     0.95696,     0.95796,     0.95896,     0.95996,\n",
       "           0.96096,     0.96196,     0.96296,     0.96396,     0.96496,     0.96597,     0.96697,     0.96797,     0.96897,     0.96997,     0.97097,     0.97197,     0.97297,     0.97397,     0.97497,     0.97598,     0.97698,     0.97798,     0.97898,     0.97998,     0.98098,     0.98198,     0.98298,     0.98398,\n",
       "           0.98498,     0.98599,     0.98699,     0.98799,     0.98899,     0.98999,     0.99099,     0.99199,     0.99299,     0.99399,     0.99499,       0.996,       0.997,       0.998,       0.999,           1]), array([[    0.73604,     0.73604,     0.79501,     0.81556,     0.83194,     0.83908,     0.84798,     0.85383,     0.85766,      0.8627,     0.86899,     0.86997,     0.87122,      0.8732,     0.87467,     0.87724,      0.8782,     0.87859,     0.87897,     0.87938,     0.88196,     0.88233,      0.8827,\n",
       "            0.88319,     0.88384,     0.88425,     0.88452,     0.88478,     0.88504,     0.88532,     0.88583,     0.88634,     0.88758,     0.88827,     0.88889,     0.88917,     0.88945,     0.88973,     0.89001,     0.89206,     0.89332,     0.89274,     0.89231,     0.89308,     0.89288,     0.89196,\n",
       "            0.89221,     0.89245,      0.8927,     0.89295,     0.89318,     0.89334,     0.89351,     0.89367,     0.89383,       0.894,     0.89416,     0.89432,     0.89399,     0.89343,     0.89287,     0.89404,     0.89464,     0.89522,     0.89541,     0.89552,     0.89563,     0.89574,     0.89585,\n",
       "            0.89596,     0.89607,     0.89617,     0.89628,     0.89639,      0.8965,     0.89672,     0.89702,     0.89733,     0.89763,     0.89787,     0.89805,     0.89822,      0.8984,     0.89857,     0.89875,     0.89893,     0.89929,     0.89995,     0.90033,     0.90044,     0.90054,     0.90065,\n",
       "            0.90076,     0.90086,     0.90097,     0.90108,     0.90118,     0.90129,      0.9014,      0.9015,     0.90162,     0.90173,     0.90185,     0.90197,     0.90208,      0.9022,     0.90231,     0.90243,     0.90255,     0.90266,     0.90278,     0.90299,     0.90321,     0.90342,     0.90364,\n",
       "            0.90385,     0.90408,     0.90436,     0.90464,     0.90492,     0.90521,     0.90511,     0.90485,      0.9046,     0.90434,     0.90408,     0.90382,     0.90381,     0.90387,     0.90393,     0.90399,     0.90404,      0.9041,     0.90416,     0.90422,     0.90428,     0.90434,     0.90439,\n",
       "            0.90445,     0.90451,     0.90457,     0.90463,     0.90468,     0.90474,      0.9048,     0.90486,     0.90492,     0.90497,     0.90502,     0.90487,     0.90471,     0.90456,     0.90441,     0.90426,     0.90411,     0.90396,     0.90381,     0.90365,      0.9035,     0.90336,     0.90321,\n",
       "            0.90307,     0.90292,     0.90278,     0.90263,     0.90249,     0.90235,      0.9022,     0.90206,     0.90195,     0.90191,     0.90187,     0.90183,     0.90179,     0.90176,     0.90172,     0.90168,     0.90164,      0.9016,     0.90156,     0.90152,     0.90149,     0.90145,     0.90141,\n",
       "            0.90137,     0.90133,     0.90129,     0.90125,     0.90122,     0.90118,     0.90114,      0.9011,     0.90106,     0.90102,     0.90099,     0.90095,     0.90091,     0.90087,     0.90083,     0.90079,     0.90075,     0.90072,     0.90068,     0.90064,      0.9006,     0.90056,     0.90052,\n",
       "            0.90048,     0.90045,      0.9004,     0.90035,      0.9003,     0.90026,     0.90021,     0.90016,     0.90011,     0.90006,     0.90001,     0.89996,     0.89991,     0.89986,     0.89981,     0.89976,     0.89971,     0.89966,     0.89961,     0.89956,     0.89951,     0.89946,     0.89941,\n",
       "            0.89937,     0.89932,     0.89927,     0.89922,     0.89917,     0.89912,     0.89907,     0.89902,     0.89897,     0.89892,     0.89892,     0.89928,     0.89964,     0.89999,      0.9002,     0.90031,     0.90042,     0.90053,     0.90064,     0.90075,     0.90085,     0.90096,     0.90107,\n",
       "            0.90118,     0.90129,      0.9014,     0.90146,     0.90151,     0.90157,     0.90162,     0.90168,     0.90174,     0.90179,     0.90185,      0.9019,     0.90196,     0.90201,     0.90207,     0.90212,     0.90218,     0.90223,     0.90229,     0.90235,      0.9024,     0.90246,     0.90251,\n",
       "            0.90257,     0.90262,     0.90268,     0.90278,     0.90289,       0.903,      0.9031,     0.90321,     0.90332,     0.90342,     0.90353,     0.90364,     0.90374,     0.90385,     0.90396,     0.90399,     0.90403,     0.90407,     0.90411,     0.90415,     0.90419,     0.90423,     0.90426,\n",
       "             0.9043,     0.90434,     0.90438,     0.90442,     0.90446,      0.9045,     0.90453,     0.90457,     0.90461,     0.90465,     0.90469,     0.90473,     0.90477,      0.9048,     0.90484,     0.90488,     0.90492,     0.90496,       0.905,     0.90503,     0.90507,     0.90511,     0.90515,\n",
       "            0.90519,     0.90523,     0.90501,     0.90475,     0.90448,     0.90422,     0.90395,     0.90369,     0.90372,     0.90375,     0.90379,     0.90383,     0.90386,      0.9039,     0.90394,     0.90397,     0.90401,     0.90404,     0.90408,     0.90412,     0.90415,     0.90419,     0.90423,\n",
       "            0.90426,      0.9043,     0.90434,     0.90437,     0.90441,     0.90444,     0.90448,     0.90452,     0.90455,     0.90459,     0.90462,     0.90466,      0.9047,     0.90473,     0.90477,     0.90481,     0.90484,     0.90488,     0.90491,     0.90495,     0.90537,     0.90603,     0.90626,\n",
       "            0.90627,     0.90629,      0.9063,     0.90632,     0.90633,     0.90635,     0.90636,     0.90638,     0.90639,     0.90641,     0.90642,     0.90644,     0.90645,     0.90647,     0.90648,      0.9065,     0.90651,     0.90653,     0.90654,     0.90656,     0.90657,     0.90659,      0.9066,\n",
       "            0.90662,     0.90663,     0.90665,     0.90666,     0.90668,     0.90669,     0.90671,     0.90672,     0.90674,     0.90675,     0.90677,     0.90678,      0.9068,     0.90681,     0.90683,     0.90684,     0.90686,     0.90687,     0.90689,      0.9069,     0.90692,     0.90693,     0.90695,\n",
       "            0.90696,     0.90698,     0.90699,       0.907,     0.90702,     0.90703,     0.90705,     0.90706,     0.90708,     0.90709,     0.90711,     0.90712,     0.90714,     0.90715,     0.90717,     0.90718,      0.9072,     0.90721,     0.90723,     0.90724,     0.90726,     0.90727,     0.90729,\n",
       "             0.9073,     0.90732,     0.90733,     0.90735,     0.90736,     0.90738,     0.90739,     0.90741,     0.90742,     0.90744,     0.90745,     0.90747,     0.90748,      0.9075,     0.90751,     0.90753,     0.90756,     0.90784,     0.90812,      0.9084,     0.90868,     0.90881,     0.90875,\n",
       "            0.90869,     0.90864,     0.90858,     0.90852,     0.90846,     0.90841,     0.90835,     0.90829,     0.90824,     0.90818,     0.90812,     0.90807,     0.90801,     0.90795,      0.9079,     0.90784,     0.90778,     0.90772,     0.90767,     0.90761,     0.90755,      0.9075,     0.90744,\n",
       "            0.90738,     0.90732,     0.90726,     0.90711,     0.90697,     0.90682,     0.90667,     0.90653,     0.90638,     0.90624,     0.90609,     0.90595,      0.9058,     0.90563,     0.90543,     0.90523,     0.90503,     0.90483,     0.90463,     0.90443,     0.90423,     0.90383,     0.90329,\n",
       "            0.90276,     0.90231,     0.90191,      0.9015,      0.9011,     0.90103,     0.90107,     0.90111,     0.90115,     0.90119,     0.90123,     0.90127,     0.90131,     0.90135,     0.90139,     0.90143,     0.90146,      0.9015,     0.90154,     0.90158,     0.90162,     0.90166,      0.9017,\n",
       "            0.90174,     0.90178,     0.90182,     0.90185,     0.90189,     0.90193,     0.90197,     0.90201,     0.90205,     0.90209,     0.90213,     0.90217,     0.90221,     0.90224,     0.90228,     0.90224,     0.90213,     0.90203,     0.90192,     0.90182,     0.90171,     0.90161,     0.90151,\n",
       "             0.9014,      0.9013,     0.90119,     0.90109,     0.90098,     0.90088,     0.90077,     0.90063,     0.90045,     0.90027,     0.90009,     0.89991,     0.89973,     0.89955,     0.89937,     0.89919,     0.89924,     0.89939,     0.89953,     0.89968,     0.89983,     0.89998,     0.90013,\n",
       "            0.90027,     0.90042,     0.90013,     0.89981,     0.89948,     0.89916,     0.89885,     0.89891,     0.89897,     0.89904,      0.8991,     0.89916,     0.89923,     0.89929,     0.89935,     0.89942,     0.89948,     0.89955,     0.89961,     0.89967,     0.89974,      0.8998,     0.89986,\n",
       "            0.89993,     0.89999,     0.90005,     0.90012,     0.90018,     0.90023,     0.90029,     0.90035,      0.9004,     0.90046,     0.90052,     0.90057,     0.90063,     0.90069,     0.90075,      0.9008,     0.90086,     0.90092,     0.90097,     0.90103,     0.90109,     0.90114,      0.9012,\n",
       "            0.90126,     0.90131,     0.90137,     0.90143,     0.90111,     0.90056,     0.90002,     0.89947,     0.89893,     0.89838,     0.89816,     0.89803,     0.89791,     0.89778,     0.89765,     0.89753,      0.8974,     0.89727,     0.89715,     0.89702,     0.89689,     0.89677,     0.89664,\n",
       "            0.89645,     0.89627,     0.89609,      0.8959,     0.89572,     0.89554,     0.89535,     0.89517,     0.89643,     0.89667,     0.89691,     0.89716,      0.8974,     0.89765,     0.89595,     0.89573,      0.8955,     0.89528,     0.89506,     0.89484,     0.89462,     0.89445,     0.89459,\n",
       "            0.89473,     0.89487,     0.89502,     0.89516,      0.8953,     0.89544,     0.89558,     0.89572,     0.89569,     0.89564,     0.89559,     0.89553,     0.89548,     0.89543,     0.89537,     0.89532,     0.89527,     0.89521,     0.89516,      0.8951,     0.89505,       0.895,     0.89494,\n",
       "            0.89489,     0.89484,     0.89478,     0.89473,     0.89468,     0.89462,     0.89457,     0.89451,     0.89446,     0.89441,     0.89435,      0.8943,     0.89425,     0.89419,     0.89414,     0.89404,     0.89391,     0.89378,     0.89365,     0.89352,      0.8934,     0.89327,     0.89314,\n",
       "            0.89301,     0.89288,     0.89275,     0.89262,      0.8925,     0.89234,     0.89218,     0.89202,     0.89186,      0.8917,     0.89154,     0.89138,     0.89122,     0.89106,      0.8909,     0.89079,      0.8907,      0.8906,     0.89051,     0.89042,     0.89032,     0.89023,     0.89014,\n",
       "            0.89004,     0.88995,     0.88986,     0.88976,     0.88967,     0.88958,     0.88948,     0.88939,      0.8893,     0.88875,     0.88747,     0.88732,     0.88717,     0.88701,     0.88686,     0.88671,     0.88655,      0.8864,     0.88625,     0.88609,     0.88594,     0.88572,     0.88549,\n",
       "            0.88527,     0.88504,     0.88481,     0.88459,     0.88436,     0.88442,     0.88467,     0.88491,     0.88516,      0.8854,     0.88552,     0.88524,     0.88495,     0.88467,     0.88439,      0.8841,     0.88384,     0.88361,     0.88339,     0.88316,     0.88293,      0.8827,     0.88248,\n",
       "            0.88224,     0.88181,     0.88138,     0.88095,     0.87884,     0.87835,     0.87786,     0.87737,     0.87843,     0.87794,     0.87745,     0.87695,     0.87667,     0.87642,     0.87617,     0.87593,     0.87568,     0.87543,     0.87512,     0.87333,     0.87301,     0.87269,     0.87238,\n",
       "            0.87206,     0.87173,     0.87134,     0.87095,     0.87057,     0.87018,     0.86747,      0.8663,     0.86512,     0.86584,     0.86466,     0.86217,     0.86145,     0.85851,     0.85496,      0.8537,     0.85298,     0.84864,     0.84692,     0.84619,     0.84545,     0.84041,     0.83353,\n",
       "            0.83032,     0.82289,     0.81911,     0.81565,     0.81488,     0.81411,     0.81045,     0.80277,     0.79993,     0.79914,     0.79586,     0.79191,     0.78794,     0.78591,      0.7819,     0.77786,     0.77382,      0.7714,      0.7699,     0.76781,     0.76389,     0.76284,     0.75529,\n",
       "            0.75106,     0.74077,     0.73968,     0.73819,     0.73384,     0.72946,     0.71403,     0.71175,     0.70946,     0.70152,     0.69692,     0.68302,     0.67357,     0.66158,     0.65425,     0.65175,     0.64448,      0.6428,     0.64048,     0.63793,     0.63537,      0.6214,     0.61149,\n",
       "            0.61016,     0.60205,     0.59908,     0.57758,     0.56378,     0.53975,     0.52521,     0.49073,      0.4783,     0.46852,     0.45764,     0.45505,     0.43312,     0.42575,     0.41796,      0.4043,     0.39214,     0.38403,     0.36547,     0.35919,     0.34575,     0.34324,     0.32273,\n",
       "            0.31714,     0.31303,     0.29163,     0.25743,     0.24715,     0.23666,     0.23196,     0.19364,     0.17961,     0.16896,     0.16236,     0.15926,     0.14349,     0.13406,     0.12313,     0.11013,     0.10351,    0.078782,    0.063015,    0.048034,    0.040565,    0.037033,    0.023036,\n",
       "           0.019899,    0.017195,    0.012963,    0.010165,   0.0092552,   0.0083448,   0.0074336,   0.0065215,   0.0056086,           0,           0,           0,           0,           0,           0,           0,           0,           0,           0,           0,           0,           0,           0,\n",
       "                  0,           0,           0,           0,           0,           0,           0,           0,           0,           0,           0,           0,           0,           0,           0,           0,           0,           0,           0,           0,           0,           0,           0,\n",
       "                  0,           0,           0,           0,           0,           0,           0,           0,           0,           0,           0,           0,           0,           0,           0,           0,           0,           0,           0,           0,           0,           0,           0,\n",
       "                  0,           0,           0,           0,           0,           0,           0,           0,           0,           0,           0]]), 'Confidence', 'F1'], [array([          0,    0.001001,    0.002002,    0.003003,    0.004004,    0.005005,    0.006006,    0.007007,    0.008008,    0.009009,     0.01001,    0.011011,    0.012012,    0.013013,    0.014014,    0.015015,    0.016016,    0.017017,    0.018018,    0.019019,     0.02002,    0.021021,    0.022022,    0.023023,\n",
       "          0.024024,    0.025025,    0.026026,    0.027027,    0.028028,    0.029029,     0.03003,    0.031031,    0.032032,    0.033033,    0.034034,    0.035035,    0.036036,    0.037037,    0.038038,    0.039039,     0.04004,    0.041041,    0.042042,    0.043043,    0.044044,    0.045045,    0.046046,    0.047047,\n",
       "          0.048048,    0.049049,     0.05005,    0.051051,    0.052052,    0.053053,    0.054054,    0.055055,    0.056056,    0.057057,    0.058058,    0.059059,     0.06006,    0.061061,    0.062062,    0.063063,    0.064064,    0.065065,    0.066066,    0.067067,    0.068068,    0.069069,     0.07007,    0.071071,\n",
       "          0.072072,    0.073073,    0.074074,    0.075075,    0.076076,    0.077077,    0.078078,    0.079079,     0.08008,    0.081081,    0.082082,    0.083083,    0.084084,    0.085085,    0.086086,    0.087087,    0.088088,    0.089089,     0.09009,    0.091091,    0.092092,    0.093093,    0.094094,    0.095095,\n",
       "          0.096096,    0.097097,    0.098098,    0.099099,      0.1001,      0.1011,      0.1021,      0.1031,      0.1041,     0.10511,     0.10611,     0.10711,     0.10811,     0.10911,     0.11011,     0.11111,     0.11211,     0.11311,     0.11411,     0.11512,     0.11612,     0.11712,     0.11812,     0.11912,\n",
       "           0.12012,     0.12112,     0.12212,     0.12312,     0.12412,     0.12513,     0.12613,     0.12713,     0.12813,     0.12913,     0.13013,     0.13113,     0.13213,     0.13313,     0.13413,     0.13514,     0.13614,     0.13714,     0.13814,     0.13914,     0.14014,     0.14114,     0.14214,     0.14314,\n",
       "           0.14414,     0.14515,     0.14615,     0.14715,     0.14815,     0.14915,     0.15015,     0.15115,     0.15215,     0.15315,     0.15415,     0.15516,     0.15616,     0.15716,     0.15816,     0.15916,     0.16016,     0.16116,     0.16216,     0.16316,     0.16416,     0.16517,     0.16617,     0.16717,\n",
       "           0.16817,     0.16917,     0.17017,     0.17117,     0.17217,     0.17317,     0.17417,     0.17518,     0.17618,     0.17718,     0.17818,     0.17918,     0.18018,     0.18118,     0.18218,     0.18318,     0.18418,     0.18519,     0.18619,     0.18719,     0.18819,     0.18919,     0.19019,     0.19119,\n",
       "           0.19219,     0.19319,     0.19419,      0.1952,      0.1962,      0.1972,      0.1982,      0.1992,      0.2002,      0.2012,      0.2022,      0.2032,      0.2042,     0.20521,     0.20621,     0.20721,     0.20821,     0.20921,     0.21021,     0.21121,     0.21221,     0.21321,     0.21421,     0.21522,\n",
       "           0.21622,     0.21722,     0.21822,     0.21922,     0.22022,     0.22122,     0.22222,     0.22322,     0.22422,     0.22523,     0.22623,     0.22723,     0.22823,     0.22923,     0.23023,     0.23123,     0.23223,     0.23323,     0.23423,     0.23524,     0.23624,     0.23724,     0.23824,     0.23924,\n",
       "           0.24024,     0.24124,     0.24224,     0.24324,     0.24424,     0.24525,     0.24625,     0.24725,     0.24825,     0.24925,     0.25025,     0.25125,     0.25225,     0.25325,     0.25425,     0.25526,     0.25626,     0.25726,     0.25826,     0.25926,     0.26026,     0.26126,     0.26226,     0.26326,\n",
       "           0.26426,     0.26527,     0.26627,     0.26727,     0.26827,     0.26927,     0.27027,     0.27127,     0.27227,     0.27327,     0.27427,     0.27528,     0.27628,     0.27728,     0.27828,     0.27928,     0.28028,     0.28128,     0.28228,     0.28328,     0.28428,     0.28529,     0.28629,     0.28729,\n",
       "           0.28829,     0.28929,     0.29029,     0.29129,     0.29229,     0.29329,     0.29429,      0.2953,      0.2963,      0.2973,      0.2983,      0.2993,      0.3003,      0.3013,      0.3023,      0.3033,      0.3043,     0.30531,     0.30631,     0.30731,     0.30831,     0.30931,     0.31031,     0.31131,\n",
       "           0.31231,     0.31331,     0.31431,     0.31532,     0.31632,     0.31732,     0.31832,     0.31932,     0.32032,     0.32132,     0.32232,     0.32332,     0.32432,     0.32533,     0.32633,     0.32733,     0.32833,     0.32933,     0.33033,     0.33133,     0.33233,     0.33333,     0.33433,     0.33534,\n",
       "           0.33634,     0.33734,     0.33834,     0.33934,     0.34034,     0.34134,     0.34234,     0.34334,     0.34434,     0.34535,     0.34635,     0.34735,     0.34835,     0.34935,     0.35035,     0.35135,     0.35235,     0.35335,     0.35435,     0.35536,     0.35636,     0.35736,     0.35836,     0.35936,\n",
       "           0.36036,     0.36136,     0.36236,     0.36336,     0.36436,     0.36537,     0.36637,     0.36737,     0.36837,     0.36937,     0.37037,     0.37137,     0.37237,     0.37337,     0.37437,     0.37538,     0.37638,     0.37738,     0.37838,     0.37938,     0.38038,     0.38138,     0.38238,     0.38338,\n",
       "           0.38438,     0.38539,     0.38639,     0.38739,     0.38839,     0.38939,     0.39039,     0.39139,     0.39239,     0.39339,     0.39439,      0.3954,      0.3964,      0.3974,      0.3984,      0.3994,      0.4004,      0.4014,      0.4024,      0.4034,      0.4044,     0.40541,     0.40641,     0.40741,\n",
       "           0.40841,     0.40941,     0.41041,     0.41141,     0.41241,     0.41341,     0.41441,     0.41542,     0.41642,     0.41742,     0.41842,     0.41942,     0.42042,     0.42142,     0.42242,     0.42342,     0.42442,     0.42543,     0.42643,     0.42743,     0.42843,     0.42943,     0.43043,     0.43143,\n",
       "           0.43243,     0.43343,     0.43443,     0.43544,     0.43644,     0.43744,     0.43844,     0.43944,     0.44044,     0.44144,     0.44244,     0.44344,     0.44444,     0.44545,     0.44645,     0.44745,     0.44845,     0.44945,     0.45045,     0.45145,     0.45245,     0.45345,     0.45445,     0.45546,\n",
       "           0.45646,     0.45746,     0.45846,     0.45946,     0.46046,     0.46146,     0.46246,     0.46346,     0.46446,     0.46547,     0.46647,     0.46747,     0.46847,     0.46947,     0.47047,     0.47147,     0.47247,     0.47347,     0.47447,     0.47548,     0.47648,     0.47748,     0.47848,     0.47948,\n",
       "           0.48048,     0.48148,     0.48248,     0.48348,     0.48448,     0.48549,     0.48649,     0.48749,     0.48849,     0.48949,     0.49049,     0.49149,     0.49249,     0.49349,     0.49449,      0.4955,      0.4965,      0.4975,      0.4985,      0.4995,      0.5005,      0.5015,      0.5025,      0.5035,\n",
       "            0.5045,     0.50551,     0.50651,     0.50751,     0.50851,     0.50951,     0.51051,     0.51151,     0.51251,     0.51351,     0.51451,     0.51552,     0.51652,     0.51752,     0.51852,     0.51952,     0.52052,     0.52152,     0.52252,     0.52352,     0.52452,     0.52553,     0.52653,     0.52753,\n",
       "           0.52853,     0.52953,     0.53053,     0.53153,     0.53253,     0.53353,     0.53453,     0.53554,     0.53654,     0.53754,     0.53854,     0.53954,     0.54054,     0.54154,     0.54254,     0.54354,     0.54454,     0.54555,     0.54655,     0.54755,     0.54855,     0.54955,     0.55055,     0.55155,\n",
       "           0.55255,     0.55355,     0.55455,     0.55556,     0.55656,     0.55756,     0.55856,     0.55956,     0.56056,     0.56156,     0.56256,     0.56356,     0.56456,     0.56557,     0.56657,     0.56757,     0.56857,     0.56957,     0.57057,     0.57157,     0.57257,     0.57357,     0.57457,     0.57558,\n",
       "           0.57658,     0.57758,     0.57858,     0.57958,     0.58058,     0.58158,     0.58258,     0.58358,     0.58458,     0.58559,     0.58659,     0.58759,     0.58859,     0.58959,     0.59059,     0.59159,     0.59259,     0.59359,     0.59459,      0.5956,      0.5966,      0.5976,      0.5986,      0.5996,\n",
       "            0.6006,      0.6016,      0.6026,      0.6036,      0.6046,     0.60561,     0.60661,     0.60761,     0.60861,     0.60961,     0.61061,     0.61161,     0.61261,     0.61361,     0.61461,     0.61562,     0.61662,     0.61762,     0.61862,     0.61962,     0.62062,     0.62162,     0.62262,     0.62362,\n",
       "           0.62462,     0.62563,     0.62663,     0.62763,     0.62863,     0.62963,     0.63063,     0.63163,     0.63263,     0.63363,     0.63463,     0.63564,     0.63664,     0.63764,     0.63864,     0.63964,     0.64064,     0.64164,     0.64264,     0.64364,     0.64464,     0.64565,     0.64665,     0.64765,\n",
       "           0.64865,     0.64965,     0.65065,     0.65165,     0.65265,     0.65365,     0.65465,     0.65566,     0.65666,     0.65766,     0.65866,     0.65966,     0.66066,     0.66166,     0.66266,     0.66366,     0.66466,     0.66567,     0.66667,     0.66767,     0.66867,     0.66967,     0.67067,     0.67167,\n",
       "           0.67267,     0.67367,     0.67467,     0.67568,     0.67668,     0.67768,     0.67868,     0.67968,     0.68068,     0.68168,     0.68268,     0.68368,     0.68468,     0.68569,     0.68669,     0.68769,     0.68869,     0.68969,     0.69069,     0.69169,     0.69269,     0.69369,     0.69469,      0.6957,\n",
       "            0.6967,      0.6977,      0.6987,      0.6997,      0.7007,      0.7017,      0.7027,      0.7037,      0.7047,     0.70571,     0.70671,     0.70771,     0.70871,     0.70971,     0.71071,     0.71171,     0.71271,     0.71371,     0.71471,     0.71572,     0.71672,     0.71772,     0.71872,     0.71972,\n",
       "           0.72072,     0.72172,     0.72272,     0.72372,     0.72472,     0.72573,     0.72673,     0.72773,     0.72873,     0.72973,     0.73073,     0.73173,     0.73273,     0.73373,     0.73473,     0.73574,     0.73674,     0.73774,     0.73874,     0.73974,     0.74074,     0.74174,     0.74274,     0.74374,\n",
       "           0.74474,     0.74575,     0.74675,     0.74775,     0.74875,     0.74975,     0.75075,     0.75175,     0.75275,     0.75375,     0.75475,     0.75576,     0.75676,     0.75776,     0.75876,     0.75976,     0.76076,     0.76176,     0.76276,     0.76376,     0.76476,     0.76577,     0.76677,     0.76777,\n",
       "           0.76877,     0.76977,     0.77077,     0.77177,     0.77277,     0.77377,     0.77477,     0.77578,     0.77678,     0.77778,     0.77878,     0.77978,     0.78078,     0.78178,     0.78278,     0.78378,     0.78478,     0.78579,     0.78679,     0.78779,     0.78879,     0.78979,     0.79079,     0.79179,\n",
       "           0.79279,     0.79379,     0.79479,      0.7958,      0.7968,      0.7978,      0.7988,      0.7998,      0.8008,      0.8018,      0.8028,      0.8038,      0.8048,     0.80581,     0.80681,     0.80781,     0.80881,     0.80981,     0.81081,     0.81181,     0.81281,     0.81381,     0.81481,     0.81582,\n",
       "           0.81682,     0.81782,     0.81882,     0.81982,     0.82082,     0.82182,     0.82282,     0.82382,     0.82482,     0.82583,     0.82683,     0.82783,     0.82883,     0.82983,     0.83083,     0.83183,     0.83283,     0.83383,     0.83483,     0.83584,     0.83684,     0.83784,     0.83884,     0.83984,\n",
       "           0.84084,     0.84184,     0.84284,     0.84384,     0.84484,     0.84585,     0.84685,     0.84785,     0.84885,     0.84985,     0.85085,     0.85185,     0.85285,     0.85385,     0.85485,     0.85586,     0.85686,     0.85786,     0.85886,     0.85986,     0.86086,     0.86186,     0.86286,     0.86386,\n",
       "           0.86486,     0.86587,     0.86687,     0.86787,     0.86887,     0.86987,     0.87087,     0.87187,     0.87287,     0.87387,     0.87487,     0.87588,     0.87688,     0.87788,     0.87888,     0.87988,     0.88088,     0.88188,     0.88288,     0.88388,     0.88488,     0.88589,     0.88689,     0.88789,\n",
       "           0.88889,     0.88989,     0.89089,     0.89189,     0.89289,     0.89389,     0.89489,      0.8959,      0.8969,      0.8979,      0.8989,      0.8999,      0.9009,      0.9019,      0.9029,      0.9039,      0.9049,     0.90591,     0.90691,     0.90791,     0.90891,     0.90991,     0.91091,     0.91191,\n",
       "           0.91291,     0.91391,     0.91491,     0.91592,     0.91692,     0.91792,     0.91892,     0.91992,     0.92092,     0.92192,     0.92292,     0.92392,     0.92492,     0.92593,     0.92693,     0.92793,     0.92893,     0.92993,     0.93093,     0.93193,     0.93293,     0.93393,     0.93493,     0.93594,\n",
       "           0.93694,     0.93794,     0.93894,     0.93994,     0.94094,     0.94194,     0.94294,     0.94394,     0.94494,     0.94595,     0.94695,     0.94795,     0.94895,     0.94995,     0.95095,     0.95195,     0.95295,     0.95395,     0.95495,     0.95596,     0.95696,     0.95796,     0.95896,     0.95996,\n",
       "           0.96096,     0.96196,     0.96296,     0.96396,     0.96496,     0.96597,     0.96697,     0.96797,     0.96897,     0.96997,     0.97097,     0.97197,     0.97297,     0.97397,     0.97497,     0.97598,     0.97698,     0.97798,     0.97898,     0.97998,     0.98098,     0.98198,     0.98298,     0.98398,\n",
       "           0.98498,     0.98599,     0.98699,     0.98799,     0.98899,     0.98999,     0.99099,     0.99199,     0.99299,     0.99399,     0.99499,       0.996,       0.997,       0.998,       0.999,           1]), array([[    0.62107,     0.62107,     0.71502,     0.75086,     0.77909,       0.796,     0.81217,      0.8253,     0.83249,     0.84204,      0.8541,     0.85599,     0.85842,     0.86228,     0.86514,     0.87018,     0.87471,     0.87548,     0.87624,     0.87705,      0.8822,     0.88294,     0.88368,\n",
       "            0.88467,     0.88596,      0.8868,     0.88733,     0.88786,     0.88839,     0.88894,     0.88998,     0.89101,     0.89351,     0.89491,     0.89618,     0.89675,     0.89732,     0.89789,     0.89846,     0.90265,     0.90601,     0.90591,     0.90599,     0.90758,     0.90824,     0.90814,\n",
       "            0.90865,     0.90917,     0.90968,      0.9102,     0.91068,     0.91102,     0.91136,      0.9117,     0.91204,     0.91238,     0.91272,     0.91306,      0.9131,     0.91301,     0.91292,      0.9154,     0.91666,     0.91787,     0.91827,      0.9185,     0.91873,     0.91896,     0.91919,\n",
       "            0.91942,     0.91965,     0.91988,     0.92012,     0.92035,     0.92058,     0.92103,     0.92167,     0.92231,     0.92295,     0.92347,     0.92384,     0.92421,     0.92458,     0.92496,     0.92533,      0.9257,     0.92648,     0.92787,     0.92869,     0.92891,     0.92914,     0.92937,\n",
       "            0.92959,     0.92982,     0.93005,     0.93028,      0.9305,     0.93073,     0.93096,     0.93119,     0.93143,     0.93168,     0.93193,     0.93217,     0.93242,     0.93267,     0.93292,     0.93316,     0.93341,     0.93366,     0.93391,     0.93437,     0.93483,     0.93529,     0.93575,\n",
       "            0.93621,     0.93669,      0.9373,     0.93791,     0.93851,     0.93912,     0.93929,     0.93926,     0.93923,      0.9392,     0.93917,     0.93914,     0.93923,     0.93935,     0.93948,     0.93961,     0.93973,     0.93986,     0.93998,     0.94011,     0.94024,     0.94036,     0.94049,\n",
       "            0.94061,     0.94074,     0.94086,     0.94099,     0.94112,     0.94124,     0.94137,     0.94149,     0.94162,     0.94174,     0.94186,     0.94184,     0.94183,     0.94181,     0.94179,     0.94178,     0.94176,     0.94174,     0.94173,     0.94171,     0.94169,     0.94168,     0.94166,\n",
       "            0.94164,     0.94163,     0.94161,      0.9416,     0.94158,     0.94156,     0.94155,     0.94153,     0.94152,     0.94151,     0.94151,     0.94151,      0.9415,      0.9415,     0.94149,     0.94149,     0.94148,     0.94148,     0.94148,     0.94147,     0.94147,     0.94146,     0.94146,\n",
       "            0.94145,     0.94145,     0.94145,     0.94144,     0.94144,     0.94143,     0.94143,     0.94142,     0.94142,     0.94142,     0.94141,     0.94141,      0.9414,      0.9414,     0.94139,     0.94139,     0.94139,     0.94138,     0.94138,     0.94137,     0.94137,     0.94136,     0.94136,\n",
       "            0.94136,     0.94135,     0.94135,     0.94134,     0.94134,     0.94133,     0.94132,     0.94132,     0.94131,     0.94131,      0.9413,      0.9413,     0.94129,     0.94129,     0.94128,     0.94128,     0.94127,     0.94126,     0.94126,     0.94125,     0.94125,     0.94124,     0.94124,\n",
       "            0.94123,     0.94123,     0.94122,     0.94121,     0.94121,      0.9412,      0.9412,     0.94119,     0.94119,     0.94118,     0.94128,     0.94206,     0.94285,     0.94363,     0.94409,     0.94433,     0.94457,     0.94481,     0.94505,     0.94529,     0.94553,     0.94576,       0.946,\n",
       "            0.94624,     0.94648,     0.94672,     0.94685,     0.94698,      0.9471,     0.94722,     0.94734,     0.94747,     0.94759,     0.94771,     0.94783,     0.94796,     0.94808,      0.9482,     0.94832,     0.94845,     0.94857,     0.94869,     0.94881,     0.94894,     0.94906,     0.94918,\n",
       "             0.9493,     0.94943,     0.94955,     0.94978,     0.95002,     0.95025,     0.95049,     0.95073,     0.95096,      0.9512,     0.95144,     0.95167,     0.95191,     0.95215,     0.95238,     0.95247,     0.95255,     0.95264,     0.95272,     0.95281,      0.9529,     0.95298,     0.95307,\n",
       "            0.95315,     0.95324,     0.95332,     0.95341,      0.9535,     0.95358,     0.95367,     0.95375,     0.95384,     0.95392,     0.95401,      0.9541,     0.95418,     0.95427,     0.95435,     0.95444,     0.95452,     0.95461,      0.9547,     0.95478,     0.95487,     0.95495,     0.95504,\n",
       "            0.95512,     0.95521,      0.9552,     0.95518,     0.95516,     0.95514,     0.95511,     0.95509,     0.95517,     0.95525,     0.95533,     0.95541,     0.95549,     0.95558,     0.95566,     0.95574,     0.95582,      0.9559,     0.95598,     0.95606,     0.95614,     0.95622,     0.95631,\n",
       "            0.95639,     0.95647,     0.95655,     0.95663,     0.95671,     0.95679,     0.95687,     0.95695,     0.95703,     0.95712,      0.9572,     0.95728,     0.95736,     0.95744,     0.95752,      0.9576,     0.95768,     0.95776,     0.95785,     0.95793,     0.95887,     0.96035,     0.96087,\n",
       "             0.9609,     0.96093,     0.96097,       0.961,     0.96103,     0.96107,      0.9611,     0.96113,     0.96117,      0.9612,     0.96123,     0.96127,      0.9613,     0.96134,     0.96137,      0.9614,     0.96144,     0.96147,      0.9615,     0.96154,     0.96157,      0.9616,     0.96164,\n",
       "            0.96167,      0.9617,     0.96174,     0.96177,      0.9618,     0.96184,     0.96187,     0.96191,     0.96194,     0.96197,     0.96201,     0.96204,     0.96207,     0.96211,     0.96214,     0.96217,     0.96221,     0.96224,     0.96227,     0.96231,     0.96234,     0.96237,     0.96241,\n",
       "            0.96244,     0.96248,     0.96251,     0.96254,     0.96258,     0.96261,     0.96264,     0.96268,     0.96271,     0.96274,     0.96278,     0.96281,     0.96284,     0.96288,     0.96291,     0.96294,     0.96298,     0.96301,     0.96304,     0.96308,     0.96311,     0.96315,     0.96318,\n",
       "            0.96321,     0.96325,     0.96328,     0.96331,     0.96335,     0.96338,     0.96341,     0.96345,     0.96348,     0.96351,     0.96355,     0.96358,     0.96361,     0.96365,     0.96368,     0.96372,      0.9638,     0.96443,     0.96506,     0.96569,     0.96632,     0.96666,     0.96666,\n",
       "            0.96666,     0.96665,     0.96665,     0.96665,     0.96664,     0.96664,     0.96664,     0.96663,     0.96663,     0.96662,     0.96662,     0.96662,     0.96661,     0.96661,     0.96661,      0.9666,      0.9666,     0.96659,     0.96659,     0.96659,     0.96658,     0.96658,     0.96658,\n",
       "            0.96657,     0.96657,     0.96656,     0.96655,     0.96655,     0.96654,     0.96653,     0.96652,     0.96651,      0.9665,     0.96649,     0.96648,     0.96647,     0.96646,     0.96644,     0.96643,     0.96642,     0.96641,     0.96639,     0.96638,     0.96637,     0.96634,      0.9663,\n",
       "            0.96627,     0.96624,     0.96621,     0.96619,     0.96616,     0.96622,     0.96631,      0.9664,     0.96649,     0.96658,     0.96667,     0.96676,     0.96685,     0.96694,     0.96703,     0.96712,     0.96721,      0.9673,     0.96739,     0.96748,     0.96757,     0.96766,     0.96775,\n",
       "            0.96784,     0.96793,     0.96802,     0.96811,      0.9682,     0.96829,     0.96838,     0.96847,     0.96856,     0.96865,     0.96874,     0.96883,     0.96892,     0.96901,      0.9691,     0.96913,     0.96913,     0.96912,     0.96911,     0.96911,      0.9691,     0.96909,     0.96909,\n",
       "            0.96908,     0.96908,     0.96907,     0.96906,     0.96906,     0.96905,     0.96904,     0.96904,     0.96902,     0.96901,       0.969,     0.96899,     0.96898,     0.96897,     0.96896,     0.96895,     0.96918,     0.96953,     0.96987,     0.97021,     0.97056,      0.9709,     0.97125,\n",
       "            0.97159,     0.97193,     0.97195,     0.97193,     0.97191,     0.97189,     0.97188,     0.97203,     0.97218,     0.97233,     0.97248,     0.97262,     0.97277,     0.97292,     0.97307,     0.97322,     0.97337,     0.97352,     0.97367,     0.97381,     0.97396,     0.97411,     0.97426,\n",
       "            0.97441,     0.97456,     0.97471,     0.97485,       0.975,     0.97513,     0.97526,      0.9754,     0.97553,     0.97566,      0.9758,     0.97593,     0.97607,      0.9762,     0.97633,     0.97647,      0.9766,     0.97673,     0.97687,       0.977,     0.97713,     0.97727,      0.9774,\n",
       "            0.97754,     0.97767,      0.9778,     0.97794,     0.97797,     0.97795,     0.97793,      0.9779,     0.97788,     0.97785,     0.97784,     0.97784,     0.97783,     0.97783,     0.97782,     0.97782,     0.97781,     0.97781,      0.9778,     0.97779,     0.97779,     0.97778,     0.97778,\n",
       "            0.97777,     0.97776,     0.97775,     0.97774,     0.97774,     0.97773,     0.97772,     0.97771,     0.98101,      0.9816,     0.98218,     0.98277,     0.98336,     0.98394,     0.98392,     0.98391,     0.98391,      0.9839,     0.98389,     0.98388,     0.98388,     0.98392,     0.98426,\n",
       "            0.98461,     0.98495,     0.98529,     0.98564,     0.98598,     0.98632,     0.98667,     0.98701,     0.98705,     0.98705,     0.98705,     0.98705,     0.98705,     0.98705,     0.98705,     0.98704,     0.98704,     0.98704,     0.98704,     0.98704,     0.98704,     0.98704,     0.98703,\n",
       "            0.98703,     0.98703,     0.98703,     0.98703,     0.98703,     0.98703,     0.98702,     0.98702,     0.98702,     0.98702,     0.98702,     0.98702,     0.98702,     0.98701,     0.98701,     0.98701,     0.98701,       0.987,       0.987,       0.987,     0.98699,     0.98699,     0.98699,\n",
       "            0.98698,     0.98698,     0.98698,     0.98697,     0.98697,     0.98697,     0.98696,     0.98696,     0.98695,     0.98695,     0.98695,     0.98694,     0.98694,     0.98693,     0.98693,     0.98693,     0.98692,     0.98692,     0.98692,     0.98692,     0.98691,     0.98691,     0.98691,\n",
       "            0.98691,      0.9869,      0.9869,      0.9869,      0.9869,     0.98689,     0.98689,     0.98689,     0.98689,     0.98687,     0.98684,     0.98684,     0.98683,     0.98683,     0.98682,     0.98682,     0.98682,     0.98681,     0.98681,      0.9868,      0.9868,     0.98679,     0.98679,\n",
       "            0.98678,     0.98678,     0.98677,     0.98676,     0.98676,     0.98712,     0.98773,     0.98835,     0.98896,     0.98957,     0.99003,     0.99003,     0.99002,     0.99001,     0.99001,        0.99,        0.99,     0.98999,     0.98999,     0.98998,     0.98998,     0.98998,     0.98997,\n",
       "            0.98997,     0.98996,     0.98995,     0.98994,      0.9899,     0.98989,     0.98988,     0.98987,     0.99322,     0.99321,     0.99321,      0.9932,     0.99319,     0.99319,     0.99319,     0.99318,     0.99318,     0.99318,     0.99317,     0.99315,     0.99314,     0.99314,     0.99314,\n",
       "            0.99313,     0.99313,     0.99312,     0.99312,     0.99311,      0.9931,     0.99307,     0.99305,     0.99303,      0.9965,     0.99649,     0.99647,     0.99647,     0.99645,     0.99642,     0.99641,     0.99641,     0.99638,     0.99636,     0.99636,     0.99635,     0.99631,     0.99626,\n",
       "            0.99624,     0.99618,     0.99615,     0.99612,     0.99612,     0.99611,     0.99608,     0.99602,     0.99599,     0.99599,     0.99596,     0.99593,     0.99589,     0.99588,     0.99584,     0.99581,     0.99839,           1,           1,           1,           1,           1,           1,\n",
       "                  1,           1,           1,           1,           1,           1,           1,           1,           1,           1,           1,           1,           1,           1,           1,           1,           1,           1,           1,           1,           1,           1,           1,\n",
       "                  1,           1,           1,           1,           1,           1,           1,           1,           1,           1,           1,           1,           1,           1,           1,           1,           1,           1,           1,           1,           1,           1,           1,\n",
       "                  1,           1,           1,           1,           1,           1,           1,           1,           1,           1,           1,           1,           1,           1,           1,           1,           1,           1,           1,           1,           1,           1,           1,\n",
       "                  1,           1,           1,           1,           1,           1,           1,           1,           1,           1,           1,           1,           1,           1,           1,           1,           1,           1,           1,           1,           1,           1,           1,\n",
       "                  1,           1,           1,           1,           1,           1,           1,           1,           1,           1,           1,           1,           1,           1,           1,           1,           1,           1,           1,           1,           1,           1,           1,\n",
       "                  1,           1,           1,           1,           1,           1,           1,           1,           1,           1,           1,           1,           1,           1,           1,           1,           1,           1,           1,           1,           1,           1,           1,\n",
       "                  1,           1,           1,           1,           1,           1,           1,           1,           1,           1,           1]]), 'Confidence', 'Precision'], [array([          0,    0.001001,    0.002002,    0.003003,    0.004004,    0.005005,    0.006006,    0.007007,    0.008008,    0.009009,     0.01001,    0.011011,    0.012012,    0.013013,    0.014014,    0.015015,    0.016016,    0.017017,    0.018018,    0.019019,     0.02002,    0.021021,    0.022022,    0.023023,\n",
       "          0.024024,    0.025025,    0.026026,    0.027027,    0.028028,    0.029029,     0.03003,    0.031031,    0.032032,    0.033033,    0.034034,    0.035035,    0.036036,    0.037037,    0.038038,    0.039039,     0.04004,    0.041041,    0.042042,    0.043043,    0.044044,    0.045045,    0.046046,    0.047047,\n",
       "          0.048048,    0.049049,     0.05005,    0.051051,    0.052052,    0.053053,    0.054054,    0.055055,    0.056056,    0.057057,    0.058058,    0.059059,     0.06006,    0.061061,    0.062062,    0.063063,    0.064064,    0.065065,    0.066066,    0.067067,    0.068068,    0.069069,     0.07007,    0.071071,\n",
       "          0.072072,    0.073073,    0.074074,    0.075075,    0.076076,    0.077077,    0.078078,    0.079079,     0.08008,    0.081081,    0.082082,    0.083083,    0.084084,    0.085085,    0.086086,    0.087087,    0.088088,    0.089089,     0.09009,    0.091091,    0.092092,    0.093093,    0.094094,    0.095095,\n",
       "          0.096096,    0.097097,    0.098098,    0.099099,      0.1001,      0.1011,      0.1021,      0.1031,      0.1041,     0.10511,     0.10611,     0.10711,     0.10811,     0.10911,     0.11011,     0.11111,     0.11211,     0.11311,     0.11411,     0.11512,     0.11612,     0.11712,     0.11812,     0.11912,\n",
       "           0.12012,     0.12112,     0.12212,     0.12312,     0.12412,     0.12513,     0.12613,     0.12713,     0.12813,     0.12913,     0.13013,     0.13113,     0.13213,     0.13313,     0.13413,     0.13514,     0.13614,     0.13714,     0.13814,     0.13914,     0.14014,     0.14114,     0.14214,     0.14314,\n",
       "           0.14414,     0.14515,     0.14615,     0.14715,     0.14815,     0.14915,     0.15015,     0.15115,     0.15215,     0.15315,     0.15415,     0.15516,     0.15616,     0.15716,     0.15816,     0.15916,     0.16016,     0.16116,     0.16216,     0.16316,     0.16416,     0.16517,     0.16617,     0.16717,\n",
       "           0.16817,     0.16917,     0.17017,     0.17117,     0.17217,     0.17317,     0.17417,     0.17518,     0.17618,     0.17718,     0.17818,     0.17918,     0.18018,     0.18118,     0.18218,     0.18318,     0.18418,     0.18519,     0.18619,     0.18719,     0.18819,     0.18919,     0.19019,     0.19119,\n",
       "           0.19219,     0.19319,     0.19419,      0.1952,      0.1962,      0.1972,      0.1982,      0.1992,      0.2002,      0.2012,      0.2022,      0.2032,      0.2042,     0.20521,     0.20621,     0.20721,     0.20821,     0.20921,     0.21021,     0.21121,     0.21221,     0.21321,     0.21421,     0.21522,\n",
       "           0.21622,     0.21722,     0.21822,     0.21922,     0.22022,     0.22122,     0.22222,     0.22322,     0.22422,     0.22523,     0.22623,     0.22723,     0.22823,     0.22923,     0.23023,     0.23123,     0.23223,     0.23323,     0.23423,     0.23524,     0.23624,     0.23724,     0.23824,     0.23924,\n",
       "           0.24024,     0.24124,     0.24224,     0.24324,     0.24424,     0.24525,     0.24625,     0.24725,     0.24825,     0.24925,     0.25025,     0.25125,     0.25225,     0.25325,     0.25425,     0.25526,     0.25626,     0.25726,     0.25826,     0.25926,     0.26026,     0.26126,     0.26226,     0.26326,\n",
       "           0.26426,     0.26527,     0.26627,     0.26727,     0.26827,     0.26927,     0.27027,     0.27127,     0.27227,     0.27327,     0.27427,     0.27528,     0.27628,     0.27728,     0.27828,     0.27928,     0.28028,     0.28128,     0.28228,     0.28328,     0.28428,     0.28529,     0.28629,     0.28729,\n",
       "           0.28829,     0.28929,     0.29029,     0.29129,     0.29229,     0.29329,     0.29429,      0.2953,      0.2963,      0.2973,      0.2983,      0.2993,      0.3003,      0.3013,      0.3023,      0.3033,      0.3043,     0.30531,     0.30631,     0.30731,     0.30831,     0.30931,     0.31031,     0.31131,\n",
       "           0.31231,     0.31331,     0.31431,     0.31532,     0.31632,     0.31732,     0.31832,     0.31932,     0.32032,     0.32132,     0.32232,     0.32332,     0.32432,     0.32533,     0.32633,     0.32733,     0.32833,     0.32933,     0.33033,     0.33133,     0.33233,     0.33333,     0.33433,     0.33534,\n",
       "           0.33634,     0.33734,     0.33834,     0.33934,     0.34034,     0.34134,     0.34234,     0.34334,     0.34434,     0.34535,     0.34635,     0.34735,     0.34835,     0.34935,     0.35035,     0.35135,     0.35235,     0.35335,     0.35435,     0.35536,     0.35636,     0.35736,     0.35836,     0.35936,\n",
       "           0.36036,     0.36136,     0.36236,     0.36336,     0.36436,     0.36537,     0.36637,     0.36737,     0.36837,     0.36937,     0.37037,     0.37137,     0.37237,     0.37337,     0.37437,     0.37538,     0.37638,     0.37738,     0.37838,     0.37938,     0.38038,     0.38138,     0.38238,     0.38338,\n",
       "           0.38438,     0.38539,     0.38639,     0.38739,     0.38839,     0.38939,     0.39039,     0.39139,     0.39239,     0.39339,     0.39439,      0.3954,      0.3964,      0.3974,      0.3984,      0.3994,      0.4004,      0.4014,      0.4024,      0.4034,      0.4044,     0.40541,     0.40641,     0.40741,\n",
       "           0.40841,     0.40941,     0.41041,     0.41141,     0.41241,     0.41341,     0.41441,     0.41542,     0.41642,     0.41742,     0.41842,     0.41942,     0.42042,     0.42142,     0.42242,     0.42342,     0.42442,     0.42543,     0.42643,     0.42743,     0.42843,     0.42943,     0.43043,     0.43143,\n",
       "           0.43243,     0.43343,     0.43443,     0.43544,     0.43644,     0.43744,     0.43844,     0.43944,     0.44044,     0.44144,     0.44244,     0.44344,     0.44444,     0.44545,     0.44645,     0.44745,     0.44845,     0.44945,     0.45045,     0.45145,     0.45245,     0.45345,     0.45445,     0.45546,\n",
       "           0.45646,     0.45746,     0.45846,     0.45946,     0.46046,     0.46146,     0.46246,     0.46346,     0.46446,     0.46547,     0.46647,     0.46747,     0.46847,     0.46947,     0.47047,     0.47147,     0.47247,     0.47347,     0.47447,     0.47548,     0.47648,     0.47748,     0.47848,     0.47948,\n",
       "           0.48048,     0.48148,     0.48248,     0.48348,     0.48448,     0.48549,     0.48649,     0.48749,     0.48849,     0.48949,     0.49049,     0.49149,     0.49249,     0.49349,     0.49449,      0.4955,      0.4965,      0.4975,      0.4985,      0.4995,      0.5005,      0.5015,      0.5025,      0.5035,\n",
       "            0.5045,     0.50551,     0.50651,     0.50751,     0.50851,     0.50951,     0.51051,     0.51151,     0.51251,     0.51351,     0.51451,     0.51552,     0.51652,     0.51752,     0.51852,     0.51952,     0.52052,     0.52152,     0.52252,     0.52352,     0.52452,     0.52553,     0.52653,     0.52753,\n",
       "           0.52853,     0.52953,     0.53053,     0.53153,     0.53253,     0.53353,     0.53453,     0.53554,     0.53654,     0.53754,     0.53854,     0.53954,     0.54054,     0.54154,     0.54254,     0.54354,     0.54454,     0.54555,     0.54655,     0.54755,     0.54855,     0.54955,     0.55055,     0.55155,\n",
       "           0.55255,     0.55355,     0.55455,     0.55556,     0.55656,     0.55756,     0.55856,     0.55956,     0.56056,     0.56156,     0.56256,     0.56356,     0.56456,     0.56557,     0.56657,     0.56757,     0.56857,     0.56957,     0.57057,     0.57157,     0.57257,     0.57357,     0.57457,     0.57558,\n",
       "           0.57658,     0.57758,     0.57858,     0.57958,     0.58058,     0.58158,     0.58258,     0.58358,     0.58458,     0.58559,     0.58659,     0.58759,     0.58859,     0.58959,     0.59059,     0.59159,     0.59259,     0.59359,     0.59459,      0.5956,      0.5966,      0.5976,      0.5986,      0.5996,\n",
       "            0.6006,      0.6016,      0.6026,      0.6036,      0.6046,     0.60561,     0.60661,     0.60761,     0.60861,     0.60961,     0.61061,     0.61161,     0.61261,     0.61361,     0.61461,     0.61562,     0.61662,     0.61762,     0.61862,     0.61962,     0.62062,     0.62162,     0.62262,     0.62362,\n",
       "           0.62462,     0.62563,     0.62663,     0.62763,     0.62863,     0.62963,     0.63063,     0.63163,     0.63263,     0.63363,     0.63463,     0.63564,     0.63664,     0.63764,     0.63864,     0.63964,     0.64064,     0.64164,     0.64264,     0.64364,     0.64464,     0.64565,     0.64665,     0.64765,\n",
       "           0.64865,     0.64965,     0.65065,     0.65165,     0.65265,     0.65365,     0.65465,     0.65566,     0.65666,     0.65766,     0.65866,     0.65966,     0.66066,     0.66166,     0.66266,     0.66366,     0.66466,     0.66567,     0.66667,     0.66767,     0.66867,     0.66967,     0.67067,     0.67167,\n",
       "           0.67267,     0.67367,     0.67467,     0.67568,     0.67668,     0.67768,     0.67868,     0.67968,     0.68068,     0.68168,     0.68268,     0.68368,     0.68468,     0.68569,     0.68669,     0.68769,     0.68869,     0.68969,     0.69069,     0.69169,     0.69269,     0.69369,     0.69469,      0.6957,\n",
       "            0.6967,      0.6977,      0.6987,      0.6997,      0.7007,      0.7017,      0.7027,      0.7037,      0.7047,     0.70571,     0.70671,     0.70771,     0.70871,     0.70971,     0.71071,     0.71171,     0.71271,     0.71371,     0.71471,     0.71572,     0.71672,     0.71772,     0.71872,     0.71972,\n",
       "           0.72072,     0.72172,     0.72272,     0.72372,     0.72472,     0.72573,     0.72673,     0.72773,     0.72873,     0.72973,     0.73073,     0.73173,     0.73273,     0.73373,     0.73473,     0.73574,     0.73674,     0.73774,     0.73874,     0.73974,     0.74074,     0.74174,     0.74274,     0.74374,\n",
       "           0.74474,     0.74575,     0.74675,     0.74775,     0.74875,     0.74975,     0.75075,     0.75175,     0.75275,     0.75375,     0.75475,     0.75576,     0.75676,     0.75776,     0.75876,     0.75976,     0.76076,     0.76176,     0.76276,     0.76376,     0.76476,     0.76577,     0.76677,     0.76777,\n",
       "           0.76877,     0.76977,     0.77077,     0.77177,     0.77277,     0.77377,     0.77477,     0.77578,     0.77678,     0.77778,     0.77878,     0.77978,     0.78078,     0.78178,     0.78278,     0.78378,     0.78478,     0.78579,     0.78679,     0.78779,     0.78879,     0.78979,     0.79079,     0.79179,\n",
       "           0.79279,     0.79379,     0.79479,      0.7958,      0.7968,      0.7978,      0.7988,      0.7998,      0.8008,      0.8018,      0.8028,      0.8038,      0.8048,     0.80581,     0.80681,     0.80781,     0.80881,     0.80981,     0.81081,     0.81181,     0.81281,     0.81381,     0.81481,     0.81582,\n",
       "           0.81682,     0.81782,     0.81882,     0.81982,     0.82082,     0.82182,     0.82282,     0.82382,     0.82482,     0.82583,     0.82683,     0.82783,     0.82883,     0.82983,     0.83083,     0.83183,     0.83283,     0.83383,     0.83483,     0.83584,     0.83684,     0.83784,     0.83884,     0.83984,\n",
       "           0.84084,     0.84184,     0.84284,     0.84384,     0.84484,     0.84585,     0.84685,     0.84785,     0.84885,     0.84985,     0.85085,     0.85185,     0.85285,     0.85385,     0.85485,     0.85586,     0.85686,     0.85786,     0.85886,     0.85986,     0.86086,     0.86186,     0.86286,     0.86386,\n",
       "           0.86486,     0.86587,     0.86687,     0.86787,     0.86887,     0.86987,     0.87087,     0.87187,     0.87287,     0.87387,     0.87487,     0.87588,     0.87688,     0.87788,     0.87888,     0.87988,     0.88088,     0.88188,     0.88288,     0.88388,     0.88488,     0.88589,     0.88689,     0.88789,\n",
       "           0.88889,     0.88989,     0.89089,     0.89189,     0.89289,     0.89389,     0.89489,      0.8959,      0.8969,      0.8979,      0.8989,      0.8999,      0.9009,      0.9019,      0.9029,      0.9039,      0.9049,     0.90591,     0.90691,     0.90791,     0.90891,     0.90991,     0.91091,     0.91191,\n",
       "           0.91291,     0.91391,     0.91491,     0.91592,     0.91692,     0.91792,     0.91892,     0.91992,     0.92092,     0.92192,     0.92292,     0.92392,     0.92492,     0.92593,     0.92693,     0.92793,     0.92893,     0.92993,     0.93093,     0.93193,     0.93293,     0.93393,     0.93493,     0.93594,\n",
       "           0.93694,     0.93794,     0.93894,     0.93994,     0.94094,     0.94194,     0.94294,     0.94394,     0.94494,     0.94595,     0.94695,     0.94795,     0.94895,     0.94995,     0.95095,     0.95195,     0.95295,     0.95395,     0.95495,     0.95596,     0.95696,     0.95796,     0.95896,     0.95996,\n",
       "           0.96096,     0.96196,     0.96296,     0.96396,     0.96496,     0.96597,     0.96697,     0.96797,     0.96897,     0.96997,     0.97097,     0.97197,     0.97297,     0.97397,     0.97497,     0.97598,     0.97698,     0.97798,     0.97898,     0.97998,     0.98098,     0.98198,     0.98298,     0.98398,\n",
       "           0.98498,     0.98599,     0.98699,     0.98799,     0.98899,     0.98999,     0.99099,     0.99199,     0.99299,     0.99399,     0.99499,       0.996,       0.997,       0.998,       0.999,           1]), array([[    0.90323,     0.90323,     0.89516,     0.89247,     0.89247,      0.8871,      0.8871,     0.88441,     0.88441,     0.88441,     0.88441,     0.88441,     0.88441,     0.88441,     0.88441,     0.88441,     0.88172,     0.88172,     0.88172,     0.88172,     0.88172,     0.88172,     0.88172,\n",
       "            0.88172,     0.88172,     0.88172,     0.88172,     0.88172,     0.88172,     0.88172,     0.88172,     0.88172,     0.88172,     0.88172,     0.88172,     0.88172,     0.88172,     0.88172,     0.88172,     0.88172,     0.88099,     0.87995,     0.87903,     0.87903,     0.87803,     0.87634,\n",
       "            0.87634,     0.87634,     0.87634,     0.87634,     0.87634,     0.87634,     0.87634,     0.87634,     0.87634,     0.87634,     0.87634,     0.87634,     0.87567,     0.87468,     0.87368,     0.87366,     0.87366,     0.87366,     0.87366,     0.87366,     0.87366,     0.87366,     0.87366,\n",
       "            0.87366,     0.87366,     0.87366,     0.87366,     0.87366,     0.87366,     0.87366,     0.87366,     0.87366,     0.87366,     0.87366,     0.87366,     0.87366,     0.87366,     0.87366,     0.87366,     0.87366,     0.87366,     0.87366,     0.87366,     0.87366,     0.87366,     0.87366,\n",
       "            0.87366,     0.87366,     0.87366,     0.87366,     0.87366,     0.87366,     0.87366,     0.87366,     0.87366,     0.87366,     0.87366,     0.87366,     0.87366,     0.87366,     0.87366,     0.87366,     0.87366,     0.87366,     0.87366,     0.87366,     0.87366,     0.87366,     0.87366,\n",
       "            0.87366,     0.87366,     0.87366,     0.87366,     0.87366,     0.87366,     0.87334,     0.87288,     0.87243,     0.87198,     0.87152,     0.87107,     0.87097,     0.87097,     0.87097,     0.87097,     0.87097,     0.87097,     0.87097,     0.87097,     0.87097,     0.87097,     0.87097,\n",
       "            0.87097,     0.87097,     0.87097,     0.87097,     0.87097,     0.87097,     0.87097,     0.87097,     0.87097,     0.87097,     0.87095,     0.87068,     0.87042,     0.87015,     0.86989,     0.86962,     0.86935,     0.86909,     0.86882,     0.86856,     0.86829,     0.86804,     0.86778,\n",
       "            0.86753,     0.86728,     0.86702,     0.86677,     0.86652,     0.86626,     0.86601,     0.86576,     0.86557,      0.8655,     0.86543,     0.86537,      0.8653,     0.86523,     0.86516,      0.8651,     0.86503,     0.86496,      0.8649,     0.86483,     0.86476,     0.86469,     0.86463,\n",
       "            0.86456,     0.86449,     0.86443,     0.86436,     0.86429,     0.86422,     0.86416,     0.86409,     0.86402,     0.86396,     0.86389,     0.86382,     0.86375,     0.86369,     0.86362,     0.86355,     0.86348,     0.86342,     0.86335,     0.86328,     0.86322,     0.86315,     0.86308,\n",
       "            0.86301,     0.86295,     0.86287,     0.86279,      0.8627,     0.86262,     0.86253,     0.86244,     0.86236,     0.86227,     0.86218,      0.8621,     0.86201,     0.86193,     0.86184,     0.86175,     0.86167,     0.86158,      0.8615,     0.86141,     0.86132,     0.86124,     0.86115,\n",
       "            0.86107,     0.86098,     0.86089,     0.86081,     0.86072,     0.86063,     0.86055,     0.86046,     0.86038,     0.86029,     0.86022,     0.86022,     0.86022,     0.86022,     0.86022,     0.86022,     0.86022,     0.86022,     0.86022,     0.86022,     0.86022,     0.86022,     0.86022,\n",
       "            0.86022,     0.86022,     0.86022,     0.86022,     0.86022,     0.86022,     0.86022,     0.86022,     0.86022,     0.86022,     0.86022,     0.86022,     0.86022,     0.86022,     0.86022,     0.86022,     0.86022,     0.86022,     0.86022,     0.86022,     0.86022,     0.86022,     0.86022,\n",
       "            0.86022,     0.86022,     0.86022,     0.86022,     0.86022,     0.86022,     0.86022,     0.86022,     0.86022,     0.86022,     0.86022,     0.86022,     0.86022,     0.86022,     0.86022,     0.86022,     0.86022,     0.86022,     0.86022,     0.86022,     0.86022,     0.86022,     0.86022,\n",
       "            0.86022,     0.86022,     0.86022,     0.86022,     0.86022,     0.86022,     0.86022,     0.86022,     0.86022,     0.86022,     0.86022,     0.86022,     0.86022,     0.86022,     0.86022,     0.86022,     0.86022,     0.86022,     0.86022,     0.86022,     0.86022,     0.86022,     0.86022,\n",
       "            0.86022,     0.86022,     0.85983,     0.85937,     0.85891,     0.85845,     0.85799,     0.85753,     0.85753,     0.85753,     0.85753,     0.85753,     0.85753,     0.85753,     0.85753,     0.85753,     0.85753,     0.85753,     0.85753,     0.85753,     0.85753,     0.85753,     0.85753,\n",
       "            0.85753,     0.85753,     0.85753,     0.85753,     0.85753,     0.85753,     0.85753,     0.85753,     0.85753,     0.85753,     0.85753,     0.85753,     0.85753,     0.85753,     0.85753,     0.85753,     0.85753,     0.85753,     0.85753,     0.85753,     0.85753,     0.85753,     0.85753,\n",
       "            0.85753,     0.85753,     0.85753,     0.85753,     0.85753,     0.85753,     0.85753,     0.85753,     0.85753,     0.85753,     0.85753,     0.85753,     0.85753,     0.85753,     0.85753,     0.85753,     0.85753,     0.85753,     0.85753,     0.85753,     0.85753,     0.85753,     0.85753,\n",
       "            0.85753,     0.85753,     0.85753,     0.85753,     0.85753,     0.85753,     0.85753,     0.85753,     0.85753,     0.85753,     0.85753,     0.85753,     0.85753,     0.85753,     0.85753,     0.85753,     0.85753,     0.85753,     0.85753,     0.85753,     0.85753,     0.85753,     0.85753,\n",
       "            0.85753,     0.85753,     0.85753,     0.85753,     0.85753,     0.85753,     0.85753,     0.85753,     0.85753,     0.85753,     0.85753,     0.85753,     0.85753,     0.85753,     0.85753,     0.85753,     0.85753,     0.85753,     0.85753,     0.85753,     0.85753,     0.85753,     0.85753,\n",
       "            0.85753,     0.85753,     0.85753,     0.85753,     0.85753,     0.85753,     0.85753,     0.85753,     0.85753,     0.85753,     0.85753,     0.85753,     0.85753,     0.85753,     0.85753,     0.85753,     0.85753,     0.85753,     0.85753,     0.85753,     0.85753,     0.85748,     0.85738,\n",
       "            0.85729,     0.85719,     0.85709,     0.85699,     0.85689,     0.85679,      0.8567,      0.8566,      0.8565,      0.8564,      0.8563,      0.8562,      0.8561,     0.85601,     0.85591,     0.85581,     0.85571,     0.85561,     0.85551,     0.85542,     0.85532,     0.85522,     0.85512,\n",
       "            0.85502,     0.85492,     0.85481,     0.85455,      0.8543,     0.85405,      0.8538,     0.85355,      0.8533,     0.85305,      0.8528,     0.85255,      0.8523,     0.85201,     0.85167,     0.85132,     0.85098,     0.85063,     0.85029,     0.84995,      0.8496,     0.84891,     0.84799,\n",
       "            0.84708,     0.84631,     0.84562,     0.84493,     0.84425,     0.84409,     0.84409,     0.84409,     0.84409,     0.84409,     0.84409,     0.84409,     0.84409,     0.84409,     0.84409,     0.84409,     0.84409,     0.84409,     0.84409,     0.84409,     0.84409,     0.84409,     0.84409,\n",
       "            0.84409,     0.84409,     0.84409,     0.84409,     0.84409,     0.84409,     0.84409,     0.84409,     0.84409,     0.84409,     0.84409,     0.84409,     0.84409,     0.84409,     0.84409,     0.84398,      0.8438,     0.84362,     0.84345,     0.84327,     0.84309,     0.84291,     0.84274,\n",
       "            0.84256,     0.84238,      0.8422,     0.84202,     0.84185,     0.84167,     0.84149,     0.84125,     0.84095,     0.84064,     0.84033,     0.84003,     0.83972,     0.83941,     0.83911,      0.8388,     0.83871,     0.83871,     0.83871,     0.83871,     0.83871,     0.83871,     0.83871,\n",
       "            0.83871,     0.83871,      0.8382,     0.83765,      0.8371,     0.83655,     0.83602,     0.83602,     0.83602,     0.83602,     0.83602,     0.83602,     0.83602,     0.83602,     0.83602,     0.83602,     0.83602,     0.83602,     0.83602,     0.83602,     0.83602,     0.83602,     0.83602,\n",
       "            0.83602,     0.83602,     0.83602,     0.83602,     0.83602,     0.83602,     0.83602,     0.83602,     0.83602,     0.83602,     0.83602,     0.83602,     0.83602,     0.83602,     0.83602,     0.83602,     0.83602,     0.83602,     0.83602,     0.83602,     0.83602,     0.83602,     0.83602,\n",
       "            0.83602,     0.83602,     0.83602,     0.83602,     0.83545,     0.83453,     0.83361,     0.83269,     0.83177,     0.83086,     0.83048,     0.83027,     0.83006,     0.82985,     0.82963,     0.82942,     0.82921,       0.829,     0.82879,     0.82857,     0.82836,     0.82815,     0.82793,\n",
       "            0.82762,     0.82732,     0.82701,     0.82671,      0.8264,     0.82609,     0.82579,     0.82548,     0.82527,     0.82527,     0.82527,     0.82527,     0.82527,     0.82527,     0.82241,     0.82205,     0.82168,     0.82131,     0.82094,     0.82058,     0.82021,     0.81989,     0.81989,\n",
       "            0.81989,     0.81989,     0.81989,     0.81989,     0.81989,     0.81989,     0.81989,     0.81989,     0.81982,     0.81973,     0.81964,     0.81955,     0.81946,     0.81937,     0.81928,     0.81919,      0.8191,     0.81902,     0.81893,     0.81884,     0.81875,     0.81866,     0.81857,\n",
       "            0.81848,     0.81839,      0.8183,     0.81822,     0.81813,     0.81804,     0.81795,     0.81786,     0.81777,     0.81768,     0.81759,      0.8175,     0.81742,     0.81733,     0.81724,     0.81707,     0.81686,     0.81665,     0.81644,     0.81622,     0.81601,      0.8158,     0.81559,\n",
       "            0.81538,     0.81516,     0.81495,     0.81474,     0.81453,     0.81427,     0.81401,     0.81374,     0.81348,     0.81322,     0.81296,     0.81269,     0.81243,     0.81217,     0.81191,     0.81172,     0.81157,     0.81141,     0.81126,     0.81111,     0.81096,      0.8108,     0.81065,\n",
       "             0.8105,     0.81034,     0.81019,     0.81004,     0.80988,     0.80973,     0.80958,     0.80942,     0.80927,     0.80837,     0.80629,     0.80604,     0.80579,     0.80554,     0.80529,     0.80504,     0.80479,     0.80453,     0.80428,     0.80403,     0.80378,     0.80343,     0.80306,\n",
       "            0.80269,     0.80232,     0.80196,     0.80159,     0.80122,     0.80108,     0.80108,     0.80108,     0.80108,     0.80108,     0.80097,     0.80051,     0.80005,     0.79959,     0.79913,     0.79867,     0.79825,     0.79788,     0.79751,     0.79714,     0.79678,     0.79641,     0.79604,\n",
       "            0.79565,     0.79496,     0.79427,     0.79359,     0.79019,      0.7894,     0.78862,     0.78783,     0.78743,     0.78664,     0.78585,     0.78507,     0.78461,     0.78422,     0.78382,     0.78343,     0.78304,     0.78264,     0.78215,      0.7793,      0.7788,      0.7783,      0.7778,\n",
       "             0.7773,     0.77678,     0.77617,     0.77556,     0.77494,     0.77433,     0.77008,     0.76824,     0.76641,     0.76547,     0.76363,     0.75976,     0.75866,     0.75411,     0.74867,     0.74675,     0.74565,     0.73906,     0.73646,     0.73535,     0.73425,     0.72669,      0.7165,\n",
       "            0.71177,     0.70095,     0.69551,     0.69054,     0.68944,     0.68834,     0.68314,     0.67232,     0.66836,     0.66726,     0.66271,     0.65727,     0.65183,     0.64907,     0.64363,     0.63818,     0.63172,     0.62787,     0.62588,     0.62313,     0.61798,      0.6166,      0.6068,\n",
       "            0.60135,     0.58828,      0.5869,     0.58502,     0.57958,     0.57414,     0.55525,      0.5525,     0.54974,     0.54026,     0.53482,     0.51862,      0.5078,      0.4943,     0.48616,     0.48341,     0.47545,     0.47362,     0.47111,     0.46836,      0.4656,     0.45075,     0.44039,\n",
       "            0.43902,     0.43066,     0.42763,     0.40606,     0.39255,     0.36963,     0.35612,     0.32514,     0.31432,     0.30593,     0.29671,     0.29454,     0.27642,     0.27045,     0.26419,     0.25337,     0.24389,     0.23765,      0.2236,     0.21891,     0.20901,     0.20717,     0.19241,\n",
       "            0.18845,     0.18556,     0.17071,     0.14773,       0.141,     0.13421,      0.1312,      0.1072,    0.098669,    0.092278,    0.088355,    0.086518,    0.077291,    0.071847,    0.065603,    0.058272,    0.054581,    0.041006,    0.032533,    0.024608,    0.020703,    0.018866,    0.011652,\n",
       "            0.01005,    0.008672,    0.006524,   0.0051084,   0.0046491,   0.0041899,   0.0037307,   0.0032714,   0.0028122,           0,           0,           0,           0,           0,           0,           0,           0,           0,           0,           0,           0,           0,           0,\n",
       "                  0,           0,           0,           0,           0,           0,           0,           0,           0,           0,           0,           0,           0,           0,           0,           0,           0,           0,           0,           0,           0,           0,           0,\n",
       "                  0,           0,           0,           0,           0,           0,           0,           0,           0,           0,           0,           0,           0,           0,           0,           0,           0,           0,           0,           0,           0,           0,           0,\n",
       "                  0,           0,           0,           0,           0,           0,           0,           0,           0,           0,           0]]), 'Confidence', 'Recall'], [array([          0,    0.001001,    0.002002,    0.003003,    0.004004,    0.005005,    0.006006,    0.007007,    0.008008,    0.009009,     0.01001,    0.011011,    0.012012,    0.013013,    0.014014,    0.015015,    0.016016,    0.017017,    0.018018,    0.019019,     0.02002,    0.021021,    0.022022,    0.023023,\n",
       "          0.024024,    0.025025,    0.026026,    0.027027,    0.028028,    0.029029,     0.03003,    0.031031,    0.032032,    0.033033,    0.034034,    0.035035,    0.036036,    0.037037,    0.038038,    0.039039,     0.04004,    0.041041,    0.042042,    0.043043,    0.044044,    0.045045,    0.046046,    0.047047,\n",
       "          0.048048,    0.049049,     0.05005,    0.051051,    0.052052,    0.053053,    0.054054,    0.055055,    0.056056,    0.057057,    0.058058,    0.059059,     0.06006,    0.061061,    0.062062,    0.063063,    0.064064,    0.065065,    0.066066,    0.067067,    0.068068,    0.069069,     0.07007,    0.071071,\n",
       "          0.072072,    0.073073,    0.074074,    0.075075,    0.076076,    0.077077,    0.078078,    0.079079,     0.08008,    0.081081,    0.082082,    0.083083,    0.084084,    0.085085,    0.086086,    0.087087,    0.088088,    0.089089,     0.09009,    0.091091,    0.092092,    0.093093,    0.094094,    0.095095,\n",
       "          0.096096,    0.097097,    0.098098,    0.099099,      0.1001,      0.1011,      0.1021,      0.1031,      0.1041,     0.10511,     0.10611,     0.10711,     0.10811,     0.10911,     0.11011,     0.11111,     0.11211,     0.11311,     0.11411,     0.11512,     0.11612,     0.11712,     0.11812,     0.11912,\n",
       "           0.12012,     0.12112,     0.12212,     0.12312,     0.12412,     0.12513,     0.12613,     0.12713,     0.12813,     0.12913,     0.13013,     0.13113,     0.13213,     0.13313,     0.13413,     0.13514,     0.13614,     0.13714,     0.13814,     0.13914,     0.14014,     0.14114,     0.14214,     0.14314,\n",
       "           0.14414,     0.14515,     0.14615,     0.14715,     0.14815,     0.14915,     0.15015,     0.15115,     0.15215,     0.15315,     0.15415,     0.15516,     0.15616,     0.15716,     0.15816,     0.15916,     0.16016,     0.16116,     0.16216,     0.16316,     0.16416,     0.16517,     0.16617,     0.16717,\n",
       "           0.16817,     0.16917,     0.17017,     0.17117,     0.17217,     0.17317,     0.17417,     0.17518,     0.17618,     0.17718,     0.17818,     0.17918,     0.18018,     0.18118,     0.18218,     0.18318,     0.18418,     0.18519,     0.18619,     0.18719,     0.18819,     0.18919,     0.19019,     0.19119,\n",
       "           0.19219,     0.19319,     0.19419,      0.1952,      0.1962,      0.1972,      0.1982,      0.1992,      0.2002,      0.2012,      0.2022,      0.2032,      0.2042,     0.20521,     0.20621,     0.20721,     0.20821,     0.20921,     0.21021,     0.21121,     0.21221,     0.21321,     0.21421,     0.21522,\n",
       "           0.21622,     0.21722,     0.21822,     0.21922,     0.22022,     0.22122,     0.22222,     0.22322,     0.22422,     0.22523,     0.22623,     0.22723,     0.22823,     0.22923,     0.23023,     0.23123,     0.23223,     0.23323,     0.23423,     0.23524,     0.23624,     0.23724,     0.23824,     0.23924,\n",
       "           0.24024,     0.24124,     0.24224,     0.24324,     0.24424,     0.24525,     0.24625,     0.24725,     0.24825,     0.24925,     0.25025,     0.25125,     0.25225,     0.25325,     0.25425,     0.25526,     0.25626,     0.25726,     0.25826,     0.25926,     0.26026,     0.26126,     0.26226,     0.26326,\n",
       "           0.26426,     0.26527,     0.26627,     0.26727,     0.26827,     0.26927,     0.27027,     0.27127,     0.27227,     0.27327,     0.27427,     0.27528,     0.27628,     0.27728,     0.27828,     0.27928,     0.28028,     0.28128,     0.28228,     0.28328,     0.28428,     0.28529,     0.28629,     0.28729,\n",
       "           0.28829,     0.28929,     0.29029,     0.29129,     0.29229,     0.29329,     0.29429,      0.2953,      0.2963,      0.2973,      0.2983,      0.2993,      0.3003,      0.3013,      0.3023,      0.3033,      0.3043,     0.30531,     0.30631,     0.30731,     0.30831,     0.30931,     0.31031,     0.31131,\n",
       "           0.31231,     0.31331,     0.31431,     0.31532,     0.31632,     0.31732,     0.31832,     0.31932,     0.32032,     0.32132,     0.32232,     0.32332,     0.32432,     0.32533,     0.32633,     0.32733,     0.32833,     0.32933,     0.33033,     0.33133,     0.33233,     0.33333,     0.33433,     0.33534,\n",
       "           0.33634,     0.33734,     0.33834,     0.33934,     0.34034,     0.34134,     0.34234,     0.34334,     0.34434,     0.34535,     0.34635,     0.34735,     0.34835,     0.34935,     0.35035,     0.35135,     0.35235,     0.35335,     0.35435,     0.35536,     0.35636,     0.35736,     0.35836,     0.35936,\n",
       "           0.36036,     0.36136,     0.36236,     0.36336,     0.36436,     0.36537,     0.36637,     0.36737,     0.36837,     0.36937,     0.37037,     0.37137,     0.37237,     0.37337,     0.37437,     0.37538,     0.37638,     0.37738,     0.37838,     0.37938,     0.38038,     0.38138,     0.38238,     0.38338,\n",
       "           0.38438,     0.38539,     0.38639,     0.38739,     0.38839,     0.38939,     0.39039,     0.39139,     0.39239,     0.39339,     0.39439,      0.3954,      0.3964,      0.3974,      0.3984,      0.3994,      0.4004,      0.4014,      0.4024,      0.4034,      0.4044,     0.40541,     0.40641,     0.40741,\n",
       "           0.40841,     0.40941,     0.41041,     0.41141,     0.41241,     0.41341,     0.41441,     0.41542,     0.41642,     0.41742,     0.41842,     0.41942,     0.42042,     0.42142,     0.42242,     0.42342,     0.42442,     0.42543,     0.42643,     0.42743,     0.42843,     0.42943,     0.43043,     0.43143,\n",
       "           0.43243,     0.43343,     0.43443,     0.43544,     0.43644,     0.43744,     0.43844,     0.43944,     0.44044,     0.44144,     0.44244,     0.44344,     0.44444,     0.44545,     0.44645,     0.44745,     0.44845,     0.44945,     0.45045,     0.45145,     0.45245,     0.45345,     0.45445,     0.45546,\n",
       "           0.45646,     0.45746,     0.45846,     0.45946,     0.46046,     0.46146,     0.46246,     0.46346,     0.46446,     0.46547,     0.46647,     0.46747,     0.46847,     0.46947,     0.47047,     0.47147,     0.47247,     0.47347,     0.47447,     0.47548,     0.47648,     0.47748,     0.47848,     0.47948,\n",
       "           0.48048,     0.48148,     0.48248,     0.48348,     0.48448,     0.48549,     0.48649,     0.48749,     0.48849,     0.48949,     0.49049,     0.49149,     0.49249,     0.49349,     0.49449,      0.4955,      0.4965,      0.4975,      0.4985,      0.4995,      0.5005,      0.5015,      0.5025,      0.5035,\n",
       "            0.5045,     0.50551,     0.50651,     0.50751,     0.50851,     0.50951,     0.51051,     0.51151,     0.51251,     0.51351,     0.51451,     0.51552,     0.51652,     0.51752,     0.51852,     0.51952,     0.52052,     0.52152,     0.52252,     0.52352,     0.52452,     0.52553,     0.52653,     0.52753,\n",
       "           0.52853,     0.52953,     0.53053,     0.53153,     0.53253,     0.53353,     0.53453,     0.53554,     0.53654,     0.53754,     0.53854,     0.53954,     0.54054,     0.54154,     0.54254,     0.54354,     0.54454,     0.54555,     0.54655,     0.54755,     0.54855,     0.54955,     0.55055,     0.55155,\n",
       "           0.55255,     0.55355,     0.55455,     0.55556,     0.55656,     0.55756,     0.55856,     0.55956,     0.56056,     0.56156,     0.56256,     0.56356,     0.56456,     0.56557,     0.56657,     0.56757,     0.56857,     0.56957,     0.57057,     0.57157,     0.57257,     0.57357,     0.57457,     0.57558,\n",
       "           0.57658,     0.57758,     0.57858,     0.57958,     0.58058,     0.58158,     0.58258,     0.58358,     0.58458,     0.58559,     0.58659,     0.58759,     0.58859,     0.58959,     0.59059,     0.59159,     0.59259,     0.59359,     0.59459,      0.5956,      0.5966,      0.5976,      0.5986,      0.5996,\n",
       "            0.6006,      0.6016,      0.6026,      0.6036,      0.6046,     0.60561,     0.60661,     0.60761,     0.60861,     0.60961,     0.61061,     0.61161,     0.61261,     0.61361,     0.61461,     0.61562,     0.61662,     0.61762,     0.61862,     0.61962,     0.62062,     0.62162,     0.62262,     0.62362,\n",
       "           0.62462,     0.62563,     0.62663,     0.62763,     0.62863,     0.62963,     0.63063,     0.63163,     0.63263,     0.63363,     0.63463,     0.63564,     0.63664,     0.63764,     0.63864,     0.63964,     0.64064,     0.64164,     0.64264,     0.64364,     0.64464,     0.64565,     0.64665,     0.64765,\n",
       "           0.64865,     0.64965,     0.65065,     0.65165,     0.65265,     0.65365,     0.65465,     0.65566,     0.65666,     0.65766,     0.65866,     0.65966,     0.66066,     0.66166,     0.66266,     0.66366,     0.66466,     0.66567,     0.66667,     0.66767,     0.66867,     0.66967,     0.67067,     0.67167,\n",
       "           0.67267,     0.67367,     0.67467,     0.67568,     0.67668,     0.67768,     0.67868,     0.67968,     0.68068,     0.68168,     0.68268,     0.68368,     0.68468,     0.68569,     0.68669,     0.68769,     0.68869,     0.68969,     0.69069,     0.69169,     0.69269,     0.69369,     0.69469,      0.6957,\n",
       "            0.6967,      0.6977,      0.6987,      0.6997,      0.7007,      0.7017,      0.7027,      0.7037,      0.7047,     0.70571,     0.70671,     0.70771,     0.70871,     0.70971,     0.71071,     0.71171,     0.71271,     0.71371,     0.71471,     0.71572,     0.71672,     0.71772,     0.71872,     0.71972,\n",
       "           0.72072,     0.72172,     0.72272,     0.72372,     0.72472,     0.72573,     0.72673,     0.72773,     0.72873,     0.72973,     0.73073,     0.73173,     0.73273,     0.73373,     0.73473,     0.73574,     0.73674,     0.73774,     0.73874,     0.73974,     0.74074,     0.74174,     0.74274,     0.74374,\n",
       "           0.74474,     0.74575,     0.74675,     0.74775,     0.74875,     0.74975,     0.75075,     0.75175,     0.75275,     0.75375,     0.75475,     0.75576,     0.75676,     0.75776,     0.75876,     0.75976,     0.76076,     0.76176,     0.76276,     0.76376,     0.76476,     0.76577,     0.76677,     0.76777,\n",
       "           0.76877,     0.76977,     0.77077,     0.77177,     0.77277,     0.77377,     0.77477,     0.77578,     0.77678,     0.77778,     0.77878,     0.77978,     0.78078,     0.78178,     0.78278,     0.78378,     0.78478,     0.78579,     0.78679,     0.78779,     0.78879,     0.78979,     0.79079,     0.79179,\n",
       "           0.79279,     0.79379,     0.79479,      0.7958,      0.7968,      0.7978,      0.7988,      0.7998,      0.8008,      0.8018,      0.8028,      0.8038,      0.8048,     0.80581,     0.80681,     0.80781,     0.80881,     0.80981,     0.81081,     0.81181,     0.81281,     0.81381,     0.81481,     0.81582,\n",
       "           0.81682,     0.81782,     0.81882,     0.81982,     0.82082,     0.82182,     0.82282,     0.82382,     0.82482,     0.82583,     0.82683,     0.82783,     0.82883,     0.82983,     0.83083,     0.83183,     0.83283,     0.83383,     0.83483,     0.83584,     0.83684,     0.83784,     0.83884,     0.83984,\n",
       "           0.84084,     0.84184,     0.84284,     0.84384,     0.84484,     0.84585,     0.84685,     0.84785,     0.84885,     0.84985,     0.85085,     0.85185,     0.85285,     0.85385,     0.85485,     0.85586,     0.85686,     0.85786,     0.85886,     0.85986,     0.86086,     0.86186,     0.86286,     0.86386,\n",
       "           0.86486,     0.86587,     0.86687,     0.86787,     0.86887,     0.86987,     0.87087,     0.87187,     0.87287,     0.87387,     0.87487,     0.87588,     0.87688,     0.87788,     0.87888,     0.87988,     0.88088,     0.88188,     0.88288,     0.88388,     0.88488,     0.88589,     0.88689,     0.88789,\n",
       "           0.88889,     0.88989,     0.89089,     0.89189,     0.89289,     0.89389,     0.89489,      0.8959,      0.8969,      0.8979,      0.8989,      0.8999,      0.9009,      0.9019,      0.9029,      0.9039,      0.9049,     0.90591,     0.90691,     0.90791,     0.90891,     0.90991,     0.91091,     0.91191,\n",
       "           0.91291,     0.91391,     0.91491,     0.91592,     0.91692,     0.91792,     0.91892,     0.91992,     0.92092,     0.92192,     0.92292,     0.92392,     0.92492,     0.92593,     0.92693,     0.92793,     0.92893,     0.92993,     0.93093,     0.93193,     0.93293,     0.93393,     0.93493,     0.93594,\n",
       "           0.93694,     0.93794,     0.93894,     0.93994,     0.94094,     0.94194,     0.94294,     0.94394,     0.94494,     0.94595,     0.94695,     0.94795,     0.94895,     0.94995,     0.95095,     0.95195,     0.95295,     0.95395,     0.95495,     0.95596,     0.95696,     0.95796,     0.95896,     0.95996,\n",
       "           0.96096,     0.96196,     0.96296,     0.96396,     0.96496,     0.96597,     0.96697,     0.96797,     0.96897,     0.96997,     0.97097,     0.97197,     0.97297,     0.97397,     0.97497,     0.97598,     0.97698,     0.97798,     0.97898,     0.97998,     0.98098,     0.98198,     0.98298,     0.98398,\n",
       "           0.98498,     0.98599,     0.98699,     0.98799,     0.98899,     0.98999,     0.99099,     0.99199,     0.99299,     0.99399,     0.99499,       0.996,       0.997,       0.998,       0.999,           1]), array([[          1,           1,           1,           1,           1,           1,           1,           1,           1,           1,           1,           1,           1,           1,           1,           1,           1,           1,           1,           1,           1,           1,           1,\n",
       "                  1,           1,           1,           1,           1,           1,           1,           1,           1,           1,           1,           1,           1,           1,           1,           1,           1,           1,           1,           1,           1,           1,           1,\n",
       "                  1,           1,           1,           1,           1,           1,           1,           1,           1,           1,           1,           1,           1,           1,           1,           1,           1,           1,           1,           1,           1,           1,           1,\n",
       "                  1,           1,           1,           1,           1,           1,           1,           1,           1,           1,           1,           1,           1,           1,           1,           1,           1,           1,           1,           1,           1,           1,           1,\n",
       "                  1,           1,           1,           1,           1,           1,           1,           1,           1,           1,           1,           1,           1,           1,           1,           1,           1,           1,           1,           1,           1,           1,           1,\n",
       "                  1,           1,           1,           1,           1,           1,           1,           1,           1,           1,           1,           1,           1,           1,           1,           1,           1,           1,           1,           1,           1,           1,           1,\n",
       "                  1,           1,           1,           1,           1,           1,           1,           1,           1,           1,           1,           1,           1,           1,           1,           1,           1,           1,           1,           1,           1,           1,           1,\n",
       "                  1,           1,           1,           1,           1,           1,           1,           1,           1,           1,           1,           1,           1,           1,           1,           1,           1,           1,           1,           1,           1,           1,           1,\n",
       "                  1,           1,           1,           1,           1,           1,           1,           1,           1,           1,           1,           1,           1,           1,           1,           1,           1,           1,           1,           1,           1,           1,           1,\n",
       "                  1,           1,           1,           1,           1,           1,           1,           1,           1,           1,           1,           1,           1,           1,           1,           1,           1,           1,           1,           1,           1,           1,           1,\n",
       "                  1,           1,           1,           1,           1,           1,           1,           1,           1,           1,           1,           1,           1,           1,           1,           1,           1,           1,           1,           1,           1,           1,           1,\n",
       "                  1,           1,           1,           1,           1,           1,           1,           1,           1,           1,           1,           1,           1,           1,           1,           1,           1,           1,           1,           1,           1,           1,           1,\n",
       "                  1,           1,           1,           1,           1,           1,           1,           1,           1,           1,           1,           1,           1,           1,           1,           1,           1,           1,           1,           1,           1,           1,           1,\n",
       "                  1,           1,           1,           1,           1,           1,           1,           1,           1,           1,           1,           1,           1,           1,           1,           1,           1,           1,           1,           1,           1,           1,           1,\n",
       "                  1,           1,           1,           1,           1,           1,           1,           1,           1,           1,           1,           1,           1,           1,           1,           1,           1,           1,           1,           1,           1,           1,           1,\n",
       "                  1,           1,           1,           1,           1,           1,           1,           1,           1,           1,           1,           1,           1,           1,           1,           1,           1,           1,           1,           1,           1,           1,           1,\n",
       "                  1,           1,           1,           1,           1,           1,           1,           1,           1,           1,           1,           1,           1,           1,           1,           1,           1,           1,           1,           1,           1,           1,           1,\n",
       "                  1,           1,           1,           1,           1,           1,           1,           1,           1,           1,           1,           1,           1,           1,           1,           1,           1,           1,           1,           1,           1,           1,           1,\n",
       "                  1,           1,           1,           1,           1,           1,           1,           1,           1,           1,           1,           1,           1,           1,           1,           1,           1,           1,           1,           1,           1,           1,           1,\n",
       "                  1,           1,           1,           1,           1,           1,           1,           1,           1,           1,           1,           1,           1,           1,           1,           1,           1,           1,           1,           1,           1,           1,           1,\n",
       "                  1,           1,           1,           1,           1,           1,           1,           1,           1,           1,           1,           1,           1,           1,           1,           1,           1,           1,           1,           1,           1,           1,           1,\n",
       "                  1,           1,           1,           1,           1,           1,           1,           1,           1,           1,           1,           1,           1,           1,           1,           1,           1,           1,           1,           1,           1,           1,           1,\n",
       "                  1,           1,           1,           1,           1,           1,           1,           1,           1,           1,           1,           1,           1,           1,           1,           1,           1,           1,           1,           1,           1,           1,           1,\n",
       "                  1,           1,           1,           1,           1,           1,           1,           1,           1,           1,           1,           1,           1,           1,           1,           1,           1,           1,           1,           1,           1,           1,           1,\n",
       "                  1,           1,           1,           1,           1,           1,           1,           1,           1,           1,           1,           1,           1,           1,           1,           1,           1,           1,           1,           1,           1,           1,           1,\n",
       "                  1,           1,           1,           1,           1,           1,           1,           1,           1,           1,           1,           1,           1,           1,           1,           1,           1,           1,           1,           1,           1,           1,           1,\n",
       "                  1,           1,           1,           1,           1,           1,           1,           1,           1,           1,           1,           1,           1,           1,           1,           1,           1,           1,           1,           1,           1,           1,           1,\n",
       "                  1,           1,           1,           1,           1,           1,           1,           1,           1,           1,           1,     0.99648,     0.99648,     0.99648,     0.99648,     0.99648,     0.99648,     0.99648,     0.99648,     0.99648,     0.99648,     0.99648,     0.99648,\n",
       "            0.99648,     0.99648,     0.99648,     0.99648,     0.99648,     0.99648,     0.99648,     0.99648,     0.99648,     0.99648,     0.99648,     0.99648,     0.99648,     0.99648,     0.99648,     0.99648,     0.99648,     0.99648,     0.99648,     0.99648,     0.99648,     0.99648,     0.99648,\n",
       "            0.99648,     0.99648,     0.99648,     0.99648,     0.99648,     0.99648,     0.99648,     0.99648,     0.99648,     0.99648,     0.99648,     0.99648,     0.99648,     0.99648,     0.99648,     0.99648,     0.99648,     0.99648,     0.99648,     0.99648,     0.99648,     0.99648,     0.99648,\n",
       "            0.99648,     0.99648,     0.99648,     0.99648,     0.99648,     0.99648,     0.99648,     0.99648,     0.99648,     0.99648,     0.99648,     0.99648,     0.99648,     0.99648,     0.99648,     0.99648,     0.99648,     0.99648,     0.99648,     0.99648,     0.99648,     0.99648,     0.99648,\n",
       "            0.99648,     0.99648,     0.99648,     0.99648,     0.99648,     0.99648,     0.99648,     0.99648,     0.99648,     0.99648,     0.99648,     0.99648,     0.99648,     0.99648,     0.99648,     0.99648,     0.99648,     0.99648,     0.99648,     0.99648,     0.99648,     0.99648,     0.99648,\n",
       "            0.99648,     0.99648,     0.99648,     0.99648,     0.99648,     0.99648,     0.99648,     0.99648,     0.99648,     0.99648,     0.99648,     0.99648,     0.99648,     0.99648,     0.99648,     0.99648,     0.99648,     0.99648,     0.99648,     0.99648,     0.99648,     0.99648,     0.99648,\n",
       "            0.99648,     0.99301,     0.99301,     0.99301,     0.98983,     0.98983,     0.98983,     0.98983,     0.98983,     0.98983,     0.98983,     0.98983,     0.98983,     0.98983,     0.98983,     0.98983,     0.98983,     0.98983,     0.98983,     0.98983,     0.98983,     0.98983,     0.98983,\n",
       "            0.98983,     0.98983,     0.98983,      0.9868,      0.9868,      0.9868,      0.9868,      0.9868,      0.9868,      0.9868,      0.9868,      0.9868,      0.9868,      0.9868,      0.9868,      0.9868,      0.9868,      0.9868,      0.9868,      0.9868,      0.9868,     0.98382,     0.98382,\n",
       "            0.98382,     0.98382,     0.98382,     0.98382,     0.98382,     0.98382,     0.98382,     0.98382,     0.98382,     0.98382,     0.98382,     0.98382,     0.98083,     0.98083,     0.98083,     0.98083,     0.98083,     0.98083,     0.98083,     0.98083,     0.97799,     0.97799,     0.97799,\n",
       "            0.97799,     0.97799,     0.97799,     0.97799,     0.97799,     0.97799,     0.97799,     0.97799,     0.97196,     0.97196,     0.96904,     0.96904,     0.96904,      0.9633,      0.9633,      0.9633,      0.9633,      0.9633,     0.96049,     0.96049,     0.96049,     0.94627,     0.94627,\n",
       "            0.94627,     0.93805,     0.93805,     0.93605,     0.93605,     0.93605,     0.93605,     0.93605,     0.93605,     0.93605,     0.93605,     0.93605,     0.93605,     0.93605,     0.93353,     0.93353,     0.93353,     0.92837,     0.92837,     0.92837,     0.91036,     0.91036,     0.90055,\n",
       "            0.90055,     0.90055,     0.87433,     0.87433,     0.87433,     0.87234,     0.87234,     0.87037,     0.87037,     0.87037,     0.83756,     0.83756,     0.83756,     0.81527,     0.81527,     0.80976,     0.80976,     0.80976,     0.79665,     0.79665,     0.79665,     0.78774,     0.78774,\n",
       "            0.71581,     0.71581,     0.71581,     0.71489,     0.71489,     0.71489,      0.6419,      0.6419,      0.6419,     0.61635,     0.60972,     0.60309,     0.59646,     0.58984,     0.58321,     0.57658,     0.56995,     0.56333,      0.5567,     0.55007,     0.54345,     0.53682,     0.53019,\n",
       "            0.52356,     0.51694,     0.51031,     0.50368,     0.49705,     0.49043,      0.4838,     0.47717,     0.47054,     0.46392,     0.45729,     0.45066,     0.44403,     0.43741,     0.43078,     0.42415,     0.41753,      0.4109,     0.40427,     0.39764,     0.39102,     0.38439,     0.37776,\n",
       "            0.37113,     0.36451,     0.35788,     0.35125,     0.34462,       0.338,     0.33137,     0.32474,     0.31811,     0.31149,     0.30486,     0.29823,      0.2916,     0.28498,     0.27835,     0.27172,      0.2651,     0.25847,     0.25184,     0.24521,     0.23859,     0.23196,     0.22533,\n",
       "             0.2187,     0.21208,     0.20545,     0.19882,     0.19219,     0.18557,     0.17894,     0.17231,     0.16568,     0.15906,     0.15243,      0.1458,     0.13918,     0.13255,     0.12592,     0.11929,     0.11267,     0.10604,    0.099411,    0.092783,    0.086156,    0.079529,    0.072901,\n",
       "           0.066274,    0.059646,    0.053019,    0.046392,    0.039764,    0.033137,     0.02651,    0.019882,    0.013255,   0.0066274,           0]]), 'Recall', 'Precision'], [array([          0,    0.001001,    0.002002,    0.003003,    0.004004,    0.005005,    0.006006,    0.007007,    0.008008,    0.009009,     0.01001,    0.011011,    0.012012,    0.013013,    0.014014,    0.015015,    0.016016,    0.017017,    0.018018,    0.019019,     0.02002,    0.021021,    0.022022,    0.023023,\n",
       "          0.024024,    0.025025,    0.026026,    0.027027,    0.028028,    0.029029,     0.03003,    0.031031,    0.032032,    0.033033,    0.034034,    0.035035,    0.036036,    0.037037,    0.038038,    0.039039,     0.04004,    0.041041,    0.042042,    0.043043,    0.044044,    0.045045,    0.046046,    0.047047,\n",
       "          0.048048,    0.049049,     0.05005,    0.051051,    0.052052,    0.053053,    0.054054,    0.055055,    0.056056,    0.057057,    0.058058,    0.059059,     0.06006,    0.061061,    0.062062,    0.063063,    0.064064,    0.065065,    0.066066,    0.067067,    0.068068,    0.069069,     0.07007,    0.071071,\n",
       "          0.072072,    0.073073,    0.074074,    0.075075,    0.076076,    0.077077,    0.078078,    0.079079,     0.08008,    0.081081,    0.082082,    0.083083,    0.084084,    0.085085,    0.086086,    0.087087,    0.088088,    0.089089,     0.09009,    0.091091,    0.092092,    0.093093,    0.094094,    0.095095,\n",
       "          0.096096,    0.097097,    0.098098,    0.099099,      0.1001,      0.1011,      0.1021,      0.1031,      0.1041,     0.10511,     0.10611,     0.10711,     0.10811,     0.10911,     0.11011,     0.11111,     0.11211,     0.11311,     0.11411,     0.11512,     0.11612,     0.11712,     0.11812,     0.11912,\n",
       "           0.12012,     0.12112,     0.12212,     0.12312,     0.12412,     0.12513,     0.12613,     0.12713,     0.12813,     0.12913,     0.13013,     0.13113,     0.13213,     0.13313,     0.13413,     0.13514,     0.13614,     0.13714,     0.13814,     0.13914,     0.14014,     0.14114,     0.14214,     0.14314,\n",
       "           0.14414,     0.14515,     0.14615,     0.14715,     0.14815,     0.14915,     0.15015,     0.15115,     0.15215,     0.15315,     0.15415,     0.15516,     0.15616,     0.15716,     0.15816,     0.15916,     0.16016,     0.16116,     0.16216,     0.16316,     0.16416,     0.16517,     0.16617,     0.16717,\n",
       "           0.16817,     0.16917,     0.17017,     0.17117,     0.17217,     0.17317,     0.17417,     0.17518,     0.17618,     0.17718,     0.17818,     0.17918,     0.18018,     0.18118,     0.18218,     0.18318,     0.18418,     0.18519,     0.18619,     0.18719,     0.18819,     0.18919,     0.19019,     0.19119,\n",
       "           0.19219,     0.19319,     0.19419,      0.1952,      0.1962,      0.1972,      0.1982,      0.1992,      0.2002,      0.2012,      0.2022,      0.2032,      0.2042,     0.20521,     0.20621,     0.20721,     0.20821,     0.20921,     0.21021,     0.21121,     0.21221,     0.21321,     0.21421,     0.21522,\n",
       "           0.21622,     0.21722,     0.21822,     0.21922,     0.22022,     0.22122,     0.22222,     0.22322,     0.22422,     0.22523,     0.22623,     0.22723,     0.22823,     0.22923,     0.23023,     0.23123,     0.23223,     0.23323,     0.23423,     0.23524,     0.23624,     0.23724,     0.23824,     0.23924,\n",
       "           0.24024,     0.24124,     0.24224,     0.24324,     0.24424,     0.24525,     0.24625,     0.24725,     0.24825,     0.24925,     0.25025,     0.25125,     0.25225,     0.25325,     0.25425,     0.25526,     0.25626,     0.25726,     0.25826,     0.25926,     0.26026,     0.26126,     0.26226,     0.26326,\n",
       "           0.26426,     0.26527,     0.26627,     0.26727,     0.26827,     0.26927,     0.27027,     0.27127,     0.27227,     0.27327,     0.27427,     0.27528,     0.27628,     0.27728,     0.27828,     0.27928,     0.28028,     0.28128,     0.28228,     0.28328,     0.28428,     0.28529,     0.28629,     0.28729,\n",
       "           0.28829,     0.28929,     0.29029,     0.29129,     0.29229,     0.29329,     0.29429,      0.2953,      0.2963,      0.2973,      0.2983,      0.2993,      0.3003,      0.3013,      0.3023,      0.3033,      0.3043,     0.30531,     0.30631,     0.30731,     0.30831,     0.30931,     0.31031,     0.31131,\n",
       "           0.31231,     0.31331,     0.31431,     0.31532,     0.31632,     0.31732,     0.31832,     0.31932,     0.32032,     0.32132,     0.32232,     0.32332,     0.32432,     0.32533,     0.32633,     0.32733,     0.32833,     0.32933,     0.33033,     0.33133,     0.33233,     0.33333,     0.33433,     0.33534,\n",
       "           0.33634,     0.33734,     0.33834,     0.33934,     0.34034,     0.34134,     0.34234,     0.34334,     0.34434,     0.34535,     0.34635,     0.34735,     0.34835,     0.34935,     0.35035,     0.35135,     0.35235,     0.35335,     0.35435,     0.35536,     0.35636,     0.35736,     0.35836,     0.35936,\n",
       "           0.36036,     0.36136,     0.36236,     0.36336,     0.36436,     0.36537,     0.36637,     0.36737,     0.36837,     0.36937,     0.37037,     0.37137,     0.37237,     0.37337,     0.37437,     0.37538,     0.37638,     0.37738,     0.37838,     0.37938,     0.38038,     0.38138,     0.38238,     0.38338,\n",
       "           0.38438,     0.38539,     0.38639,     0.38739,     0.38839,     0.38939,     0.39039,     0.39139,     0.39239,     0.39339,     0.39439,      0.3954,      0.3964,      0.3974,      0.3984,      0.3994,      0.4004,      0.4014,      0.4024,      0.4034,      0.4044,     0.40541,     0.40641,     0.40741,\n",
       "           0.40841,     0.40941,     0.41041,     0.41141,     0.41241,     0.41341,     0.41441,     0.41542,     0.41642,     0.41742,     0.41842,     0.41942,     0.42042,     0.42142,     0.42242,     0.42342,     0.42442,     0.42543,     0.42643,     0.42743,     0.42843,     0.42943,     0.43043,     0.43143,\n",
       "           0.43243,     0.43343,     0.43443,     0.43544,     0.43644,     0.43744,     0.43844,     0.43944,     0.44044,     0.44144,     0.44244,     0.44344,     0.44444,     0.44545,     0.44645,     0.44745,     0.44845,     0.44945,     0.45045,     0.45145,     0.45245,     0.45345,     0.45445,     0.45546,\n",
       "           0.45646,     0.45746,     0.45846,     0.45946,     0.46046,     0.46146,     0.46246,     0.46346,     0.46446,     0.46547,     0.46647,     0.46747,     0.46847,     0.46947,     0.47047,     0.47147,     0.47247,     0.47347,     0.47447,     0.47548,     0.47648,     0.47748,     0.47848,     0.47948,\n",
       "           0.48048,     0.48148,     0.48248,     0.48348,     0.48448,     0.48549,     0.48649,     0.48749,     0.48849,     0.48949,     0.49049,     0.49149,     0.49249,     0.49349,     0.49449,      0.4955,      0.4965,      0.4975,      0.4985,      0.4995,      0.5005,      0.5015,      0.5025,      0.5035,\n",
       "            0.5045,     0.50551,     0.50651,     0.50751,     0.50851,     0.50951,     0.51051,     0.51151,     0.51251,     0.51351,     0.51451,     0.51552,     0.51652,     0.51752,     0.51852,     0.51952,     0.52052,     0.52152,     0.52252,     0.52352,     0.52452,     0.52553,     0.52653,     0.52753,\n",
       "           0.52853,     0.52953,     0.53053,     0.53153,     0.53253,     0.53353,     0.53453,     0.53554,     0.53654,     0.53754,     0.53854,     0.53954,     0.54054,     0.54154,     0.54254,     0.54354,     0.54454,     0.54555,     0.54655,     0.54755,     0.54855,     0.54955,     0.55055,     0.55155,\n",
       "           0.55255,     0.55355,     0.55455,     0.55556,     0.55656,     0.55756,     0.55856,     0.55956,     0.56056,     0.56156,     0.56256,     0.56356,     0.56456,     0.56557,     0.56657,     0.56757,     0.56857,     0.56957,     0.57057,     0.57157,     0.57257,     0.57357,     0.57457,     0.57558,\n",
       "           0.57658,     0.57758,     0.57858,     0.57958,     0.58058,     0.58158,     0.58258,     0.58358,     0.58458,     0.58559,     0.58659,     0.58759,     0.58859,     0.58959,     0.59059,     0.59159,     0.59259,     0.59359,     0.59459,      0.5956,      0.5966,      0.5976,      0.5986,      0.5996,\n",
       "            0.6006,      0.6016,      0.6026,      0.6036,      0.6046,     0.60561,     0.60661,     0.60761,     0.60861,     0.60961,     0.61061,     0.61161,     0.61261,     0.61361,     0.61461,     0.61562,     0.61662,     0.61762,     0.61862,     0.61962,     0.62062,     0.62162,     0.62262,     0.62362,\n",
       "           0.62462,     0.62563,     0.62663,     0.62763,     0.62863,     0.62963,     0.63063,     0.63163,     0.63263,     0.63363,     0.63463,     0.63564,     0.63664,     0.63764,     0.63864,     0.63964,     0.64064,     0.64164,     0.64264,     0.64364,     0.64464,     0.64565,     0.64665,     0.64765,\n",
       "           0.64865,     0.64965,     0.65065,     0.65165,     0.65265,     0.65365,     0.65465,     0.65566,     0.65666,     0.65766,     0.65866,     0.65966,     0.66066,     0.66166,     0.66266,     0.66366,     0.66466,     0.66567,     0.66667,     0.66767,     0.66867,     0.66967,     0.67067,     0.67167,\n",
       "           0.67267,     0.67367,     0.67467,     0.67568,     0.67668,     0.67768,     0.67868,     0.67968,     0.68068,     0.68168,     0.68268,     0.68368,     0.68468,     0.68569,     0.68669,     0.68769,     0.68869,     0.68969,     0.69069,     0.69169,     0.69269,     0.69369,     0.69469,      0.6957,\n",
       "            0.6967,      0.6977,      0.6987,      0.6997,      0.7007,      0.7017,      0.7027,      0.7037,      0.7047,     0.70571,     0.70671,     0.70771,     0.70871,     0.70971,     0.71071,     0.71171,     0.71271,     0.71371,     0.71471,     0.71572,     0.71672,     0.71772,     0.71872,     0.71972,\n",
       "           0.72072,     0.72172,     0.72272,     0.72372,     0.72472,     0.72573,     0.72673,     0.72773,     0.72873,     0.72973,     0.73073,     0.73173,     0.73273,     0.73373,     0.73473,     0.73574,     0.73674,     0.73774,     0.73874,     0.73974,     0.74074,     0.74174,     0.74274,     0.74374,\n",
       "           0.74474,     0.74575,     0.74675,     0.74775,     0.74875,     0.74975,     0.75075,     0.75175,     0.75275,     0.75375,     0.75475,     0.75576,     0.75676,     0.75776,     0.75876,     0.75976,     0.76076,     0.76176,     0.76276,     0.76376,     0.76476,     0.76577,     0.76677,     0.76777,\n",
       "           0.76877,     0.76977,     0.77077,     0.77177,     0.77277,     0.77377,     0.77477,     0.77578,     0.77678,     0.77778,     0.77878,     0.77978,     0.78078,     0.78178,     0.78278,     0.78378,     0.78478,     0.78579,     0.78679,     0.78779,     0.78879,     0.78979,     0.79079,     0.79179,\n",
       "           0.79279,     0.79379,     0.79479,      0.7958,      0.7968,      0.7978,      0.7988,      0.7998,      0.8008,      0.8018,      0.8028,      0.8038,      0.8048,     0.80581,     0.80681,     0.80781,     0.80881,     0.80981,     0.81081,     0.81181,     0.81281,     0.81381,     0.81481,     0.81582,\n",
       "           0.81682,     0.81782,     0.81882,     0.81982,     0.82082,     0.82182,     0.82282,     0.82382,     0.82482,     0.82583,     0.82683,     0.82783,     0.82883,     0.82983,     0.83083,     0.83183,     0.83283,     0.83383,     0.83483,     0.83584,     0.83684,     0.83784,     0.83884,     0.83984,\n",
       "           0.84084,     0.84184,     0.84284,     0.84384,     0.84484,     0.84585,     0.84685,     0.84785,     0.84885,     0.84985,     0.85085,     0.85185,     0.85285,     0.85385,     0.85485,     0.85586,     0.85686,     0.85786,     0.85886,     0.85986,     0.86086,     0.86186,     0.86286,     0.86386,\n",
       "           0.86486,     0.86587,     0.86687,     0.86787,     0.86887,     0.86987,     0.87087,     0.87187,     0.87287,     0.87387,     0.87487,     0.87588,     0.87688,     0.87788,     0.87888,     0.87988,     0.88088,     0.88188,     0.88288,     0.88388,     0.88488,     0.88589,     0.88689,     0.88789,\n",
       "           0.88889,     0.88989,     0.89089,     0.89189,     0.89289,     0.89389,     0.89489,      0.8959,      0.8969,      0.8979,      0.8989,      0.8999,      0.9009,      0.9019,      0.9029,      0.9039,      0.9049,     0.90591,     0.90691,     0.90791,     0.90891,     0.90991,     0.91091,     0.91191,\n",
       "           0.91291,     0.91391,     0.91491,     0.91592,     0.91692,     0.91792,     0.91892,     0.91992,     0.92092,     0.92192,     0.92292,     0.92392,     0.92492,     0.92593,     0.92693,     0.92793,     0.92893,     0.92993,     0.93093,     0.93193,     0.93293,     0.93393,     0.93493,     0.93594,\n",
       "           0.93694,     0.93794,     0.93894,     0.93994,     0.94094,     0.94194,     0.94294,     0.94394,     0.94494,     0.94595,     0.94695,     0.94795,     0.94895,     0.94995,     0.95095,     0.95195,     0.95295,     0.95395,     0.95495,     0.95596,     0.95696,     0.95796,     0.95896,     0.95996,\n",
       "           0.96096,     0.96196,     0.96296,     0.96396,     0.96496,     0.96597,     0.96697,     0.96797,     0.96897,     0.96997,     0.97097,     0.97197,     0.97297,     0.97397,     0.97497,     0.97598,     0.97698,     0.97798,     0.97898,     0.97998,     0.98098,     0.98198,     0.98298,     0.98398,\n",
       "           0.98498,     0.98599,     0.98699,     0.98799,     0.98899,     0.98999,     0.99099,     0.99199,     0.99299,     0.99399,     0.99499,       0.996,       0.997,       0.998,       0.999,           1]), array([[    0.73823,     0.73823,      0.7974,     0.82048,     0.83695,     0.84417,     0.85055,     0.85643,     0.86027,      0.8627,     0.86899,     0.86997,     0.87122,      0.8732,     0.87467,     0.87724,     0.87552,     0.87591,     0.87629,     0.87665,     0.87658,     0.87695,     0.87732,\n",
       "            0.87781,     0.87845,     0.87886,     0.87912,     0.87938,     0.87964,     0.87992,     0.88043,     0.88094,     0.88216,     0.88285,     0.88347,     0.88375,     0.88403,     0.88431,     0.88459,     0.88662,     0.88787,     0.88729,     0.88685,     0.88762,     0.88843,     0.88922,\n",
       "            0.88947,     0.88972,     0.88996,     0.89021,     0.89044,      0.8906,     0.89077,     0.89093,     0.89109,     0.89126,     0.89142,     0.89158,     0.89125,     0.89069,     0.89013,     0.89129,     0.89189,     0.89246,     0.89265,     0.89276,     0.89287,     0.89298,     0.89309,\n",
       "             0.8932,     0.89331,     0.89342,     0.89353,     0.89364,     0.89374,     0.89396,     0.89426,     0.89456,     0.89487,     0.89511,     0.89528,     0.89546,     0.89563,     0.89581,     0.89598,     0.89616,     0.89652,     0.89718,     0.89756,     0.89767,     0.89777,     0.89788,\n",
       "            0.89799,     0.89809,      0.8982,     0.89831,     0.89841,     0.89852,     0.89862,     0.89873,     0.89864,      0.8985,     0.89836,     0.89821,     0.89807,     0.89793,     0.89779,     0.89765,     0.89751,     0.89736,     0.89722,     0.89744,     0.89765,     0.89786,     0.89808,\n",
       "            0.89829,     0.89851,     0.89879,     0.89907,     0.89936,     0.89964,     0.89954,     0.89928,     0.89902,     0.89876,      0.8985,     0.89824,     0.89823,     0.89829,     0.89835,     0.89841,     0.89846,     0.89852,     0.89858,     0.89864,     0.89869,     0.89875,     0.89881,\n",
       "            0.89887,     0.89893,     0.89898,     0.89904,      0.8991,     0.89916,     0.89921,     0.89927,     0.89933,     0.89939,     0.89943,     0.89928,     0.89913,     0.89897,     0.89882,     0.89867,     0.89852,     0.89837,     0.89821,     0.89806,     0.89791,     0.89776,     0.89762,\n",
       "            0.89747,     0.89733,     0.89718,     0.89704,     0.89689,     0.89675,      0.8966,     0.89645,     0.89635,     0.89631,     0.89627,     0.89623,     0.89619,     0.89615,     0.89611,     0.89607,     0.89604,       0.896,     0.89596,     0.89592,     0.89588,     0.89584,      0.8958,\n",
       "            0.89577,     0.89573,     0.89569,     0.89565,     0.89561,     0.89557,     0.89553,     0.89549,     0.89546,     0.89542,     0.89538,     0.89534,      0.8953,     0.89526,     0.89522,     0.89518,     0.89515,     0.89511,     0.89507,     0.89503,     0.89499,     0.89495,     0.89491,\n",
       "            0.89487,     0.89484,     0.89479,     0.89474,     0.89469,     0.89464,     0.89459,     0.89455,      0.8945,     0.89445,      0.8944,     0.89435,      0.8943,     0.89425,      0.8942,     0.89415,      0.8941,     0.89405,       0.894,     0.89395,      0.8939,     0.89385,      0.8938,\n",
       "            0.89375,      0.8937,     0.89365,      0.8936,     0.89355,      0.8935,     0.89345,      0.8934,     0.89335,      0.8933,      0.8933,     0.89366,     0.89401,     0.89437,     0.89444,      0.8943,     0.89417,     0.89404,      0.8939,     0.89377,     0.89364,     0.89351,     0.89337,\n",
       "            0.89324,     0.89311,     0.89297,     0.89301,     0.89306,     0.89312,     0.89317,     0.89323,     0.89328,     0.89334,     0.89339,     0.89345,      0.8935,     0.89356,     0.89361,     0.89367,     0.89372,     0.89378,     0.89383,     0.89389,     0.89394,       0.894,     0.89405,\n",
       "            0.89411,     0.89416,     0.89421,     0.89432,     0.89442,     0.89453,     0.89464,     0.89474,     0.89485,     0.89495,     0.89506,     0.89516,     0.89527,     0.89538,     0.89548,     0.89552,     0.89556,      0.8956,     0.89563,     0.89567,     0.89571,     0.89575,     0.89579,\n",
       "            0.89582,     0.89586,      0.8959,     0.89594,     0.89598,     0.89602,     0.89605,     0.89609,     0.89613,     0.89617,     0.89621,     0.89624,     0.89628,     0.89632,     0.89636,      0.8964,     0.89644,     0.89647,     0.89651,     0.89655,     0.89659,     0.89663,     0.89666,\n",
       "             0.8967,     0.89674,     0.89652,     0.89626,     0.89599,     0.89572,     0.89546,     0.89519,     0.89522,     0.89526,     0.89529,     0.89533,     0.89536,      0.8954,     0.89544,     0.89547,     0.89551,     0.89554,     0.89558,     0.89561,     0.89565,     0.89569,     0.89572,\n",
       "            0.89576,     0.89579,     0.89583,     0.89587,      0.8959,     0.89594,     0.89597,     0.89601,     0.89605,     0.89608,     0.89612,     0.89615,     0.89619,     0.89623,     0.89626,      0.8963,     0.89633,     0.89637,      0.8964,     0.89644,     0.89686,     0.89751,     0.89774,\n",
       "            0.89775,     0.89777,     0.89778,      0.8978,     0.89781,     0.89783,     0.89784,     0.89786,     0.89787,     0.89788,      0.8979,     0.89791,     0.89793,     0.89794,     0.89796,     0.89797,     0.89799,       0.898,     0.89802,     0.89803,     0.89805,     0.89806,     0.89808,\n",
       "            0.89809,     0.89811,     0.89812,     0.89814,     0.89815,     0.89817,     0.89818,     0.89819,     0.89821,     0.89822,     0.89824,     0.89825,     0.89827,     0.89828,      0.8983,     0.89831,     0.89833,     0.89834,     0.89836,     0.89837,     0.89839,      0.8984,     0.89842,\n",
       "            0.89843,     0.89845,     0.89846,     0.89848,     0.89849,      0.8985,     0.89852,     0.89853,     0.89855,     0.89856,     0.89858,     0.89859,     0.89861,     0.89862,     0.89864,     0.89865,     0.89867,     0.89868,      0.8987,     0.89871,     0.89873,     0.89874,     0.89876,\n",
       "            0.89877,     0.89878,      0.8988,     0.89881,     0.89883,     0.89884,     0.89886,     0.89887,     0.89889,      0.8989,     0.89892,     0.89893,     0.89895,     0.89896,     0.89898,     0.89899,     0.89903,      0.8993,     0.89958,     0.89986,     0.90013,     0.90031,     0.90035,\n",
       "             0.9004,     0.90045,     0.90049,     0.90054,     0.90059,     0.90064,     0.90068,     0.90073,     0.90078,     0.90082,     0.90087,     0.90092,     0.90096,     0.90101,     0.90106,     0.90111,     0.90115,      0.9012,     0.90125,     0.90129,     0.90134,     0.90139,     0.90143,\n",
       "            0.90148,     0.90153,     0.90155,      0.9014,     0.90126,     0.90111,     0.90097,     0.90082,     0.90067,     0.90053,     0.90038,     0.90023,     0.90009,     0.90007,     0.90023,      0.9004,     0.90056,     0.90073,     0.90089,     0.90106,     0.90122,     0.90097,     0.90043,\n",
       "            0.89989,     0.89944,     0.89904,     0.89863,     0.89823,     0.89816,      0.8982,     0.89824,     0.89828,     0.89832,     0.89836,      0.8984,     0.89844,     0.89848,     0.89852,     0.89855,     0.89859,     0.89863,     0.89867,     0.89871,     0.89875,     0.89879,     0.89883,\n",
       "            0.89887,      0.8989,     0.89894,     0.89898,     0.89902,     0.89906,      0.8991,     0.89914,     0.89918,     0.89922,     0.89925,     0.89929,     0.89933,     0.89937,     0.89941,     0.89948,     0.89956,     0.89965,     0.89973,     0.89982,      0.8999,     0.89999,     0.90008,\n",
       "            0.90016,     0.90025,     0.90033,     0.90042,      0.9005,     0.90059,     0.90067,     0.90063,     0.90045,     0.90027,     0.90009,     0.89991,     0.89973,     0.89955,     0.89937,     0.89919,     0.89924,     0.89939,     0.89953,     0.89968,     0.89983,     0.89998,     0.90013,\n",
       "            0.90027,     0.90042,     0.90013,     0.89981,     0.89948,     0.89916,     0.89885,     0.89891,     0.89897,     0.89904,      0.8991,     0.89916,     0.89923,     0.89929,     0.89935,     0.89942,     0.89948,     0.89955,     0.89961,     0.89967,     0.89974,      0.8998,     0.89986,\n",
       "            0.89993,     0.89999,     0.90005,     0.90012,     0.90018,     0.90023,     0.90029,     0.90035,      0.9004,     0.90046,     0.90052,     0.90057,     0.90063,     0.90069,     0.90075,      0.9008,     0.90086,     0.90092,     0.90097,     0.90103,     0.90109,     0.90114,      0.9012,\n",
       "            0.90126,     0.90131,     0.90137,     0.90143,     0.90111,     0.90056,     0.90002,     0.89947,     0.89893,     0.89838,     0.89816,     0.89803,     0.89791,     0.89778,     0.89765,     0.89753,      0.8974,     0.89727,     0.89715,     0.89702,     0.89689,     0.89677,     0.89664,\n",
       "            0.89645,     0.89627,     0.89609,      0.8959,     0.89572,     0.89554,     0.89535,     0.89517,     0.89626,     0.89596,     0.89566,     0.89536,     0.89506,     0.89475,     0.89302,      0.8928,     0.89257,     0.89235,     0.89213,     0.89191,     0.89169,     0.89152,     0.89166,\n",
       "             0.8918,     0.89194,     0.89208,     0.89222,     0.89236,      0.8925,     0.89265,     0.89279,     0.89276,      0.8927,     0.89265,      0.8926,     0.89254,     0.89249,     0.89244,     0.89238,     0.89233,     0.89227,     0.89222,     0.89217,     0.89211,     0.89206,       0.892,\n",
       "            0.89195,      0.8919,     0.89184,     0.89179,     0.89174,     0.89168,     0.89163,     0.89157,     0.89152,     0.89147,     0.89141,     0.89136,      0.8913,     0.89125,      0.8912,      0.8911,     0.89097,     0.89084,     0.89071,     0.89058,     0.89045,     0.89032,     0.89019,\n",
       "            0.89007,     0.88994,     0.88981,     0.88968,     0.88955,     0.88939,     0.88923,     0.88907,     0.88891,     0.88875,     0.88859,     0.88843,     0.88827,     0.88811,     0.88795,     0.88784,     0.88775,     0.88765,     0.88756,     0.88747,     0.88737,     0.88728,     0.88719,\n",
       "            0.88709,       0.887,     0.88691,     0.88681,     0.88672,     0.88662,     0.88653,     0.88644,     0.88634,     0.88579,      0.8847,     0.88482,     0.88494,     0.88506,     0.88518,     0.88531,     0.88543,     0.88555,     0.88567,     0.88579,     0.88592,     0.88572,     0.88549,\n",
       "            0.88527,     0.88504,     0.88481,     0.88459,     0.88436,     0.88409,     0.88378,     0.88347,     0.88316,     0.88285,     0.88255,     0.88226,     0.88198,      0.8817,     0.88141,     0.88113,     0.88086,     0.88064,     0.88041,     0.88018,     0.87995,     0.87973,      0.8795,\n",
       "            0.87926,     0.87883,      0.8784,     0.87797,     0.87585,     0.87536,     0.87487,     0.87437,     0.87543,     0.87494,     0.87444,     0.87395,     0.87366,     0.87342,     0.87317,     0.87292,     0.87267,     0.87242,     0.87211,     0.87031,        0.87,     0.86968,     0.86936,\n",
       "            0.86904,     0.86871,     0.86832,     0.86794,     0.86755,     0.86716,     0.86444,     0.86327,     0.86209,      0.8628,     0.86161,     0.86217,     0.86145,     0.85851,     0.85496,      0.8537,     0.85298,     0.84864,     0.84692,     0.84619,     0.84545,     0.84041,     0.83353,\n",
       "            0.83032,     0.82289,     0.81911,     0.81565,     0.81488,     0.81411,     0.81045,     0.80277,     0.79993,     0.79914,     0.79586,     0.79191,     0.78794,     0.78591,      0.7819,     0.77786,     0.77382,      0.7714,      0.7699,     0.76781,     0.76389,     0.76284,     0.75529,\n",
       "            0.75106,     0.74077,     0.73968,     0.73819,     0.73384,     0.72946,     0.71403,     0.71175,     0.70946,     0.70152,     0.69692,     0.68302,     0.67357,     0.66158,     0.65425,     0.65175,     0.64448,      0.6428,     0.64048,     0.63793,     0.63537,      0.6214,     0.61149,\n",
       "            0.61016,     0.60205,     0.59908,     0.57758,     0.56378,     0.53975,     0.52521,     0.49073,      0.4783,     0.46852,     0.45764,     0.45505,     0.43312,     0.42575,     0.41796,      0.4043,     0.39214,     0.38403,     0.36547,     0.35919,     0.34575,     0.34324,     0.32273,\n",
       "            0.31714,     0.31303,     0.29163,     0.25743,     0.24715,     0.23666,     0.23196,     0.19364,     0.17961,     0.16896,     0.16236,     0.15926,     0.14349,     0.13406,     0.12313,     0.11013,     0.10351,    0.078782,    0.063015,    0.048034,    0.040565,    0.037033,    0.023036,\n",
       "           0.019899,    0.017195,    0.012963,    0.010165,   0.0092552,   0.0083448,   0.0074336,   0.0065215,   0.0056086,           0,           0,           0,           0,           0,           0,           0,           0,           0,           0,           0,           0,           0,           0,\n",
       "                  0,           0,           0,           0,           0,           0,           0,           0,           0,           0,           0,           0,           0,           0,           0,           0,           0,           0,           0,           0,           0,           0,           0,\n",
       "                  0,           0,           0,           0,           0,           0,           0,           0,           0,           0,           0,           0,           0,           0,           0,           0,           0,           0,           0,           0,           0,           0,           0,\n",
       "                  0,           0,           0,           0,           0,           0,           0,           0,           0,           0,           0]]), 'Confidence', 'F1'], [array([          0,    0.001001,    0.002002,    0.003003,    0.004004,    0.005005,    0.006006,    0.007007,    0.008008,    0.009009,     0.01001,    0.011011,    0.012012,    0.013013,    0.014014,    0.015015,    0.016016,    0.017017,    0.018018,    0.019019,     0.02002,    0.021021,    0.022022,    0.023023,\n",
       "          0.024024,    0.025025,    0.026026,    0.027027,    0.028028,    0.029029,     0.03003,    0.031031,    0.032032,    0.033033,    0.034034,    0.035035,    0.036036,    0.037037,    0.038038,    0.039039,     0.04004,    0.041041,    0.042042,    0.043043,    0.044044,    0.045045,    0.046046,    0.047047,\n",
       "          0.048048,    0.049049,     0.05005,    0.051051,    0.052052,    0.053053,    0.054054,    0.055055,    0.056056,    0.057057,    0.058058,    0.059059,     0.06006,    0.061061,    0.062062,    0.063063,    0.064064,    0.065065,    0.066066,    0.067067,    0.068068,    0.069069,     0.07007,    0.071071,\n",
       "          0.072072,    0.073073,    0.074074,    0.075075,    0.076076,    0.077077,    0.078078,    0.079079,     0.08008,    0.081081,    0.082082,    0.083083,    0.084084,    0.085085,    0.086086,    0.087087,    0.088088,    0.089089,     0.09009,    0.091091,    0.092092,    0.093093,    0.094094,    0.095095,\n",
       "          0.096096,    0.097097,    0.098098,    0.099099,      0.1001,      0.1011,      0.1021,      0.1031,      0.1041,     0.10511,     0.10611,     0.10711,     0.10811,     0.10911,     0.11011,     0.11111,     0.11211,     0.11311,     0.11411,     0.11512,     0.11612,     0.11712,     0.11812,     0.11912,\n",
       "           0.12012,     0.12112,     0.12212,     0.12312,     0.12412,     0.12513,     0.12613,     0.12713,     0.12813,     0.12913,     0.13013,     0.13113,     0.13213,     0.13313,     0.13413,     0.13514,     0.13614,     0.13714,     0.13814,     0.13914,     0.14014,     0.14114,     0.14214,     0.14314,\n",
       "           0.14414,     0.14515,     0.14615,     0.14715,     0.14815,     0.14915,     0.15015,     0.15115,     0.15215,     0.15315,     0.15415,     0.15516,     0.15616,     0.15716,     0.15816,     0.15916,     0.16016,     0.16116,     0.16216,     0.16316,     0.16416,     0.16517,     0.16617,     0.16717,\n",
       "           0.16817,     0.16917,     0.17017,     0.17117,     0.17217,     0.17317,     0.17417,     0.17518,     0.17618,     0.17718,     0.17818,     0.17918,     0.18018,     0.18118,     0.18218,     0.18318,     0.18418,     0.18519,     0.18619,     0.18719,     0.18819,     0.18919,     0.19019,     0.19119,\n",
       "           0.19219,     0.19319,     0.19419,      0.1952,      0.1962,      0.1972,      0.1982,      0.1992,      0.2002,      0.2012,      0.2022,      0.2032,      0.2042,     0.20521,     0.20621,     0.20721,     0.20821,     0.20921,     0.21021,     0.21121,     0.21221,     0.21321,     0.21421,     0.21522,\n",
       "           0.21622,     0.21722,     0.21822,     0.21922,     0.22022,     0.22122,     0.22222,     0.22322,     0.22422,     0.22523,     0.22623,     0.22723,     0.22823,     0.22923,     0.23023,     0.23123,     0.23223,     0.23323,     0.23423,     0.23524,     0.23624,     0.23724,     0.23824,     0.23924,\n",
       "           0.24024,     0.24124,     0.24224,     0.24324,     0.24424,     0.24525,     0.24625,     0.24725,     0.24825,     0.24925,     0.25025,     0.25125,     0.25225,     0.25325,     0.25425,     0.25526,     0.25626,     0.25726,     0.25826,     0.25926,     0.26026,     0.26126,     0.26226,     0.26326,\n",
       "           0.26426,     0.26527,     0.26627,     0.26727,     0.26827,     0.26927,     0.27027,     0.27127,     0.27227,     0.27327,     0.27427,     0.27528,     0.27628,     0.27728,     0.27828,     0.27928,     0.28028,     0.28128,     0.28228,     0.28328,     0.28428,     0.28529,     0.28629,     0.28729,\n",
       "           0.28829,     0.28929,     0.29029,     0.29129,     0.29229,     0.29329,     0.29429,      0.2953,      0.2963,      0.2973,      0.2983,      0.2993,      0.3003,      0.3013,      0.3023,      0.3033,      0.3043,     0.30531,     0.30631,     0.30731,     0.30831,     0.30931,     0.31031,     0.31131,\n",
       "           0.31231,     0.31331,     0.31431,     0.31532,     0.31632,     0.31732,     0.31832,     0.31932,     0.32032,     0.32132,     0.32232,     0.32332,     0.32432,     0.32533,     0.32633,     0.32733,     0.32833,     0.32933,     0.33033,     0.33133,     0.33233,     0.33333,     0.33433,     0.33534,\n",
       "           0.33634,     0.33734,     0.33834,     0.33934,     0.34034,     0.34134,     0.34234,     0.34334,     0.34434,     0.34535,     0.34635,     0.34735,     0.34835,     0.34935,     0.35035,     0.35135,     0.35235,     0.35335,     0.35435,     0.35536,     0.35636,     0.35736,     0.35836,     0.35936,\n",
       "           0.36036,     0.36136,     0.36236,     0.36336,     0.36436,     0.36537,     0.36637,     0.36737,     0.36837,     0.36937,     0.37037,     0.37137,     0.37237,     0.37337,     0.37437,     0.37538,     0.37638,     0.37738,     0.37838,     0.37938,     0.38038,     0.38138,     0.38238,     0.38338,\n",
       "           0.38438,     0.38539,     0.38639,     0.38739,     0.38839,     0.38939,     0.39039,     0.39139,     0.39239,     0.39339,     0.39439,      0.3954,      0.3964,      0.3974,      0.3984,      0.3994,      0.4004,      0.4014,      0.4024,      0.4034,      0.4044,     0.40541,     0.40641,     0.40741,\n",
       "           0.40841,     0.40941,     0.41041,     0.41141,     0.41241,     0.41341,     0.41441,     0.41542,     0.41642,     0.41742,     0.41842,     0.41942,     0.42042,     0.42142,     0.42242,     0.42342,     0.42442,     0.42543,     0.42643,     0.42743,     0.42843,     0.42943,     0.43043,     0.43143,\n",
       "           0.43243,     0.43343,     0.43443,     0.43544,     0.43644,     0.43744,     0.43844,     0.43944,     0.44044,     0.44144,     0.44244,     0.44344,     0.44444,     0.44545,     0.44645,     0.44745,     0.44845,     0.44945,     0.45045,     0.45145,     0.45245,     0.45345,     0.45445,     0.45546,\n",
       "           0.45646,     0.45746,     0.45846,     0.45946,     0.46046,     0.46146,     0.46246,     0.46346,     0.46446,     0.46547,     0.46647,     0.46747,     0.46847,     0.46947,     0.47047,     0.47147,     0.47247,     0.47347,     0.47447,     0.47548,     0.47648,     0.47748,     0.47848,     0.47948,\n",
       "           0.48048,     0.48148,     0.48248,     0.48348,     0.48448,     0.48549,     0.48649,     0.48749,     0.48849,     0.48949,     0.49049,     0.49149,     0.49249,     0.49349,     0.49449,      0.4955,      0.4965,      0.4975,      0.4985,      0.4995,      0.5005,      0.5015,      0.5025,      0.5035,\n",
       "            0.5045,     0.50551,     0.50651,     0.50751,     0.50851,     0.50951,     0.51051,     0.51151,     0.51251,     0.51351,     0.51451,     0.51552,     0.51652,     0.51752,     0.51852,     0.51952,     0.52052,     0.52152,     0.52252,     0.52352,     0.52452,     0.52553,     0.52653,     0.52753,\n",
       "           0.52853,     0.52953,     0.53053,     0.53153,     0.53253,     0.53353,     0.53453,     0.53554,     0.53654,     0.53754,     0.53854,     0.53954,     0.54054,     0.54154,     0.54254,     0.54354,     0.54454,     0.54555,     0.54655,     0.54755,     0.54855,     0.54955,     0.55055,     0.55155,\n",
       "           0.55255,     0.55355,     0.55455,     0.55556,     0.55656,     0.55756,     0.55856,     0.55956,     0.56056,     0.56156,     0.56256,     0.56356,     0.56456,     0.56557,     0.56657,     0.56757,     0.56857,     0.56957,     0.57057,     0.57157,     0.57257,     0.57357,     0.57457,     0.57558,\n",
       "           0.57658,     0.57758,     0.57858,     0.57958,     0.58058,     0.58158,     0.58258,     0.58358,     0.58458,     0.58559,     0.58659,     0.58759,     0.58859,     0.58959,     0.59059,     0.59159,     0.59259,     0.59359,     0.59459,      0.5956,      0.5966,      0.5976,      0.5986,      0.5996,\n",
       "            0.6006,      0.6016,      0.6026,      0.6036,      0.6046,     0.60561,     0.60661,     0.60761,     0.60861,     0.60961,     0.61061,     0.61161,     0.61261,     0.61361,     0.61461,     0.61562,     0.61662,     0.61762,     0.61862,     0.61962,     0.62062,     0.62162,     0.62262,     0.62362,\n",
       "           0.62462,     0.62563,     0.62663,     0.62763,     0.62863,     0.62963,     0.63063,     0.63163,     0.63263,     0.63363,     0.63463,     0.63564,     0.63664,     0.63764,     0.63864,     0.63964,     0.64064,     0.64164,     0.64264,     0.64364,     0.64464,     0.64565,     0.64665,     0.64765,\n",
       "           0.64865,     0.64965,     0.65065,     0.65165,     0.65265,     0.65365,     0.65465,     0.65566,     0.65666,     0.65766,     0.65866,     0.65966,     0.66066,     0.66166,     0.66266,     0.66366,     0.66466,     0.66567,     0.66667,     0.66767,     0.66867,     0.66967,     0.67067,     0.67167,\n",
       "           0.67267,     0.67367,     0.67467,     0.67568,     0.67668,     0.67768,     0.67868,     0.67968,     0.68068,     0.68168,     0.68268,     0.68368,     0.68468,     0.68569,     0.68669,     0.68769,     0.68869,     0.68969,     0.69069,     0.69169,     0.69269,     0.69369,     0.69469,      0.6957,\n",
       "            0.6967,      0.6977,      0.6987,      0.6997,      0.7007,      0.7017,      0.7027,      0.7037,      0.7047,     0.70571,     0.70671,     0.70771,     0.70871,     0.70971,     0.71071,     0.71171,     0.71271,     0.71371,     0.71471,     0.71572,     0.71672,     0.71772,     0.71872,     0.71972,\n",
       "           0.72072,     0.72172,     0.72272,     0.72372,     0.72472,     0.72573,     0.72673,     0.72773,     0.72873,     0.72973,     0.73073,     0.73173,     0.73273,     0.73373,     0.73473,     0.73574,     0.73674,     0.73774,     0.73874,     0.73974,     0.74074,     0.74174,     0.74274,     0.74374,\n",
       "           0.74474,     0.74575,     0.74675,     0.74775,     0.74875,     0.74975,     0.75075,     0.75175,     0.75275,     0.75375,     0.75475,     0.75576,     0.75676,     0.75776,     0.75876,     0.75976,     0.76076,     0.76176,     0.76276,     0.76376,     0.76476,     0.76577,     0.76677,     0.76777,\n",
       "           0.76877,     0.76977,     0.77077,     0.77177,     0.77277,     0.77377,     0.77477,     0.77578,     0.77678,     0.77778,     0.77878,     0.77978,     0.78078,     0.78178,     0.78278,     0.78378,     0.78478,     0.78579,     0.78679,     0.78779,     0.78879,     0.78979,     0.79079,     0.79179,\n",
       "           0.79279,     0.79379,     0.79479,      0.7958,      0.7968,      0.7978,      0.7988,      0.7998,      0.8008,      0.8018,      0.8028,      0.8038,      0.8048,     0.80581,     0.80681,     0.80781,     0.80881,     0.80981,     0.81081,     0.81181,     0.81281,     0.81381,     0.81481,     0.81582,\n",
       "           0.81682,     0.81782,     0.81882,     0.81982,     0.82082,     0.82182,     0.82282,     0.82382,     0.82482,     0.82583,     0.82683,     0.82783,     0.82883,     0.82983,     0.83083,     0.83183,     0.83283,     0.83383,     0.83483,     0.83584,     0.83684,     0.83784,     0.83884,     0.83984,\n",
       "           0.84084,     0.84184,     0.84284,     0.84384,     0.84484,     0.84585,     0.84685,     0.84785,     0.84885,     0.84985,     0.85085,     0.85185,     0.85285,     0.85385,     0.85485,     0.85586,     0.85686,     0.85786,     0.85886,     0.85986,     0.86086,     0.86186,     0.86286,     0.86386,\n",
       "           0.86486,     0.86587,     0.86687,     0.86787,     0.86887,     0.86987,     0.87087,     0.87187,     0.87287,     0.87387,     0.87487,     0.87588,     0.87688,     0.87788,     0.87888,     0.87988,     0.88088,     0.88188,     0.88288,     0.88388,     0.88488,     0.88589,     0.88689,     0.88789,\n",
       "           0.88889,     0.88989,     0.89089,     0.89189,     0.89289,     0.89389,     0.89489,      0.8959,      0.8969,      0.8979,      0.8989,      0.8999,      0.9009,      0.9019,      0.9029,      0.9039,      0.9049,     0.90591,     0.90691,     0.90791,     0.90891,     0.90991,     0.91091,     0.91191,\n",
       "           0.91291,     0.91391,     0.91491,     0.91592,     0.91692,     0.91792,     0.91892,     0.91992,     0.92092,     0.92192,     0.92292,     0.92392,     0.92492,     0.92593,     0.92693,     0.92793,     0.92893,     0.92993,     0.93093,     0.93193,     0.93293,     0.93393,     0.93493,     0.93594,\n",
       "           0.93694,     0.93794,     0.93894,     0.93994,     0.94094,     0.94194,     0.94294,     0.94394,     0.94494,     0.94595,     0.94695,     0.94795,     0.94895,     0.94995,     0.95095,     0.95195,     0.95295,     0.95395,     0.95495,     0.95596,     0.95696,     0.95796,     0.95896,     0.95996,\n",
       "           0.96096,     0.96196,     0.96296,     0.96396,     0.96496,     0.96597,     0.96697,     0.96797,     0.96897,     0.96997,     0.97097,     0.97197,     0.97297,     0.97397,     0.97497,     0.97598,     0.97698,     0.97798,     0.97898,     0.97998,     0.98098,     0.98198,     0.98298,     0.98398,\n",
       "           0.98498,     0.98599,     0.98699,     0.98799,     0.98899,     0.98999,     0.99099,     0.99199,     0.99299,     0.99399,     0.99499,       0.996,       0.997,       0.998,       0.999,           1]), array([[    0.62292,     0.62292,     0.71717,     0.75538,     0.78378,     0.80082,     0.81463,     0.82781,     0.83502,     0.84204,      0.8541,     0.85599,     0.85842,     0.86228,     0.86514,     0.87018,     0.87204,     0.87281,     0.87357,     0.87433,     0.87682,     0.87755,     0.87829,\n",
       "            0.87927,     0.88056,     0.88139,     0.88192,     0.88245,     0.88297,     0.88352,     0.88455,     0.88558,     0.88806,     0.88946,     0.89071,     0.89128,     0.89185,     0.89242,     0.89299,     0.89714,     0.90048,     0.90037,     0.90045,     0.90203,     0.90372,     0.90536,\n",
       "            0.90587,     0.90638,     0.90689,      0.9074,     0.90788,     0.90822,     0.90856,      0.9089,     0.90924,     0.90958,     0.90992,     0.91026,      0.9103,     0.91021,     0.91012,     0.91259,     0.91384,     0.91505,     0.91545,     0.91568,      0.9159,     0.91613,     0.91636,\n",
       "            0.91659,     0.91682,     0.91705,     0.91728,     0.91751,     0.91774,      0.9182,     0.91884,     0.91948,     0.92011,     0.92063,       0.921,     0.92137,     0.92174,     0.92211,     0.92248,     0.92285,     0.92362,     0.92502,     0.92583,     0.92605,     0.92628,     0.92651,\n",
       "            0.92673,     0.92696,     0.92719,     0.92741,     0.92764,     0.92787,     0.92809,     0.92832,     0.92835,     0.92833,     0.92831,     0.92829,     0.92828,     0.92826,     0.92824,     0.92822,      0.9282,     0.92818,     0.92816,     0.92862,     0.92908,     0.92953,     0.92999,\n",
       "            0.93045,     0.93093,     0.93153,     0.93213,     0.93274,     0.93334,      0.9335,     0.93347,     0.93344,     0.93341,     0.93337,     0.93334,     0.93343,     0.93356,     0.93368,     0.93381,     0.93393,     0.93406,     0.93418,     0.93431,     0.93443,     0.93456,     0.93468,\n",
       "            0.93481,     0.93493,     0.93506,     0.93518,     0.93531,     0.93543,     0.93556,     0.93568,     0.93581,     0.93593,     0.93605,     0.93603,     0.93601,     0.93599,     0.93597,     0.93595,     0.93593,     0.93592,      0.9359,     0.93588,     0.93586,     0.93584,     0.93583,\n",
       "            0.93581,     0.93579,     0.93577,     0.93575,     0.93574,     0.93572,      0.9357,     0.93568,     0.93567,     0.93567,     0.93566,     0.93566,     0.93565,     0.93565,     0.93564,     0.93564,     0.93563,     0.93563,     0.93562,     0.93562,     0.93561,     0.93561,      0.9356,\n",
       "             0.9356,      0.9356,     0.93559,     0.93559,     0.93558,     0.93558,     0.93557,     0.93557,     0.93556,     0.93556,     0.93555,     0.93555,     0.93554,     0.93554,     0.93553,     0.93553,     0.93552,     0.93552,     0.93552,     0.93551,     0.93551,      0.9355,      0.9355,\n",
       "            0.93549,     0.93549,     0.93548,     0.93548,     0.93547,     0.93546,     0.93546,     0.93545,     0.93545,     0.93544,     0.93543,     0.93543,     0.93542,     0.93541,     0.93541,      0.9354,      0.9354,     0.93539,     0.93538,     0.93538,     0.93537,     0.93537,     0.93536,\n",
       "            0.93535,     0.93535,     0.93534,     0.93534,     0.93533,     0.93532,     0.93532,     0.93531,     0.93531,      0.9353,     0.93539,     0.93617,     0.93695,     0.93773,     0.93804,     0.93803,     0.93801,       0.938,     0.93798,     0.93797,     0.93795,     0.93793,     0.93792,\n",
       "             0.9379,     0.93789,     0.93787,     0.93798,      0.9381,     0.93822,     0.93834,     0.93846,     0.93858,     0.93871,     0.93883,     0.93895,     0.93907,     0.93919,     0.93931,     0.93943,     0.93956,     0.93968,      0.9398,     0.93992,     0.94004,     0.94016,     0.94028,\n",
       "             0.9404,     0.94053,     0.94065,     0.94088,     0.94111,     0.94135,     0.94158,     0.94181,     0.94205,     0.94228,     0.94252,     0.94275,     0.94299,     0.94322,     0.94345,     0.94354,     0.94362,     0.94371,     0.94379,     0.94388,     0.94396,     0.94405,     0.94413,\n",
       "            0.94422,      0.9443,     0.94439,     0.94447,     0.94456,     0.94464,     0.94473,     0.94481,      0.9449,     0.94498,     0.94507,     0.94515,     0.94524,     0.94532,     0.94541,     0.94549,     0.94558,     0.94566,     0.94575,     0.94583,     0.94592,       0.946,     0.94609,\n",
       "            0.94617,     0.94625,     0.94625,     0.94622,     0.94619,     0.94616,     0.94614,     0.94611,     0.94619,     0.94627,     0.94635,     0.94643,     0.94651,     0.94659,     0.94667,     0.94675,     0.94683,     0.94691,     0.94699,     0.94707,     0.94715,     0.94723,     0.94731,\n",
       "            0.94739,     0.94747,     0.94755,     0.94763,     0.94771,     0.94779,     0.94787,     0.94795,     0.94803,     0.94811,      0.9482,     0.94828,     0.94836,     0.94844,     0.94852,      0.9486,     0.94868,     0.94876,     0.94884,     0.94892,     0.94986,     0.95132,     0.95183,\n",
       "            0.95186,      0.9519,     0.95193,     0.95196,       0.952,     0.95203,     0.95206,      0.9521,     0.95213,     0.95216,     0.95219,     0.95223,     0.95226,     0.95229,     0.95233,     0.95236,     0.95239,     0.95243,     0.95246,     0.95249,     0.95253,     0.95256,     0.95259,\n",
       "            0.95263,     0.95266,     0.95269,     0.95273,     0.95276,     0.95279,     0.95283,     0.95286,     0.95289,     0.95293,     0.95296,     0.95299,     0.95303,     0.95306,     0.95309,     0.95312,     0.95316,     0.95319,     0.95322,     0.95326,     0.95329,     0.95332,     0.95336,\n",
       "            0.95339,     0.95342,     0.95346,     0.95349,     0.95352,     0.95356,     0.95359,     0.95362,     0.95366,     0.95369,     0.95372,     0.95376,     0.95379,     0.95382,     0.95386,     0.95389,     0.95392,     0.95395,     0.95399,     0.95402,     0.95405,     0.95409,     0.95412,\n",
       "            0.95415,     0.95419,     0.95422,     0.95425,     0.95429,     0.95432,     0.95435,     0.95439,     0.95442,     0.95445,     0.95449,     0.95452,     0.95455,     0.95459,     0.95462,     0.95465,     0.95474,     0.95536,     0.95598,     0.95661,     0.95723,     0.95762,     0.95773,\n",
       "            0.95784,     0.95794,     0.95805,     0.95816,     0.95826,     0.95837,     0.95848,     0.95858,     0.95869,      0.9588,      0.9589,     0.95901,     0.95912,     0.95922,     0.95933,     0.95944,     0.95954,     0.95965,     0.95975,     0.95986,     0.95997,     0.96007,     0.96018,\n",
       "            0.96029,     0.96039,     0.96048,     0.96047,     0.96046,     0.96045,     0.96044,     0.96043,     0.96042,     0.96041,      0.9604,     0.96038,     0.96037,     0.96052,     0.96089,     0.96127,     0.96165,     0.96202,      0.9624,     0.96278,     0.96315,     0.96328,     0.96324,\n",
       "             0.9632,     0.96317,     0.96314,     0.96311,     0.96308,     0.96315,     0.96324,     0.96333,     0.96341,      0.9635,     0.96359,     0.96368,     0.96377,     0.96386,     0.96395,     0.96404,     0.96413,     0.96422,     0.96431,      0.9644,     0.96449,     0.96458,     0.96467,\n",
       "            0.96476,     0.96485,     0.96494,     0.96503,     0.96512,     0.96521,      0.9653,     0.96539,     0.96548,     0.96557,     0.96565,     0.96574,     0.96583,     0.96592,     0.96601,     0.96617,     0.96637,     0.96656,     0.96676,     0.96696,     0.96716,     0.96735,     0.96755,\n",
       "            0.96775,     0.96795,     0.96815,     0.96834,     0.96854,     0.96874,     0.96894,     0.96904,     0.96902,     0.96901,       0.969,     0.96899,     0.96898,     0.96897,     0.96896,     0.96895,     0.96918,     0.96953,     0.96987,     0.97021,     0.97056,      0.9709,     0.97125,\n",
       "            0.97159,     0.97193,     0.97195,     0.97193,     0.97191,     0.97189,     0.97188,     0.97203,     0.97218,     0.97233,     0.97248,     0.97262,     0.97277,     0.97292,     0.97307,     0.97322,     0.97337,     0.97352,     0.97367,     0.97381,     0.97396,     0.97411,     0.97426,\n",
       "            0.97441,     0.97456,     0.97471,     0.97485,       0.975,     0.97513,     0.97526,      0.9754,     0.97553,     0.97566,      0.9758,     0.97593,     0.97607,      0.9762,     0.97633,     0.97647,      0.9766,     0.97673,     0.97687,       0.977,     0.97713,     0.97727,      0.9774,\n",
       "            0.97754,     0.97767,      0.9778,     0.97794,     0.97797,     0.97795,     0.97793,      0.9779,     0.97788,     0.97785,     0.97784,     0.97784,     0.97783,     0.97783,     0.97782,     0.97782,     0.97781,     0.97781,      0.9778,     0.97779,     0.97779,     0.97778,     0.97778,\n",
       "            0.97777,     0.97776,     0.97775,     0.97774,     0.97774,     0.97773,     0.97772,     0.97771,     0.98083,     0.98082,      0.9808,     0.98079,     0.98078,     0.98077,      0.9807,      0.9807,     0.98069,     0.98068,     0.98067,     0.98066,     0.98065,     0.98069,     0.98103,\n",
       "            0.98138,     0.98172,     0.98206,      0.9824,     0.98275,     0.98309,     0.98343,     0.98377,     0.98382,     0.98382,     0.98381,     0.98381,     0.98381,     0.98381,     0.98381,     0.98381,      0.9838,      0.9838,      0.9838,      0.9838,      0.9838,     0.98379,     0.98379,\n",
       "            0.98379,     0.98379,     0.98379,     0.98379,     0.98378,     0.98378,     0.98378,     0.98378,     0.98378,     0.98378,     0.98377,     0.98377,     0.98377,     0.98377,     0.98377,     0.98376,     0.98376,     0.98376,     0.98375,     0.98375,     0.98374,     0.98374,     0.98373,\n",
       "            0.98373,     0.98373,     0.98372,     0.98372,     0.98371,     0.98371,      0.9837,      0.9837,     0.98369,     0.98369,     0.98368,     0.98368,     0.98367,     0.98367,     0.98366,     0.98366,     0.98365,     0.98365,     0.98365,     0.98365,     0.98364,     0.98364,     0.98364,\n",
       "            0.98363,     0.98363,     0.98363,     0.98362,     0.98362,     0.98362,     0.98362,     0.98361,     0.98361,     0.98359,     0.98375,     0.98405,     0.98435,     0.98466,     0.98496,     0.98526,     0.98556,     0.98587,     0.98617,     0.98647,     0.98677,     0.98679,     0.98679,\n",
       "            0.98678,     0.98678,     0.98677,     0.98676,     0.98676,     0.98675,     0.98674,     0.98673,     0.98673,     0.98672,     0.98671,      0.9867,     0.98669,     0.98669,     0.98668,     0.98667,     0.98666,     0.98666,     0.98665,     0.98665,     0.98664,     0.98663,     0.98663,\n",
       "            0.98662,     0.98661,      0.9866,     0.98659,     0.98653,     0.98652,      0.9865,     0.98649,     0.98983,     0.98982,     0.98981,      0.9898,     0.98979,     0.98979,     0.98978,     0.98978,     0.98977,     0.98977,     0.98976,     0.98972,     0.98972,     0.98971,      0.9897,\n",
       "             0.9897,     0.98969,     0.98968,     0.98967,     0.98967,     0.98966,      0.9896,     0.98958,     0.98955,       0.993,     0.99298,     0.99647,     0.99647,     0.99645,     0.99642,     0.99641,     0.99641,     0.99638,     0.99636,     0.99636,     0.99635,     0.99631,     0.99626,\n",
       "            0.99624,     0.99618,     0.99615,     0.99612,     0.99612,     0.99611,     0.99608,     0.99602,     0.99599,     0.99599,     0.99596,     0.99593,     0.99589,     0.99588,     0.99584,     0.99581,     0.99839,           1,           1,           1,           1,           1,           1,\n",
       "                  1,           1,           1,           1,           1,           1,           1,           1,           1,           1,           1,           1,           1,           1,           1,           1,           1,           1,           1,           1,           1,           1,           1,\n",
       "                  1,           1,           1,           1,           1,           1,           1,           1,           1,           1,           1,           1,           1,           1,           1,           1,           1,           1,           1,           1,           1,           1,           1,\n",
       "                  1,           1,           1,           1,           1,           1,           1,           1,           1,           1,           1,           1,           1,           1,           1,           1,           1,           1,           1,           1,           1,           1,           1,\n",
       "                  1,           1,           1,           1,           1,           1,           1,           1,           1,           1,           1,           1,           1,           1,           1,           1,           1,           1,           1,           1,           1,           1,           1,\n",
       "                  1,           1,           1,           1,           1,           1,           1,           1,           1,           1,           1,           1,           1,           1,           1,           1,           1,           1,           1,           1,           1,           1,           1,\n",
       "                  1,           1,           1,           1,           1,           1,           1,           1,           1,           1,           1,           1,           1,           1,           1,           1,           1,           1,           1,           1,           1,           1,           1,\n",
       "                  1,           1,           1,           1,           1,           1,           1,           1,           1,           1,           1]]), 'Confidence', 'Precision'], [array([          0,    0.001001,    0.002002,    0.003003,    0.004004,    0.005005,    0.006006,    0.007007,    0.008008,    0.009009,     0.01001,    0.011011,    0.012012,    0.013013,    0.014014,    0.015015,    0.016016,    0.017017,    0.018018,    0.019019,     0.02002,    0.021021,    0.022022,    0.023023,\n",
       "          0.024024,    0.025025,    0.026026,    0.027027,    0.028028,    0.029029,     0.03003,    0.031031,    0.032032,    0.033033,    0.034034,    0.035035,    0.036036,    0.037037,    0.038038,    0.039039,     0.04004,    0.041041,    0.042042,    0.043043,    0.044044,    0.045045,    0.046046,    0.047047,\n",
       "          0.048048,    0.049049,     0.05005,    0.051051,    0.052052,    0.053053,    0.054054,    0.055055,    0.056056,    0.057057,    0.058058,    0.059059,     0.06006,    0.061061,    0.062062,    0.063063,    0.064064,    0.065065,    0.066066,    0.067067,    0.068068,    0.069069,     0.07007,    0.071071,\n",
       "          0.072072,    0.073073,    0.074074,    0.075075,    0.076076,    0.077077,    0.078078,    0.079079,     0.08008,    0.081081,    0.082082,    0.083083,    0.084084,    0.085085,    0.086086,    0.087087,    0.088088,    0.089089,     0.09009,    0.091091,    0.092092,    0.093093,    0.094094,    0.095095,\n",
       "          0.096096,    0.097097,    0.098098,    0.099099,      0.1001,      0.1011,      0.1021,      0.1031,      0.1041,     0.10511,     0.10611,     0.10711,     0.10811,     0.10911,     0.11011,     0.11111,     0.11211,     0.11311,     0.11411,     0.11512,     0.11612,     0.11712,     0.11812,     0.11912,\n",
       "           0.12012,     0.12112,     0.12212,     0.12312,     0.12412,     0.12513,     0.12613,     0.12713,     0.12813,     0.12913,     0.13013,     0.13113,     0.13213,     0.13313,     0.13413,     0.13514,     0.13614,     0.13714,     0.13814,     0.13914,     0.14014,     0.14114,     0.14214,     0.14314,\n",
       "           0.14414,     0.14515,     0.14615,     0.14715,     0.14815,     0.14915,     0.15015,     0.15115,     0.15215,     0.15315,     0.15415,     0.15516,     0.15616,     0.15716,     0.15816,     0.15916,     0.16016,     0.16116,     0.16216,     0.16316,     0.16416,     0.16517,     0.16617,     0.16717,\n",
       "           0.16817,     0.16917,     0.17017,     0.17117,     0.17217,     0.17317,     0.17417,     0.17518,     0.17618,     0.17718,     0.17818,     0.17918,     0.18018,     0.18118,     0.18218,     0.18318,     0.18418,     0.18519,     0.18619,     0.18719,     0.18819,     0.18919,     0.19019,     0.19119,\n",
       "           0.19219,     0.19319,     0.19419,      0.1952,      0.1962,      0.1972,      0.1982,      0.1992,      0.2002,      0.2012,      0.2022,      0.2032,      0.2042,     0.20521,     0.20621,     0.20721,     0.20821,     0.20921,     0.21021,     0.21121,     0.21221,     0.21321,     0.21421,     0.21522,\n",
       "           0.21622,     0.21722,     0.21822,     0.21922,     0.22022,     0.22122,     0.22222,     0.22322,     0.22422,     0.22523,     0.22623,     0.22723,     0.22823,     0.22923,     0.23023,     0.23123,     0.23223,     0.23323,     0.23423,     0.23524,     0.23624,     0.23724,     0.23824,     0.23924,\n",
       "           0.24024,     0.24124,     0.24224,     0.24324,     0.24424,     0.24525,     0.24625,     0.24725,     0.24825,     0.24925,     0.25025,     0.25125,     0.25225,     0.25325,     0.25425,     0.25526,     0.25626,     0.25726,     0.25826,     0.25926,     0.26026,     0.26126,     0.26226,     0.26326,\n",
       "           0.26426,     0.26527,     0.26627,     0.26727,     0.26827,     0.26927,     0.27027,     0.27127,     0.27227,     0.27327,     0.27427,     0.27528,     0.27628,     0.27728,     0.27828,     0.27928,     0.28028,     0.28128,     0.28228,     0.28328,     0.28428,     0.28529,     0.28629,     0.28729,\n",
       "           0.28829,     0.28929,     0.29029,     0.29129,     0.29229,     0.29329,     0.29429,      0.2953,      0.2963,      0.2973,      0.2983,      0.2993,      0.3003,      0.3013,      0.3023,      0.3033,      0.3043,     0.30531,     0.30631,     0.30731,     0.30831,     0.30931,     0.31031,     0.31131,\n",
       "           0.31231,     0.31331,     0.31431,     0.31532,     0.31632,     0.31732,     0.31832,     0.31932,     0.32032,     0.32132,     0.32232,     0.32332,     0.32432,     0.32533,     0.32633,     0.32733,     0.32833,     0.32933,     0.33033,     0.33133,     0.33233,     0.33333,     0.33433,     0.33534,\n",
       "           0.33634,     0.33734,     0.33834,     0.33934,     0.34034,     0.34134,     0.34234,     0.34334,     0.34434,     0.34535,     0.34635,     0.34735,     0.34835,     0.34935,     0.35035,     0.35135,     0.35235,     0.35335,     0.35435,     0.35536,     0.35636,     0.35736,     0.35836,     0.35936,\n",
       "           0.36036,     0.36136,     0.36236,     0.36336,     0.36436,     0.36537,     0.36637,     0.36737,     0.36837,     0.36937,     0.37037,     0.37137,     0.37237,     0.37337,     0.37437,     0.37538,     0.37638,     0.37738,     0.37838,     0.37938,     0.38038,     0.38138,     0.38238,     0.38338,\n",
       "           0.38438,     0.38539,     0.38639,     0.38739,     0.38839,     0.38939,     0.39039,     0.39139,     0.39239,     0.39339,     0.39439,      0.3954,      0.3964,      0.3974,      0.3984,      0.3994,      0.4004,      0.4014,      0.4024,      0.4034,      0.4044,     0.40541,     0.40641,     0.40741,\n",
       "           0.40841,     0.40941,     0.41041,     0.41141,     0.41241,     0.41341,     0.41441,     0.41542,     0.41642,     0.41742,     0.41842,     0.41942,     0.42042,     0.42142,     0.42242,     0.42342,     0.42442,     0.42543,     0.42643,     0.42743,     0.42843,     0.42943,     0.43043,     0.43143,\n",
       "           0.43243,     0.43343,     0.43443,     0.43544,     0.43644,     0.43744,     0.43844,     0.43944,     0.44044,     0.44144,     0.44244,     0.44344,     0.44444,     0.44545,     0.44645,     0.44745,     0.44845,     0.44945,     0.45045,     0.45145,     0.45245,     0.45345,     0.45445,     0.45546,\n",
       "           0.45646,     0.45746,     0.45846,     0.45946,     0.46046,     0.46146,     0.46246,     0.46346,     0.46446,     0.46547,     0.46647,     0.46747,     0.46847,     0.46947,     0.47047,     0.47147,     0.47247,     0.47347,     0.47447,     0.47548,     0.47648,     0.47748,     0.47848,     0.47948,\n",
       "           0.48048,     0.48148,     0.48248,     0.48348,     0.48448,     0.48549,     0.48649,     0.48749,     0.48849,     0.48949,     0.49049,     0.49149,     0.49249,     0.49349,     0.49449,      0.4955,      0.4965,      0.4975,      0.4985,      0.4995,      0.5005,      0.5015,      0.5025,      0.5035,\n",
       "            0.5045,     0.50551,     0.50651,     0.50751,     0.50851,     0.50951,     0.51051,     0.51151,     0.51251,     0.51351,     0.51451,     0.51552,     0.51652,     0.51752,     0.51852,     0.51952,     0.52052,     0.52152,     0.52252,     0.52352,     0.52452,     0.52553,     0.52653,     0.52753,\n",
       "           0.52853,     0.52953,     0.53053,     0.53153,     0.53253,     0.53353,     0.53453,     0.53554,     0.53654,     0.53754,     0.53854,     0.53954,     0.54054,     0.54154,     0.54254,     0.54354,     0.54454,     0.54555,     0.54655,     0.54755,     0.54855,     0.54955,     0.55055,     0.55155,\n",
       "           0.55255,     0.55355,     0.55455,     0.55556,     0.55656,     0.55756,     0.55856,     0.55956,     0.56056,     0.56156,     0.56256,     0.56356,     0.56456,     0.56557,     0.56657,     0.56757,     0.56857,     0.56957,     0.57057,     0.57157,     0.57257,     0.57357,     0.57457,     0.57558,\n",
       "           0.57658,     0.57758,     0.57858,     0.57958,     0.58058,     0.58158,     0.58258,     0.58358,     0.58458,     0.58559,     0.58659,     0.58759,     0.58859,     0.58959,     0.59059,     0.59159,     0.59259,     0.59359,     0.59459,      0.5956,      0.5966,      0.5976,      0.5986,      0.5996,\n",
       "            0.6006,      0.6016,      0.6026,      0.6036,      0.6046,     0.60561,     0.60661,     0.60761,     0.60861,     0.60961,     0.61061,     0.61161,     0.61261,     0.61361,     0.61461,     0.61562,     0.61662,     0.61762,     0.61862,     0.61962,     0.62062,     0.62162,     0.62262,     0.62362,\n",
       "           0.62462,     0.62563,     0.62663,     0.62763,     0.62863,     0.62963,     0.63063,     0.63163,     0.63263,     0.63363,     0.63463,     0.63564,     0.63664,     0.63764,     0.63864,     0.63964,     0.64064,     0.64164,     0.64264,     0.64364,     0.64464,     0.64565,     0.64665,     0.64765,\n",
       "           0.64865,     0.64965,     0.65065,     0.65165,     0.65265,     0.65365,     0.65465,     0.65566,     0.65666,     0.65766,     0.65866,     0.65966,     0.66066,     0.66166,     0.66266,     0.66366,     0.66466,     0.66567,     0.66667,     0.66767,     0.66867,     0.66967,     0.67067,     0.67167,\n",
       "           0.67267,     0.67367,     0.67467,     0.67568,     0.67668,     0.67768,     0.67868,     0.67968,     0.68068,     0.68168,     0.68268,     0.68368,     0.68468,     0.68569,     0.68669,     0.68769,     0.68869,     0.68969,     0.69069,     0.69169,     0.69269,     0.69369,     0.69469,      0.6957,\n",
       "            0.6967,      0.6977,      0.6987,      0.6997,      0.7007,      0.7017,      0.7027,      0.7037,      0.7047,     0.70571,     0.70671,     0.70771,     0.70871,     0.70971,     0.71071,     0.71171,     0.71271,     0.71371,     0.71471,     0.71572,     0.71672,     0.71772,     0.71872,     0.71972,\n",
       "           0.72072,     0.72172,     0.72272,     0.72372,     0.72472,     0.72573,     0.72673,     0.72773,     0.72873,     0.72973,     0.73073,     0.73173,     0.73273,     0.73373,     0.73473,     0.73574,     0.73674,     0.73774,     0.73874,     0.73974,     0.74074,     0.74174,     0.74274,     0.74374,\n",
       "           0.74474,     0.74575,     0.74675,     0.74775,     0.74875,     0.74975,     0.75075,     0.75175,     0.75275,     0.75375,     0.75475,     0.75576,     0.75676,     0.75776,     0.75876,     0.75976,     0.76076,     0.76176,     0.76276,     0.76376,     0.76476,     0.76577,     0.76677,     0.76777,\n",
       "           0.76877,     0.76977,     0.77077,     0.77177,     0.77277,     0.77377,     0.77477,     0.77578,     0.77678,     0.77778,     0.77878,     0.77978,     0.78078,     0.78178,     0.78278,     0.78378,     0.78478,     0.78579,     0.78679,     0.78779,     0.78879,     0.78979,     0.79079,     0.79179,\n",
       "           0.79279,     0.79379,     0.79479,      0.7958,      0.7968,      0.7978,      0.7988,      0.7998,      0.8008,      0.8018,      0.8028,      0.8038,      0.8048,     0.80581,     0.80681,     0.80781,     0.80881,     0.80981,     0.81081,     0.81181,     0.81281,     0.81381,     0.81481,     0.81582,\n",
       "           0.81682,     0.81782,     0.81882,     0.81982,     0.82082,     0.82182,     0.82282,     0.82382,     0.82482,     0.82583,     0.82683,     0.82783,     0.82883,     0.82983,     0.83083,     0.83183,     0.83283,     0.83383,     0.83483,     0.83584,     0.83684,     0.83784,     0.83884,     0.83984,\n",
       "           0.84084,     0.84184,     0.84284,     0.84384,     0.84484,     0.84585,     0.84685,     0.84785,     0.84885,     0.84985,     0.85085,     0.85185,     0.85285,     0.85385,     0.85485,     0.85586,     0.85686,     0.85786,     0.85886,     0.85986,     0.86086,     0.86186,     0.86286,     0.86386,\n",
       "           0.86486,     0.86587,     0.86687,     0.86787,     0.86887,     0.86987,     0.87087,     0.87187,     0.87287,     0.87387,     0.87487,     0.87588,     0.87688,     0.87788,     0.87888,     0.87988,     0.88088,     0.88188,     0.88288,     0.88388,     0.88488,     0.88589,     0.88689,     0.88789,\n",
       "           0.88889,     0.88989,     0.89089,     0.89189,     0.89289,     0.89389,     0.89489,      0.8959,      0.8969,      0.8979,      0.8989,      0.8999,      0.9009,      0.9019,      0.9029,      0.9039,      0.9049,     0.90591,     0.90691,     0.90791,     0.90891,     0.90991,     0.91091,     0.91191,\n",
       "           0.91291,     0.91391,     0.91491,     0.91592,     0.91692,     0.91792,     0.91892,     0.91992,     0.92092,     0.92192,     0.92292,     0.92392,     0.92492,     0.92593,     0.92693,     0.92793,     0.92893,     0.92993,     0.93093,     0.93193,     0.93293,     0.93393,     0.93493,     0.93594,\n",
       "           0.93694,     0.93794,     0.93894,     0.93994,     0.94094,     0.94194,     0.94294,     0.94394,     0.94494,     0.94595,     0.94695,     0.94795,     0.94895,     0.94995,     0.95095,     0.95195,     0.95295,     0.95395,     0.95495,     0.95596,     0.95696,     0.95796,     0.95896,     0.95996,\n",
       "           0.96096,     0.96196,     0.96296,     0.96396,     0.96496,     0.96597,     0.96697,     0.96797,     0.96897,     0.96997,     0.97097,     0.97197,     0.97297,     0.97397,     0.97497,     0.97598,     0.97698,     0.97798,     0.97898,     0.97998,     0.98098,     0.98198,     0.98298,     0.98398,\n",
       "           0.98498,     0.98599,     0.98699,     0.98799,     0.98899,     0.98999,     0.99099,     0.99199,     0.99299,     0.99399,     0.99499,       0.996,       0.997,       0.998,       0.999,           1]), array([[    0.90591,     0.90591,     0.89785,     0.89785,     0.89785,     0.89247,     0.88978,      0.8871,      0.8871,     0.88441,     0.88441,     0.88441,     0.88441,     0.88441,     0.88441,     0.88441,     0.87903,     0.87903,     0.87903,     0.87898,     0.87634,     0.87634,     0.87634,\n",
       "            0.87634,     0.87634,     0.87634,     0.87634,     0.87634,     0.87634,     0.87634,     0.87634,     0.87634,     0.87634,     0.87634,     0.87634,     0.87634,     0.87634,     0.87634,     0.87634,     0.87634,     0.87562,     0.87458,     0.87366,     0.87366,     0.87366,     0.87366,\n",
       "            0.87366,     0.87366,     0.87366,     0.87366,     0.87366,     0.87366,     0.87366,     0.87366,     0.87366,     0.87366,     0.87366,     0.87366,     0.87298,     0.87199,       0.871,     0.87097,     0.87097,     0.87097,     0.87097,     0.87097,     0.87097,     0.87097,     0.87097,\n",
       "            0.87097,     0.87097,     0.87097,     0.87097,     0.87097,     0.87097,     0.87097,     0.87097,     0.87097,     0.87097,     0.87097,     0.87097,     0.87097,     0.87097,     0.87097,     0.87097,     0.87097,     0.87097,     0.87097,     0.87097,     0.87097,     0.87097,     0.87097,\n",
       "            0.87097,     0.87097,     0.87097,     0.87097,     0.87097,     0.87097,     0.87097,     0.87097,     0.87077,     0.87052,     0.87027,     0.87002,     0.86977,     0.86952,     0.86928,     0.86903,     0.86878,     0.86853,     0.86828,     0.86828,     0.86828,     0.86828,     0.86828,\n",
       "            0.86828,     0.86828,     0.86828,     0.86828,     0.86828,     0.86828,     0.86796,     0.86751,     0.86705,      0.8666,     0.86614,     0.86569,     0.86559,     0.86559,     0.86559,     0.86559,     0.86559,     0.86559,     0.86559,     0.86559,     0.86559,     0.86559,     0.86559,\n",
       "            0.86559,     0.86559,     0.86559,     0.86559,     0.86559,     0.86559,     0.86559,     0.86559,     0.86559,     0.86559,     0.86557,     0.86531,     0.86504,     0.86477,     0.86451,     0.86424,     0.86398,     0.86371,     0.86345,     0.86318,     0.86292,     0.86266,     0.86241,\n",
       "            0.86215,      0.8619,     0.86165,     0.86139,     0.86114,     0.86089,     0.86063,     0.86038,     0.86019,     0.86012,     0.86006,     0.85999,     0.85992,     0.85986,     0.85979,     0.85972,     0.85965,     0.85959,     0.85952,     0.85945,     0.85939,     0.85932,     0.85925,\n",
       "            0.85918,     0.85912,     0.85905,     0.85898,     0.85891,     0.85885,     0.85878,     0.85871,     0.85865,     0.85858,     0.85851,     0.85844,     0.85838,     0.85831,     0.85824,     0.85818,     0.85811,     0.85804,     0.85797,     0.85791,     0.85784,     0.85777,     0.85771,\n",
       "            0.85764,     0.85757,      0.8575,     0.85741,     0.85732,     0.85724,     0.85715,     0.85707,     0.85698,     0.85689,     0.85681,     0.85672,     0.85664,     0.85655,     0.85646,     0.85638,     0.85629,     0.85621,     0.85612,     0.85603,     0.85595,     0.85586,     0.85577,\n",
       "            0.85569,      0.8556,     0.85552,     0.85543,     0.85534,     0.85526,     0.85517,     0.85509,       0.855,     0.85491,     0.85484,     0.85484,     0.85484,     0.85484,      0.8547,     0.85447,     0.85424,     0.85401,     0.85378,     0.85355,     0.85333,      0.8531,     0.85287,\n",
       "            0.85264,     0.85241,     0.85218,     0.85215,     0.85215,     0.85215,     0.85215,     0.85215,     0.85215,     0.85215,     0.85215,     0.85215,     0.85215,     0.85215,     0.85215,     0.85215,     0.85215,     0.85215,     0.85215,     0.85215,     0.85215,     0.85215,     0.85215,\n",
       "            0.85215,     0.85215,     0.85215,     0.85215,     0.85215,     0.85215,     0.85215,     0.85215,     0.85215,     0.85215,     0.85215,     0.85215,     0.85215,     0.85215,     0.85215,     0.85215,     0.85215,     0.85215,     0.85215,     0.85215,     0.85215,     0.85215,     0.85215,\n",
       "            0.85215,     0.85215,     0.85215,     0.85215,     0.85215,     0.85215,     0.85215,     0.85215,     0.85215,     0.85215,     0.85215,     0.85215,     0.85215,     0.85215,     0.85215,     0.85215,     0.85215,     0.85215,     0.85215,     0.85215,     0.85215,     0.85215,     0.85215,\n",
       "            0.85215,     0.85215,     0.85177,     0.85131,     0.85085,     0.85039,     0.84993,     0.84947,     0.84946,     0.84946,     0.84946,     0.84946,     0.84946,     0.84946,     0.84946,     0.84946,     0.84946,     0.84946,     0.84946,     0.84946,     0.84946,     0.84946,     0.84946,\n",
       "            0.84946,     0.84946,     0.84946,     0.84946,     0.84946,     0.84946,     0.84946,     0.84946,     0.84946,     0.84946,     0.84946,     0.84946,     0.84946,     0.84946,     0.84946,     0.84946,     0.84946,     0.84946,     0.84946,     0.84946,     0.84946,     0.84946,     0.84946,\n",
       "            0.84946,     0.84946,     0.84946,     0.84946,     0.84946,     0.84946,     0.84946,     0.84946,     0.84946,     0.84946,     0.84946,     0.84946,     0.84946,     0.84946,     0.84946,     0.84946,     0.84946,     0.84946,     0.84946,     0.84946,     0.84946,     0.84946,     0.84946,\n",
       "            0.84946,     0.84946,     0.84946,     0.84946,     0.84946,     0.84946,     0.84946,     0.84946,     0.84946,     0.84946,     0.84946,     0.84946,     0.84946,     0.84946,     0.84946,     0.84946,     0.84946,     0.84946,     0.84946,     0.84946,     0.84946,     0.84946,     0.84946,\n",
       "            0.84946,     0.84946,     0.84946,     0.84946,     0.84946,     0.84946,     0.84946,     0.84946,     0.84946,     0.84946,     0.84946,     0.84946,     0.84946,     0.84946,     0.84946,     0.84946,     0.84946,     0.84946,     0.84946,     0.84946,     0.84946,     0.84946,     0.84946,\n",
       "            0.84946,     0.84946,     0.84946,     0.84946,     0.84946,     0.84946,     0.84946,     0.84946,     0.84946,     0.84946,     0.84946,     0.84946,     0.84946,     0.84946,     0.84946,     0.84946,     0.84946,     0.84946,     0.84946,     0.84946,     0.84946,     0.84946,     0.84946,\n",
       "            0.84946,     0.84946,     0.84946,     0.84946,     0.84946,     0.84946,     0.84946,     0.84946,     0.84946,     0.84946,     0.84946,     0.84946,     0.84946,     0.84946,     0.84946,     0.84946,     0.84946,     0.84946,     0.84946,     0.84946,     0.84946,     0.84946,     0.84946,\n",
       "            0.84946,     0.84946,     0.84943,     0.84918,     0.84893,     0.84868,     0.84843,     0.84818,     0.84793,     0.84768,     0.84742,     0.84717,     0.84692,     0.84677,     0.84677,     0.84677,     0.84677,     0.84677,     0.84677,     0.84677,     0.84677,     0.84623,     0.84531,\n",
       "            0.84439,     0.84362,     0.84294,     0.84225,     0.84156,      0.8414,      0.8414,      0.8414,      0.8414,      0.8414,      0.8414,      0.8414,      0.8414,      0.8414,      0.8414,      0.8414,      0.8414,      0.8414,      0.8414,      0.8414,      0.8414,      0.8414,      0.8414,\n",
       "             0.8414,      0.8414,      0.8414,      0.8414,      0.8414,      0.8414,      0.8414,      0.8414,      0.8414,      0.8414,      0.8414,      0.8414,      0.8414,      0.8414,      0.8414,      0.8414,      0.8414,      0.8414,      0.8414,      0.8414,      0.8414,      0.8414,      0.8414,\n",
       "             0.8414,      0.8414,      0.8414,      0.8414,      0.8414,      0.8414,      0.8414,     0.84125,     0.84095,     0.84064,     0.84033,     0.84003,     0.83972,     0.83941,     0.83911,      0.8388,     0.83871,     0.83871,     0.83871,     0.83871,     0.83871,     0.83871,     0.83871,\n",
       "            0.83871,     0.83871,      0.8382,     0.83765,      0.8371,     0.83655,     0.83602,     0.83602,     0.83602,     0.83602,     0.83602,     0.83602,     0.83602,     0.83602,     0.83602,     0.83602,     0.83602,     0.83602,     0.83602,     0.83602,     0.83602,     0.83602,     0.83602,\n",
       "            0.83602,     0.83602,     0.83602,     0.83602,     0.83602,     0.83602,     0.83602,     0.83602,     0.83602,     0.83602,     0.83602,     0.83602,     0.83602,     0.83602,     0.83602,     0.83602,     0.83602,     0.83602,     0.83602,     0.83602,     0.83602,     0.83602,     0.83602,\n",
       "            0.83602,     0.83602,     0.83602,     0.83602,     0.83545,     0.83453,     0.83361,     0.83269,     0.83177,     0.83086,     0.83048,     0.83027,     0.83006,     0.82985,     0.82963,     0.82942,     0.82921,       0.829,     0.82879,     0.82857,     0.82836,     0.82815,     0.82793,\n",
       "            0.82762,     0.82732,     0.82701,     0.82671,      0.8264,     0.82609,     0.82579,     0.82548,     0.82511,     0.82461,     0.82411,     0.82361,     0.82311,     0.82261,     0.81973,     0.81936,     0.81899,     0.81862,     0.81826,     0.81789,     0.81752,      0.8172,      0.8172,\n",
       "             0.8172,      0.8172,      0.8172,      0.8172,      0.8172,      0.8172,      0.8172,      0.8172,     0.81713,     0.81704,     0.81695,     0.81686,     0.81677,     0.81668,     0.81659,      0.8165,     0.81642,     0.81633,     0.81624,     0.81615,     0.81606,     0.81597,     0.81588,\n",
       "            0.81579,      0.8157,     0.81562,     0.81553,     0.81544,     0.81535,     0.81526,     0.81517,     0.81508,     0.81499,      0.8149,     0.81482,     0.81473,     0.81464,     0.81455,     0.81438,     0.81417,     0.81396,     0.81375,     0.81354,     0.81332,     0.81311,      0.8129,\n",
       "            0.81269,     0.81248,     0.81226,     0.81205,     0.81184,     0.81158,     0.81132,     0.81106,     0.81079,     0.81053,     0.81027,     0.81001,     0.80974,     0.80948,     0.80922,     0.80903,     0.80888,     0.80873,     0.80857,     0.80842,     0.80827,     0.80811,     0.80796,\n",
       "            0.80781,     0.80765,      0.8075,     0.80735,      0.8072,     0.80704,     0.80689,     0.80674,     0.80658,     0.80568,     0.80376,     0.80376,     0.80376,     0.80376,     0.80376,     0.80376,     0.80376,     0.80376,     0.80376,     0.80376,     0.80376,     0.80343,     0.80306,\n",
       "            0.80269,     0.80232,     0.80196,     0.80159,     0.80122,     0.80077,     0.80027,     0.79977,     0.79927,     0.79877,     0.79828,     0.79782,     0.79736,      0.7969,     0.79644,     0.79598,     0.79556,     0.79519,     0.79482,     0.79446,     0.79409,     0.79372,     0.79335,\n",
       "            0.79296,     0.79228,     0.79159,      0.7909,      0.7875,     0.78672,     0.78593,     0.78514,     0.78474,     0.78395,     0.78316,     0.78238,     0.78192,     0.78153,     0.78114,     0.78074,     0.78035,     0.77996,     0.77946,     0.77662,     0.77611,     0.77561,     0.77511,\n",
       "            0.77461,     0.77409,     0.77348,     0.77287,     0.77225,     0.77164,     0.76739,     0.76555,     0.76372,     0.76278,     0.76094,     0.75976,     0.75866,     0.75411,     0.74867,     0.74675,     0.74565,     0.73906,     0.73646,     0.73535,     0.73425,     0.72669,      0.7165,\n",
       "            0.71177,     0.70095,     0.69551,     0.69054,     0.68944,     0.68834,     0.68314,     0.67232,     0.66836,     0.66726,     0.66271,     0.65727,     0.65183,     0.64907,     0.64363,     0.63818,     0.63172,     0.62787,     0.62588,     0.62313,     0.61798,      0.6166,      0.6068,\n",
       "            0.60135,     0.58828,      0.5869,     0.58502,     0.57958,     0.57414,     0.55525,      0.5525,     0.54974,     0.54026,     0.53482,     0.51862,      0.5078,      0.4943,     0.48616,     0.48341,     0.47545,     0.47362,     0.47111,     0.46836,      0.4656,     0.45075,     0.44039,\n",
       "            0.43902,     0.43066,     0.42763,     0.40606,     0.39255,     0.36963,     0.35612,     0.32514,     0.31432,     0.30593,     0.29671,     0.29454,     0.27642,     0.27045,     0.26419,     0.25337,     0.24389,     0.23765,      0.2236,     0.21891,     0.20901,     0.20717,     0.19241,\n",
       "            0.18845,     0.18556,     0.17071,     0.14773,       0.141,     0.13421,      0.1312,      0.1072,    0.098669,    0.092278,    0.088355,    0.086518,    0.077291,    0.071847,    0.065603,    0.058272,    0.054581,    0.041006,    0.032533,    0.024608,    0.020703,    0.018866,    0.011652,\n",
       "            0.01005,    0.008672,    0.006524,   0.0051084,   0.0046491,   0.0041899,   0.0037307,   0.0032714,   0.0028122,           0,           0,           0,           0,           0,           0,           0,           0,           0,           0,           0,           0,           0,           0,\n",
       "                  0,           0,           0,           0,           0,           0,           0,           0,           0,           0,           0,           0,           0,           0,           0,           0,           0,           0,           0,           0,           0,           0,           0,\n",
       "                  0,           0,           0,           0,           0,           0,           0,           0,           0,           0,           0,           0,           0,           0,           0,           0,           0,           0,           0,           0,           0,           0,           0,\n",
       "                  0,           0,           0,           0,           0,           0,           0,           0,           0,           0,           0]]), 'Confidence', 'Recall']]\n",
       "fitness: 1.4820804513528514\n",
       "keys: ['metrics/precision(B)', 'metrics/recall(B)', 'metrics/mAP50(B)', 'metrics/mAP50-95(B)', 'metrics/precision(M)', 'metrics/recall(M)', 'metrics/mAP50(M)', 'metrics/mAP50-95(M)']\n",
       "maps: array([     1.4412])\n",
       "names: {0: 'item'}\n",
       "plot: True\n",
       "results_dict: {'metrics/precision(B)': 0.9632796737723572, 'metrics/recall(B)': 0.8575268817204301, 'metrics/mAP50(B)': 0.9249280357508958, 'metrics/mAP50-95(B)': 0.7776114135715003, 'metrics/precision(M)': 0.9630836405069534, 'metrics/recall(M)': 0.8415572830895411, 'metrics/mAP50(M)': 0.9250709110528381, 'metrics/mAP50-95(M)': 0.6635892049534752, 'fitness': 1.4820804513528514}\n",
       "save_dir: PosixPath('runs/segment/train34')\n",
       "seg: ultralytics.utils.metrics.Metric object\n",
       "speed: {'preprocess': 0.13917289942390088, 'inference': 3.6830799280186044, 'loss': 0.00015118187575629264, 'postprocess': 0.16849514713153393}\n",
       "task: 'segment'"
      ]
     },
     "execution_count": 2,
     "metadata": {},
     "output_type": "execute_result"
    }
   ],
   "source": [
    "model = YOLO('pepper_peduncle.pt')  # load a pretrained model\n",
    "model.train(data='peduncle-segmentation.yaml', epochs=400, imgsz=640, val=True, batch=16, single_cls=True) "
   ]
  }
 ],
 "metadata": {
  "kernelspec": {
   "display_name": "Python 3 (ipykernel)",
   "language": "python",
   "name": "python3"
  },
  "language_info": {
   "codemirror_mode": {
    "name": "ipython",
    "version": 3
   },
   "file_extension": ".py",
   "mimetype": "text/x-python",
   "name": "python",
   "nbconvert_exporter": "python",
   "pygments_lexer": "ipython3",
   "version": "3.8.20"
  }
 },
 "nbformat": 4,
 "nbformat_minor": 5
}
